{
 "cells": [
  {
   "cell_type": "code",
   "execution_count": null,
   "id": "d7deafd7",
   "metadata": {},
   "outputs": [],
   "source": [
    "import cloudvolume\n",
    "import pandas as pd\n",
    "from imageryclient import ImageryClient\n",
    "import imageryclient as ic\n",
    "import matplotlib.pyplot as plt\n",
    "import numpy as np\n",
    "import scipy\n",
    "from PIL import Image\n",
    "import fastremap\n",
    "import os"
   ]
  },
  {
   "cell_type": "code",
   "execution_count": null,
   "id": "a0111d3d",
   "metadata": {},
   "outputs": [],
   "source": [
    "# syn_df = pd.read_csv('../data/221206_pni_synapses_v185.csv')"
   ]
  },
  {
   "cell_type": "code",
   "execution_count": null,
   "id": "09e0004e",
   "metadata": {},
   "outputs": [],
   "source": [
    "mito = pd.read_csv('../data/211019_mitochondria_info.csv')"
   ]
  },
  {
   "cell_type": "code",
   "execution_count": null,
   "id": "2b8e5629",
   "metadata": {},
   "outputs": [],
   "source": [
    "img_source = \"precomputed://https://storage.googleapis.com/microns_public_datasets/pinky100_v0/son_of_alignment_v15_rechunked\"\n",
    "seg_source = \"precomputed://https://storage.googleapis.com/microns_public_datasets/pinky100_v185/seg\"\n",
    "mito_source = \"precomputed://https://seungdata.princeton.edu/sseung-archive/pinky100-mito/seg_191220\""
   ]
  },
  {
   "cell_type": "code",
   "execution_count": null,
   "id": "b5bf0290",
   "metadata": {},
   "outputs": [],
   "source": [
    "img_cv = cloudvolume.CloudVolume(img_source, use_https=True)"
   ]
  },
  {
   "cell_type": "code",
   "execution_count": null,
   "id": "0f76ebea",
   "metadata": {},
   "outputs": [],
   "source": [
    "img_cv.bounds"
   ]
  },
  {
   "cell_type": "code",
   "execution_count": null,
   "id": "0d71810c",
   "metadata": {},
   "outputs": [],
   "source": [
    "# set desired image size\n",
    "\n",
    "image_size = 1000\n",
    "half_image_size = image_size/2"
   ]
  },
  {
   "cell_type": "code",
   "execution_count": null,
   "id": "755cdd6c",
   "metadata": {},
   "outputs": [],
   "source": [
    "# enter cellid of interest\n",
    "\n",
    "cellid = 648518346349527319\n",
    "\n",
    "# some interesting features including top and bottom positions\n",
    "# 648518346349538787 [80509, 46999, 812] [80509, 46999, 868] #ER near a dendritic mito that is continuous into a dendritic spine\n",
    "# 648518346349538089 2532746 [87729, 65165, 980] [87729, 65165, 1008] # astro mito with electron bright inclusion\n",
    "# 648518346349538089 2646319 [88720, 64452, 1003] [88720, 64452, 1027] # astro mito with electron bright inclusion\n",
    "# 648518346349538089 2528399 [87458, 63475, 600] [87458, 63475, 624] # astro mito with electron bright inclusion\n",
    "# 648518346349538089 2644843 [88939, 62480, 1125] [88939, 62480, 1156] # astro mito inclusion \n",
    "# 648518346341354380 2643657 [87741, 62385, 2058] [87741, 62385, 2086] # astro mito with electron bright inclusion\n",
    "# 648518346341354380 2643929 [87968, 61968, 2012] [87968, 61968, 2036] # astro mito with inclusion and continuity between two different mito ids\n",
    "# 648518346341354380 3425723 [102919, 65891, 1934] [102919, 65891, 1958] # astro mito with inclusion and nearby large dendrite\n",
    "# 648518346349527319 980814 [59564, 44866, 1425] [59564, 44866, 1454] # astro with mito inclusion"
   ]
  },
  {
   "cell_type": "code",
   "execution_count": null,
   "id": "dd499056",
   "metadata": {},
   "outputs": [],
   "source": [
    "# enter mitoid of interest for file/folder naming purposes\n",
    "\n",
    "mitoid = 980814"
   ]
  },
  {
   "cell_type": "code",
   "execution_count": null,
   "id": "c36d9d55",
   "metadata": {},
   "outputs": [],
   "source": [
    "# \"bottom\" of desired volume (e.g., copy and paste from Neuroglancer)\n",
    "position = [59564, 44866, 1425]\n",
    "\n",
    "# \"top\" of desired volume\n",
    "top_position = [59564, 44866, 1455]"
   ]
  },
  {
   "cell_type": "code",
   "execution_count": null,
   "id": "7cbe3184",
   "metadata": {},
   "outputs": [],
   "source": [
    "zslices = top_position[2] - position[2]\n",
    "zslices"
   ]
  },
  {
   "cell_type": "code",
   "execution_count": null,
   "id": "c3a377ea",
   "metadata": {},
   "outputs": [],
   "source": [
    "# set up directories\n",
    "\n",
    "imagestacks_dir = 'image_stacks/'+str(cellid)+'/'+str(mitoid)+'/' \n",
    "imagemontages_dir = 'image_montages/'+str(cellid)+'/'+str(mitoid)+'/'\n",
    "single_images_dir = 'single_images/'+str(cellid)+'/'+str(mitoid)+'/'"
   ]
  },
  {
   "cell_type": "code",
   "execution_count": null,
   "id": "31430026",
   "metadata": {},
   "outputs": [],
   "source": [
    "# create directory folders\n",
    "\n",
    "os.makedirs(imagestacks_dir, exist_ok=True)\n",
    "os.makedirs(imagemontages_dir, exist_ok=True)\n",
    "os.makedirs(single_images_dir, exist_ok=True)"
   ]
  },
  {
   "cell_type": "code",
   "execution_count": null,
   "id": "a77e76fa",
   "metadata": {},
   "outputs": [],
   "source": [
    "print(imagestacks_dir)\n",
    "print(imagemontages_dir)\n",
    "print(single_images_dir)"
   ]
  },
  {
   "cell_type": "code",
   "execution_count": null,
   "id": "ff8fd611",
   "metadata": {},
   "outputs": [],
   "source": [
    "position[0]"
   ]
  },
  {
   "cell_type": "code",
   "execution_count": null,
   "id": "b061995e",
   "metadata": {},
   "outputs": [],
   "source": [
    "position_x = position[0]\n",
    "position_y = position[1]\n",
    "position_z = position[2]\n",
    "\n",
    "position_x_min = position_x - half_image_size\n",
    "position_x_max = position_x + half_image_size\n",
    "position_y_min = position_y - half_image_size\n",
    "position_y_max = position_y + half_image_size\n",
    "position_z_max = position_z + 1"
   ]
  },
  {
   "cell_type": "code",
   "execution_count": null,
   "id": "afcf797d",
   "metadata": {
    "scrolled": false
   },
   "outputs": [],
   "source": [
    "img = img_cv[position_x_min:position_x_max, position_y_min:position_y_max, position_z:position_z_max]"
   ]
  },
  {
   "cell_type": "code",
   "execution_count": null,
   "id": "ced9d964",
   "metadata": {},
   "outputs": [],
   "source": [
    "# img"
   ]
  },
  {
   "cell_type": "code",
   "execution_count": null,
   "id": "0e4fee41",
   "metadata": {
    "scrolled": true
   },
   "outputs": [],
   "source": [
    "# show image from bottom position\n",
    "# from: https://stackoverflow.com/questions/31401812/matplotlib-rotate-image-file-by-x-degrees\n",
    "tr = scipy.ndimage.rotate(img, 90)\n",
    "plt.imshow(np.squeeze(tr), cmap=plt.cm.gray, origin='lower')\n",
    "#plt.gca().invert_yaxis()"
   ]
  },
  {
   "cell_type": "markdown",
   "id": "b3a5ec25",
   "metadata": {},
   "source": [
    "# Add cell segmentation color for cellid of interest"
   ]
  },
  {
   "cell_type": "code",
   "execution_count": null,
   "id": "da44bb16",
   "metadata": {},
   "outputs": [],
   "source": [
    "img_client = ic.ImageryClient(image_source=img_source, segmentation_source=seg_source)"
   ]
  },
  {
   "cell_type": "code",
   "execution_count": null,
   "id": "2cd67940",
   "metadata": {},
   "outputs": [],
   "source": [
    "ctr = position\n",
    "img_width = image_size\n",
    "image = img_client.image_cutout(ctr, bbox_size=(img_width, img_width))"
   ]
  },
  {
   "cell_type": "code",
   "execution_count": null,
   "id": "55703139",
   "metadata": {},
   "outputs": [],
   "source": [
    "image"
   ]
  },
  {
   "cell_type": "code",
   "execution_count": null,
   "id": "3a76e36e",
   "metadata": {},
   "outputs": [],
   "source": [
    "bounds = ic.bounds_from_center(ctr, width=img_width, height=img_width, depth=1)"
   ]
  },
  {
   "cell_type": "code",
   "execution_count": null,
   "id": "817eb654",
   "metadata": {},
   "outputs": [],
   "source": [
    "image = img_client.image_cutout(bounds)\n",
    "\n",
    "# Use PIL to visualize\n",
    "Image.fromarray(image.T)"
   ]
  },
  {
   "cell_type": "code",
   "execution_count": null,
   "id": "b9995953",
   "metadata": {},
   "outputs": [],
   "source": [
    "seg = img_client.segmentation_cutout(bounds)\n",
    "\n",
    "# Image.fromarray( (seg.T / np.max(seg) * 255).astype('uint8') )\n",
    "Image.fromarray( (seg.T).astype('uint8') )"
   ]
  },
  {
   "cell_type": "code",
   "execution_count": null,
   "id": "9211775d",
   "metadata": {},
   "outputs": [],
   "source": [
    "root_ids = [cellid]\n",
    "seg = img_client.segmentation_cutout(bounds, root_ids=root_ids)\n",
    "Image.fromarray( (seg.T / np.max(seg) * 255).astype('uint8') )"
   ]
  },
  {
   "cell_type": "code",
   "execution_count": null,
   "id": "11e04d4a",
   "metadata": {},
   "outputs": [],
   "source": [
    "split_seg = img_client.split_segmentation_cutout(bounds, root_ids=root_ids)\n",
    "\n",
    "Image.fromarray((split_seg[ root_ids[0] ].T * 255).astype('uint8'))"
   ]
  },
  {
   "cell_type": "code",
   "execution_count": null,
   "id": "216384fd",
   "metadata": {},
   "outputs": [],
   "source": [
    "image, segs = img_client.image_and_segmentation_cutout(bounds,\n",
    "                                                       split_segmentations=True,\n",
    "                                                       root_ids=root_ids)"
   ]
  },
  {
   "cell_type": "code",
   "execution_count": null,
   "id": "7173b38c",
   "metadata": {
    "scrolled": false
   },
   "outputs": [],
   "source": [
    "ic.composite_overlay(segs, imagery=image)"
   ]
  },
  {
   "cell_type": "code",
   "execution_count": null,
   "id": "33738b48",
   "metadata": {},
   "outputs": [],
   "source": [
    "position"
   ]
  },
  {
   "cell_type": "code",
   "execution_count": null,
   "id": "db1a52ef",
   "metadata": {
    "scrolled": true
   },
   "outputs": [],
   "source": [
    "# this is a repeat of the above code condensed into a single notebook cell\n",
    "\n",
    "ctr = [position[0], position[1], position[2]+0] \n",
    "img_width = image_size\n",
    "image = img_client.image_cutout(ctr, bbox_size=(img_width, img_width))\n",
    "bounds = ic.bounds_from_center(ctr, width=img_width, height=img_width, depth=1)\n",
    "image = img_client.image_cutout(bounds)\n",
    "seg = img_client.segmentation_cutout(bounds)\n",
    "root_ids = [cellid]\n",
    "seg = img_client.segmentation_cutout(bounds, root_ids=root_ids)\n",
    "split_seg = img_client.split_segmentation_cutout(bounds, root_ids=root_ids)\n",
    "image, segs = img_client.image_and_segmentation_cutout(bounds, split_segmentations=True, root_ids=root_ids)\n",
    "ic.composite_overlay(segs, imagery=image)"
   ]
  },
  {
   "cell_type": "code",
   "execution_count": null,
   "id": "e68351fb",
   "metadata": {},
   "outputs": [],
   "source": [
    "zslices"
   ]
  },
  {
   "cell_type": "code",
   "execution_count": null,
   "id": "3a28ccf0",
   "metadata": {},
   "outputs": [],
   "source": [
    "position"
   ]
  },
  {
   "cell_type": "code",
   "execution_count": null,
   "id": "bb6c8491",
   "metadata": {},
   "outputs": [],
   "source": [
    "top_position"
   ]
  },
  {
   "cell_type": "code",
   "execution_count": null,
   "id": "ad2976ad",
   "metadata": {},
   "outputs": [],
   "source": [
    "# ax"
   ]
  },
  {
   "cell_type": "code",
   "execution_count": null,
   "id": "391dcb18",
   "metadata": {},
   "outputs": [],
   "source": [
    "# create a dictionary to store a segmentation image of each slice\n",
    "# this will be more time-consuming as the slices and/or image size increases\n",
    "\n",
    "ic_grid_dict = {}\n",
    "for i in range(zslices):\n",
    "    ctr = [position[0], position[1], position[2]+i] \n",
    "    img_width = image_size\n",
    "    image = img_client.image_cutout(ctr, bbox_size=(img_width, img_width))\n",
    "    bounds = ic.bounds_from_center(ctr, width=img_width, height=img_width, depth=1)\n",
    "    image = img_client.image_cutout(bounds)\n",
    "    seg = img_client.segmentation_cutout(bounds)\n",
    "    root_ids = [cellid]\n",
    "    seg = img_client.segmentation_cutout(bounds, root_ids=root_ids)\n",
    "    split_seg = img_client.split_segmentation_cutout(bounds, root_ids=root_ids)\n",
    "    image, segs = img_client.image_and_segmentation_cutout(bounds, split_segmentations=True, root_ids=root_ids)\n",
    "    ic_grid_dict['im_' + str(i)] = ic.composite_overlay(segs, imagery=image)\n",
    "    \n",
    "locals().update(ic_grid_dict)"
   ]
  },
  {
   "cell_type": "code",
   "execution_count": null,
   "id": "1074ca0d",
   "metadata": {},
   "outputs": [],
   "source": [
    "# ic_grid_dict"
   ]
  },
  {
   "cell_type": "code",
   "execution_count": null,
   "id": "ee2aba43",
   "metadata": {},
   "outputs": [],
   "source": [
    "zslices"
   ]
  },
  {
   "cell_type": "code",
   "execution_count": null,
   "id": "176cf140",
   "metadata": {
    "scrolled": false
   },
   "outputs": [],
   "source": [
    "# calculations to help you decide on a montage layout (e.g., number of rows and columns)\n",
    "\n",
    "print(f\"7 columns:\", zslices/7)\n",
    "print(f\"5 columns:\", zslices/5)\n",
    "print(f\"4 columns:\", zslices/4)\n",
    "print(f\"3 columns:\", zslices/3)\n",
    "print(f\"2 columns:\", zslices/2)"
   ]
  },
  {
   "cell_type": "code",
   "execution_count": null,
   "id": "03ff65f2",
   "metadata": {},
   "outputs": [],
   "source": [
    "# manually enter the desired number of rows by columns for montage layout\n",
    "\n",
    "nrows = 10\n",
    "ncols = 3"
   ]
  },
  {
   "cell_type": "markdown",
   "id": "c268a43b",
   "metadata": {},
   "source": [
    "## Save a montage image grid of all slices"
   ]
  },
  {
   "cell_type": "code",
   "execution_count": null,
   "id": "b4ec5b9f",
   "metadata": {
    "scrolled": true
   },
   "outputs": [],
   "source": [
    "# change desired DPI; 300 dpi will result in very large montage file sizes\n",
    "# uncomment fig lines to generate and save the montage image\n",
    "\n",
    "dpi = 100\n",
    "rows = nrows\n",
    "cols = ncols\n",
    "width = 30\n",
    "height = (width*((rows)/(cols)))\n",
    "\n",
    "fig, ax = plt.subplots(nrows=rows, ncols=cols, figsize=(width, height))\n",
    "plt.subplots_adjust(hspace=0)\n",
    "k=0\n",
    "for i in range(rows):\n",
    "    for j in range(cols):\n",
    "        plt.setp(ax, xticks=[], yticks=[])\n",
    "        ax[i,j].imshow(ic_grid_dict['im_' + str(k)])\n",
    "        k=k+1\n",
    "\n",
    "plt.savefig(os.path.join(imagemontages_dir, 'cid_'+str(cellid)+'_mid_'+str(mitoid)+'_zmontage_'+str(dpi)+'dpi.png'), dpi=dpi)\n",
    "plt.show()"
   ]
  },
  {
   "cell_type": "code",
   "execution_count": null,
   "id": "20d9cf5a",
   "metadata": {
    "scrolled": true
   },
   "outputs": [],
   "source": [
    "print(os.path.join(imagemontages_dir, 'cid_'+str(cellid)+'_mid_'+str(mitoid)+'_zmontage_'+str(dpi)+'dpi.png'))"
   ]
  },
  {
   "cell_type": "markdown",
   "id": "87140933",
   "metadata": {},
   "source": [
    "## Save a single image slice"
   ]
  },
  {
   "cell_type": "code",
   "execution_count": null,
   "id": "4ae2023f",
   "metadata": {
    "scrolled": true
   },
   "outputs": [],
   "source": [
    "# remove white border code: https://stackoverflow.com/questions/11837979/removing-white-space-around-a-saved-image\n",
    "# uncomment savefig line to export image\n",
    "# change slicenum to pick the slice you wish to save\n",
    "\n",
    "slicenum = 13\n",
    "dpi_ = 300\n",
    "rows = 1\n",
    "cols = 1\n",
    "width = 10\n",
    "height = (width*(rows/cols))\n",
    "\n",
    "fig, ax = plt.subplots(nrows=rows, ncols=cols, figsize=(width, height))\n",
    "plt.gca().set_axis_off()\n",
    "plt.subplots_adjust(top = 1, bottom = 0, right = 1, left = 0, \n",
    "            hspace = 0, wspace = 0)\n",
    "plt.margins(0,0)\n",
    "\n",
    "ax.imshow(ic_grid_dict['im_' + str(slicenum)])\n",
    "plt.xticks([])\n",
    "plt.yticks([])\n",
    "\n",
    "plt.savefig(os.path.join(single_images_dir, 'cid_'+str(cellid)+'_mid_'+str(mitoid)+'_'+str(dpi)+'dpi'+'_slice_'+str(slicenum)+'.png'), dpi=dpi_)\n",
    "plt.show()"
   ]
  },
  {
   "cell_type": "code",
   "execution_count": null,
   "id": "e469c500",
   "metadata": {
    "scrolled": false
   },
   "outputs": [],
   "source": [
    "print(os.path.join(single_images_dir, 'cid_'+str(cellid)+'_mid_'+str(mitoid)+'_'+str(dpi)+'dpi'+'_slice_'+str(slicenum)+'.png'))"
   ]
  },
  {
   "cell_type": "markdown",
   "id": "6188c778",
   "metadata": {},
   "source": [
    "## Save the entire z-series as individual images to a unique subfolder\n",
    "**Note:** these images will color the cellid of interest segementation"
   ]
  },
  {
   "cell_type": "code",
   "execution_count": null,
   "id": "ab8ad73e",
   "metadata": {},
   "outputs": [],
   "source": [
    "# uncomment savefig line to save the entire zseries as individual images\n",
    "\n",
    "dpi_ = 300\n",
    "rows = 1\n",
    "cols = 1\n",
    "width = 10\n",
    "height = (width*(rows/cols))\n",
    "\n",
    "for i in range(zslices):\n",
    "    fig, ax = plt.subplots(nrows=rows, ncols=cols, figsize=(width, height))\n",
    "    plt.gca().set_axis_off()\n",
    "    plt.subplots_adjust(top = 1, bottom = 0, right = 1, left = 0, hspace = 0, wspace = 0)\n",
    "    plt.margins(0,0)\n",
    "    ax.imshow(ic_grid_dict['im_' + str(i)])\n",
    "    plt.xticks([])\n",
    "    plt.yticks([])\n",
    "    plt.savefig(os.path.join(imagestacks_dir, 'cid_'+str(cellid)+'_mid_'+str(mitoid)+'_'+str(dpi)+'dpi'+'_slice_'+str(i)+'.png'), dpi=dpi_)\n",
    "    plt.close(fig)"
   ]
  },
  {
   "cell_type": "code",
   "execution_count": null,
   "id": "b06ea004",
   "metadata": {},
   "outputs": [],
   "source": [
    "print(os.path.join(imagestacks_dir, 'cid_'+str(cellid)+'_mid_'+str(mitoid)+'_'+str(dpi)+'dpi'+'_slice_'+str(0)+'.png'))"
   ]
  },
  {
   "cell_type": "code",
   "execution_count": null,
   "id": "c310aee3",
   "metadata": {},
   "outputs": [],
   "source": [
    "zslices"
   ]
  },
  {
   "cell_type": "code",
   "execution_count": null,
   "id": "ed77fb5d",
   "metadata": {},
   "outputs": [],
   "source": [
    "type(ic_grid_dict['im_' + str(i)])"
   ]
  },
  {
   "cell_type": "code",
   "execution_count": null,
   "id": "710e7708",
   "metadata": {},
   "outputs": [],
   "source": [
    "type(fig)"
   ]
  },
  {
   "cell_type": "markdown",
   "id": "2de70e8d",
   "metadata": {},
   "source": [
    "# Color by mitochondria segmentation\n",
    "All mitochondria within the image will be colored (note some mitochondria segmentations are fragmented or missing)  \n",
    "The cellid of interest will not be colored in these images"
   ]
  },
  {
   "cell_type": "code",
   "execution_count": null,
   "id": "1fd69415",
   "metadata": {},
   "outputs": [],
   "source": [
    "mito_cv = cloudvolume.CloudVolume(mito_source)\n",
    "mito_cv.bounds"
   ]
  },
  {
   "cell_type": "code",
   "execution_count": null,
   "id": "20175db4",
   "metadata": {},
   "outputs": [],
   "source": [
    "mito_seg = mito_cv[(position_x_min)/2:(position_x_max)/2, (position_y_min)/2:(position_y_max)/2, position_z]"
   ]
  },
  {
   "cell_type": "code",
   "execution_count": null,
   "id": "19b327e9",
   "metadata": {
    "scrolled": true
   },
   "outputs": [],
   "source": [
    "# may be much faster than np.unique\n",
    "uniq, cts = fastremap.unique(mito_seg, return_counts=True) \n",
    "# relabel values from 1 and refit data type\n",
    "mito_seg, remapping = fastremap.renumber(mito_seg, in_place=True)"
   ]
  },
  {
   "cell_type": "code",
   "execution_count": null,
   "id": "cd9b5869",
   "metadata": {},
   "outputs": [],
   "source": [
    "remapping"
   ]
  },
  {
   "cell_type": "code",
   "execution_count": null,
   "id": "6549654e",
   "metadata": {
    "scrolled": true
   },
   "outputs": [],
   "source": [
    "uniq"
   ]
  },
  {
   "cell_type": "code",
   "execution_count": null,
   "id": "35c20c01",
   "metadata": {},
   "outputs": [],
   "source": [
    "tr_mito_seg = scipy.ndimage.rotate(mito_seg, 90)\n",
    "plt.imshow(np.squeeze(tr_mito_seg), origin='lower')"
   ]
  },
  {
   "cell_type": "code",
   "execution_count": null,
   "id": "bb110c4d",
   "metadata": {},
   "outputs": [],
   "source": [
    "img_client = ImageryClient(image_source = img_source, segmentation_source=seg_source)\n",
    "img_client_mito = ImageryClient(image_source = img_source, segmentation_source=mito_source)"
   ]
  },
  {
   "cell_type": "code",
   "execution_count": null,
   "id": "e86fe036",
   "metadata": {},
   "outputs": [],
   "source": [
    "bounds = [\n",
    "    [position_x_min, position_y_min, position_z],\n",
    "    [position_x_max, position_y_max, position_z_max]\n",
    "]"
   ]
  },
  {
   "cell_type": "code",
   "execution_count": null,
   "id": "ebc509fe",
   "metadata": {},
   "outputs": [],
   "source": [
    "print(bounds)"
   ]
  },
  {
   "cell_type": "code",
   "execution_count": null,
   "id": "8625c13c",
   "metadata": {},
   "outputs": [],
   "source": [
    "image_size"
   ]
  },
  {
   "cell_type": "code",
   "execution_count": null,
   "id": "f33a2ae0",
   "metadata": {},
   "outputs": [],
   "source": [
    "image = img_client.image_cutout(bounds)"
   ]
  },
  {
   "cell_type": "code",
   "execution_count": null,
   "id": "8d35d740",
   "metadata": {},
   "outputs": [],
   "source": [
    "image.T"
   ]
  },
  {
   "cell_type": "code",
   "execution_count": null,
   "id": "54d3d711",
   "metadata": {},
   "outputs": [],
   "source": [
    "Image.fromarray(image.T)"
   ]
  },
  {
   "cell_type": "code",
   "execution_count": null,
   "id": "53d24dd8",
   "metadata": {
    "scrolled": false
   },
   "outputs": [],
   "source": [
    "# uncomment if you want to view the entire array\n",
    "#import sys\n",
    "#np.set_printoptions(threshold=sys.maxsize)"
   ]
  },
  {
   "cell_type": "code",
   "execution_count": null,
   "id": "eeed905f",
   "metadata": {},
   "outputs": [],
   "source": [
    "#seg.T"
   ]
  },
  {
   "cell_type": "code",
   "execution_count": null,
   "id": "9add797f",
   "metadata": {},
   "outputs": [],
   "source": [
    "seg = img_client_mito.segmentation_cutout(bounds)\n",
    "\n",
    "Image.fromarray( (seg.T / np.max(seg) * 255).astype('uint8') )"
   ]
  },
  {
   "cell_type": "code",
   "execution_count": null,
   "id": "8f14d5de",
   "metadata": {},
   "outputs": [],
   "source": [
    "uniq.tolist()[1:]"
   ]
  },
  {
   "cell_type": "code",
   "execution_count": null,
   "id": "8459b196",
   "metadata": {},
   "outputs": [],
   "source": [
    "uniq.tolist()[1:2]"
   ]
  },
  {
   "cell_type": "code",
   "execution_count": null,
   "id": "e231c08f",
   "metadata": {
    "scrolled": true
   },
   "outputs": [],
   "source": [
    "len(seg.T)"
   ]
  },
  {
   "cell_type": "code",
   "execution_count": null,
   "id": "c8e70757",
   "metadata": {},
   "outputs": [],
   "source": [
    "# this code selects all mitochondria in the image to color, not just the mitoid of interest\n",
    "\n",
    "root_ids = uniq.tolist()[1:]\n",
    "#seg_ = img_client.segmentation_cutout(bounds, root_ids=root_ids)\n",
    "Image.fromarray( (seg.T / np.max(seg) * 255).astype('uint8') )"
   ]
  },
  {
   "cell_type": "code",
   "execution_count": null,
   "id": "82a97919",
   "metadata": {},
   "outputs": [],
   "source": [
    "image, segs = img_client_mito.image_and_segmentation_cutout(bounds,\n",
    "                                                       split_segmentations=True,\n",
    "                                                       root_ids=root_ids)"
   ]
  },
  {
   "cell_type": "code",
   "execution_count": null,
   "id": "21f9d0bb",
   "metadata": {},
   "outputs": [],
   "source": [
    "image"
   ]
  },
  {
   "cell_type": "code",
   "execution_count": null,
   "id": "2d140fec",
   "metadata": {},
   "outputs": [],
   "source": [
    "# segs"
   ]
  },
  {
   "cell_type": "code",
   "execution_count": null,
   "id": "c68790cc",
   "metadata": {},
   "outputs": [],
   "source": [
    "ic.composite_overlay(segs, imagery=image)"
   ]
  },
  {
   "cell_type": "code",
   "execution_count": null,
   "id": "ec0f688c",
   "metadata": {
    "scrolled": true
   },
   "outputs": [],
   "source": [
    "# this is a repeat of the above code condensed into a single notebook cell\n",
    "\n",
    "ctr = [position[0], position[1], position[2]+0] \n",
    "img_width = image_size\n",
    "image = img_client.image_cutout(ctr, bbox_size=(img_width, img_width))\n",
    "bounds = ic.bounds_from_center(ctr, width=img_width, height=img_width, depth=1)\n",
    "image = img_client.image_cutout(bounds)\n",
    "seg = img_client.segmentation_cutout(bounds)\n",
    "root_ids = uniq.tolist()[1:]\n",
    "seg = img_client_mito.segmentation_cutout(bounds, root_ids=root_ids)\n",
    "split_seg = img_client_mito.split_segmentation_cutout(bounds, root_ids=root_ids)\n",
    "image, segs = img_client_mito.image_and_segmentation_cutout(bounds, split_segmentations=True, root_ids=root_ids)\n",
    "ic.composite_overlay(segs, imagery=image)"
   ]
  },
  {
   "cell_type": "code",
   "execution_count": null,
   "id": "a440bcd1",
   "metadata": {},
   "outputs": [],
   "source": [
    "# create a dictionary to store the mitochondria segmentation image of each slice\n",
    "# this will be more time-consuming as the slices and/or image size increases\n",
    "\n",
    "ic_mito_grid_dict = {}\n",
    "for i in range(zslices):\n",
    "    ctr = [position[0], position[1], position[2]+i] \n",
    "    img_width = image_size\n",
    "    image = img_client.image_cutout(ctr, bbox_size=(img_width, img_width))\n",
    "    bounds = ic.bounds_from_center(ctr, width=img_width, height=img_width, depth=1)\n",
    "    image = img_client.image_cutout(bounds)\n",
    "    seg = img_client_mito.segmentation_cutout(bounds)\n",
    "    root_ids = uniq.tolist()[1:]\n",
    "    seg = img_client_mito.segmentation_cutout(bounds, root_ids=root_ids)\n",
    "    split_seg = img_client_mito.split_segmentation_cutout(bounds, root_ids=root_ids)\n",
    "    image, segs = img_client_mito.image_and_segmentation_cutout(bounds, split_segmentations=True, root_ids=root_ids)\n",
    "    ic_mito_grid_dict['im_mito_' + str(i)] = ic.composite_overlay(segs, imagery=image)\n",
    "    \n",
    "locals().update(ic_mito_grid_dict)"
   ]
  },
  {
   "cell_type": "code",
   "execution_count": null,
   "id": "642db910",
   "metadata": {},
   "outputs": [],
   "source": [
    "# ic_mito_grid_dict"
   ]
  },
  {
   "cell_type": "code",
   "execution_count": null,
   "id": "a0ce7b19",
   "metadata": {},
   "outputs": [],
   "source": [
    "fig, ax = plt.subplots(nrows=1, ncols=1, figsize=(width, height))\n",
    "plt.subplots_adjust(hspace=0)\n",
    "plt.setp(ax, xticks=[], yticks=[])\n",
    "ax.imshow(ic_mito_grid_dict['im_mito_' + str(0)])"
   ]
  },
  {
   "cell_type": "markdown",
   "id": "ea64d7a8",
   "metadata": {},
   "source": [
    "# Save a montage image grid of all slices\n",
    "Images will be colored by mitochondria segmentation"
   ]
  },
  {
   "cell_type": "code",
   "execution_count": null,
   "id": "6074f085",
   "metadata": {},
   "outputs": [],
   "source": [
    "# change desired DPI; 300 dpi will result in very large montage file sizes\n",
    "# uncomment fig lines to generate and save the montage image\n",
    "\n",
    "dpi = 100\n",
    "rows = nrows\n",
    "cols = ncols\n",
    "width = 30\n",
    "height = (width*((rows)/(cols)))\n",
    "\n",
    "fig, ax = plt.subplots(nrows=rows, ncols=cols, figsize=(width, height))\n",
    "plt.subplots_adjust(hspace=0)\n",
    "k=0\n",
    "for i in range(rows):\n",
    "    for j in range(cols):\n",
    "        plt.setp(ax, xticks=[], yticks=[])\n",
    "        ax[i,j].imshow(ic_mito_grid_dict['im_mito_' + str(k)])\n",
    "        k=k+1\n",
    "\n",
    "plt.savefig(os.path.join(imagemontages_dir, 'cid_'+str(cellid)+'_mid_'+str(mitoid)+'_zmontage_mitoseg_'+str(dpi)+'dpi.png'), dpi=dpi)\n",
    "plt.show()"
   ]
  },
  {
   "cell_type": "markdown",
   "id": "f72d2376",
   "metadata": {},
   "source": [
    "## Save a single image slice\n",
    "Each mitochondria segmentation will be colored"
   ]
  },
  {
   "cell_type": "code",
   "execution_count": null,
   "id": "d7f02a96",
   "metadata": {
    "scrolled": true
   },
   "outputs": [],
   "source": [
    "# remove white border code: https://stackoverflow.com/questions/11837979/removing-white-space-around-a-saved-image\n",
    "# uncomment savefig line to export image\n",
    "# change slicenum to pick the slice you wish to save\n",
    "\n",
    "slicenum = 13\n",
    "dpi_ = 300\n",
    "rows = 1\n",
    "cols = 1\n",
    "width = 10\n",
    "height = (width*(rows/cols))\n",
    "\n",
    "fig, ax = plt.subplots(nrows=rows, ncols=cols, figsize=(width, height))\n",
    "plt.gca().set_axis_off()\n",
    "plt.subplots_adjust(top = 1, bottom = 0, right = 1, left = 0, \n",
    "            hspace = 0, wspace = 0)\n",
    "plt.margins(0,0)\n",
    "\n",
    "ax.imshow(ic_mito_grid_dict['im_mito_' + str(slicenum)])\n",
    "plt.xticks([])\n",
    "plt.yticks([])\n",
    "\n",
    "plt.savefig(os.path.join(single_images_dir, 'cid_'+str(cellid)+'_mid_'+str(mitoid)+'_'+str(dpi)+'dpi'+'_mitoseg_slice_'+str(slicenum)+'.png'), dpi=dpi_)\n",
    "plt.show()"
   ]
  },
  {
   "cell_type": "markdown",
   "id": "057ed351",
   "metadata": {},
   "source": [
    "## Save the entire z-series as individual images to a unique subfolder\n",
    "**Note:** these images will be colored by mitochondria segementation and not cellid "
   ]
  },
  {
   "cell_type": "code",
   "execution_count": null,
   "id": "6339eb28",
   "metadata": {},
   "outputs": [],
   "source": [
    "# uncomment savefig line to save the entire zseries as individual images\n",
    "\n",
    "dpi_ = 300\n",
    "rows = 1\n",
    "cols = 1\n",
    "width = 10\n",
    "height = (width*(rows/cols))\n",
    "\n",
    "for i in range(zslices):\n",
    "    fig, ax = plt.subplots(nrows=rows, ncols=cols, figsize=(width, height))\n",
    "    plt.gca().set_axis_off()\n",
    "    plt.subplots_adjust(top = 1, bottom = 0, right = 1, left = 0, hspace = 0, wspace = 0)\n",
    "    plt.margins(0,0)\n",
    "    ax.imshow(ic_mito_grid_dict['im_mito_' + str(i)])\n",
    "    plt.xticks([])\n",
    "    plt.yticks([])\n",
    "    plt.savefig(os.path.join(imagestacks_dir, 'cid_'+str(cellid)+'_mid_'+str(mitoid)+'_'+str(dpi)+'dpi'+'_mitoseg_slice_'+str(i)+'.png'), dpi=dpi_)\n",
    "    plt.close(fig)"
   ]
  },
  {
   "cell_type": "markdown",
   "id": "7c53bd75",
   "metadata": {},
   "source": [
    "## Re-run mitoid mapping using top position instead of bottom position"
   ]
  },
  {
   "cell_type": "code",
   "execution_count": null,
   "id": "f54019d1",
   "metadata": {},
   "outputs": [],
   "source": [
    "top_position_x = top_position[0]\n",
    "top_position_y = top_position[1]\n",
    "top_position_z = top_position[2]\n",
    "\n",
    "top_position_x_min = top_position_x - half_image_size\n",
    "top_position_x_max = top_position_x + half_image_size\n",
    "top_position_y_min = top_position_y - half_image_size\n",
    "top_position_y_max = top_position_y + half_image_size\n",
    "top_position_z_max = top_position_z + 1"
   ]
  },
  {
   "cell_type": "code",
   "execution_count": null,
   "id": "610f9d42",
   "metadata": {},
   "outputs": [],
   "source": [
    "mito_seg = mito_cv[(top_position_x_min)/2:(top_position_x_max)/2, (top_position_y_min)/2:(top_position_y_max)/2, top_position_z]"
   ]
  },
  {
   "cell_type": "code",
   "execution_count": null,
   "id": "00182051",
   "metadata": {
    "scrolled": true
   },
   "outputs": [],
   "source": [
    "# may be much faster than np.unique\n",
    "uniq, cts = fastremap.unique(mito_seg, return_counts=True) \n",
    "# relabel values from 1 and refit data type\n",
    "mito_seg, remapping = fastremap.renumber(mito_seg, in_place=True)"
   ]
  },
  {
   "cell_type": "code",
   "execution_count": null,
   "id": "b8945595",
   "metadata": {},
   "outputs": [],
   "source": [
    "remapping"
   ]
  },
  {
   "cell_type": "code",
   "execution_count": null,
   "id": "35f2d365",
   "metadata": {
    "scrolled": true
   },
   "outputs": [],
   "source": [
    "uniq"
   ]
  },
  {
   "cell_type": "markdown",
   "id": "3f4d3d0d",
   "metadata": {},
   "source": [
    "## Save a single image slice using top position\n",
    "Each mitochondria segmentation will be colored"
   ]
  },
  {
   "cell_type": "code",
   "execution_count": null,
   "id": "e0995d46",
   "metadata": {},
   "outputs": [],
   "source": [
    "# this is a repeat of the above code condensed into a single notebook cell\n",
    "\n",
    "ctr = [top_position[0], top_position[1], top_position[2]+0] \n",
    "img_width = image_size\n",
    "image = img_client.image_cutout(ctr, bbox_size=(img_width, img_width))\n",
    "bounds = ic.bounds_from_center(ctr, width=img_width, height=img_width, depth=1)\n",
    "image = img_client.image_cutout(bounds)\n",
    "seg = img_client.segmentation_cutout(bounds)\n",
    "root_ids = uniq.tolist()[1:]\n",
    "seg = img_client_mito.segmentation_cutout(bounds, root_ids=root_ids)\n",
    "split_seg = img_client_mito.split_segmentation_cutout(bounds, root_ids=root_ids)\n",
    "image, segs = img_client_mito.image_and_segmentation_cutout(bounds, split_segmentations=True, root_ids=root_ids)\n",
    "ic.composite_overlay(segs, imagery=image)"
   ]
  },
  {
   "cell_type": "code",
   "execution_count": null,
   "id": "edd09e73",
   "metadata": {},
   "outputs": [],
   "source": []
  }
 ],
 "metadata": {
  "kernelspec": {
   "display_name": "Python 3 (ipykernel)",
   "language": "python",
   "name": "python3"
  },
  "language_info": {
   "codemirror_mode": {
    "name": "ipython",
    "version": 3
   },
   "file_extension": ".py",
   "mimetype": "text/x-python",
   "name": "python",
   "nbconvert_exporter": "python",
   "pygments_lexer": "ipython3",
   "version": "3.7.15"
  }
 },
 "nbformat": 4,
 "nbformat_minor": 5
}
