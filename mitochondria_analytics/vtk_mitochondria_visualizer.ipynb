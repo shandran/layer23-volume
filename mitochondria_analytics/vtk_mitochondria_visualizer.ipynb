{
 "cells": [
  {
   "cell_type": "code",
   "execution_count": 1,
   "id": "b8460bb9",
   "metadata": {},
   "outputs": [],
   "source": [
    "import pandas as pd\n",
    "import numpy as np\n",
    "import os"
   ]
  },
  {
   "cell_type": "code",
   "execution_count": null,
   "id": "c54d77b4",
   "metadata": {},
   "outputs": [],
   "source": [
    "from meshparty import trimesh_io, trimesh_vtk, skeleton, utils"
   ]
  },
  {
   "cell_type": "code",
   "execution_count": null,
   "id": "cb04bb66",
   "metadata": {},
   "outputs": [],
   "source": [
    "import vtk"
   ]
  },
  {
   "cell_type": "code",
   "execution_count": null,
   "id": "4e3edf25",
   "metadata": {},
   "outputs": [],
   "source": [
    "pd.set_option('display.max_columns', None)"
   ]
  },
  {
   "cell_type": "code",
   "execution_count": null,
   "id": "8470c752",
   "metadata": {
    "scrolled": true
   },
   "outputs": [],
   "source": [
    "# this csv file is 268 MB and too large to place on Github\n",
    "# in order to run this notebook, you must first download the file and place on your local machine in the /data folder\n",
    "# the csv file is available here: https://zenodo.org/record/5579388/files/211019_mitochondria_info.csv\n",
    "\n",
    "mito = pd.read_csv('data/211019_mitochondria_info.csv')\n",
    "mito"
   ]
  },
  {
   "cell_type": "markdown",
   "id": "f8785634",
   "metadata": {},
   "source": [
    "# Enter a cellid of interest"
   ]
  },
  {
   "cell_type": "code",
   "execution_count": null,
   "id": "4d3ea8b0",
   "metadata": {},
   "outputs": [],
   "source": [
    "# pull all mitos from a cellid of interest\n",
    "cellid = 648518346349530724\n",
    "\n",
    "mito_querydf = mito[mito['cellid'] == cellid]\n",
    "mito_querydf\n",
    "\n",
    "# interesting cellids\n",
    "# 648518346349530724 microglia with 149 mitos\n",
    "# 648518346349527319 astrocyte containing the largest mito in the volume and several additional large mitos\n",
    "# 648518346349537555 apical dendrite likely from a L5 or L6 pyr neuron\n",
    "# 648518346349537741 pyr neuron with largest mito in the volume for a neuron\n",
    "# 648518346349508279 oligodendrocyte"
   ]
  },
  {
   "cell_type": "code",
   "execution_count": null,
   "id": "ffa59c8f",
   "metadata": {},
   "outputs": [],
   "source": [
    "mito_query_mitolist = mito_querydf.mito_id.to_list()\n",
    "print(f\"length: \"+str(len(mito_query_mitolist)))\n",
    "print(f\"type: \"+str(type(mito_query_mitolist)))\n",
    "print('')\n",
    "# print(mito_query_mitolist) # uncomment to print the mito id list"
   ]
  },
  {
   "cell_type": "markdown",
   "id": "dc12850c",
   "metadata": {},
   "source": [
    "# vtk 3d viewer"
   ]
  },
  {
   "cell_type": "code",
   "execution_count": null,
   "id": "8086cbcb",
   "metadata": {},
   "outputs": [],
   "source": [
    "# setup the mesh meta to handle downloads and caching\n",
    "mesh_dir = 'data/neuron_meshes_v185/' # or change to your desired folder\n",
    "seg_source = \"precomputed://https://storage.googleapis.com/microns_public_datasets/pinky100_v185/seg\"\n",
    "mm = trimesh_io.MeshMeta(cv_path=seg_source,\n",
    "                         disk_cache_path=mesh_dir, \n",
    "                         cache_size=20)\n",
    "\n",
    "# setup the mesh meta to handle downloads and caching\n",
    "mito_mesh_dir = 'data/meshes/'\n",
    "mito_source = \"precomputed://https://seungdata.princeton.edu/sseung-archive/pinky100-mito/seg_191220\"\n",
    "mito_mm = trimesh_io.MeshMeta(cv_path=mito_source,\n",
    "                         disk_cache_path=mito_mesh_dir)"
   ]
  },
  {
   "cell_type": "code",
   "execution_count": null,
   "id": "8e62931c",
   "metadata": {},
   "outputs": [],
   "source": [
    "cell_id = cellid"
   ]
  },
  {
   "cell_type": "code",
   "execution_count": null,
   "id": "bb90fbfd",
   "metadata": {
    "scrolled": true
   },
   "outputs": [],
   "source": [
    "# If you get an error, run the next cell to download the mesh, then rerun this cell again\n",
    "seg_id = cell_id\n",
    "mesh_file = os.path.join(mesh_dir, str(seg_id)+'.h5')\n",
    "mesh = mm.mesh(filename = mesh_file)"
   ]
  },
  {
   "cell_type": "code",
   "execution_count": null,
   "id": "9bf6f6dc",
   "metadata": {},
   "outputs": [],
   "source": [
    "# If you get an error on the previous cell, run this cell\n",
    "# After the mesh is successfully downloaded, rerun the previous cell \n",
    "downloadmesh = mm.mesh(seg_id = seg_id, remove_duplicate_vertices=True)"
   ]
  },
  {
   "cell_type": "code",
   "execution_count": null,
   "id": "3b6d4da6",
   "metadata": {},
   "outputs": [],
   "source": [
    "len(mito_query_mitolist)"
   ]
  },
  {
   "cell_type": "code",
   "execution_count": null,
   "id": "415cfa9b",
   "metadata": {
    "scrolled": false
   },
   "outputs": [],
   "source": [
    "mito_query_mitolist[0]"
   ]
  },
  {
   "cell_type": "markdown",
   "id": "3e88cd5e",
   "metadata": {},
   "source": [
    "### The following cell only needs to be run once\n",
    "- You do not need to run this cell if you have previously downloaded the mito mesh files\n",
    "- Note: this will take a long time, which gets longer the more mitos are in the cell of interest"
   ]
  },
  {
   "cell_type": "code",
   "execution_count": null,
   "id": "a4f04477",
   "metadata": {},
   "outputs": [],
   "source": [
    "# download the mito meshes for this cell\n",
    "\n",
    "for i in range(len(mito_query_mitolist)):\n",
    "    mito_id = mito_query_mitolist[i]\n",
    "    mito_seg_id = mito_id\n",
    "    mito_downloadmesh = mito_mm.mesh(seg_id = mito_seg_id, remove_duplicate_vertices=True)"
   ]
  },
  {
   "cell_type": "code",
   "execution_count": null,
   "id": "4de32abe",
   "metadata": {},
   "outputs": [],
   "source": [
    "# iterate the mito_mesh for each mito\n",
    "# from https://python-forum.io/thread-23500.html\n",
    "\n",
    "var_iterator = {}\n",
    "for i in range(len(mito_query_mitolist)):\n",
    "    mito_seg_id = mito_query_mitolist[i] \n",
    "    mito_mesh_file = os.path.join(mito_mesh_dir, str(mito_seg_id)+'.h5')\n",
    "    var_iterator['mito_mesh_' + str(i)] = mito_mm.mesh(filename = mito_mesh_file)\n",
    "    \n",
    "locals().update(var_iterator)"
   ]
  },
  {
   "cell_type": "code",
   "execution_count": null,
   "id": "403c6679",
   "metadata": {},
   "outputs": [],
   "source": [
    "cell_opac = 0.05\n",
    "cell_color = (0.2, 0.4, 0.7)\n",
    "mito_opac = 0.35\n",
    "\n",
    "# cell membrane mesh\n",
    "mesh_actor = trimesh_vtk.mesh_actor(mesh, opacity=cell_opac, color=cell_color)\n",
    "\n",
    "# mito meshes\n",
    "\n",
    "actor_iterator = {}\n",
    "for i in range(len(mito_query_mitolist)):\n",
    "    random_color = list(np.random.random(size=3))\n",
    "    actor_iterator['mito_mesh_actor_' + str(i)] = trimesh_vtk.mesh_actor(var_iterator['mito_mesh_'+str(i)], opacity=mito_opac, color=(random_color))\n",
    "    \n",
    "locals().update(actor_iterator)\n",
    "\n",
    "actor_iterator['mesh_actor'] = mesh_actor\n",
    "\n",
    "#creating a camera object and defining the view\n",
    "camera = trimesh_vtk.oriented_camera(mesh.centroid, backoff=150)\n",
    "\n",
    "#render the actors, will open a pop up python window\n",
    "trimesh_vtk.render_actors(actor_iterator.values(), camera=camera)\n"
   ]
  },
  {
   "cell_type": "code",
   "execution_count": null,
   "id": "322844c8",
   "metadata": {},
   "outputs": [],
   "source": []
  }
 ],
 "metadata": {
  "kernelspec": {
   "display_name": "Python 3 (ipykernel)",
   "language": "python",
   "name": "python3"
  },
  "language_info": {
   "codemirror_mode": {
    "name": "ipython",
    "version": 3
   },
   "file_extension": ".py",
   "mimetype": "text/x-python",
   "name": "python",
   "nbconvert_exporter": "python",
   "pygments_lexer": "ipython3",
   "version": "3.7.15"
  }
 },
 "nbformat": 4,
 "nbformat_minor": 5
}
