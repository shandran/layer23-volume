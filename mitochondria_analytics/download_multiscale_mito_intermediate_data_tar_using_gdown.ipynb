{
 "cells": [
  {
   "cell_type": "code",
   "execution_count": 1,
   "id": "f02aadf5",
   "metadata": {},
   "outputs": [],
   "source": [
    "import gdown"
   ]
  },
  {
   "cell_type": "code",
   "execution_count": 2,
   "id": "5823494d",
   "metadata": {},
   "outputs": [],
   "source": [
    "! gdown --id 1Nhucb9SHVOtnPRAz27IYkjH0qjEctGOJ -O multiscale_mito_intermediate_data.tgz "
   ]
  },
  {
   "cell_type": "code",
   "execution_count": 3,
   "id": "b648ca68",
   "metadata": {},
   "outputs": [],
   "source": [
    "! tar -xzf multiscale_mito_intermediate_data.tgz"
   ]
  },
  {
   "cell_type": "code",
   "execution_count": null,
   "id": "0c38fba0",
   "metadata": {},
   "outputs": [],
   "source": []
  }
 ],
 "metadata": {
  "kernelspec": {
   "display_name": "Python 3 (ipykernel)",
   "language": "python",
   "name": "python3"
  },
  "language_info": {
   "codemirror_mode": {
    "name": "ipython",
    "version": 3
   },
   "file_extension": ".py",
   "mimetype": "text/x-python",
   "name": "python",
   "nbconvert_exporter": "python",
   "pygments_lexer": "ipython3",
   "version": "3.7.15"
  }
 },
 "nbformat": 4,
 "nbformat_minor": 5
}
