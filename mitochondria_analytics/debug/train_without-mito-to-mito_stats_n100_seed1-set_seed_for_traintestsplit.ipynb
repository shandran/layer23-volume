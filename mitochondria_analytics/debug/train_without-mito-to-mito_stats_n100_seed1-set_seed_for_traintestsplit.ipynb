{
 "cells": [
  {
   "cell_type": "code",
   "execution_count": 1,
   "id": "f8c918ee",
   "metadata": {},
   "outputs": [],
   "source": [
    "import pandas as pd\n",
    "import numpy as np\n",
    "import matplotlib.pyplot as plt\n",
    "import seaborn as sns\n",
    "import time"
   ]
  },
  {
   "cell_type": "code",
   "execution_count": 2,
   "id": "d1f9a122",
   "metadata": {},
   "outputs": [],
   "source": [
    "from sklearn.model_selection import train_test_split\n",
    "from sklearn.tree import DecisionTreeClassifier\n",
    "from sklearn.metrics import classification_report,confusion_matrix\n",
    "from sklearn.ensemble import RandomForestClassifier"
   ]
  },
  {
   "cell_type": "code",
   "execution_count": 3,
   "id": "579df438",
   "metadata": {},
   "outputs": [],
   "source": [
    "pd.set_option('display.max_columns', None)"
   ]
  },
  {
   "cell_type": "code",
   "execution_count": 4,
   "id": "16a06f3c",
   "metadata": {},
   "outputs": [],
   "source": [
    "# 'pyr_four_nostr.csv' is the original classifier train set\n",
    "# 'pyr_four_nostr_mmstats.csv' adds in 10 additional mito-to-mito distance statistics\n",
    "\n",
    "pyr_four = pd.read_csv('pyr_four_nostr.csv', index_col=[0])"
   ]
  },
  {
   "cell_type": "code",
   "execution_count": 5,
   "id": "b03d159d",
   "metadata": {},
   "outputs": [],
   "source": [
    "# split test size\n",
    "testsize = 0.30\n",
    "\n",
    "# number of estimators\n",
    "n_est = 100\n",
    "\n",
    "# random state\n",
    "random_st = 1\n",
    "\n",
    "# decision tree classifier conditions\n",
    "min_sampleaf = 1\n",
    "min_sampsplit = 2 \n",
    "min_weightfractionleaf = 0.0"
   ]
  },
  {
   "cell_type": "markdown",
   "id": "a42c98c5",
   "metadata": {},
   "source": [
    "# First run"
   ]
  },
  {
   "cell_type": "markdown",
   "id": "61159789",
   "metadata": {},
   "source": [
    "## Test-train-split 1 using random state = 1 (from above variables)"
   ]
  },
  {
   "cell_type": "code",
   "execution_count": 6,
   "id": "6d51964a",
   "metadata": {},
   "outputs": [],
   "source": [
    "X = pyr_four.drop('compartment',axis=1)\n",
    "y = pyr_four['compartment']\n",
    "X_train, X_test, y_train, y_test = train_test_split(X, y, test_size=testsize, random_state=random_st)"
   ]
  },
  {
   "cell_type": "markdown",
   "id": "bc3d413f",
   "metadata": {},
   "source": [
    "## Dtree1"
   ]
  },
  {
   "cell_type": "code",
   "execution_count": 7,
   "id": "2d4c3705",
   "metadata": {},
   "outputs": [
    {
     "data": {
      "text/plain": [
       "DecisionTreeClassifier(random_state=1)"
      ]
     },
     "execution_count": 7,
     "metadata": {},
     "output_type": "execute_result"
    }
   ],
   "source": [
    "dtree = DecisionTreeClassifier()\n",
    "dtree.fit(X_train,y_train)\n",
    "dtree.fit(X_train,y_train)\n",
    "DecisionTreeClassifier(class_weight=None, criterion='gini', max_depth=None,\n",
    "            max_features=None, max_leaf_nodes=None, min_samples_leaf=min_sampleaf,\n",
    "            min_samples_split=min_sampsplit, min_weight_fraction_leaf=min_weightfractionleaf,\n",
    "            random_state=random_st, splitter='best')"
   ]
  },
  {
   "cell_type": "markdown",
   "id": "c353eb23",
   "metadata": {},
   "source": [
    "## Dtree1 classification report and confusion matrix"
   ]
  },
  {
   "cell_type": "code",
   "execution_count": 8,
   "id": "41703c7e",
   "metadata": {},
   "outputs": [],
   "source": [
    "predictions = dtree.predict(X_test)"
   ]
  },
  {
   "cell_type": "code",
   "execution_count": 9,
   "id": "ece922ca",
   "metadata": {},
   "outputs": [
    {
     "name": "stdout",
     "output_type": "stream",
     "text": [
      "              precision    recall  f1-score   support\n",
      "\n",
      "      Apical       0.78      0.79      0.78      5962\n",
      "      Axonal       0.72      0.73      0.72      3751\n",
      "       Basal       0.84      0.84      0.84     16534\n",
      "     Somatic       0.96      0.96      0.96     28025\n",
      "\n",
      "    accuracy                           0.89     54272\n",
      "   macro avg       0.82      0.83      0.83     54272\n",
      "weighted avg       0.89      0.89      0.89     54272\n",
      "\n"
     ]
    }
   ],
   "source": [
    "print(classification_report(y_test,predictions))"
   ]
  },
  {
   "cell_type": "code",
   "execution_count": 10,
   "id": "17e82924",
   "metadata": {},
   "outputs": [
    {
     "name": "stdout",
     "output_type": "stream",
     "text": [
      "[[ 4685    78   975   224]\n",
      " [   70  2733   816   132]\n",
      " [ 1023   851 13836   824]\n",
      " [  230   135   808 26852]]\n"
     ]
    }
   ],
   "source": [
    "print(confusion_matrix(y_test,predictions))"
   ]
  },
  {
   "cell_type": "markdown",
   "id": "0c9dc80a",
   "metadata": {},
   "source": [
    "## Random forest 1 (rf1) using random state 1"
   ]
  },
  {
   "cell_type": "code",
   "execution_count": 11,
   "id": "6e21bb4d",
   "metadata": {},
   "outputs": [],
   "source": [
    "start_time = time.time()\n",
    "rfc = RandomForestClassifier(n_estimators=n_est, random_state=random_st)\n",
    "rfc.fit(X_train, y_train)\n",
    "elapsed_time = time.time() - start_time"
   ]
  },
  {
   "cell_type": "code",
   "execution_count": 12,
   "id": "f867dde1",
   "metadata": {},
   "outputs": [
    {
     "name": "stdout",
     "output_type": "stream",
     "text": [
      "Elapsed time to compute the Random Forest Classifer: 43.332 seconds\n"
     ]
    }
   ],
   "source": [
    "print(f\"Elapsed time to compute the Random Forest Classifer: {elapsed_time:.3f} seconds\")"
   ]
  },
  {
   "cell_type": "markdown",
   "id": "7ae7b67c",
   "metadata": {},
   "source": [
    "## Rf1 confusion matrix and classification report"
   ]
  },
  {
   "cell_type": "code",
   "execution_count": 13,
   "id": "447a959b",
   "metadata": {},
   "outputs": [
    {
     "name": "stdout",
     "output_type": "stream",
     "text": [
      "[[ 4704    30   990   238]\n",
      " [   51  2907   637   156]\n",
      " [  640   414 14782   698]\n",
      " [   37    10   317 27661]]\n"
     ]
    }
   ],
   "source": [
    "rfc_pred = rfc.predict(X_test)\n",
    "print(confusion_matrix(y_test,rfc_pred))"
   ]
  },
  {
   "cell_type": "code",
   "execution_count": 14,
   "id": "3cad7ade",
   "metadata": {},
   "outputs": [
    {
     "name": "stdout",
     "output_type": "stream",
     "text": [
      "              precision    recall  f1-score   support\n",
      "\n",
      "      Apical       0.87      0.79      0.83      5962\n",
      "      Axonal       0.86      0.77      0.82      3751\n",
      "       Basal       0.88      0.89      0.89     16534\n",
      "     Somatic       0.96      0.99      0.97     28025\n",
      "\n",
      "    accuracy                           0.92     54272\n",
      "   macro avg       0.89      0.86      0.88     54272\n",
      "weighted avg       0.92      0.92      0.92     54272\n",
      "\n"
     ]
    }
   ],
   "source": [
    "print(classification_report(y_test,rfc_pred))"
   ]
  },
  {
   "cell_type": "code",
   "execution_count": 15,
   "id": "7f380e93",
   "metadata": {},
   "outputs": [],
   "source": [
    "# X_colnames = [str(X.columns[i]) for i in range(X.shape[1])]"
   ]
  },
  {
   "cell_type": "code",
   "execution_count": 16,
   "id": "29bcf1c9",
   "metadata": {},
   "outputs": [],
   "source": [
    "# from https://scikit-learn.org/stable/auto_examples/ensemble/plot_forest_importances.html#sphx-glr-auto-examples-ensemble-plot-forest-importances-py\n",
    "\n",
    "#start_time = time.time()\n",
    "#feature_names = X_colnames\n",
    "#forest = RandomForestClassifier(random_state=random_st)\n",
    "#forest.fit(X_train, y_train)\n",
    "\n",
    "#importances = forest.feature_importances_\n",
    "#std = np.std([tree.feature_importances_ for tree in forest.estimators_], axis=0)\n",
    "#elapsed_time = time.time() - start_time"
   ]
  },
  {
   "cell_type": "code",
   "execution_count": 17,
   "id": "1a93cc50",
   "metadata": {},
   "outputs": [],
   "source": [
    "# print(f\"Elapsed time to compute the importances: {elapsed_time:.3f} seconds\")"
   ]
  },
  {
   "cell_type": "code",
   "execution_count": 18,
   "id": "ab79ba56",
   "metadata": {},
   "outputs": [],
   "source": [
    "#forest_importances = pd.Series(importances, index=feature_names)\n",
    "\n",
    "#fig, ax = plt.subplots()\n",
    "#forest_importances.plot.bar(yerr=std, ax=ax)\n",
    "#ax.set_title(\"Feature importances using MDI\")\n",
    "#ax.set_ylabel(\"Mean decrease in impurity\")\n",
    "#fig.tight_layout()"
   ]
  },
  {
   "cell_type": "markdown",
   "id": "62f487fd",
   "metadata": {},
   "source": [
    "# Second run"
   ]
  },
  {
   "cell_type": "markdown",
   "id": "57734326",
   "metadata": {},
   "source": [
    "## Test-train-split\n",
    "To get the big jump in accuracy, the test-train-split must be different from run 1\n",
    "### This is the first requirement to get the big jump in accuracy\n",
    "Here, random state is set to 0 (different from run 1) so the big jump in accuracy is obtained  \n",
    "If you set random state to 1 (same as run 1), the accuracy results will be identical to run 1"
   ]
  },
  {
   "cell_type": "code",
   "execution_count": 19,
   "id": "9446b796",
   "metadata": {},
   "outputs": [],
   "source": [
    "# re-run without updating rfc\n",
    "# these 3 lines are required for the increased accuracy; if you uncomment them, the following analysis is not different from above\n",
    "# if you set the random state below to be the same as the random state in the first run there is no jump in accuracy\n",
    "# if you set the random state to be different from first run, there is a substantial jump in accuracy\n",
    "X = pyr_four.drop('compartment',axis=1)\n",
    "y = pyr_four['compartment']\n",
    "X_train, X_test, y_train, y_test = train_test_split(X, y, test_size=testsize, random_state=0) # set random state here"
   ]
  },
  {
   "cell_type": "markdown",
   "id": "656496e2",
   "metadata": {},
   "source": [
    "## Dtree 2"
   ]
  },
  {
   "cell_type": "code",
   "execution_count": 20,
   "id": "f8d23f48",
   "metadata": {},
   "outputs": [
    {
     "data": {
      "text/plain": [
       "DecisionTreeClassifier(random_state=1)"
      ]
     },
     "execution_count": 20,
     "metadata": {},
     "output_type": "execute_result"
    }
   ],
   "source": [
    "dtree = DecisionTreeClassifier()\n",
    "dtree.fit(X_train,y_train)\n",
    "dtree.fit(X_train,y_train)\n",
    "DecisionTreeClassifier(class_weight=None, criterion='gini', max_depth=None,\n",
    "            max_features=None, max_leaf_nodes=None, min_samples_leaf=min_sampleaf,\n",
    "            min_samples_split=min_sampsplit, min_weight_fraction_leaf=min_weightfractionleaf,\n",
    "            random_state=random_st, splitter='best')"
   ]
  },
  {
   "cell_type": "markdown",
   "id": "54230ccc",
   "metadata": {},
   "source": [
    "## Dtree2 classification report and confusion matrix"
   ]
  },
  {
   "cell_type": "code",
   "execution_count": 21,
   "id": "9dca62a4",
   "metadata": {},
   "outputs": [
    {
     "name": "stdout",
     "output_type": "stream",
     "text": [
      "              precision    recall  f1-score   support\n",
      "\n",
      "      Apical       0.78      0.80      0.79      5941\n",
      "      Axonal       0.73      0.74      0.73      3613\n",
      "       Basal       0.85      0.85      0.85     16467\n",
      "     Somatic       0.96      0.96      0.96     28251\n",
      "\n",
      "    accuracy                           0.89     54272\n",
      "   macro avg       0.83      0.84      0.83     54272\n",
      "weighted avg       0.89      0.89      0.89     54272\n",
      "\n"
     ]
    }
   ],
   "source": [
    "predictions = dtree.predict(X_test)\n",
    "print(classification_report(y_test,predictions))"
   ]
  },
  {
   "cell_type": "code",
   "execution_count": 22,
   "id": "55b9ea20",
   "metadata": {
    "scrolled": true
   },
   "outputs": [
    {
     "name": "stdout",
     "output_type": "stream",
     "text": [
      "[[ 4729    85   927   200]\n",
      " [   70  2683   740   120]\n",
      " [ 1010   784 13935   738]\n",
      " [  272   144   763 27072]]\n"
     ]
    }
   ],
   "source": [
    "print(confusion_matrix(y_test,predictions))"
   ]
  },
  {
   "cell_type": "markdown",
   "id": "b18bf7a9",
   "metadata": {},
   "source": [
    "## if rfc from run 1 is used, you get the big jump in accuracy \n",
    "## if rfc is reset, you get identical accuracy results as run 1\n",
    "### This is the second requirement to get the big jump in accuracy"
   ]
  },
  {
   "cell_type": "code",
   "execution_count": 23,
   "id": "7ff520d0",
   "metadata": {},
   "outputs": [],
   "source": [
    "# testing to see what happens when rfc is reset\n",
    "# if you uncomment these two lines, which resets rfc, you no longer get the big jump in accuracy\n",
    "#rfc = RandomForestClassifier(n_estimators=n_est, random_state=random_st)\n",
    "#rfc.fit(X_train, y_train)"
   ]
  },
  {
   "cell_type": "markdown",
   "id": "5adc9071",
   "metadata": {},
   "source": [
    "## Rf2 classification report and confusion matrix"
   ]
  },
  {
   "cell_type": "code",
   "execution_count": 24,
   "id": "31c865c4",
   "metadata": {},
   "outputs": [
    {
     "name": "stdout",
     "output_type": "stream",
     "text": [
      "[[ 5563     7   315    56]\n",
      " [   11  3373   181    48]\n",
      " [  201   121 15946   199]\n",
      " [    9     8    83 28151]]\n"
     ]
    }
   ],
   "source": [
    "rfc_pred = rfc.predict(X_test)\n",
    "print(confusion_matrix(y_test,rfc_pred))"
   ]
  },
  {
   "cell_type": "code",
   "execution_count": 25,
   "id": "e7acc60e",
   "metadata": {
    "scrolled": true
   },
   "outputs": [
    {
     "name": "stdout",
     "output_type": "stream",
     "text": [
      "              precision    recall  f1-score   support\n",
      "\n",
      "      Apical       0.96      0.94      0.95      5941\n",
      "      Axonal       0.96      0.93      0.95      3613\n",
      "       Basal       0.96      0.97      0.97     16467\n",
      "     Somatic       0.99      1.00      0.99     28251\n",
      "\n",
      "    accuracy                           0.98     54272\n",
      "   macro avg       0.97      0.96      0.96     54272\n",
      "weighted avg       0.98      0.98      0.98     54272\n",
      "\n"
     ]
    }
   ],
   "source": [
    "print(classification_report(y_test,rfc_pred))"
   ]
  },
  {
   "cell_type": "code",
   "execution_count": 26,
   "id": "725b6398",
   "metadata": {},
   "outputs": [],
   "source": [
    "# X_colnames = [str(X.columns[i]) for i in range(X.shape[1])]"
   ]
  },
  {
   "cell_type": "code",
   "execution_count": 27,
   "id": "a4d53850",
   "metadata": {},
   "outputs": [],
   "source": [
    "# from https://scikit-learn.org/stable/auto_examples/ensemble/plot_forest_importances.html#sphx-glr-auto-examples-ensemble-plot-forest-importances-py\n",
    "\n",
    "#start_time = time.time()\n",
    "#feature_names = X_colnames\n",
    "#forest = RandomForestClassifier(random_state=random_st)\n",
    "#forest.fit(X_train, y_train)\n",
    "\n",
    "#importances = forest.feature_importances_\n",
    "#std = np.std([tree.feature_importances_ for tree in forest.estimators_], axis=0)\n",
    "#elapsed_time = time.time() - start_time"
   ]
  },
  {
   "cell_type": "code",
   "execution_count": 28,
   "id": "1fe516aa",
   "metadata": {},
   "outputs": [],
   "source": [
    "#print(f\"Elapsed time to compute the importances: {elapsed_time:.3f} seconds\")"
   ]
  },
  {
   "cell_type": "code",
   "execution_count": 29,
   "id": "1646d807",
   "metadata": {},
   "outputs": [],
   "source": [
    "#forest_importances = pd.Series(importances, index=feature_names)\n",
    "\n",
    "#fig, ax = plt.subplots()\n",
    "#forest_importances.plot.bar(yerr=std, ax=ax)\n",
    "#ax.set_title(\"Feature importances using MDI\")\n",
    "#ax.set_ylabel(\"Mean decrease in impurity\")\n",
    "#fig.tight_layout()"
   ]
  },
  {
   "cell_type": "code",
   "execution_count": null,
   "id": "e6675ac7",
   "metadata": {},
   "outputs": [],
   "source": []
  }
 ],
 "metadata": {
  "kernelspec": {
   "display_name": "Python 3 (ipykernel)",
   "language": "python",
   "name": "python3"
  },
  "language_info": {
   "codemirror_mode": {
    "name": "ipython",
    "version": 3
   },
   "file_extension": ".py",
   "mimetype": "text/x-python",
   "name": "python",
   "nbconvert_exporter": "python",
   "pygments_lexer": "ipython3",
   "version": "3.7.15"
  }
 },
 "nbformat": 4,
 "nbformat_minor": 5
}
