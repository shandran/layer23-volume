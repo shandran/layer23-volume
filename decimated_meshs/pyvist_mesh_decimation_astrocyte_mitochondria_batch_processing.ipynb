{
 "cells": [
  {
   "cell_type": "markdown",
   "id": "63389ff1",
   "metadata": {},
   "source": [
    "From: https://github.com/Quorumetrix/Blender_scripts/blob/main/Mesh%20Decimation%20Pipeline.ipynb"
   ]
  },
  {
   "cell_type": "code",
   "execution_count": null,
   "id": "35b2a4d9",
   "metadata": {},
   "outputs": [],
   "source": [
    "import pandas as pd\n",
    "import numpy as np\n",
    "import os\n",
    "import time\n",
    "import h5py\n",
    "import pyvista as pv\n",
    "from tqdm import tqdm"
   ]
  },
  {
   "cell_type": "code",
   "execution_count": null,
   "id": "5b671ba2",
   "metadata": {},
   "outputs": [],
   "source": [
    "pd.set_option('display.max_columns', None)\n",
    "\n",
    "# this csv file is 268 MB and too large to place on Github\n",
    "# in order to run this notebook, you must first download the file and place on your local machine in the /data folder\n",
    "# the csv file is available here: https://zenodo.org/record/5579388/files/211019_mitochondria_info.csv\n",
    "\n",
    "mito = pd.read_csv('data/211019_mitochondria_info.csv')\n",
    "# mito\n",
    "\n",
    "astrocytes = pd.read_csv('data/astrocytes.csv', index_col=[0])\n",
    "# astrocytes.head()\n",
    "\n",
    "astrocyte_list = astrocytes.cell_segid.to_list()\n",
    "len(astrocyte_list)"
   ]
  },
  {
   "cell_type": "code",
   "execution_count": null,
   "id": "55be2d53",
   "metadata": {},
   "outputs": [],
   "source": [
    "mito[mito.cellid == astrocyte_list[0]].mito_id.to_list()"
   ]
  },
  {
   "cell_type": "code",
   "execution_count": null,
   "id": "5ff8de84",
   "metadata": {
    "scrolled": true
   },
   "outputs": [],
   "source": [
    "# astrocyte_list.remove(648518346349527319)"
   ]
  },
  {
   "cell_type": "code",
   "execution_count": null,
   "id": "47ca7afa",
   "metadata": {},
   "outputs": [],
   "source": [
    "len(astrocyte_list)"
   ]
  },
  {
   "cell_type": "code",
   "execution_count": null,
   "id": "0ec7bd2b",
   "metadata": {},
   "outputs": [],
   "source": [
    "# import os\n",
    "# import time\n",
    "# import h5py\n",
    "# import numpy as np\n",
    "# import pyvista as pv\n",
    "# import pandas as pd\n",
    "# from tqdm import tqdm\n",
    "\n",
    "# Set up paths and parameters\n",
    "obj_path = 'data/meshes/'\n",
    "dec_prcnt = 95\n",
    "dec_path = 'data/meshes/dec/'\n",
    "\n",
    "def read_h5_file(file_path):\n",
    "    with h5py.File(file_path, 'r') as f:\n",
    "        vertices = np.array(f['vertices'])\n",
    "        faces = np.array(f['faces'])\n",
    "    return vertices, faces\n",
    "\n",
    "def create_pyvista_mesh(vertices, faces):\n",
    "    # PyVista expects faces to be in the format (n, v1, v2, v3, ...)\n",
    "    faces_with_size = np.hstack([np.full((faces.shape[0], 1), faces.shape[1]), faces])\n",
    "    return pv.PolyData(vertices, faces_with_size)\n",
    "\n",
    "def process_obj(filename, dec_prcnt, obj_path, dec_path, index, total):\n",
    "    print(f\"Processing mito {index + 1} of {total}\")\n",
    "    \n",
    "    # Load the file\n",
    "    vertices, faces = read_h5_file(filename)\n",
    "    \n",
    "    # Create PyVista mesh\n",
    "    mesh = create_pyvista_mesh(vertices, faces)\n",
    "    \n",
    "    # Perform decimation\n",
    "    simplified_mesh = mesh.decimate(target_reduction=dec_prcnt / 100)  # Reduce to x% of the original mesh\n",
    "    \n",
    "    # Ensure the output directory exists\n",
    "    if not os.path.exists(dec_path):\n",
    "        os.makedirs(dec_path)\n",
    "    \n",
    "    # Save the simplified mesh in PLY format\n",
    "    output_filename = os.path.basename(filename).replace('.h5', '.ply')\n",
    "    output_path = os.path.join(dec_path, output_filename)\n",
    "    \n",
    "    print(f\"Saving decimated mesh file for {output_filename}\")\n",
    "    try:\n",
    "        simplified_mesh.save(output_path)\n",
    "    except Exception as e:\n",
    "        print(f\"Error saving {output_path}: {e}\")\n",
    "\n",
    "# # Iterate through astrocyte_list\n",
    "# astrocyte_list = [...]  # Define or load your astrocyte_list here\n",
    "# mito = pd.DataFrame(...)  # Define or load your mito DataFrame here\n",
    "\n",
    "for astrocyte_id in astrocyte_list:\n",
    "    mito_list = mito[mito.cellid == astrocyte_id].mito_id.to_list()\n",
    "    total_mitos = len(mito_list)\n",
    "    with tqdm(mito_list, desc=f\"Processing Astrocyte {astrocyte_id}\") as pbar:\n",
    "        for index, mitoid in enumerate(pbar):\n",
    "            filename = os.path.join(obj_path, str(mitoid) + '.h5')\n",
    "            process_obj(filename, dec_prcnt, obj_path, dec_path, index, total_mitos)\n"
   ]
  },
  {
   "cell_type": "code",
   "execution_count": null,
   "id": "1c6b75f6",
   "metadata": {},
   "outputs": [],
   "source": []
  }
 ],
 "metadata": {
  "kernelspec": {
   "display_name": "Python 3 (ipykernel)",
   "language": "python",
   "name": "python3"
  },
  "language_info": {
   "codemirror_mode": {
    "name": "ipython",
    "version": 3
   },
   "file_extension": ".py",
   "mimetype": "text/x-python",
   "name": "python",
   "nbconvert_exporter": "python",
   "pygments_lexer": "ipython3",
   "version": "3.7.12"
  }
 },
 "nbformat": 4,
 "nbformat_minor": 5
}
