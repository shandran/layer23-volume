{
 "cells": [
  {
   "cell_type": "code",
   "execution_count": 1,
   "id": "cb6436a0",
   "metadata": {},
   "outputs": [],
   "source": [
    "import pandas as pd\n",
    "import numpy as np\n",
    "import os\n",
    "import trimesh\n",
    "from meshparty import trimesh_io, trimesh_vtk, skeleton, utils\n",
    "import vtk\n",
    "import random"
   ]
  },
  {
   "cell_type": "code",
   "execution_count": 2,
   "id": "4bbaf06a",
   "metadata": {},
   "outputs": [],
   "source": [
    "pd.set_option('display.max_columns', None)"
   ]
  },
  {
   "cell_type": "code",
   "execution_count": 3,
   "id": "7ac2ec0c",
   "metadata": {},
   "outputs": [
    {
     "data": {
      "text/plain": [
       "7"
      ]
     },
     "execution_count": 3,
     "metadata": {},
     "output_type": "execute_result"
    }
   ],
   "source": [
    "# Load cellids into a list\n",
    "\n",
    "cell_list = [648518346349539076, 648518346349538440, 648518346349539853, 648518346349537297, 648518346349539100, 648518346349539934, 648518346349537516]\n",
    "len(cell_list)"
   ]
  },
  {
   "cell_type": "code",
   "execution_count": 4,
   "id": "4a76e9df",
   "metadata": {},
   "outputs": [
    {
     "data": {
      "text/plain": [
       "72"
      ]
     },
     "execution_count": 4,
     "metadata": {},
     "output_type": "execute_result"
    }
   ],
   "source": [
    "# create vasculature list\n",
    "\n",
    "celltypes = pd.read_csv(\"data/220309_cell_type_classification.csv\", index_col=[0])\n",
    "vasc = celltypes[celltypes.cell_type == 'vasculature']\n",
    "vasc_list = vasc.cell_segid.to_list()\n",
    "len(vasc_list)"
   ]
  },
  {
   "cell_type": "code",
   "execution_count": 5,
   "id": "8671d2c9",
   "metadata": {},
   "outputs": [
    {
     "data": {
      "text/html": [
       "<div>\n",
       "<style scoped>\n",
       "    .dataframe tbody tr th:only-of-type {\n",
       "        vertical-align: middle;\n",
       "    }\n",
       "\n",
       "    .dataframe tbody tr th {\n",
       "        vertical-align: top;\n",
       "    }\n",
       "\n",
       "    .dataframe thead th {\n",
       "        text-align: right;\n",
       "    }\n",
       "</style>\n",
       "<table border=\"1\" class=\"dataframe\">\n",
       "  <thead>\n",
       "    <tr style=\"text-align: right;\">\n",
       "      <th></th>\n",
       "      <th>mito_id</th>\n",
       "      <th>mito_vx</th>\n",
       "      <th>ctr_pos_x_vx</th>\n",
       "      <th>ctr_pos_y_vx</th>\n",
       "      <th>ctr_pos_z_vx</th>\n",
       "      <th>bbox_beg_x_vx</th>\n",
       "      <th>bbox_beg_y_vx</th>\n",
       "      <th>bbox_beg_z_vx</th>\n",
       "      <th>bbox_end_x_vx</th>\n",
       "      <th>bbox_end_y_vx</th>\n",
       "      <th>bbox_end_z_vx</th>\n",
       "      <th>cellid</th>\n",
       "      <th>ctr_pos_x_nm</th>\n",
       "      <th>ctr_pos_y_nm</th>\n",
       "      <th>ctr_pos_z_nm</th>\n",
       "    </tr>\n",
       "  </thead>\n",
       "  <tbody>\n",
       "    <tr>\n",
       "      <th>0</th>\n",
       "      <td>3384540</td>\n",
       "      <td>5916</td>\n",
       "      <td>103764</td>\n",
       "      <td>47040</td>\n",
       "      <td>103</td>\n",
       "      <td>103734</td>\n",
       "      <td>47016</td>\n",
       "      <td>102</td>\n",
       "      <td>103798</td>\n",
       "      <td>47066</td>\n",
       "      <td>107</td>\n",
       "      <td>648518346348124201</td>\n",
       "      <td>371475.12</td>\n",
       "      <td>168403.20</td>\n",
       "      <td>4120</td>\n",
       "    </tr>\n",
       "    <tr>\n",
       "      <th>1</th>\n",
       "      <td>2526419</td>\n",
       "      <td>1075376</td>\n",
       "      <td>87582</td>\n",
       "      <td>60964</td>\n",
       "      <td>1435</td>\n",
       "      <td>87204</td>\n",
       "      <td>59752</td>\n",
       "      <td>1215</td>\n",
       "      <td>87992</td>\n",
       "      <td>62504</td>\n",
       "      <td>1609</td>\n",
       "      <td>648518346346303282</td>\n",
       "      <td>313543.56</td>\n",
       "      <td>218251.12</td>\n",
       "      <td>57400</td>\n",
       "    </tr>\n",
       "    <tr>\n",
       "      <th>2</th>\n",
       "      <td>1379480</td>\n",
       "      <td>483500</td>\n",
       "      <td>65740</td>\n",
       "      <td>73550</td>\n",
       "      <td>392</td>\n",
       "      <td>65556</td>\n",
       "      <td>73322</td>\n",
       "      <td>292</td>\n",
       "      <td>65976</td>\n",
       "      <td>73880</td>\n",
       "      <td>509</td>\n",
       "      <td>648518346341355778</td>\n",
       "      <td>235349.20</td>\n",
       "      <td>263309.00</td>\n",
       "      <td>15680</td>\n",
       "    </tr>\n",
       "    <tr>\n",
       "      <th>3</th>\n",
       "      <td>3380073</td>\n",
       "      <td>23140</td>\n",
       "      <td>103750</td>\n",
       "      <td>46904</td>\n",
       "      <td>176</td>\n",
       "      <td>103704</td>\n",
       "      <td>46862</td>\n",
       "      <td>173</td>\n",
       "      <td>103812</td>\n",
       "      <td>46946</td>\n",
       "      <td>181</td>\n",
       "      <td>648518346348124771</td>\n",
       "      <td>371425.00</td>\n",
       "      <td>167916.32</td>\n",
       "      <td>7040</td>\n",
       "    </tr>\n",
       "    <tr>\n",
       "      <th>4</th>\n",
       "      <td>1783610</td>\n",
       "      <td>11996</td>\n",
       "      <td>75124</td>\n",
       "      <td>43042</td>\n",
       "      <td>2100</td>\n",
       "      <td>75088</td>\n",
       "      <td>43008</td>\n",
       "      <td>2097</td>\n",
       "      <td>75164</td>\n",
       "      <td>43086</td>\n",
       "      <td>2103</td>\n",
       "      <td>648518346342925287</td>\n",
       "      <td>268943.92</td>\n",
       "      <td>154090.36</td>\n",
       "      <td>84000</td>\n",
       "    </tr>\n",
       "  </tbody>\n",
       "</table>\n",
       "</div>"
      ],
      "text/plain": [
       "   mito_id  mito_vx  ctr_pos_x_vx  ctr_pos_y_vx  ctr_pos_z_vx  bbox_beg_x_vx  \\\n",
       "0  3384540     5916        103764         47040           103         103734   \n",
       "1  2526419  1075376         87582         60964          1435          87204   \n",
       "2  1379480   483500         65740         73550           392          65556   \n",
       "3  3380073    23140        103750         46904           176         103704   \n",
       "4  1783610    11996         75124         43042          2100          75088   \n",
       "\n",
       "   bbox_beg_y_vx  bbox_beg_z_vx  bbox_end_x_vx  bbox_end_y_vx  bbox_end_z_vx  \\\n",
       "0          47016            102         103798          47066            107   \n",
       "1          59752           1215          87992          62504           1609   \n",
       "2          73322            292          65976          73880            509   \n",
       "3          46862            173         103812          46946            181   \n",
       "4          43008           2097          75164          43086           2103   \n",
       "\n",
       "               cellid  ctr_pos_x_nm  ctr_pos_y_nm  ctr_pos_z_nm  \n",
       "0  648518346348124201     371475.12     168403.20          4120  \n",
       "1  648518346346303282     313543.56     218251.12         57400  \n",
       "2  648518346341355778     235349.20     263309.00         15680  \n",
       "3  648518346348124771     371425.00     167916.32          7040  \n",
       "4  648518346342925287     268943.92     154090.36         84000  "
      ]
     },
     "execution_count": 5,
     "metadata": {},
     "output_type": "execute_result"
    }
   ],
   "source": [
    "# this csv file is 268 MB and too large to place on Github\n",
    "# in order to run this notebook, you must first download the file and place on your local machine in the /data folder\n",
    "# the csv file is available here: https://zenodo.org/record/5579388/files/211019_mitochondria_info.csv\n",
    "\n",
    "mito = pd.read_csv('data/211019_mitochondria_info.csv')\n",
    "mito.head()"
   ]
  },
  {
   "cell_type": "code",
   "execution_count": 6,
   "id": "22a4c1f1",
   "metadata": {},
   "outputs": [
    {
     "data": {
      "text/plain": [
       "4479"
      ]
     },
     "execution_count": 6,
     "metadata": {},
     "output_type": "execute_result"
    }
   ],
   "source": [
    "mito_list = mito[mito['cellid'].isin(cell_list)].mito_id.values.tolist()\n",
    "len(mito_list)"
   ]
  },
  {
   "cell_type": "code",
   "execution_count": 7,
   "id": "2488fb05",
   "metadata": {},
   "outputs": [],
   "source": [
    "mito_list_dictionary_by_cell = {\n",
    "    f'cell_{uid}': mito[mito.cellid == uid].mito_id.tolist()\n",
    "    for uid in cell_list\n",
    "}\n",
    "\n",
    "# print(mito_list_dictionary_by_cell)"
   ]
  },
  {
   "cell_type": "code",
   "execution_count": 8,
   "id": "40634080",
   "metadata": {},
   "outputs": [
    {
     "data": {
      "text/plain": [
       "dict"
      ]
     },
     "execution_count": 8,
     "metadata": {},
     "output_type": "execute_result"
    }
   ],
   "source": [
    "type(mito_list_dictionary_by_cell)"
   ]
  },
  {
   "cell_type": "code",
   "execution_count": 9,
   "id": "ad4d01a6",
   "metadata": {},
   "outputs": [],
   "source": [
    "mesh_dir = 'data/neuron_meshes_v185/dec/' # or change to your desired folder\n",
    "seg_source = \"precomputed://https://storage.googleapis.com/microns_public_datasets/pinky100_v185/seg\"\n",
    "mm = trimesh_io.MeshMeta(cv_path=seg_source,\n",
    "                         disk_cache_path=mesh_dir, \n",
    "                         cache_size=20)\n",
    "\n",
    "# setup the mesh meta to handle downloads and caching\n",
    "mito_mesh_dir = 'data/meshes/dec/'\n",
    "mito_source = \"precomputed://https://td.princeton.edu/sseung-archive/pinky100-mito/seg_191220\"\n",
    "mito_mm = trimesh_io.MeshMeta(cv_path=mito_source,\n",
    "                         disk_cache_path=mito_mesh_dir)"
   ]
  },
  {
   "cell_type": "code",
   "execution_count": 10,
   "id": "ba694dc0",
   "metadata": {},
   "outputs": [],
   "source": [
    "# generate trimesh objects of vascular and cell cells and place in a dictionary\n",
    "\n",
    "def update_mesh_dictionary(cell_list, mesh_dictionary, prefix, mesh_dir):\n",
    "    for cellid in cell_list:\n",
    "        mesh_file = os.path.join(mesh_dir, str(cellid) + '.ply')\n",
    "        mesh_dictionary[prefix + str(cellid)] = trimesh.load_mesh(mesh_file)\n",
    "\n",
    "# Initialize the mesh dictionary\n",
    "mesh_dictionary = {}\n",
    "\n",
    "# Update the dictionary with cell_list\n",
    "update_mesh_dictionary(cell_list, mesh_dictionary, 'cell_', mesh_dir)\n",
    "\n",
    "# Update the dictionary with vasc_list\n",
    "update_mesh_dictionary(vasc_list, mesh_dictionary, 'vasc_', mesh_dir)\n"
   ]
  },
  {
   "cell_type": "code",
   "execution_count": 11,
   "id": "e3d088dd",
   "metadata": {},
   "outputs": [
    {
     "data": {
      "text/plain": [
       "24"
      ]
     },
     "execution_count": 11,
     "metadata": {},
     "output_type": "execute_result"
    }
   ],
   "source": [
    "len(mesh_dictionary)"
   ]
  },
  {
   "cell_type": "code",
   "execution_count": 12,
   "id": "d825ab60",
   "metadata": {},
   "outputs": [],
   "source": [
    "# mito_list[:10]"
   ]
  },
  {
   "cell_type": "code",
   "execution_count": 13,
   "id": "3e8ba96f",
   "metadata": {},
   "outputs": [],
   "source": [
    "# Create the nested dictionary of decimated mito meshes\n",
    "\n",
    "trimesh_dictionary_by_cell = {}\n",
    "\n",
    "for cell_key, mito_list in mito_list_dictionary_by_cell.items():\n",
    "    # Initialize the second-level dictionary\n",
    "    nested_dict = {}\n",
    "    \n",
    "    for mitoid in mito_list:\n",
    "        # Construct the file path for the ply file\n",
    "        ply_file = os.path.join(mito_mesh_dir, str(mitoid) + '.ply')\n",
    "        \n",
    "        # Debug: Print the file path to check correctness\n",
    "        # print(f'Processing file: {ply_file}')\n",
    "        \n",
    "        # Check if the file exists and is accessible\n",
    "        if not os.path.isfile(ply_file):\n",
    "            print(f'Error: File does not exist - {ply_file}')\n",
    "            continue\n",
    "        \n",
    "        try:\n",
    "            # Load the ply file as a trimesh object\n",
    "            mito_mesh = trimesh.load_mesh(ply_file)\n",
    "            # Define the key for the second-level dictionary\n",
    "            nested_key = f'trimesh_mito_{mitoid}'\n",
    "            # Store the trimesh object in the nested dictionary\n",
    "            nested_dict[nested_key] = mito_mesh\n",
    "        except Exception as e:\n",
    "            print(f'Error processing file {ply_file}: {e}')\n",
    "    \n",
    "    # Store the nested dictionary in the first-level dictionary\n",
    "    trimesh_dictionary_by_cell[cell_key] = nested_dict\n",
    "\n",
    "# Now, trimesh_dictionary_by_cell contains the organized trimesh objects\n"
   ]
  },
  {
   "cell_type": "code",
   "execution_count": 14,
   "id": "f7dc650d",
   "metadata": {},
   "outputs": [
    {
     "data": {
      "text/plain": [
       "7"
      ]
     },
     "execution_count": 14,
     "metadata": {},
     "output_type": "execute_result"
    }
   ],
   "source": [
    "len(trimesh_dictionary_by_cell)"
   ]
  },
  {
   "cell_type": "code",
   "execution_count": 15,
   "id": "5aadc40a",
   "metadata": {},
   "outputs": [
    {
     "name": "stdout",
     "output_type": "stream",
     "text": [
      "cell_648518346349539076:\n",
      "  trimesh_mito_888378: <trimesh.Trimesh(vertices.shape=(116, 3), faces.shape=(228, 3))>\n",
      "  trimesh_mito_2421894: <trimesh.Trimesh(vertices.shape=(419, 3), faces.shape=(830, 3))>\n",
      "  trimesh_mito_1561796: <trimesh.Trimesh(vertices.shape=(314, 3), faces.shape=(625, 3))>\n",
      "  trimesh_mito_1041327: <trimesh.Trimesh(vertices.shape=(234, 3), faces.shape=(462, 3))>\n",
      "  trimesh_mito_906019: <trimesh.Trimesh(vertices.shape=(123, 3), faces.shape=(223, 3))>\n",
      "  trimesh_mito_1477121: <trimesh.Trimesh(vertices.shape=(66, 3), faces.shape=(128, 3))>\n",
      "  trimesh_mito_906030: <trimesh.Trimesh(vertices.shape=(63, 3), faces.shape=(122, 3))>\n",
      "  trimesh_mito_1936966: <trimesh.Trimesh(vertices.shape=(710, 3), faces.shape=(1414, 3))>\n",
      "  trimesh_mito_1113138: <trimesh.Trimesh(vertices.shape=(141, 3), faces.shape=(278, 3))>\n",
      "  trimesh_mito_852552: <trimesh.Trimesh(vertices.shape=(719, 3), faces.shape=(1432, 3))>\n"
     ]
    }
   ],
   "source": [
    "# Display the first 10 items in the nested dictionary\n",
    "\n",
    "item_count = 0\n",
    "for cell_key, nested_dict in trimesh_dictionary_by_cell.items():\n",
    "    print(f'{cell_key}:')\n",
    "    for nested_key, mito_mesh in nested_dict.items():\n",
    "        print(f'  {nested_key}: {mito_mesh}')\n",
    "        item_count += 1\n",
    "        if item_count >= 10:\n",
    "            break\n",
    "    if item_count >= 10:\n",
    "        break\n"
   ]
  },
  {
   "cell_type": "code",
   "execution_count": 16,
   "id": "123335ef",
   "metadata": {},
   "outputs": [
    {
     "name": "stdout",
     "output_type": "stream",
     "text": [
      "setting up renderer\n",
      "done setting up\n",
      "actors added\n",
      "camera set\n",
      "render done\n",
      "finalizing..\n"
     ]
    },
    {
     "data": {
      "text/plain": [
       "<vtkmodules.vtkRenderingOpenGL2.vtkOpenGLRenderer(0x0000024FA3C76D10) at 0x0000024F9A6A18E8>"
      ]
     },
     "execution_count": 16,
     "metadata": {},
     "output_type": "execute_result"
    }
   ],
   "source": [
    "# Render all cells with the same settings and pull the viewpoint centroid from an index in cell_list (default index [0])\n",
    "\n",
    "# Define colors and opacities\n",
    "cell_color = [0.5, 0.5, 0.5]  # Neutral gray\n",
    "cell_opac = 0.2\n",
    "\n",
    "vasc_color = [0.5, 0.0, 0.0]  # Dark red\n",
    "vasc_opac = 0.1\n",
    "\n",
    "mito_opac = 0.25\n",
    "\n",
    "# Creating mesh actors with specified colors and opacities without modifying the mesh_dictionary\n",
    "mesh_actor = {}\n",
    "for cellid in cell_list:\n",
    "    cell_key = 'cell_' + str(cellid)\n",
    "    if cell_key in mesh_dictionary:\n",
    "        mesh_actor[cell_key] = trimesh_vtk.mesh_actor(\n",
    "            mesh_dictionary[cell_key], \n",
    "            opacity=cell_opac, \n",
    "            color=cell_color\n",
    "        )\n",
    "\n",
    "for cellid in vasc_list:\n",
    "    cell_key = 'vasc_' + str(cellid)\n",
    "    if cell_key in mesh_dictionary:\n",
    "        mesh_actor[cell_key] = trimesh_vtk.mesh_actor(\n",
    "            mesh_dictionary[cell_key], \n",
    "            opacity=vasc_opac, \n",
    "            color=vasc_color\n",
    "        )\n",
    "\n",
    "locals().update(mesh_actor)\n",
    "\n",
    "# Creating a camera object and defining the view\n",
    "if 'cell_' + str(cell_list[0]) in mesh_dictionary:\n",
    "    camera = trimesh_vtk.oriented_camera(mesh_dictionary['cell_' + str(cell_list[0])].centroid, backoff=400)\n",
    "else:\n",
    "    print(f\"First cell key cell_{cell_list[0]} not found in mesh dictionary.\")\n",
    "\n",
    "# Render the actors, will open a pop-up Python window\n",
    "trimesh_vtk.render_actors(mesh_actor.values(), camera=camera)\n"
   ]
  },
  {
   "cell_type": "code",
   "execution_count": 17,
   "id": "2b87aea0",
   "metadata": {},
   "outputs": [
    {
     "name": "stdout",
     "output_type": "stream",
     "text": [
      "setting up renderer\n",
      "done setting up\n",
      "actors added\n",
      "camera set\n",
      "render done\n",
      "finalizing..\n"
     ]
    },
    {
     "data": {
      "text/plain": [
       "<vtkmodules.vtkRenderingOpenGL2.vtkOpenGLRenderer(0x0000024FA3C78000) at 0x0000024FB5882168>"
      ]
     },
     "execution_count": 17,
     "metadata": {},
     "output_type": "execute_result"
    }
   ],
   "source": [
    "# Render all cells with the same settings and calculate a global mean of the viewpoint centroid\n",
    "\n",
    "# Define colors and opacities\n",
    "cell_color = [0.5, 0.5, 0.5]  # Neutral gray\n",
    "cell_opac = 0.25\n",
    "\n",
    "vasc_color = [0.5, 0.0, 0.0]  # Dark red\n",
    "vasc_opac = 0.1\n",
    "\n",
    "mito_opac = 0.25\n",
    "\n",
    "# Creating mesh actors with specified colors and opacities without modifying the mesh_dictionary\n",
    "mesh_actor = {}\n",
    "centroids = []\n",
    "\n",
    "for cellid in cell_list:\n",
    "    cell_key = 'cell_' + str(cellid)\n",
    "    if cell_key in mesh_dictionary:\n",
    "        mesh_actor[cell_key] = trimesh_vtk.mesh_actor(\n",
    "            mesh_dictionary[cell_key], \n",
    "            opacity=cell_opac, \n",
    "            color=cell_color\n",
    "        )\n",
    "        centroids.append(mesh_dictionary[cell_key].centroid)\n",
    "\n",
    "for cellid in vasc_list:\n",
    "    cell_key = 'vasc_' + str(cellid)\n",
    "    if cell_key in mesh_dictionary:\n",
    "        mesh_actor[cell_key] = trimesh_vtk.mesh_actor(\n",
    "            mesh_dictionary[cell_key], \n",
    "            opacity=vasc_opac, \n",
    "            color=vasc_color\n",
    "        )\n",
    "        centroids.append(mesh_dictionary[cell_key].centroid)\n",
    "\n",
    "locals().update(mesh_actor)\n",
    "\n",
    "# Calculate the overall centroid\n",
    "if centroids:\n",
    "    overall_centroid = np.mean(centroids, axis=0)\n",
    "else:\n",
    "    overall_centroid = np.array([0, 0, 0])  # Fallback if no centroids are found\n",
    "\n",
    "# Creating a camera object and defining the view\n",
    "camera = trimesh_vtk.oriented_camera(overall_centroid, backoff=400)\n",
    "\n",
    "# Render the actors, will open a pop-up Python window\n",
    "trimesh_vtk.render_actors(mesh_actor.values(), camera=camera)\n"
   ]
  },
  {
   "cell_type": "code",
   "execution_count": 18,
   "id": "a3bf6fb2",
   "metadata": {},
   "outputs": [
    {
     "name": "stdout",
     "output_type": "stream",
     "text": [
      "setting up renderer\n",
      "done setting up\n",
      "actors added\n",
      "camera set\n",
      "render done\n",
      "finalizing..\n"
     ]
    },
    {
     "data": {
      "text/plain": [
       "<vtkmodules.vtkRenderingOpenGL2.vtkOpenGLRenderer(0x0000024FA3C766C0) at 0x0000024FB5892A08>"
      ]
     },
     "execution_count": 18,
     "metadata": {},
     "output_type": "execute_result"
    }
   ],
   "source": [
    "# Render vasculature and all cells, using random cell colors and a range of cell opacities\n",
    "\n",
    "# Define colors and opacities for vasc_list\n",
    "vasc_color = [0.5, 0.0, 0.0]  # Dark red\n",
    "vasc_opac = 0.025\n",
    "\n",
    "# Creating mesh actors with specified colors and opacities without modifying the mesh_dictionary\n",
    "mesh_actor = {}\n",
    "centroids = []\n",
    "\n",
    "for cellid in cell_list:\n",
    "    cell_key = 'cell_' + str(cellid)\n",
    "    if cell_key in mesh_dictionary:\n",
    "        # Randomize cell_color and cell_opac for each mesh\n",
    "        cell_color = np.random.random(size=3)  # Random color\n",
    "        cell_opac = np.random.uniform(0.1, 0.25)  # Random opacity between 0.005 and 0.05\n",
    "        mesh_actor[cell_key] = trimesh_vtk.mesh_actor(\n",
    "            mesh_dictionary[cell_key], \n",
    "            opacity=cell_opac, \n",
    "            color=cell_color\n",
    "        )\n",
    "        centroids.append(mesh_dictionary[cell_key].centroid)\n",
    "\n",
    "for cellid in vasc_list:\n",
    "    cell_key = 'vasc_' + str(cellid)\n",
    "    if cell_key in mesh_dictionary:\n",
    "        mesh_actor[cell_key] = trimesh_vtk.mesh_actor(\n",
    "            mesh_dictionary[cell_key], \n",
    "            opacity=vasc_opac, \n",
    "            color=vasc_color\n",
    "        )\n",
    "        centroids.append(mesh_dictionary[cell_key].centroid)\n",
    "\n",
    "locals().update(mesh_actor)\n",
    "\n",
    "# Calculate the overall centroid\n",
    "if centroids:\n",
    "    overall_centroid = np.mean(centroids, axis=0)\n",
    "else:\n",
    "    overall_centroid = np.array([0, 0, 0])  # Fallback if no centroids are found\n",
    "\n",
    "# Creating a camera object and defining the view\n",
    "camera = trimesh_vtk.oriented_camera(overall_centroid, backoff=400)\n",
    "\n",
    "# Render the actors, will open a pop-up Python window\n",
    "trimesh_vtk.render_actors(mesh_actor.values(), camera=camera)\n"
   ]
  },
  {
   "cell_type": "code",
   "execution_count": 19,
   "id": "5d449d4d",
   "metadata": {},
   "outputs": [
    {
     "name": "stdout",
     "output_type": "stream",
     "text": [
      "setting up renderer\n",
      "done setting up\n",
      "actors added\n",
      "camera set\n",
      "render done\n",
      "finalizing..\n"
     ]
    },
    {
     "data": {
      "text/plain": [
       "<vtkmodules.vtkRenderingOpenGL2.vtkOpenGLRenderer(0x0000024FA3C7A5E0) at 0x0000024FB58919A8>"
      ]
     },
     "execution_count": 19,
     "metadata": {},
     "output_type": "execute_result"
    }
   ],
   "source": [
    "# Render one cell and all the vasculature \n",
    "\n",
    "# Define colors and opacities for vasc_list\n",
    "vasc_color = [0.5, 0.0, 0.0]  # Dark red\n",
    "vasc_opac = 0.025\n",
    "\n",
    "# Define the specific cell cell ID and its properties\n",
    "specific_cell_id = cell_list[0]\n",
    "cell_color = np.random.random(size=3)  # Random color\n",
    "cell_opac = 0.25\n",
    "\n",
    "# Creating mesh actors with specified colors and opacities without modifying the mesh_dictionary\n",
    "mesh_actor = {}\n",
    "centroids = []\n",
    "\n",
    "# Add the specific cell mesh\n",
    "cell_key = 'cell_' + str(specific_cell_id)\n",
    "if cell_key in mesh_dictionary:\n",
    "    mesh_actor[cell_key] = trimesh_vtk.mesh_actor(\n",
    "        mesh_dictionary[cell_key], \n",
    "        opacity=cell_opac, \n",
    "        color=cell_color\n",
    "    )\n",
    "    # Use the centroid of this specific cell mesh for the camera\n",
    "    overall_centroid = mesh_dictionary[cell_key].centroid\n",
    "\n",
    "# Add all the vasc meshes\n",
    "for cellid in vasc_list:\n",
    "    cell_key = 'vasc_' + str(cellid)\n",
    "    if cell_key in mesh_dictionary:\n",
    "        mesh_actor[cell_key] = trimesh_vtk.mesh_actor(\n",
    "            mesh_dictionary[cell_key], \n",
    "            opacity=vasc_opac, \n",
    "            color=vasc_color\n",
    "        )\n",
    "        centroids.append(mesh_dictionary[cell_key].centroid)\n",
    "\n",
    "locals().update(mesh_actor)\n",
    "\n",
    "# Creating a camera object and defining the view\n",
    "camera = trimesh_vtk.oriented_camera(overall_centroid, backoff=150)\n",
    "\n",
    "# Render the actors, will open a pop-up Python window\n",
    "trimesh_vtk.render_actors(mesh_actor.values(), camera=camera)\n"
   ]
  },
  {
   "cell_type": "code",
   "execution_count": 20,
   "id": "55387d8e",
   "metadata": {},
   "outputs": [
    {
     "name": "stdout",
     "output_type": "stream",
     "text": [
      "setting up renderer\n",
      "done setting up\n",
      "actors added\n",
      "camera set\n",
      "render done\n",
      "finalizing..\n"
     ]
    },
    {
     "data": {
      "text/plain": [
       "<vtkmodules.vtkRenderingOpenGL2.vtkOpenGLRenderer(0x0000024FA3C78CA0) at 0x0000024FB587C3A8>"
      ]
     },
     "execution_count": 20,
     "metadata": {},
     "output_type": "execute_result"
    }
   ],
   "source": [
    "# Render the vasc and one cell by querying the cell list\n",
    "\n",
    "# Define colors and opacities for vasc_list\n",
    "vasc_color = [0.5, 0.0, 0.0]  # Dark red\n",
    "vasc_opac = 0.025\n",
    "\n",
    "# User sets the index value\n",
    "indx = 1  # Modify this index value as needed\n",
    "\n",
    "# Get the specific cell ID from the cell_list\n",
    "specific_cell_id = cell_list[indx]\n",
    "\n",
    "# Define the specific cell cell properties\n",
    "cell_color = np.random.random(size=3)  # Random color\n",
    "cell_opac = 0.25\n",
    "\n",
    "# Creating mesh actors with specified colors and opacities without modifying the mesh_dictionary\n",
    "mesh_actor = {}\n",
    "centroids = []\n",
    "\n",
    "# Add the specific cell mesh\n",
    "cell_key = 'cell_' + str(specific_cell_id)\n",
    "if cell_key in mesh_dictionary:\n",
    "    mesh_actor[cell_key] = trimesh_vtk.mesh_actor(\n",
    "        mesh_dictionary[cell_key], \n",
    "        opacity=cell_opac, \n",
    "        color=cell_color\n",
    "    )\n",
    "    # Use the centroid of this specific cell mesh for the camera\n",
    "    overall_centroid = mesh_dictionary[cell_key].centroid\n",
    "\n",
    "# Add all the vasc meshes\n",
    "for cellid in vasc_list:\n",
    "    cell_key = 'vasc_' + str(cellid)\n",
    "    if cell_key in mesh_dictionary:\n",
    "        mesh_actor[cell_key] = trimesh_vtk.mesh_actor(\n",
    "            mesh_dictionary[cell_key], \n",
    "            opacity=vasc_opac, \n",
    "            color=vasc_color\n",
    "        )\n",
    "        centroids.append(mesh_dictionary[cell_key].centroid)\n",
    "\n",
    "locals().update(mesh_actor)\n",
    "\n",
    "# Creating a camera object and defining the view\n",
    "camera = trimesh_vtk.oriented_camera(overall_centroid, backoff=150)\n",
    "\n",
    "# Render the actors, will open a pop-up Python window\n",
    "trimesh_vtk.render_actors(mesh_actor.values(), camera=camera)\n"
   ]
  },
  {
   "cell_type": "markdown",
   "id": "ab6a8b0b",
   "metadata": {},
   "source": [
    "# render decimated mitochondria meshes"
   ]
  },
  {
   "cell_type": "code",
   "execution_count": 21,
   "id": "4f9d225c",
   "metadata": {},
   "outputs": [
    {
     "name": "stdout",
     "output_type": "stream",
     "text": [
      "setting up renderer\n",
      "done setting up\n",
      "actors added\n",
      "camera set\n",
      "render done\n",
      "finalizing..\n"
     ]
    },
    {
     "data": {
      "text/plain": [
       "<vtkmodules.vtkRenderingOpenGL2.vtkOpenGLRenderer(0x0000025007A8FFE0) at 0x0000024FB5895108>"
      ]
     },
     "execution_count": 21,
     "metadata": {},
     "output_type": "execute_result"
    }
   ],
   "source": [
    "# Render vasc with all cell mitochondria\n",
    "# cell cell bodies commented out\n",
    "# even so, vtk view is heavily bogged down \n",
    "\n",
    "# Define colors and opacities\n",
    "cell_color = [0.5, 0.5, 0.5]  # Neutral gray\n",
    "cell_opac = 0.05\n",
    "\n",
    "vasc_color = [0.5, 0.0, 0.0]  # Dark red\n",
    "vasc_opac = 0.01\n",
    "\n",
    "mito_opac = 0.75\n",
    "\n",
    "# Creating mesh actors with specified colors and opacities without modifying the mesh_dictionary\n",
    "mesh_actor = {}\n",
    "centroids = []\n",
    "\n",
    "# uncomment to render cell bodies\n",
    "for cellid in cell_list:\n",
    "    cell_key = 'cell_' + str(cellid)\n",
    "    if cell_key in mesh_dictionary:\n",
    "        mesh_actor[cell_key] = trimesh_vtk.mesh_actor(\n",
    "            mesh_dictionary[cell_key], \n",
    "            opacity=cell_opac, \n",
    "            color=cell_color\n",
    "        )\n",
    "        centroids.append(mesh_dictionary[cell_key].centroid)\n",
    "\n",
    "for cellid in vasc_list:\n",
    "    cell_key = 'vasc_' + str(cellid)\n",
    "    if cell_key in mesh_dictionary:\n",
    "        mesh_actor[cell_key] = trimesh_vtk.mesh_actor(\n",
    "            mesh_dictionary[cell_key], \n",
    "            opacity=vasc_opac, \n",
    "            color=vasc_color\n",
    "        )\n",
    "        centroids.append(mesh_dictionary[cell_key].centroid)\n",
    "\n",
    "# Creating a new dictionary to hold the mito mesh actors\n",
    "mito_mesh_actor = {}\n",
    "\n",
    "# Randomly assign colors to each group of cell meshes and add them to the actors\n",
    "for cell_key, nested_dict in trimesh_dictionary_by_cell.items():\n",
    "    # Generate a random color for this group of cell meshes\n",
    "    cell_random_color = [random.random(), random.random(), random.random()]\n",
    "    \n",
    "    for mitoid, mito_mesh in nested_dict.items():\n",
    "        # Define the key for the mesh actor\n",
    "        actor_key = f'{cell_key}_trimesh_mito_{mitoid}'\n",
    "        \n",
    "        # Check if the loaded object is a Scene\n",
    "        if isinstance(mito_mesh, trimesh.Scene):\n",
    "            # Extract geometries from the Scene\n",
    "            for name, geom in mito_mesh.geometry.items():\n",
    "                mito_mesh = geom\n",
    "                # Create the mesh actor with the random color and opacity\n",
    "                mito_mesh_actor[actor_key] = trimesh_vtk.mesh_actor(\n",
    "                    mito_mesh, \n",
    "                    opacity=mito_opac, \n",
    "                    color=cell_random_color\n",
    "                )\n",
    "                centroids.append(mito_mesh.centroid)\n",
    "        else:\n",
    "            # Create the mesh actor with the random color and opacity\n",
    "            mito_mesh_actor[actor_key] = trimesh_vtk.mesh_actor(\n",
    "                mito_mesh, \n",
    "                opacity=mito_opac, \n",
    "                color=cell_random_color\n",
    "            )\n",
    "            centroids.append(mito_mesh.centroid)\n",
    "\n",
    "# Merge the mito mesh actors into the main mesh_actor dictionary\n",
    "mesh_actor.update(mito_mesh_actor)\n",
    "\n",
    "locals().update(mesh_actor)\n",
    "\n",
    "# Calculate the overall centroid\n",
    "if centroids:\n",
    "    overall_centroid = np.mean(centroids, axis=0)\n",
    "else:\n",
    "    overall_centroid = np.array([0, 0, 0])  # Fallback if no centroids are found\n",
    "\n",
    "# Creating a camera object and defining the view\n",
    "camera = trimesh_vtk.oriented_camera(overall_centroid, backoff=300)\n",
    "\n",
    "# Render the actors, will open a pop-up Python window\n",
    "trimesh_vtk.render_actors(mesh_actor.values(), camera=camera)\n"
   ]
  },
  {
   "cell_type": "code",
   "execution_count": 22,
   "id": "616f3b9b",
   "metadata": {},
   "outputs": [],
   "source": [
    "# save image to disk\n",
    "\n",
    "import datetime\n",
    "\n",
    "save_dir = 'vtk_images/'\n",
    "base_name = 'all_cell_mito_with_vasc'\n",
    "extension = 'png'\n",
    "\n",
    "date_time_stamp = datetime.datetime.now().strftime(\"%Y_%m_%d_%H%M_%S\")\n",
    "filename = f\"{save_dir}{base_name}_{date_time_stamp}.{extension}\"\n",
    "\n",
    "# uncomment to save\n",
    "\n",
    "# camera = trimesh_vtk.oriented_camera(overall_centroid, backoff=300) # 400 default\n",
    "# trimesh_vtk.render_actors(mesh_actor.values(),\n",
    "#                           filename=filename,\n",
    "#                           do_save=True,\n",
    "#                           scale=6,\n",
    "#                           camera=camera\n",
    "#                          )"
   ]
  },
  {
   "cell_type": "code",
   "execution_count": 23,
   "id": "1b1a4c5d",
   "metadata": {},
   "outputs": [
    {
     "name": "stdout",
     "output_type": "stream",
     "text": [
      "Index: 1, Specific cell ID: 648518346349538440\n",
      "setting up renderer\n",
      "done setting up\n",
      "actors added\n",
      "camera set\n",
      "render done\n",
      "finalizing..\n"
     ]
    },
    {
     "data": {
      "text/plain": [
       "<vtkmodules.vtkRenderingOpenGL2.vtkOpenGLRenderer(0x0000025007A97E20) at 0x0000024F822A7BE8>"
      ]
     },
     "execution_count": 23,
     "metadata": {},
     "output_type": "execute_result"
    }
   ],
   "source": [
    "# render vasc and one queried cell with all its mitochondria\n",
    "\n",
    "# Define colors and opacities for vasc_list\n",
    "vasc_color = [0.5, 0.0, 0.0]  # Dark red\n",
    "vasc_opac = 0.025\n",
    "\n",
    "# Define the mito opacity\n",
    "mito_opac = 0.75\n",
    "\n",
    "# User sets the index value\n",
    "indx = 1  # Modify this index value as needed\n",
    "\n",
    "# Get the specific cell ID from the cell_list\n",
    "specific_cell_id = cell_list[indx]\n",
    "print(f\"Index: {indx}, Specific cell ID: {specific_cell_id}\")  # Debug statement\n",
    "\n",
    "# Define the specific cell cell properties\n",
    "cell_color = np.random.random(size=3)  # Random color\n",
    "cell_opac = 0.2\n",
    "\n",
    "# Creating mesh actors with specified colors and opacities without modifying the mesh_dictionary\n",
    "mesh_actor = {}\n",
    "centroids = []\n",
    "\n",
    "# Add the specific cell mesh\n",
    "cell_key = 'cell_' + str(specific_cell_id)\n",
    "if cell_key in mesh_dictionary:\n",
    "    mesh_actor[cell_key] = trimesh_vtk.mesh_actor(\n",
    "        mesh_dictionary[cell_key], \n",
    "        opacity=cell_opac, \n",
    "        color=cell_color\n",
    "    )\n",
    "    # Use the centroid of this specific cell mesh for the camera\n",
    "    overall_centroid = mesh_dictionary[cell_key].centroid\n",
    "\n",
    "# Add all the vasc meshes\n",
    "for cellid in vasc_list:\n",
    "    cell_key = 'vasc_' + str(cellid)\n",
    "    if cell_key in mesh_dictionary:\n",
    "        mesh_actor[cell_key] = trimesh_vtk.mesh_actor(\n",
    "            mesh_dictionary[cell_key], \n",
    "            opacity=vasc_opac, \n",
    "            color=vasc_color\n",
    "        )\n",
    "        centroids.append(mesh_dictionary[cell_key].centroid)\n",
    "\n",
    "# Creating a new dictionary to hold the mito mesh actors\n",
    "mito_mesh_actor = {}\n",
    "\n",
    "# Randomly assign colors to each group of cell meshes and add them to the actors\n",
    "cell_key = f'cell_{specific_cell_id}'\n",
    "if cell_key in trimesh_dictionary_by_cell:\n",
    "    for mitoid, mito_mesh in trimesh_dictionary_by_cell[cell_key].items():\n",
    "        # Generate a random color for this group of cell meshes\n",
    "        cell_random_color = [random.random(), random.random(), random.random()]\n",
    "        \n",
    "        # Define the key for the mesh actor\n",
    "        actor_key = f'{cell_key}_trimesh_mito_{mitoid}'\n",
    "        \n",
    "        # Check if the loaded object is a Scene\n",
    "        if isinstance(mito_mesh, trimesh.Scene):\n",
    "            # Extract geometries from the Scene\n",
    "            for name, geom in mito_mesh.geometry.items():\n",
    "                mito_mesh = geom\n",
    "                # Create the mesh actor with the random color and opacity\n",
    "                mito_mesh_actor[actor_key] = trimesh_vtk.mesh_actor(\n",
    "                    mito_mesh, \n",
    "                    opacity=mito_opac, \n",
    "                    color=cell_random_color\n",
    "                )\n",
    "                centroids.append(mito_mesh.centroid)\n",
    "        else:\n",
    "            # Create the mesh actor with the random color and opacity\n",
    "            mito_mesh_actor[actor_key] = trimesh_vtk.mesh_actor(\n",
    "                mito_mesh, \n",
    "                opacity=mito_opac, \n",
    "                color=cell_random_color\n",
    "            )\n",
    "            centroids.append(mito_mesh.centroid)\n",
    "\n",
    "# Merge the mito mesh actors into the main mesh_actor dictionary\n",
    "mesh_actor.update(mito_mesh_actor)\n",
    "\n",
    "locals().update(mesh_actor)\n",
    "\n",
    "# Creating a camera object and defining the view\n",
    "camera = trimesh_vtk.oriented_camera(overall_centroid, backoff=150)\n",
    "\n",
    "# Render the actors, will open a pop-up Python window\n",
    "trimesh_vtk.render_actors(mesh_actor.values(), camera=camera)\n"
   ]
  },
  {
   "cell_type": "code",
   "execution_count": 24,
   "id": "3cd6065e",
   "metadata": {},
   "outputs": [],
   "source": [
    "# save image to disk\n",
    "\n",
    "import datetime\n",
    "\n",
    "save_dir = 'vtk_images/'\n",
    "base_name = f\"cell_{specific_cell_id}_mito_with_vasc\"\n",
    "extension = 'png'\n",
    "\n",
    "date_time_stamp = datetime.datetime.now().strftime(\"%Y_%m_%d_%H%M_%S\")\n",
    "filename = f\"{save_dir}{base_name}_{date_time_stamp}.{extension}\"\n",
    "\n",
    "# uncomment to save\n",
    "\n",
    "# camera = trimesh_vtk.oriented_camera(overall_centroid, backoff=150) # 150 default\n",
    "# trimesh_vtk.render_actors(mesh_actor.values(),\n",
    "#                           filename=filename,\n",
    "#                           do_save=True,\n",
    "#                           scale=6,\n",
    "#                           camera=camera\n",
    "#                          )"
   ]
  },
  {
   "cell_type": "code",
   "execution_count": null,
   "id": "87545bed",
   "metadata": {},
   "outputs": [],
   "source": []
  }
 ],
 "metadata": {
  "kernelspec": {
   "display_name": "Python 3 (ipykernel)",
   "language": "python",
   "name": "python3"
  },
  "language_info": {
   "codemirror_mode": {
    "name": "ipython",
    "version": 3
   },
   "file_extension": ".py",
   "mimetype": "text/x-python",
   "name": "python",
   "nbconvert_exporter": "python",
   "pygments_lexer": "ipython3",
   "version": "3.7.12"
  }
 },
 "nbformat": 4,
 "nbformat_minor": 5
}
