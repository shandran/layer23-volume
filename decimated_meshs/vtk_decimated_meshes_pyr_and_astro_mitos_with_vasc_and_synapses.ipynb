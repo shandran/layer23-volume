{
 "cells": [
  {
   "cell_type": "code",
   "execution_count": 1,
   "id": "cb6436a0",
   "metadata": {},
   "outputs": [],
   "source": [
    "import pandas as pd\n",
    "import numpy as np\n",
    "import os\n",
    "import trimesh\n",
    "from meshparty import trimesh_io, trimesh_vtk, skeleton, utils\n",
    "import vtk\n",
    "import random"
   ]
  },
  {
   "cell_type": "code",
   "execution_count": 2,
   "id": "4bbaf06a",
   "metadata": {},
   "outputs": [],
   "source": [
    "pd.set_option('display.max_columns', None)"
   ]
  },
  {
   "cell_type": "code",
   "execution_count": 3,
   "id": "7ac2ec0c",
   "metadata": {},
   "outputs": [
    {
     "data": {
      "text/plain": [
       "3"
      ]
     },
     "execution_count": 3,
     "metadata": {},
     "output_type": "execute_result"
    }
   ],
   "source": [
    "# Load cellids into a list\n",
    "\n",
    "cell_list = [648518346349527319, 648518346349530724, 648518346349537426] # 648518346349538286] #[648518346349538440, 648518346349524070, 648518346349490239, 648518346349525715, 648518346349498574, 648518346349536799]\n",
    "len(cell_list)"
   ]
  },
  {
   "cell_type": "code",
   "execution_count": 4,
   "id": "4a76e9df",
   "metadata": {},
   "outputs": [
    {
     "data": {
      "text/plain": [
       "72"
      ]
     },
     "execution_count": 4,
     "metadata": {},
     "output_type": "execute_result"
    }
   ],
   "source": [
    "# create vasculature list\n",
    "\n",
    "celltypes = pd.read_csv(\"data/220309_cell_type_classification.csv\", index_col=[0])\n",
    "vasc = celltypes[celltypes.cell_type == 'vasculature']\n",
    "vasc_list = vasc.cell_segid.to_list()\n",
    "len(vasc_list)"
   ]
  },
  {
   "cell_type": "code",
   "execution_count": 5,
   "id": "3cb2d02c",
   "metadata": {},
   "outputs": [
    {
     "name": "stdout",
     "output_type": "stream",
     "text": [
      "index 0: astrocyte\n",
      "index 1: microglia\n",
      "index 2: pyramidal cell\n"
     ]
    }
   ],
   "source": [
    "# Iterate over the cell_list and print the corresponding cell_subtype\n",
    "for i, cell_id in enumerate(cell_list):\n",
    "    # Query the cell_subtype for the given cell_id\n",
    "    cell_subtype = celltypes.loc[celltypes['cell_segid'] == cell_id, 'cell_subtype'].values\n",
    "    if len(cell_subtype) > 0:\n",
    "        print(f\"index {i}: {cell_subtype[0]}\")\n",
    "    else:\n",
    "        print(f\"index {i}: ID {cell_id} not found in celltypes dataframe\")\n"
   ]
  },
  {
   "cell_type": "code",
   "execution_count": 6,
   "id": "8671d2c9",
   "metadata": {},
   "outputs": [
    {
     "data": {
      "text/html": [
       "<div>\n",
       "<style scoped>\n",
       "    .dataframe tbody tr th:only-of-type {\n",
       "        vertical-align: middle;\n",
       "    }\n",
       "\n",
       "    .dataframe tbody tr th {\n",
       "        vertical-align: top;\n",
       "    }\n",
       "\n",
       "    .dataframe thead th {\n",
       "        text-align: right;\n",
       "    }\n",
       "</style>\n",
       "<table border=\"1\" class=\"dataframe\">\n",
       "  <thead>\n",
       "    <tr style=\"text-align: right;\">\n",
       "      <th></th>\n",
       "      <th>mito_id</th>\n",
       "      <th>mito_vx</th>\n",
       "      <th>ctr_pos_x_vx</th>\n",
       "      <th>ctr_pos_y_vx</th>\n",
       "      <th>ctr_pos_z_vx</th>\n",
       "      <th>bbox_beg_x_vx</th>\n",
       "      <th>bbox_beg_y_vx</th>\n",
       "      <th>bbox_beg_z_vx</th>\n",
       "      <th>bbox_end_x_vx</th>\n",
       "      <th>bbox_end_y_vx</th>\n",
       "      <th>bbox_end_z_vx</th>\n",
       "      <th>cellid</th>\n",
       "      <th>ctr_pos_x_nm</th>\n",
       "      <th>ctr_pos_y_nm</th>\n",
       "      <th>ctr_pos_z_nm</th>\n",
       "    </tr>\n",
       "  </thead>\n",
       "  <tbody>\n",
       "    <tr>\n",
       "      <th>0</th>\n",
       "      <td>3384540</td>\n",
       "      <td>5916</td>\n",
       "      <td>103764</td>\n",
       "      <td>47040</td>\n",
       "      <td>103</td>\n",
       "      <td>103734</td>\n",
       "      <td>47016</td>\n",
       "      <td>102</td>\n",
       "      <td>103798</td>\n",
       "      <td>47066</td>\n",
       "      <td>107</td>\n",
       "      <td>648518346348124201</td>\n",
       "      <td>371475.12</td>\n",
       "      <td>168403.20</td>\n",
       "      <td>4120</td>\n",
       "    </tr>\n",
       "    <tr>\n",
       "      <th>1</th>\n",
       "      <td>2526419</td>\n",
       "      <td>1075376</td>\n",
       "      <td>87582</td>\n",
       "      <td>60964</td>\n",
       "      <td>1435</td>\n",
       "      <td>87204</td>\n",
       "      <td>59752</td>\n",
       "      <td>1215</td>\n",
       "      <td>87992</td>\n",
       "      <td>62504</td>\n",
       "      <td>1609</td>\n",
       "      <td>648518346346303282</td>\n",
       "      <td>313543.56</td>\n",
       "      <td>218251.12</td>\n",
       "      <td>57400</td>\n",
       "    </tr>\n",
       "    <tr>\n",
       "      <th>2</th>\n",
       "      <td>1379480</td>\n",
       "      <td>483500</td>\n",
       "      <td>65740</td>\n",
       "      <td>73550</td>\n",
       "      <td>392</td>\n",
       "      <td>65556</td>\n",
       "      <td>73322</td>\n",
       "      <td>292</td>\n",
       "      <td>65976</td>\n",
       "      <td>73880</td>\n",
       "      <td>509</td>\n",
       "      <td>648518346341355778</td>\n",
       "      <td>235349.20</td>\n",
       "      <td>263309.00</td>\n",
       "      <td>15680</td>\n",
       "    </tr>\n",
       "    <tr>\n",
       "      <th>3</th>\n",
       "      <td>3380073</td>\n",
       "      <td>23140</td>\n",
       "      <td>103750</td>\n",
       "      <td>46904</td>\n",
       "      <td>176</td>\n",
       "      <td>103704</td>\n",
       "      <td>46862</td>\n",
       "      <td>173</td>\n",
       "      <td>103812</td>\n",
       "      <td>46946</td>\n",
       "      <td>181</td>\n",
       "      <td>648518346348124771</td>\n",
       "      <td>371425.00</td>\n",
       "      <td>167916.32</td>\n",
       "      <td>7040</td>\n",
       "    </tr>\n",
       "    <tr>\n",
       "      <th>4</th>\n",
       "      <td>1783610</td>\n",
       "      <td>11996</td>\n",
       "      <td>75124</td>\n",
       "      <td>43042</td>\n",
       "      <td>2100</td>\n",
       "      <td>75088</td>\n",
       "      <td>43008</td>\n",
       "      <td>2097</td>\n",
       "      <td>75164</td>\n",
       "      <td>43086</td>\n",
       "      <td>2103</td>\n",
       "      <td>648518346342925287</td>\n",
       "      <td>268943.92</td>\n",
       "      <td>154090.36</td>\n",
       "      <td>84000</td>\n",
       "    </tr>\n",
       "  </tbody>\n",
       "</table>\n",
       "</div>"
      ],
      "text/plain": [
       "   mito_id  mito_vx  ctr_pos_x_vx  ctr_pos_y_vx  ctr_pos_z_vx  bbox_beg_x_vx  \\\n",
       "0  3384540     5916        103764         47040           103         103734   \n",
       "1  2526419  1075376         87582         60964          1435          87204   \n",
       "2  1379480   483500         65740         73550           392          65556   \n",
       "3  3380073    23140        103750         46904           176         103704   \n",
       "4  1783610    11996         75124         43042          2100          75088   \n",
       "\n",
       "   bbox_beg_y_vx  bbox_beg_z_vx  bbox_end_x_vx  bbox_end_y_vx  bbox_end_z_vx  \\\n",
       "0          47016            102         103798          47066            107   \n",
       "1          59752           1215          87992          62504           1609   \n",
       "2          73322            292          65976          73880            509   \n",
       "3          46862            173         103812          46946            181   \n",
       "4          43008           2097          75164          43086           2103   \n",
       "\n",
       "               cellid  ctr_pos_x_nm  ctr_pos_y_nm  ctr_pos_z_nm  \n",
       "0  648518346348124201     371475.12     168403.20          4120  \n",
       "1  648518346346303282     313543.56     218251.12         57400  \n",
       "2  648518346341355778     235349.20     263309.00         15680  \n",
       "3  648518346348124771     371425.00     167916.32          7040  \n",
       "4  648518346342925287     268943.92     154090.36         84000  "
      ]
     },
     "execution_count": 6,
     "metadata": {},
     "output_type": "execute_result"
    }
   ],
   "source": [
    "# this csv file is 268 MB and too large to place on Github\n",
    "# in order to run this notebook, you must first download the file and place on your local machine in the /data folder\n",
    "# the csv file is available here: https://zenodo.org/record/5579388/files/211019_mitochondria_info.csv\n",
    "\n",
    "mito = pd.read_csv('data/211019_mitochondria_info.csv')\n",
    "mito.head()"
   ]
  },
  {
   "cell_type": "code",
   "execution_count": 7,
   "id": "22a4c1f1",
   "metadata": {},
   "outputs": [
    {
     "data": {
      "text/plain": [
       "1513"
      ]
     },
     "execution_count": 7,
     "metadata": {},
     "output_type": "execute_result"
    }
   ],
   "source": [
    "mito_list = mito[mito['cellid'].isin(cell_list)].mito_id.values.tolist()\n",
    "len(mito_list)"
   ]
  },
  {
   "cell_type": "code",
   "execution_count": 8,
   "id": "2488fb05",
   "metadata": {},
   "outputs": [],
   "source": [
    "mito_list_dictionary_by_cell = {\n",
    "    f'cell_{uid}': mito[mito.cellid == uid].mito_id.tolist()\n",
    "    for uid in cell_list\n",
    "}\n",
    "\n",
    "# print(mito_list_dictionary_by_cell)"
   ]
  },
  {
   "cell_type": "code",
   "execution_count": 9,
   "id": "40634080",
   "metadata": {},
   "outputs": [
    {
     "data": {
      "text/plain": [
       "dict"
      ]
     },
     "execution_count": 9,
     "metadata": {},
     "output_type": "execute_result"
    }
   ],
   "source": [
    "type(mito_list_dictionary_by_cell)"
   ]
  },
  {
   "cell_type": "code",
   "execution_count": 10,
   "id": "ad4d01a6",
   "metadata": {},
   "outputs": [],
   "source": [
    "mesh_dir = 'data/neuron_meshes_v185/dec/' # or change to your desired folder\n",
    "seg_source = \"precomputed://https://storage.googleapis.com/microns_public_datasets/pinky100_v185/seg\"\n",
    "mm = trimesh_io.MeshMeta(cv_path=seg_source,\n",
    "                         disk_cache_path=mesh_dir, \n",
    "                         cache_size=20)\n",
    "\n",
    "# setup the mesh meta to handle downloads and caching\n",
    "mito_mesh_dir = 'data/meshes/dec/'\n",
    "mito_source = \"precomputed://https://td.princeton.edu/sseung-archive/pinky100-mito/seg_191220\"\n",
    "mito_mm = trimesh_io.MeshMeta(cv_path=mito_source,\n",
    "                         disk_cache_path=mito_mesh_dir)"
   ]
  },
  {
   "cell_type": "code",
   "execution_count": 11,
   "id": "ba694dc0",
   "metadata": {},
   "outputs": [],
   "source": [
    "# generate trimesh objects of vascular and cell cells and place in a dictionary\n",
    "\n",
    "def update_mesh_dictionary(cell_list, mesh_dictionary, prefix, mesh_dir):\n",
    "    for cellid in cell_list:\n",
    "        mesh_file = os.path.join(mesh_dir, str(cellid) + '.ply')\n",
    "        mesh_dictionary[prefix + str(cellid)] = trimesh.load_mesh(mesh_file)\n",
    "\n",
    "# Initialize the mesh dictionary\n",
    "mesh_dictionary = {}\n",
    "\n",
    "# Update the dictionary with cell_list\n",
    "update_mesh_dictionary(cell_list, mesh_dictionary, 'cell_', mesh_dir)\n",
    "\n",
    "# Update the dictionary with vasc_list\n",
    "update_mesh_dictionary(vasc_list, mesh_dictionary, 'vasc_', mesh_dir)\n"
   ]
  },
  {
   "cell_type": "code",
   "execution_count": 12,
   "id": "e3d088dd",
   "metadata": {},
   "outputs": [
    {
     "data": {
      "text/plain": [
       "20"
      ]
     },
     "execution_count": 12,
     "metadata": {},
     "output_type": "execute_result"
    }
   ],
   "source": [
    "len(mesh_dictionary)"
   ]
  },
  {
   "cell_type": "code",
   "execution_count": 13,
   "id": "d825ab60",
   "metadata": {},
   "outputs": [],
   "source": [
    "# mito_list[:10]"
   ]
  },
  {
   "cell_type": "code",
   "execution_count": 14,
   "id": "3e8ba96f",
   "metadata": {},
   "outputs": [],
   "source": [
    "# Create the nested dictionary of decimated mito meshes\n",
    "\n",
    "trimesh_dictionary_by_cell = {}\n",
    "\n",
    "for cell_key, mito_list in mito_list_dictionary_by_cell.items():\n",
    "    # Initialize the second-level dictionary\n",
    "    nested_dict = {}\n",
    "    \n",
    "    for mitoid in mito_list:\n",
    "        # Construct the file path for the ply file\n",
    "        ply_file = os.path.join(mito_mesh_dir, str(mitoid) + '.ply')\n",
    "        \n",
    "        # Debug: Print the file path to check correctness\n",
    "        # print(f'Processing file: {ply_file}')\n",
    "        \n",
    "        # Check if the file exists and is accessible\n",
    "        if not os.path.isfile(ply_file):\n",
    "            print(f'Error: File does not exist - {ply_file}')\n",
    "            continue\n",
    "        \n",
    "        try:\n",
    "            # Load the ply file as a trimesh object\n",
    "            mito_mesh = trimesh.load_mesh(ply_file)\n",
    "            # Define the key for the second-level dictionary\n",
    "            nested_key = f'trimesh_mito_{mitoid}'\n",
    "            # Store the trimesh object in the nested dictionary\n",
    "            nested_dict[nested_key] = mito_mesh\n",
    "        except Exception as e:\n",
    "            print(f'Error processing file {ply_file}: {e}')\n",
    "    \n",
    "    # Store the nested dictionary in the first-level dictionary\n",
    "    trimesh_dictionary_by_cell[cell_key] = nested_dict\n",
    "\n",
    "# Now, trimesh_dictionary_by_cell contains the organized trimesh objects\n"
   ]
  },
  {
   "cell_type": "code",
   "execution_count": 15,
   "id": "f7dc650d",
   "metadata": {},
   "outputs": [
    {
     "data": {
      "text/plain": [
       "3"
      ]
     },
     "execution_count": 15,
     "metadata": {},
     "output_type": "execute_result"
    }
   ],
   "source": [
    "len(trimesh_dictionary_by_cell)"
   ]
  },
  {
   "cell_type": "code",
   "execution_count": 16,
   "id": "5aadc40a",
   "metadata": {},
   "outputs": [
    {
     "name": "stdout",
     "output_type": "stream",
     "text": [
      "cell_648518346349527319:\n",
      "  trimesh_mito_964170: <trimesh.Trimesh(vertices.shape=(30, 3), faces.shape=(55, 3))>\n",
      "  trimesh_mito_1083380: <trimesh.Trimesh(vertices.shape=(5638, 3), faces.shape=(11383, 3))>\n",
      "  trimesh_mito_1083414: <trimesh.Trimesh(vertices.shape=(1828, 3), faces.shape=(3774, 3))>\n",
      "  trimesh_mito_1209147: <trimesh.Trimesh(vertices.shape=(95, 3), faces.shape=(190, 3))>\n",
      "  trimesh_mito_1083417: <trimesh.Trimesh(vertices.shape=(11, 3), faces.shape=(10, 3))>\n",
      "  trimesh_mito_1074216: <trimesh.Trimesh(vertices.shape=(71, 3), faces.shape=(138, 3))>\n",
      "  trimesh_mito_1304771: <trimesh.Trimesh(vertices.shape=(5, 3), faces.shape=(6, 3))>\n",
      "  trimesh_mito_966479: <trimesh.Trimesh(vertices.shape=(344, 3), faces.shape=(692, 3))>\n",
      "  trimesh_mito_1664351: <trimesh.Trimesh(vertices.shape=(106, 3), faces.shape=(213, 3))>\n",
      "  trimesh_mito_1194458: <trimesh.Trimesh(vertices.shape=(9, 3), faces.shape=(9, 3))>\n"
     ]
    }
   ],
   "source": [
    "# Display the first 10 items in the nested dictionary\n",
    "\n",
    "item_count = 0\n",
    "for cell_key, nested_dict in trimesh_dictionary_by_cell.items():\n",
    "    print(f'{cell_key}:')\n",
    "    for nested_key, mito_mesh in nested_dict.items():\n",
    "        print(f'  {nested_key}: {mito_mesh}')\n",
    "        item_count += 1\n",
    "        if item_count >= 10:\n",
    "            break\n",
    "    if item_count >= 10:\n",
    "        break\n"
   ]
  },
  {
   "cell_type": "markdown",
   "id": "a24bdd3e",
   "metadata": {},
   "source": [
    "Render all cells with the same settings and pull the viewpoint centroid from an index in cell_list (default index [0])"
   ]
  },
  {
   "cell_type": "code",
   "execution_count": 17,
   "id": "123335ef",
   "metadata": {},
   "outputs": [
    {
     "name": "stdout",
     "output_type": "stream",
     "text": [
      "setting up renderer\n",
      "done setting up\n",
      "actors added\n",
      "camera set\n",
      "render done\n",
      "finalizing..\n"
     ]
    },
    {
     "data": {
      "text/plain": [
       "<vtkmodules.vtkRenderingOpenGL2.vtkOpenGLRenderer(0x0000023207E0F360) at 0x0000023216A91408>"
      ]
     },
     "execution_count": 17,
     "metadata": {},
     "output_type": "execute_result"
    }
   ],
   "source": [
    "# Render all cells with the same settings and pull the viewpoint centroid from an index in cell_list (default index [0])\n",
    "\n",
    "# Define colors and opacities\n",
    "cell_color = [0.5, 0.5, 0.5]  # Neutral gray\n",
    "cell_opac = 0.2\n",
    "\n",
    "vasc_color = [0.5, 0.0, 0.0]  # Dark red\n",
    "vasc_opac = 0.1\n",
    "\n",
    "mito_opac = 0.25\n",
    "\n",
    "# Creating mesh actors with specified colors and opacities without modifying the mesh_dictionary\n",
    "mesh_actor = {}\n",
    "for cellid in cell_list:\n",
    "    cell_key = 'cell_' + str(cellid)\n",
    "    if cell_key in mesh_dictionary:\n",
    "        mesh_actor[cell_key] = trimesh_vtk.mesh_actor(\n",
    "            mesh_dictionary[cell_key], \n",
    "            opacity=cell_opac, \n",
    "            color=cell_color\n",
    "        )\n",
    "\n",
    "for cellid in vasc_list:\n",
    "    cell_key = 'vasc_' + str(cellid)\n",
    "    if cell_key in mesh_dictionary:\n",
    "        mesh_actor[cell_key] = trimesh_vtk.mesh_actor(\n",
    "            mesh_dictionary[cell_key], \n",
    "            opacity=vasc_opac, \n",
    "            color=vasc_color\n",
    "        )\n",
    "\n",
    "locals().update(mesh_actor)\n",
    "\n",
    "# Creating a camera object and defining the view\n",
    "if 'cell_' + str(cell_list[0]) in mesh_dictionary:\n",
    "    camera = trimesh_vtk.oriented_camera(mesh_dictionary['cell_' + str(cell_list[0])].centroid, backoff=400)\n",
    "else:\n",
    "    print(f\"First cell key cell_{cell_list[0]} not found in mesh dictionary.\")\n",
    "\n",
    "# Render the actors, will open a pop-up Python window\n",
    "trimesh_vtk.render_actors(mesh_actor.values(), camera=camera)\n"
   ]
  },
  {
   "cell_type": "markdown",
   "id": "25bfd572",
   "metadata": {},
   "source": [
    "Render all cells with the same settings and calculate a global mean of the viewpoint centroid"
   ]
  },
  {
   "cell_type": "code",
   "execution_count": 18,
   "id": "2b87aea0",
   "metadata": {},
   "outputs": [
    {
     "name": "stdout",
     "output_type": "stream",
     "text": [
      "setting up renderer\n",
      "done setting up\n",
      "actors added\n",
      "camera set\n",
      "render done\n",
      "finalizing..\n"
     ]
    },
    {
     "data": {
      "text/plain": [
       "<vtkmodules.vtkRenderingOpenGL2.vtkOpenGLRenderer(0x0000023205EC6120) at 0x0000023216A91D68>"
      ]
     },
     "execution_count": 18,
     "metadata": {},
     "output_type": "execute_result"
    }
   ],
   "source": [
    "# Render all cells with the same settings and calculate a global mean of the viewpoint centroid\n",
    "\n",
    "# Define colors and opacities\n",
    "cell_color = [0.5, 0.5, 0.5]  # Neutral gray\n",
    "cell_opac = 0.25\n",
    "\n",
    "vasc_color = [0.5, 0.0, 0.0]  # Dark red\n",
    "vasc_opac = 0.1\n",
    "\n",
    "mito_opac = 0.25\n",
    "\n",
    "# Creating mesh actors with specified colors and opacities without modifying the mesh_dictionary\n",
    "mesh_actor = {}\n",
    "centroids = []\n",
    "\n",
    "for cellid in cell_list:\n",
    "    cell_key = 'cell_' + str(cellid)\n",
    "    if cell_key in mesh_dictionary:\n",
    "        mesh_actor[cell_key] = trimesh_vtk.mesh_actor(\n",
    "            mesh_dictionary[cell_key], \n",
    "            opacity=cell_opac, \n",
    "            color=cell_color\n",
    "        )\n",
    "        centroids.append(mesh_dictionary[cell_key].centroid)\n",
    "\n",
    "for cellid in vasc_list:\n",
    "    cell_key = 'vasc_' + str(cellid)\n",
    "    if cell_key in mesh_dictionary:\n",
    "        mesh_actor[cell_key] = trimesh_vtk.mesh_actor(\n",
    "            mesh_dictionary[cell_key], \n",
    "            opacity=vasc_opac, \n",
    "            color=vasc_color\n",
    "        )\n",
    "        centroids.append(mesh_dictionary[cell_key].centroid)\n",
    "\n",
    "locals().update(mesh_actor)\n",
    "\n",
    "# Calculate the overall centroid\n",
    "if centroids:\n",
    "    overall_centroid = np.mean(centroids, axis=0)\n",
    "else:\n",
    "    overall_centroid = np.array([0, 0, 0])  # Fallback if no centroids are found\n",
    "\n",
    "# Creating a camera object and defining the view\n",
    "camera = trimesh_vtk.oriented_camera(overall_centroid, backoff=400)\n",
    "\n",
    "# Render the actors, will open a pop-up Python window\n",
    "trimesh_vtk.render_actors(mesh_actor.values(), camera=camera)\n"
   ]
  },
  {
   "cell_type": "markdown",
   "id": "3dadd914",
   "metadata": {},
   "source": [
    "Use different opacity settings for cell in the index 0 position of the list (highlight)"
   ]
  },
  {
   "cell_type": "code",
   "execution_count": 19,
   "id": "8fba02a7",
   "metadata": {},
   "outputs": [
    {
     "name": "stdout",
     "output_type": "stream",
     "text": [
      "setting up renderer\n",
      "done setting up\n",
      "actors added\n",
      "camera set\n",
      "render done\n",
      "finalizing..\n"
     ]
    },
    {
     "data": {
      "text/plain": [
       "<vtkmodules.vtkRenderingOpenGL2.vtkOpenGLRenderer(0x0000023205EC4E30) at 0x0000023216AB9768>"
      ]
     },
     "execution_count": 19,
     "metadata": {},
     "output_type": "execute_result"
    }
   ],
   "source": [
    "# use different opacity settings for cell in the index 0 position of the list (highlight)\n",
    "\n",
    "# Define colors and opacities\n",
    "cell_color = [0.5, 0.5, 0.5]  # Neutral gray\n",
    "cell_opac = 0.05\n",
    "highlight_opac = 0.5  # Opacity for the first cell in the list\n",
    "\n",
    "vasc_color = [0.5, 0.0, 0.0]  # Dark red\n",
    "vasc_opac = 0.01\n",
    "\n",
    "mito_opac = 0.25\n",
    "\n",
    "# Creating mesh actors with specified colors and opacities without modifying the mesh_dictionary\n",
    "mesh_actor = {}\n",
    "centroids = []\n",
    "\n",
    "# Process the first cell separately with highlight_opac\n",
    "if cell_list:\n",
    "    first_cellid = cell_list[0]\n",
    "    first_cell_key = 'cell_' + str(first_cellid)\n",
    "    if first_cell_key in mesh_dictionary:\n",
    "        mesh_actor[first_cell_key] = trimesh_vtk.mesh_actor(\n",
    "            mesh_dictionary[first_cell_key], \n",
    "            opacity=highlight_opac, \n",
    "            color=cell_color\n",
    "        )\n",
    "        centroids.append(mesh_dictionary[first_cell_key].centroid)\n",
    "\n",
    "# Process the remaining cells with cell_opac\n",
    "for cellid in cell_list[1:]:\n",
    "    cell_key = 'cell_' + str(cellid)\n",
    "    if cell_key in mesh_dictionary:\n",
    "        mesh_actor[cell_key] = trimesh_vtk.mesh_actor(\n",
    "            mesh_dictionary[cell_key], \n",
    "            opacity=cell_opac, \n",
    "            color=cell_color\n",
    "        )\n",
    "        centroids.append(mesh_dictionary[cell_key].centroid)\n",
    "\n",
    "# Process the vasc_list as before\n",
    "for cellid in vasc_list:\n",
    "    cell_key = 'vasc_' + str(cellid)\n",
    "    if cell_key in mesh_dictionary:\n",
    "        mesh_actor[cell_key] = trimesh_vtk.mesh_actor(\n",
    "            mesh_dictionary[cell_key], \n",
    "            opacity=vasc_opac, \n",
    "            color=vasc_color\n",
    "        )\n",
    "        centroids.append(mesh_dictionary[cell_key].centroid)\n",
    "\n",
    "locals().update(mesh_actor)\n",
    "\n",
    "# Calculate the overall centroid\n",
    "if centroids:\n",
    "    overall_centroid = np.mean(centroids, axis=0)\n",
    "else:\n",
    "    overall_centroid = np.array([0, 0, 0])  # Fallback if no centroids are found\n",
    "\n",
    "# Creating a camera object and defining the view\n",
    "camera = trimesh_vtk.oriented_camera(overall_centroid, backoff=400)\n",
    "\n",
    "# Render the actors, will open a pop-up Python window\n",
    "trimesh_vtk.render_actors(mesh_actor.values(), camera=camera)\n"
   ]
  },
  {
   "cell_type": "markdown",
   "id": "71dea01f",
   "metadata": {},
   "source": [
    "Render vasculature and all cells, using random cell colors and a range of cell opacities"
   ]
  },
  {
   "cell_type": "code",
   "execution_count": 20,
   "id": "a3bf6fb2",
   "metadata": {},
   "outputs": [
    {
     "name": "stdout",
     "output_type": "stream",
     "text": [
      "setting up renderer\n",
      "done setting up\n",
      "actors added\n",
      "camera set\n",
      "render done\n",
      "finalizing..\n"
     ]
    },
    {
     "data": {
      "text/plain": [
       "<vtkmodules.vtkRenderingOpenGL2.vtkOpenGLRenderer(0x0000023205EC34F0) at 0x0000023216AB9468>"
      ]
     },
     "execution_count": 20,
     "metadata": {},
     "output_type": "execute_result"
    }
   ],
   "source": [
    "# Render vasculature and all cells, using random cell colors and a range of cell opacities\n",
    "\n",
    "# Define colors and opacities for vasc_list\n",
    "vasc_color = [0.5, 0.0, 0.0]  # Dark red\n",
    "vasc_opac = 0.025\n",
    "\n",
    "# Creating mesh actors with specified colors and opacities without modifying the mesh_dictionary\n",
    "mesh_actor = {}\n",
    "centroids = []\n",
    "\n",
    "for cellid in cell_list:\n",
    "    cell_key = 'cell_' + str(cellid)\n",
    "    if cell_key in mesh_dictionary:\n",
    "        # Randomize cell_color and cell_opac for each mesh\n",
    "        cell_color = np.random.random(size=3)  # Random color\n",
    "        cell_opac = np.random.uniform(0.1, 0.25)  # Random opacity between 0.005 and 0.05\n",
    "        mesh_actor[cell_key] = trimesh_vtk.mesh_actor(\n",
    "            mesh_dictionary[cell_key], \n",
    "            opacity=cell_opac, \n",
    "            color=cell_color\n",
    "        )\n",
    "        centroids.append(mesh_dictionary[cell_key].centroid)\n",
    "\n",
    "for cellid in vasc_list:\n",
    "    cell_key = 'vasc_' + str(cellid)\n",
    "    if cell_key in mesh_dictionary:\n",
    "        mesh_actor[cell_key] = trimesh_vtk.mesh_actor(\n",
    "            mesh_dictionary[cell_key], \n",
    "            opacity=vasc_opac, \n",
    "            color=vasc_color\n",
    "        )\n",
    "        centroids.append(mesh_dictionary[cell_key].centroid)\n",
    "\n",
    "locals().update(mesh_actor)\n",
    "\n",
    "# Calculate the overall centroid\n",
    "if centroids:\n",
    "    overall_centroid = np.mean(centroids, axis=0)\n",
    "else:\n",
    "    overall_centroid = np.array([0, 0, 0])  # Fallback if no centroids are found\n",
    "\n",
    "# Creating a camera object and defining the view\n",
    "camera = trimesh_vtk.oriented_camera(overall_centroid, backoff=400)\n",
    "\n",
    "# Render the actors, will open a pop-up Python window\n",
    "trimesh_vtk.render_actors(mesh_actor.values(), camera=camera)\n"
   ]
  },
  {
   "cell_type": "markdown",
   "id": "a05639e6",
   "metadata": {},
   "source": [
    "Render vasculature, a highlighted cell from index 0, and remaining cells, using random cell colors and a range of cell opacities"
   ]
  },
  {
   "cell_type": "code",
   "execution_count": 21,
   "id": "dcbf2a08",
   "metadata": {},
   "outputs": [
    {
     "name": "stdout",
     "output_type": "stream",
     "text": [
      "setting up renderer\n",
      "done setting up\n",
      "actors added\n",
      "camera set\n",
      "render done\n",
      "finalizing..\n"
     ]
    },
    {
     "data": {
      "text/plain": [
       "<vtkmodules.vtkRenderingOpenGL2.vtkOpenGLRenderer(0x0000023205EC6770) at 0x0000023216AB92E8>"
      ]
     },
     "execution_count": 21,
     "metadata": {},
     "output_type": "execute_result"
    }
   ],
   "source": [
    "# Render vasculature, a highlighted cell from index 0, and remaining cells, using random cell colors and a range of cell opacities\n",
    "\n",
    "# Define colors and opacities for vasc_list\n",
    "vasc_color = [0.5, 0.0, 0.0]  # Dark red\n",
    "vasc_opac = 0.025\n",
    "\n",
    "# Creating mesh actors with specified colors and opacities without modifying the mesh_dictionary\n",
    "mesh_actor = {}\n",
    "centroids = []\n",
    "\n",
    "# Process the first cell separately with a random color and highlight_opac\n",
    "highlight_opac = 0.025  # Opacity for the highlighted cell\n",
    "\n",
    "if cell_list:\n",
    "    first_cellid = cell_list[0]\n",
    "    first_cell_key = 'cell_' + str(first_cellid)\n",
    "    if first_cell_key in mesh_dictionary:\n",
    "        # Randomize the color for the highlighted cell\n",
    "        highlight_color = np.random.random(size=3)  # Random color\n",
    "        mesh_actor[first_cell_key] = trimesh_vtk.mesh_actor(\n",
    "            mesh_dictionary[first_cell_key], \n",
    "            opacity=highlight_opac, \n",
    "            color=highlight_color\n",
    "        )\n",
    "        centroids.append(mesh_dictionary[first_cell_key].centroid)\n",
    "\n",
    "# Process the remaining cells with random colors and opacities\n",
    "for cellid in cell_list[1:]:\n",
    "    cell_key = 'cell_' + str(cellid)\n",
    "    if cell_key in mesh_dictionary:\n",
    "        # Randomize cell_color and cell_opac for each mesh\n",
    "        cell_color = np.random.random(size=3)  # Random color\n",
    "        cell_opac = np.random.uniform(0.2, 0.5)  # Random opacity between a min and max range\n",
    "        mesh_actor[cell_key] = trimesh_vtk.mesh_actor(\n",
    "            mesh_dictionary[cell_key], \n",
    "            opacity=cell_opac, \n",
    "            color=cell_color\n",
    "        )\n",
    "        centroids.append(mesh_dictionary[cell_key].centroid)\n",
    "\n",
    "# Process the vasc_list as before\n",
    "for cellid in vasc_list:\n",
    "    cell_key = 'vasc_' + str(cellid)\n",
    "    if cell_key in mesh_dictionary:\n",
    "        mesh_actor[cell_key] = trimesh_vtk.mesh_actor(\n",
    "            mesh_dictionary[cell_key], \n",
    "            opacity=vasc_opac, \n",
    "            color=vasc_color\n",
    "        )\n",
    "        centroids.append(mesh_dictionary[cell_key].centroid)\n",
    "\n",
    "locals().update(mesh_actor)\n",
    "\n",
    "# Calculate the overall centroid\n",
    "if centroids:\n",
    "    overall_centroid = np.mean(centroids, axis=0)\n",
    "else:\n",
    "    overall_centroid = np.array([0, 0, 0])  # Fallback if no centroids are found\n",
    "\n",
    "# Creating a camera object and defining the view\n",
    "camera = trimesh_vtk.oriented_camera(overall_centroid, backoff=400)\n",
    "\n",
    "# Render the actors, will open a pop-up Python window\n",
    "trimesh_vtk.render_actors(mesh_actor.values(), camera=camera)\n"
   ]
  },
  {
   "cell_type": "markdown",
   "id": "ab6a8b0b",
   "metadata": {},
   "source": [
    "# render decimated mitochondria meshes"
   ]
  },
  {
   "cell_type": "markdown",
   "id": "2dfb438f",
   "metadata": {},
   "source": [
    "Render vasc with all cell mitochondria"
   ]
  },
  {
   "cell_type": "code",
   "execution_count": 22,
   "id": "4f9d225c",
   "metadata": {},
   "outputs": [
    {
     "name": "stdout",
     "output_type": "stream",
     "text": [
      "setting up renderer\n",
      "done setting up\n",
      "actors added\n",
      "camera set\n",
      "render done\n",
      "finalizing..\n"
     ]
    },
    {
     "data": {
      "text/plain": [
       "<vtkmodules.vtkRenderingOpenGL2.vtkOpenGLRenderer(0x000002320F8BEED0) at 0x000002327B9F73A8>"
      ]
     },
     "execution_count": 22,
     "metadata": {},
     "output_type": "execute_result"
    }
   ],
   "source": [
    "# Render vasc with all cell mitochondria\n",
    "\n",
    "# Define colors and opacities\n",
    "cell_color = [0.5, 0.5, 0.5]  # Neutral gray\n",
    "cell_opac = 0.05\n",
    "\n",
    "vasc_color = [0.5, 0.0, 0.0]  # Dark red\n",
    "vasc_opac = 0.025\n",
    "\n",
    "mito_opac = 0.5\n",
    "\n",
    "# Creating mesh actors with specified colors and opacities without modifying the mesh_dictionary\n",
    "mesh_actor = {}\n",
    "centroids = []\n",
    "\n",
    "# uncomment to render cell bodies\n",
    "for cellid in cell_list:\n",
    "    cell_key = 'cell_' + str(cellid)\n",
    "    if cell_key in mesh_dictionary:\n",
    "        mesh_actor[cell_key] = trimesh_vtk.mesh_actor(\n",
    "            mesh_dictionary[cell_key], \n",
    "            opacity=cell_opac, \n",
    "            color=cell_color\n",
    "        )\n",
    "        centroids.append(mesh_dictionary[cell_key].centroid)\n",
    "\n",
    "for cellid in vasc_list:\n",
    "    cell_key = 'vasc_' + str(cellid)\n",
    "    if cell_key in mesh_dictionary:\n",
    "        mesh_actor[cell_key] = trimesh_vtk.mesh_actor(\n",
    "            mesh_dictionary[cell_key], \n",
    "            opacity=vasc_opac, \n",
    "            color=vasc_color\n",
    "        )\n",
    "        centroids.append(mesh_dictionary[cell_key].centroid)\n",
    "\n",
    "# Creating a new dictionary to hold the mito mesh actors\n",
    "mito_mesh_actor = {}\n",
    "\n",
    "# Randomly assign colors to each group of cell meshes and add them to the actors\n",
    "for cell_key, nested_dict in trimesh_dictionary_by_cell.items():\n",
    "    # Generate a random color for this group of cell meshes\n",
    "    cell_random_color = [random.random(), random.random(), random.random()]\n",
    "    \n",
    "    for mitoid, mito_mesh in nested_dict.items():\n",
    "        # Define the key for the mesh actor\n",
    "        actor_key = f'{cell_key}_trimesh_mito_{mitoid}'\n",
    "        \n",
    "        # Check if the loaded object is a Scene\n",
    "        if isinstance(mito_mesh, trimesh.Scene):\n",
    "            # Extract geometries from the Scene\n",
    "            for name, geom in mito_mesh.geometry.items():\n",
    "                mito_mesh = geom\n",
    "                # Create the mesh actor with the random color and opacity\n",
    "                mito_mesh_actor[actor_key] = trimesh_vtk.mesh_actor(\n",
    "                    mito_mesh, \n",
    "                    opacity=mito_opac, \n",
    "                    color=cell_random_color\n",
    "                )\n",
    "                centroids.append(mito_mesh.centroid)\n",
    "        else:\n",
    "            # Create the mesh actor with the random color and opacity\n",
    "            mito_mesh_actor[actor_key] = trimesh_vtk.mesh_actor(\n",
    "                mito_mesh, \n",
    "                opacity=mito_opac, \n",
    "                color=cell_random_color\n",
    "            )\n",
    "            centroids.append(mito_mesh.centroid)\n",
    "\n",
    "# Merge the mito mesh actors into the main mesh_actor dictionary\n",
    "mesh_actor.update(mito_mesh_actor)\n",
    "\n",
    "locals().update(mesh_actor)\n",
    "\n",
    "# Calculate the overall centroid\n",
    "if centroids:\n",
    "    overall_centroid = np.mean(centroids, axis=0)\n",
    "else:\n",
    "    overall_centroid = np.array([0, 0, 0])  # Fallback if no centroids are found\n",
    "\n",
    "# Creating a camera object and defining the view\n",
    "camera = trimesh_vtk.oriented_camera(overall_centroid, backoff=300)\n",
    "\n",
    "# Render the actors, will open a pop-up Python window\n",
    "trimesh_vtk.render_actors(mesh_actor.values(), camera=camera)\n"
   ]
  },
  {
   "cell_type": "markdown",
   "id": "e133d5c4",
   "metadata": {},
   "source": [
    "Render all mito in all cells with vasc"
   ]
  },
  {
   "cell_type": "code",
   "execution_count": 23,
   "id": "8f3e7566",
   "metadata": {},
   "outputs": [
    {
     "name": "stdout",
     "output_type": "stream",
     "text": [
      "setting up renderer\n",
      "done setting up\n",
      "actors added\n",
      "camera set\n",
      "render done\n",
      "finalizing..\n"
     ]
    },
    {
     "data": {
      "text/plain": [
       "<vtkmodules.vtkRenderingOpenGL2.vtkOpenGLRenderer(0x000002320DED0930) at 0x00000232231407C8>"
      ]
     },
     "execution_count": 23,
     "metadata": {},
     "output_type": "execute_result"
    }
   ],
   "source": [
    "# render all mito in all cells with vasc\n",
    "\n",
    "# Define colors and opacities\n",
    "cell_color = [0.5, 0.5, 0.5]  # Neutral gray\n",
    "cell_opac = 0.2\n",
    "highlight_opac = 0.025  # Opacity for the highlighted cell\n",
    "\n",
    "vasc_color = [0.5, 0.0, 0.0]  # Dark red\n",
    "vasc_opac = 0\n",
    "\n",
    "mito_opac = 0.5\n",
    "\n",
    "# Creating mesh actors with specified colors and opacities without modifying the mesh_dictionary\n",
    "mesh_actor = {}\n",
    "centroids = []\n",
    "\n",
    "# Process the first cell separately with highlight_opac\n",
    "if cell_list:\n",
    "    first_cellid = cell_list[0]\n",
    "    first_cell_key = 'cell_' + str(first_cellid)\n",
    "    if first_cell_key in mesh_dictionary:\n",
    "        mesh_actor[first_cell_key] = trimesh_vtk.mesh_actor(\n",
    "            mesh_dictionary[first_cell_key], \n",
    "            opacity=highlight_opac, \n",
    "            color=cell_color\n",
    "        )\n",
    "        centroids.append(mesh_dictionary[first_cell_key].centroid)\n",
    "\n",
    "# Process the remaining cells with the standard cell_opac\n",
    "for cellid in cell_list[1:]:\n",
    "    cell_key = 'cell_' + str(cellid)\n",
    "    if cell_key in mesh_dictionary:\n",
    "        mesh_actor[cell_key] = trimesh_vtk.mesh_actor(\n",
    "            mesh_dictionary[cell_key], \n",
    "            opacity=cell_opac, \n",
    "            color=cell_color\n",
    "        )\n",
    "        centroids.append(mesh_dictionary[cell_key].centroid)\n",
    "\n",
    "# Process the vasculature list\n",
    "for cellid in vasc_list:\n",
    "    cell_key = 'vasc_' + str(cellid)\n",
    "    if cell_key in mesh_dictionary:\n",
    "        mesh_actor[cell_key] = trimesh_vtk.mesh_actor(\n",
    "            mesh_dictionary[cell_key], \n",
    "            opacity=vasc_opac, \n",
    "            color=vasc_color\n",
    "        )\n",
    "        centroids.append(mesh_dictionary[cell_key].centroid)\n",
    "\n",
    "# Creating a new dictionary to hold the mito mesh actors\n",
    "mito_mesh_actor = {}\n",
    "\n",
    "# Randomly assign colors to each group of cell meshes and add them to the actors\n",
    "for cell_key, nested_dict in trimesh_dictionary_by_cell.items():\n",
    "    # Generate a random color for this group of cell meshes\n",
    "    cell_random_color = [random.random(), random.random(), random.random()]\n",
    "    \n",
    "    for mitoid, mito_mesh in nested_dict.items():\n",
    "        # Define the key for the mesh actor\n",
    "        actor_key = f'{cell_key}_trimesh_mito_{mitoid}'\n",
    "        \n",
    "        # Check if the loaded object is a Scene\n",
    "        if isinstance(mito_mesh, trimesh.Scene):\n",
    "            # Extract geometries from the Scene\n",
    "            for name, geom in mito_mesh.geometry.items():\n",
    "                mito_mesh = geom\n",
    "                # Create the mesh actor with the random color and opacity\n",
    "                mito_mesh_actor[actor_key] = trimesh_vtk.mesh_actor(\n",
    "                    mito_mesh, \n",
    "                    opacity=mito_opac, \n",
    "                    color=cell_random_color\n",
    "                )\n",
    "                centroids.append(mito_mesh.centroid)\n",
    "        else:\n",
    "            # Create the mesh actor with the random color and opacity\n",
    "            mito_mesh_actor[actor_key] = trimesh_vtk.mesh_actor(\n",
    "                mito_mesh, \n",
    "                opacity=mito_opac, \n",
    "                color=cell_random_color\n",
    "            )\n",
    "            centroids.append(mito_mesh.centroid)\n",
    "\n",
    "# Merge the mito mesh actors into the main mesh_actor dictionary\n",
    "mesh_actor.update(mito_mesh_actor)\n",
    "\n",
    "locals().update(mesh_actor)\n",
    "\n",
    "# Calculate the overall centroid\n",
    "if centroids:\n",
    "    overall_centroid = np.mean(centroids, axis=0)\n",
    "else:\n",
    "    overall_centroid = np.array([0, 0, 0])  # Fallback if no centroids are found\n",
    "\n",
    "# Creating a camera object and defining the view\n",
    "camera = trimesh_vtk.oriented_camera(overall_centroid, backoff=300)\n",
    "\n",
    "# Render the actors, will open a pop-up Python window\n",
    "trimesh_vtk.render_actors(mesh_actor.values(), camera=camera)\n"
   ]
  },
  {
   "cell_type": "markdown",
   "id": "5f234b46",
   "metadata": {},
   "source": [
    "Render all mitos in all cells with vasc, using separate cell and mito opacity settings for the cellid in index 0 position"
   ]
  },
  {
   "cell_type": "code",
   "execution_count": 24,
   "id": "79d9740f",
   "metadata": {},
   "outputs": [
    {
     "name": "stdout",
     "output_type": "stream",
     "text": [
      "setting up renderer\n",
      "done setting up\n",
      "actors added\n",
      "camera set\n",
      "render done\n",
      "finalizing..\n"
     ]
    },
    {
     "data": {
      "text/plain": [
       "<vtkmodules.vtkRenderingOpenGL2.vtkOpenGLRenderer(0x000002320DEE31E0) at 0x0000023223140D08>"
      ]
     },
     "execution_count": 24,
     "metadata": {},
     "output_type": "execute_result"
    }
   ],
   "source": [
    "# render all mitos in all cells with vasc, using separate cell and mito opacity settings for the cellid in index 0 position\n",
    "\n",
    "# Define colors and opacities\n",
    "cell_color = [0.5, 0.5, 0.5]  # Neutral gray\n",
    "cell_opac = 0.075\n",
    "highlight_opac = 0.001  # Opacity for the highlighted cell\n",
    "highlight_mito_opac = 0.05  # Opacity for the mitochondria of the highlighted cell\n",
    "\n",
    "vasc_color = [0.5, 0.0, 0.0]  # Dark red\n",
    "vasc_opac = 0.01\n",
    "\n",
    "mito_opac = 0.65  # Opacity for the mitochondria of the remaining cells\n",
    "\n",
    "# Creating mesh actors with specified colors and opacities without modifying the mesh_dictionary\n",
    "mesh_actor = {}\n",
    "centroids = []\n",
    "mito_mesh_actor = {}\n",
    "\n",
    "# Process the first cell separately with highlight_opac and highlight_mito_opac\n",
    "if cell_list:\n",
    "    first_cellid = cell_list[0]\n",
    "    first_cell_key = 'cell_' + str(first_cellid)\n",
    "    if first_cell_key in mesh_dictionary:\n",
    "        # Process the cell body with highlight_opac\n",
    "        mesh_actor[first_cell_key] = trimesh_vtk.mesh_actor(\n",
    "            mesh_dictionary[first_cell_key], \n",
    "            opacity=highlight_opac, \n",
    "            color=cell_color\n",
    "        )\n",
    "        centroids.append(mesh_dictionary[first_cell_key].centroid)\n",
    "    \n",
    "    # Process the mitochondria of the highlighted cell with highlight_mito_opac\n",
    "    if first_cell_key in trimesh_dictionary_by_cell:\n",
    "        for mitoid, mito_mesh in trimesh_dictionary_by_cell[first_cell_key].items():\n",
    "            actor_key = f'{first_cell_key}_trimesh_mito_{mitoid}'\n",
    "            if isinstance(mito_mesh, trimesh.Scene):\n",
    "                for name, geom in mito_mesh.geometry.items():\n",
    "                    mito_mesh = geom\n",
    "                    mito_mesh_actor[actor_key] = trimesh_vtk.mesh_actor(\n",
    "                        mito_mesh, \n",
    "                        opacity=highlight_mito_opac, \n",
    "                        color=cell_color  # Use the same cell color for the highlighted mitochondria\n",
    "                    )\n",
    "                    centroids.append(mito_mesh.centroid)\n",
    "            else:\n",
    "                mito_mesh_actor[actor_key] = trimesh_vtk.mesh_actor(\n",
    "                    mito_mesh, \n",
    "                    opacity=highlight_mito_opac, \n",
    "                    color=cell_color\n",
    "                )\n",
    "                centroids.append(mito_mesh.centroid)\n",
    "\n",
    "# Process the remaining cells with the standard cell_opac and random mito_opac and colors\n",
    "for cellid in cell_list[1:]:\n",
    "    cell_key = 'cell_' + str(cellid)\n",
    "    if cell_key in mesh_dictionary:\n",
    "        mesh_actor[cell_key] = trimesh_vtk.mesh_actor(\n",
    "            mesh_dictionary[cell_key], \n",
    "            opacity=cell_opac, \n",
    "            color=cell_color\n",
    "        )\n",
    "        centroids.append(mesh_dictionary[cell_key].centroid)\n",
    "    \n",
    "    if cell_key in trimesh_dictionary_by_cell:\n",
    "        # Generate a random color for each group of mitochondria\n",
    "        cell_random_color = [random.random(), random.random(), random.random()]\n",
    "        \n",
    "        for mitoid, mito_mesh in trimesh_dictionary_by_cell[cell_key].items():\n",
    "            actor_key = f'{cell_key}_trimesh_mito_{mitoid}'\n",
    "            if isinstance(mito_mesh, trimesh.Scene):\n",
    "                for name, geom in mito_mesh.geometry.items():\n",
    "                    mito_mesh = geom\n",
    "                    mito_mesh_actor[actor_key] = trimesh_vtk.mesh_actor(\n",
    "                        mito_mesh, \n",
    "                        opacity=mito_opac, \n",
    "                        color=cell_random_color  # Assign random color to each group of mitochondria\n",
    "                    )\n",
    "                    centroids.append(mito_mesh.centroid)\n",
    "            else:\n",
    "                mito_mesh_actor[actor_key] = trimesh_vtk.mesh_actor(\n",
    "                    mito_mesh, \n",
    "                    opacity=mito_opac, \n",
    "                    color=cell_random_color  # Assign random color to each group of mitochondria\n",
    "                )\n",
    "                centroids.append(mito_mesh.centroid)\n",
    "\n",
    "# Process the vasculature list\n",
    "for cellid in vasc_list:\n",
    "    cell_key = 'vasc_' + str(cellid)\n",
    "    if cell_key in mesh_dictionary:\n",
    "        mesh_actor[cell_key] = trimesh_vtk.mesh_actor(\n",
    "            mesh_dictionary[cell_key], \n",
    "            opacity=vasc_opac, \n",
    "            color=vasc_color\n",
    "        )\n",
    "        centroids.append(mesh_dictionary[cell_key].centroid)\n",
    "\n",
    "# Merge the mito mesh actors into the main mesh_actor dictionary\n",
    "mesh_actor.update(mito_mesh_actor)\n",
    "\n",
    "locals().update(mesh_actor)\n",
    "\n",
    "# Calculate the overall centroid\n",
    "if centroids:\n",
    "    overall_centroid = np.mean(centroids, axis=0)\n",
    "else:\n",
    "    overall_centroid = np.array([0, 0, 0])  # Fallback if no centroids are found\n",
    "\n",
    "# Creating a camera object and defining the view\n",
    "camera = trimesh_vtk.oriented_camera(overall_centroid, backoff=100)\n",
    "\n",
    "# Render the actors, will open a pop-up Python window\n",
    "trimesh_vtk.render_actors(mesh_actor.values(), camera=camera)\n"
   ]
  },
  {
   "cell_type": "markdown",
   "id": "3a8f9a81",
   "metadata": {},
   "source": [
    "Save image to disk"
   ]
  },
  {
   "cell_type": "code",
   "execution_count": 25,
   "id": "616f3b9b",
   "metadata": {},
   "outputs": [
    {
     "name": "stdout",
     "output_type": "stream",
     "text": [
      "setting up renderer\n",
      "done setting up\n",
      "actors added\n",
      "camera set\n",
      "render done\n",
      "finalizing..\n"
     ]
    },
    {
     "data": {
      "text/plain": [
       "<vtkmodules.vtkRenderingOpenGL2.vtkOpenGLRenderer(0x000002320DEE5170) at 0x00000232231404C8>"
      ]
     },
     "execution_count": 25,
     "metadata": {},
     "output_type": "execute_result"
    }
   ],
   "source": [
    "# save image to disk\n",
    "\n",
    "import datetime\n",
    "\n",
    "save_dir = 'vtk_images/'\n",
    "base_name = 'all_cell_mito_with_vasc'\n",
    "extension = 'png'\n",
    "\n",
    "date_time_stamp = datetime.datetime.now().strftime(\"%Y_%m_%d_%H%M_%S\")\n",
    "filename = f\"{save_dir}{base_name}_{date_time_stamp}.{extension}\"\n",
    "\n",
    "# uncomment to save\n",
    "\n",
    "# camera = trimesh_vtk.oriented_camera(overall_centroid, backoff=250) # 400 default\n",
    "# trimesh_vtk.render_actors(mesh_actor.values(),\n",
    "#                           filename=filename,\n",
    "#                           do_save=True,\n",
    "#                           scale=6,\n",
    "#                           camera=camera\n",
    "#                          )"
   ]
  },
  {
   "cell_type": "markdown",
   "id": "5051b583",
   "metadata": {},
   "source": [
    "# add synapses"
   ]
  },
  {
   "cell_type": "code",
   "execution_count": 26,
   "id": "6fbd396e",
   "metadata": {},
   "outputs": [
    {
     "data": {
      "text/html": [
       "<div>\n",
       "<style scoped>\n",
       "    .dataframe tbody tr th:only-of-type {\n",
       "        vertical-align: middle;\n",
       "    }\n",
       "\n",
       "    .dataframe tbody tr th {\n",
       "        vertical-align: top;\n",
       "    }\n",
       "\n",
       "    .dataframe thead th {\n",
       "        text-align: right;\n",
       "    }\n",
       "</style>\n",
       "<table border=\"1\" class=\"dataframe\">\n",
       "  <thead>\n",
       "    <tr style=\"text-align: right;\">\n",
       "      <th></th>\n",
       "      <th>id</th>\n",
       "      <th>pre_root_id</th>\n",
       "      <th>post_root_id</th>\n",
       "      <th>cleft_vx</th>\n",
       "      <th>ctr_pt_x_nm</th>\n",
       "      <th>ctr_pt_y_nm</th>\n",
       "      <th>ctr_pt_z_nm</th>\n",
       "      <th>pre_pos_x_vx</th>\n",
       "      <th>pre_pos_y_vx</th>\n",
       "      <th>pre_pos_z_vx</th>\n",
       "      <th>ctr_pos_x_vx</th>\n",
       "      <th>ctr_pos_y_vx</th>\n",
       "      <th>ctr_pos_z_vx</th>\n",
       "      <th>post_pos_x_vx</th>\n",
       "      <th>post_pos_y_vx</th>\n",
       "      <th>post_pos_z_vx</th>\n",
       "    </tr>\n",
       "  </thead>\n",
       "  <tbody>\n",
       "    <tr>\n",
       "      <th>0</th>\n",
       "      <td>2477272</td>\n",
       "      <td>648518346349538285</td>\n",
       "      <td>648518346349536759</td>\n",
       "      <td>1103</td>\n",
       "      <td>280784</td>\n",
       "      <td>261896</td>\n",
       "      <td>40600</td>\n",
       "      <td>70050</td>\n",
       "      <td>65534</td>\n",
       "      <td>1015</td>\n",
       "      <td>70196</td>\n",
       "      <td>65474</td>\n",
       "      <td>1015</td>\n",
       "      <td>70104</td>\n",
       "      <td>65602</td>\n",
       "      <td>1015</td>\n",
       "    </tr>\n",
       "    <tr>\n",
       "      <th>1</th>\n",
       "      <td>4538436</td>\n",
       "      <td>648518346342404863</td>\n",
       "      <td>648518346342414574</td>\n",
       "      <td>62</td>\n",
       "      <td>365832</td>\n",
       "      <td>292808</td>\n",
       "      <td>25800</td>\n",
       "      <td>91472</td>\n",
       "      <td>73196</td>\n",
       "      <td>645</td>\n",
       "      <td>91458</td>\n",
       "      <td>73202</td>\n",
       "      <td>645</td>\n",
       "      <td>91396</td>\n",
       "      <td>73216</td>\n",
       "      <td>645</td>\n",
       "    </tr>\n",
       "    <tr>\n",
       "      <th>2</th>\n",
       "      <td>1124039</td>\n",
       "      <td>648518346342921567</td>\n",
       "      <td>648518346345323296</td>\n",
       "      <td>62</td>\n",
       "      <td>229144</td>\n",
       "      <td>155952</td>\n",
       "      <td>48080</td>\n",
       "      <td>57250</td>\n",
       "      <td>39028</td>\n",
       "      <td>1202</td>\n",
       "      <td>57286</td>\n",
       "      <td>38988</td>\n",
       "      <td>1202</td>\n",
       "      <td>57312</td>\n",
       "      <td>38966</td>\n",
       "      <td>1203</td>\n",
       "    </tr>\n",
       "    <tr>\n",
       "      <th>3</th>\n",
       "      <td>5245264</td>\n",
       "      <td>648518346342796822</td>\n",
       "      <td>648518346349537255</td>\n",
       "      <td>955</td>\n",
       "      <td>398452</td>\n",
       "      <td>208560</td>\n",
       "      <td>50760</td>\n",
       "      <td>99538</td>\n",
       "      <td>52184</td>\n",
       "      <td>1276</td>\n",
       "      <td>99613</td>\n",
       "      <td>52140</td>\n",
       "      <td>1269</td>\n",
       "      <td>99550</td>\n",
       "      <td>52098</td>\n",
       "      <td>1276</td>\n",
       "    </tr>\n",
       "    <tr>\n",
       "      <th>4</th>\n",
       "      <td>6928613</td>\n",
       "      <td>648518346342800412</td>\n",
       "      <td>648518346348190542</td>\n",
       "      <td>718</td>\n",
       "      <td>461868</td>\n",
       "      <td>245212</td>\n",
       "      <td>53560</td>\n",
       "      <td>115462</td>\n",
       "      <td>61350</td>\n",
       "      <td>1335</td>\n",
       "      <td>115467</td>\n",
       "      <td>61303</td>\n",
       "      <td>1339</td>\n",
       "      <td>115468</td>\n",
       "      <td>61296</td>\n",
       "      <td>1335</td>\n",
       "    </tr>\n",
       "  </tbody>\n",
       "</table>\n",
       "</div>"
      ],
      "text/plain": [
       "        id         pre_root_id        post_root_id  cleft_vx  ctr_pt_x_nm  \\\n",
       "0  2477272  648518346349538285  648518346349536759      1103       280784   \n",
       "1  4538436  648518346342404863  648518346342414574        62       365832   \n",
       "2  1124039  648518346342921567  648518346345323296        62       229144   \n",
       "3  5245264  648518346342796822  648518346349537255       955       398452   \n",
       "4  6928613  648518346342800412  648518346348190542       718       461868   \n",
       "\n",
       "   ctr_pt_y_nm  ctr_pt_z_nm  pre_pos_x_vx  pre_pos_y_vx  pre_pos_z_vx  \\\n",
       "0       261896        40600         70050         65534          1015   \n",
       "1       292808        25800         91472         73196           645   \n",
       "2       155952        48080         57250         39028          1202   \n",
       "3       208560        50760         99538         52184          1276   \n",
       "4       245212        53560        115462         61350          1335   \n",
       "\n",
       "   ctr_pos_x_vx  ctr_pos_y_vx  ctr_pos_z_vx  post_pos_x_vx  post_pos_y_vx  \\\n",
       "0         70196         65474          1015          70104          65602   \n",
       "1         91458         73202           645          91396          73216   \n",
       "2         57286         38988          1202          57312          38966   \n",
       "3         99613         52140          1269          99550          52098   \n",
       "4        115467         61303          1339         115468          61296   \n",
       "\n",
       "   post_pos_z_vx  \n",
       "0           1015  \n",
       "1            645  \n",
       "2           1203  \n",
       "3           1276  \n",
       "4           1335  "
      ]
     },
     "execution_count": 26,
     "metadata": {},
     "output_type": "execute_result"
    }
   ],
   "source": [
    "syn = pd.read_csv('data/221206_pni_synapses_v185.csv')\n",
    "syn.head()"
   ]
  },
  {
   "cell_type": "code",
   "execution_count": 27,
   "id": "e01ffee1",
   "metadata": {},
   "outputs": [
    {
     "data": {
      "text/plain": [
       "648518346349537426"
      ]
     },
     "execution_count": 27,
     "metadata": {},
     "output_type": "execute_result"
    }
   ],
   "source": [
    "cell_id"
   ]
  },
  {
   "cell_type": "code",
   "execution_count": 28,
   "id": "7a3558c3",
   "metadata": {},
   "outputs": [
    {
     "data": {
      "text/plain": [
       "648518346349537426"
      ]
     },
     "execution_count": 28,
     "metadata": {},
     "output_type": "execute_result"
    }
   ],
   "source": [
    "index_num = 2\n",
    "seg_id = cell_list[index_num]\n",
    "seg_id"
   ]
  },
  {
   "cell_type": "code",
   "execution_count": 29,
   "id": "e29ca82b",
   "metadata": {},
   "outputs": [],
   "source": [
    "# filter all the pre- and post- synapses for this cell\n",
    "cell_post_subgraph = syn.query(f'post_root_id=={seg_id}') #this shows all post-syn sites on this seg_id cell\n",
    "cell_pre_subgraph = syn.query(f'pre_root_id=={seg_id}') #this one shows all pre-syn sites on the axon of seg_id cell\n",
    "\n",
    "# make an array of xyz synapse positions\n",
    "postsyn_xyz=cell_post_subgraph[['ctr_pt_x_nm', 'ctr_pt_y_nm', 'ctr_pt_z_nm']].values\n",
    "presyn_xyz=cell_pre_subgraph[['ctr_pt_x_nm', 'ctr_pt_y_nm', 'ctr_pt_z_nm']].values"
   ]
  },
  {
   "cell_type": "code",
   "execution_count": 30,
   "id": "0716c423",
   "metadata": {},
   "outputs": [
    {
     "name": "stdout",
     "output_type": "stream",
     "text": [
      "post-synaptic sites: 2109\n",
      "pre-synaptic sites: 70\n"
     ]
    }
   ],
   "source": [
    "print(f\"post-synaptic sites:\",len(postsyn_xyz))\n",
    "print(f\"pre-synaptic sites:\",len(presyn_xyz))"
   ]
  },
  {
   "cell_type": "code",
   "execution_count": 39,
   "id": "9921ef62",
   "metadata": {},
   "outputs": [
    {
     "name": "stdout",
     "output_type": "stream",
     "text": [
      "setting up renderer\n",
      "done setting up\n",
      "actors added\n",
      "camera set\n",
      "render done\n",
      "finalizing..\n"
     ]
    },
    {
     "data": {
      "text/plain": [
       "<vtkmodules.vtkRenderingOpenGL2.vtkOpenGLRenderer(0x0000023304B8E4D0) at 0x00000232438BEF48>"
      ]
     },
     "execution_count": 39,
     "metadata": {},
     "output_type": "execute_result"
    }
   ],
   "source": [
    "# render all mitos in all cells with vasc, using separate cell and mito opacity settings for the cellid in index 0 position\n",
    "# add synapses from a cell defined in the previous code block\n",
    "\n",
    "# settings to visualize pre and post synaptic sites (as dots)\n",
    "pre_color = (0.2, 0.9, 0.2)\n",
    "post_color = (0.9, 0.2, 0.2)\n",
    "pre_opac = 1\n",
    "post_opac = 1\n",
    "pre_size = 250\n",
    "post_size = 250\n",
    "presyn_actor = trimesh_vtk.point_cloud_actor(presyn_xyz, size=pre_size, opacity=pre_opac, color=pre_color)  \n",
    "postsyn_actor = trimesh_vtk.point_cloud_actor(postsyn_xyz, size=post_size, opacity=post_opac, color=post_color)\n",
    "\n",
    "# Define colors and opacities\n",
    "# cell_color = [0.5, 0.5, 0.5]  # Neutral gray # changed to random color in the code below\n",
    "cell_opac = 0.2 #0.075\n",
    "highlight_opac = 0.001  # Opacity for the highlighted cell\n",
    "highlight_mito_opac = 0.075  # Opacity for the mitochondria of the highlighted cell\n",
    "\n",
    "vasc_color = [0.5, 0.0, 0.0]  # Dark red\n",
    "vasc_opac = 0.02\n",
    "\n",
    "mito_opac = 0.65  # Opacity for the mitochondria of the remaining cells\n",
    "\n",
    "# Creating mesh actors with specified colors and opacities without modifying the mesh_dictionary\n",
    "mesh_actor = {}\n",
    "centroids = []\n",
    "mito_mesh_actor = {}\n",
    "\n",
    "# Process the first cell separately with highlight_opac and highlight_mito_opac\n",
    "if cell_list:\n",
    "    first_cellid = cell_list[0]\n",
    "    first_cell_key = 'cell_' + str(first_cellid)\n",
    "    if first_cell_key in mesh_dictionary:\n",
    "        # Process the cell body with highlight_opac\n",
    "        mesh_actor[first_cell_key] = trimesh_vtk.mesh_actor(\n",
    "            mesh_dictionary[first_cell_key], \n",
    "            opacity=highlight_opac, \n",
    "            color=cell_color\n",
    "        )\n",
    "        centroids.append(mesh_dictionary[first_cell_key].centroid)\n",
    "    \n",
    "    # Process the mitochondria of the highlighted cell with highlight_mito_opac\n",
    "    if first_cell_key in trimesh_dictionary_by_cell:\n",
    "        for mitoid, mito_mesh in trimesh_dictionary_by_cell[first_cell_key].items():\n",
    "            actor_key = f'{first_cell_key}_trimesh_mito_{mitoid}'\n",
    "            if isinstance(mito_mesh, trimesh.Scene):\n",
    "                for name, geom in mito_mesh.geometry.items():\n",
    "                    mito_mesh = geom\n",
    "                    mito_mesh_actor[actor_key] = trimesh_vtk.mesh_actor(\n",
    "                        mito_mesh, \n",
    "                        opacity=highlight_mito_opac, \n",
    "                        color=cell_color  # Use the same cell color for the highlighted mitochondria\n",
    "                    )\n",
    "                    centroids.append(mito_mesh.centroid)\n",
    "            else:\n",
    "                mito_mesh_actor[actor_key] = trimesh_vtk.mesh_actor(\n",
    "                    mito_mesh, \n",
    "                    opacity=highlight_mito_opac, \n",
    "                    color=cell_color\n",
    "                )\n",
    "                centroids.append(mito_mesh.centroid)\n",
    "\n",
    "# Process the remaining cells with the standard cell_opac and random mito_opac and colors\n",
    "for cellid in cell_list[1:]:\n",
    "    cell_key = 'cell_' + str(cellid)\n",
    "    if cell_key in mesh_dictionary:\n",
    "        mesh_actor[cell_key] = trimesh_vtk.mesh_actor(\n",
    "            mesh_dictionary[cell_key], \n",
    "            opacity=cell_opac, \n",
    "            color=[random.random(), random.random(), random.random()] #cell_color\n",
    "        )\n",
    "        centroids.append(mesh_dictionary[cell_key].centroid)\n",
    "    \n",
    "    if cell_key in trimesh_dictionary_by_cell:\n",
    "        # Generate a random color for each group of mitochondria\n",
    "        cell_random_color = [random.random(), random.random(), random.random()]\n",
    "        \n",
    "        for mitoid, mito_mesh in trimesh_dictionary_by_cell[cell_key].items():\n",
    "            actor_key = f'{cell_key}_trimesh_mito_{mitoid}'\n",
    "            if isinstance(mito_mesh, trimesh.Scene):\n",
    "                for name, geom in mito_mesh.geometry.items():\n",
    "                    mito_mesh = geom\n",
    "                    mito_mesh_actor[actor_key] = trimesh_vtk.mesh_actor(\n",
    "                        mito_mesh, \n",
    "                        opacity=mito_opac, \n",
    "                        color=cell_random_color  # Assign random color to each group of mitochondria\n",
    "                    )\n",
    "                    centroids.append(mito_mesh.centroid)\n",
    "            else:\n",
    "                mito_mesh_actor[actor_key] = trimesh_vtk.mesh_actor(\n",
    "                    mito_mesh, \n",
    "                    opacity=mito_opac, \n",
    "                    color=cell_random_color  # Assign random color to each group of mitochondria\n",
    "                )\n",
    "                centroids.append(mito_mesh.centroid)\n",
    "\n",
    "# Process the vasculature list\n",
    "for cellid in vasc_list:\n",
    "    cell_key = 'vasc_' + str(cellid)\n",
    "    if cell_key in mesh_dictionary:\n",
    "        mesh_actor[cell_key] = trimesh_vtk.mesh_actor(\n",
    "            mesh_dictionary[cell_key], \n",
    "            opacity=vasc_opac, \n",
    "            color=vasc_color\n",
    "        )\n",
    "        centroids.append(mesh_dictionary[cell_key].centroid)\n",
    "\n",
    "# Merge the mito mesh actors into the main mesh_actor dictionary\n",
    "mesh_actor.update(mito_mesh_actor)\n",
    "\n",
    "# add pre and post synaptic sites to the mesh actor\n",
    "mesh_actor['presyn_actor'] = presyn_actor\n",
    "mesh_actor['postsyn_actor'] = postsyn_actor\n",
    "\n",
    "locals().update(mesh_actor)\n",
    "\n",
    "# Calculate the overall centroid\n",
    "if centroids:\n",
    "    overall_centroid = np.mean(centroids, axis=0)\n",
    "else:\n",
    "    overall_centroid = np.array([0, 0, 0])  # Fallback if no centroids are found\n",
    "\n",
    "# Creating a camera object and defining the view\n",
    "camera = trimesh_vtk.oriented_camera(overall_centroid, backoff=100)\n",
    "\n",
    "# Render the actors, will open a pop-up Python window\n",
    "trimesh_vtk.render_actors(mesh_actor.values(), camera=camera)\n"
   ]
  },
  {
   "cell_type": "markdown",
   "id": "860da4bd",
   "metadata": {},
   "source": [
    "Save image to disk"
   ]
  },
  {
   "cell_type": "code",
   "execution_count": 41,
   "id": "f29101f3",
   "metadata": {},
   "outputs": [
    {
     "name": "stdout",
     "output_type": "stream",
     "text": [
      "setting up renderer\n",
      "done setting up\n",
      "actors added\n",
      "camera set\n",
      "render done\n",
      "finalizing..\n"
     ]
    },
    {
     "data": {
      "text/plain": [
       "<vtkmodules.vtkRenderingOpenGL2.vtkOpenGLRenderer(0x0000023304B95CC0) at 0x0000023243E86A68>"
      ]
     },
     "execution_count": 41,
     "metadata": {},
     "output_type": "execute_result"
    }
   ],
   "source": [
    "# save image to disk\n",
    "\n",
    "import datetime\n",
    "\n",
    "save_dir = 'vtk_images/'\n",
    "base_name = 'all_cell_mito_with_vasc_syn'\n",
    "extension = 'png'\n",
    "\n",
    "date_time_stamp = datetime.datetime.now().strftime(\"%Y_%m_%d_%H%M_%S\")\n",
    "filename = f\"{save_dir}{base_name}_{date_time_stamp}.{extension}\"\n",
    "\n",
    "# uncomment to save\n",
    "\n",
    "camera = trimesh_vtk.oriented_camera(overall_centroid, backoff=100) # 400 default\n",
    "trimesh_vtk.render_actors(mesh_actor.values(),\n",
    "                          filename=filename,\n",
    "                          do_save=True,\n",
    "                          scale=6,\n",
    "                          camera=camera\n",
    "                         )"
   ]
  },
  {
   "cell_type": "code",
   "execution_count": null,
   "id": "1e9a37dd",
   "metadata": {},
   "outputs": [],
   "source": []
  }
 ],
 "metadata": {
  "kernelspec": {
   "display_name": "Python 3 (ipykernel)",
   "language": "python",
   "name": "python3"
  },
  "language_info": {
   "codemirror_mode": {
    "name": "ipython",
    "version": 3
   },
   "file_extension": ".py",
   "mimetype": "text/x-python",
   "name": "python",
   "nbconvert_exporter": "python",
   "pygments_lexer": "ipython3",
   "version": "3.7.12"
  }
 },
 "nbformat": 4,
 "nbformat_minor": 5
}
