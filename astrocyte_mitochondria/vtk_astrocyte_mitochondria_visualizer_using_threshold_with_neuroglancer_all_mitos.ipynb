{
 "cells": [
  {
   "cell_type": "markdown",
   "id": "f72cccff",
   "metadata": {},
   "source": [
    "# 3d mitochondria visualizer using vtk \n",
    "- Includes a Neuroglancer link generator and a vtk viewer centered on a mitoid of interest \n",
    "- This notebook is modified from Allen Institute tutorial on working with Meshes by Forrest Collman  \n",
    "The original tutorial is located here:   https://github.com/AllenInstitute/MicronsBinder/blob/master/notebooks/intro/MeshExample.ipynb"
   ]
  },
  {
   "cell_type": "markdown",
   "id": "08770b49",
   "metadata": {},
   "source": [
    "## Python Requirements\n",
    "You will need to run this notebook in a Python 3.7 environment  \n",
    "Sometime meshparty will have a conflict with other tools and not work properly in Anaconda  \n",
    "If that happens, you will need to start over with a new Anaconda environment  \n",
    "Install allensdk first, then meshparty, then any other other tools desired  \n",
    "The installation described below worked well:  \n",
    "* Install new environment v3.7 in Anaconda\n",
    "* conda install jupyter\n",
    "* pip install allensdk\n",
    "* pip install meshparty\n",
    "* pip install caveclient\n",
    "* pip install 'itkwidgets[notebook]>=1.0a8'\n",
    "* pip install --upgrade --pre itk\n",
    "* pip install gdown"
   ]
  },
  {
   "cell_type": "code",
   "execution_count": null,
   "id": "b8460bb9",
   "metadata": {},
   "outputs": [],
   "source": [
    "import pandas as pd\n",
    "import numpy as np\n",
    "import os"
   ]
  },
  {
   "cell_type": "code",
   "execution_count": null,
   "id": "c54d77b4",
   "metadata": {},
   "outputs": [],
   "source": [
    "from meshparty import trimesh_io, trimesh_vtk, skeleton, utils"
   ]
  },
  {
   "cell_type": "code",
   "execution_count": null,
   "id": "cb04bb66",
   "metadata": {},
   "outputs": [],
   "source": [
    "import vtk"
   ]
  },
  {
   "cell_type": "code",
   "execution_count": null,
   "id": "4e3edf25",
   "metadata": {},
   "outputs": [],
   "source": [
    "pd.set_option('display.max_columns', None)"
   ]
  },
  {
   "cell_type": "code",
   "execution_count": null,
   "id": "8470c752",
   "metadata": {
    "scrolled": true
   },
   "outputs": [],
   "source": [
    "# this csv file is 268 MB and too large to place on Github\n",
    "# in order to run this notebook, you must first download the file and place on your local machine in the /data folder\n",
    "# the csv file is available here: https://zenodo.org/record/5579388/files/211019_mitochondria_info.csv\n",
    "\n",
    "mito = pd.read_csv('data/211019_mitochondria_info.csv')\n",
    "mito"
   ]
  },
  {
   "cell_type": "code",
   "execution_count": null,
   "id": "7e2c2e4d",
   "metadata": {
    "scrolled": true
   },
   "outputs": [],
   "source": [
    "astrocytes = pd.read_csv('data/astrocytes.csv', index_col=[0])\n",
    "astrocytes.head()"
   ]
  },
  {
   "cell_type": "code",
   "execution_count": null,
   "id": "087045a7",
   "metadata": {},
   "outputs": [],
   "source": [
    "astrocyte_list = astrocytes.cell_segid.to_list()\n",
    "print(astrocyte_list)"
   ]
  },
  {
   "cell_type": "markdown",
   "id": "f8785634",
   "metadata": {},
   "source": [
    "# Use index value to view an astrocyte from list "
   ]
  },
  {
   "cell_type": "code",
   "execution_count": null,
   "id": "4d3ea8b0",
   "metadata": {},
   "outputs": [],
   "source": [
    "# pull all mitos from a cellid of interest from astrocyte list, by index number\n",
    "\n",
    "indx = 28\n",
    "cellid = astrocyte_list[indx]\n",
    "\n",
    "mito_querydf = mito[mito['cellid'] == cellid]\n",
    "mito_querydf.sort_values(by='mito_vx', ascending=False)\n"
   ]
  },
  {
   "cell_type": "code",
   "execution_count": null,
   "id": "d987c2bd",
   "metadata": {},
   "outputs": [],
   "source": [
    "cellid"
   ]
  },
  {
   "cell_type": "code",
   "execution_count": null,
   "id": "99c77c0a",
   "metadata": {},
   "outputs": [],
   "source": [
    "thresh = 2000000"
   ]
  },
  {
   "cell_type": "code",
   "execution_count": null,
   "id": "45d58ed8",
   "metadata": {
    "scrolled": true
   },
   "outputs": [],
   "source": [
    "mito_query_abovethresh = mito_querydf[mito_querydf.mito_vx > thresh]\n",
    "mito_query_abovethresh"
   ]
  },
  {
   "cell_type": "code",
   "execution_count": null,
   "id": "beb75d08",
   "metadata": {},
   "outputs": [],
   "source": [
    "mito_query_belowthresh = mito_querydf[mito_querydf.mito_vx <= thresh]\n",
    "mito_query_belowthresh"
   ]
  },
  {
   "cell_type": "code",
   "execution_count": null,
   "id": "ffa59c8f",
   "metadata": {},
   "outputs": [],
   "source": [
    "mito_query_abovethresh_mitolist = mito_query_abovethresh.mito_id.to_list()\n",
    "print(f\"length: \"+str(len(mito_query_abovethresh_mitolist)))\n",
    "print(f\"type: \"+str(type(mito_query_abovethresh_mitolist)))\n",
    "print('')\n",
    "# print(mito_query_abovethresh_mitolist) # uncomment to print the mito id list"
   ]
  },
  {
   "cell_type": "code",
   "execution_count": null,
   "id": "3508f1c4",
   "metadata": {},
   "outputs": [],
   "source": [
    "mito_query_belowthresh_mitolist = mito_query_belowthresh.mito_id.to_list()\n",
    "print(f\"length: \"+str(len(mito_query_belowthresh_mitolist)))\n",
    "print(f\"type: \"+str(type(mito_query_belowthresh_mitolist)))\n",
    "print('')\n",
    "# print(mito_query_belowthresh_mitolist) # uncomment to print the mito id list"
   ]
  },
  {
   "cell_type": "markdown",
   "id": "dc12850c",
   "metadata": {},
   "source": [
    "# vtk 3d viewer"
   ]
  },
  {
   "cell_type": "code",
   "execution_count": null,
   "id": "8086cbcb",
   "metadata": {},
   "outputs": [],
   "source": [
    "# setup the mesh meta to handle downloads and caching\n",
    "mesh_dir = 'data/neuron_meshes_v185/' # or change to your desired folder\n",
    "seg_source = \"precomputed://https://storage.googleapis.com/microns_public_datasets/pinky100_v185/seg\"\n",
    "mm = trimesh_io.MeshMeta(cv_path=seg_source,\n",
    "                         disk_cache_path=mesh_dir, \n",
    "                         cache_size=20)\n",
    "\n",
    "# setup the mesh meta to handle downloads and caching\n",
    "mito_mesh_dir = 'data/meshes/'\n",
    "mito_source = \"precomputed://https://seungdata.princeton.edu/sseung-archive/pinky100-mito/seg_191220\"\n",
    "mito_mm = trimesh_io.MeshMeta(cv_path=mito_source,\n",
    "                         disk_cache_path=mito_mesh_dir)"
   ]
  },
  {
   "cell_type": "code",
   "execution_count": null,
   "id": "8e62931c",
   "metadata": {},
   "outputs": [],
   "source": [
    "cell_id = cellid"
   ]
  },
  {
   "cell_type": "code",
   "execution_count": null,
   "id": "bb90fbfd",
   "metadata": {
    "scrolled": false
   },
   "outputs": [],
   "source": [
    "# If you get an error, run the next cell to download the mesh, then rerun this cell again\n",
    "seg_id = cell_id\n",
    "mesh_file = os.path.join(mesh_dir, str(seg_id)+'.h5')\n",
    "mesh = mm.mesh(filename = mesh_file)"
   ]
  },
  {
   "cell_type": "code",
   "execution_count": null,
   "id": "9bf6f6dc",
   "metadata": {},
   "outputs": [],
   "source": [
    "# If you get an error on the previous cell, run this cell\n",
    "# After the mesh is successfully downloaded, rerun the previous cell \n",
    "downloadmesh = mm.mesh(seg_id = seg_id, remove_duplicate_vertices=True)"
   ]
  },
  {
   "cell_type": "code",
   "execution_count": null,
   "id": "3b6d4da6",
   "metadata": {
    "scrolled": false
   },
   "outputs": [],
   "source": [
    "len(mito_query_abovethresh_mitolist)"
   ]
  },
  {
   "cell_type": "code",
   "execution_count": null,
   "id": "331f6138",
   "metadata": {},
   "outputs": [],
   "source": [
    "len(mito_query_belowthresh_mitolist)"
   ]
  },
  {
   "cell_type": "markdown",
   "id": "20f68d9b",
   "metadata": {},
   "source": [
    "### The following cell only needs to be run once\n",
    "- You do not need to run this cell if you have previously downloaded the mito mesh files\n",
    "- Note: this will take a long time, which gets longer the more mitos are in the cell of interest"
   ]
  },
  {
   "cell_type": "code",
   "execution_count": null,
   "id": "a4f04477",
   "metadata": {},
   "outputs": [],
   "source": [
    "# download the mito meshes for this cell\n",
    "\n",
    "for i in range(len(mito_query_abovethresh_mitolist)):\n",
    "    mito_id = mito_query_abovethresh_mitolist[i]\n",
    "    mito_seg_id = mito_id\n",
    "    mito_downloadmesh = mito_mm.mesh(seg_id = mito_seg_id, remove_duplicate_vertices=True)\n",
    "    \n",
    "for i in range(len(mito_query_belowthresh_mitolist)):\n",
    "    mito_id = mito_query_belowthresh_mitolist[i]\n",
    "    mito_seg_id = mito_id\n",
    "    mito_downloadmesh = mito_mm.mesh(seg_id = mito_seg_id, remove_duplicate_vertices=True)\n"
   ]
  },
  {
   "cell_type": "code",
   "execution_count": null,
   "id": "4de32abe",
   "metadata": {},
   "outputs": [],
   "source": [
    "# iterate the mito_mesh for each mito\n",
    "# from https://python-forum.io/thread-23500.html\n",
    "\n",
    "var_iterator_abovethresh = {}\n",
    "for i in range(len(mito_query_abovethresh_mitolist)):\n",
    "    mito_seg_id = mito_query_abovethresh_mitolist[i] \n",
    "    mito_mesh_file = os.path.join(mito_mesh_dir, str(mito_seg_id)+'.h5')\n",
    "    var_iterator_abovethresh['mito_mesh_' + str(i)] = mito_mm.mesh(filename = mito_mesh_file)\n",
    "    \n",
    "locals().update(var_iterator_abovethresh)\n",
    "\n",
    "\n",
    "var_iterator_belowthresh = {}\n",
    "for i in range(len(mito_query_belowthresh_mitolist)):\n",
    "    mito_seg_id = mito_query_belowthresh_mitolist[i] \n",
    "    mito_mesh_file = os.path.join(mito_mesh_dir, str(mito_seg_id)+'.h5')\n",
    "    var_iterator_belowthresh['mito_mesh_' + str(i)] = mito_mm.mesh(filename = mito_mesh_file)\n",
    "    \n",
    "locals().update(var_iterator_belowthresh)\n"
   ]
  },
  {
   "cell_type": "code",
   "execution_count": null,
   "id": "01faac26",
   "metadata": {
    "scrolled": true
   },
   "outputs": [],
   "source": [
    "len(var_iterator_abovethresh)"
   ]
  },
  {
   "cell_type": "code",
   "execution_count": null,
   "id": "cfe32401",
   "metadata": {},
   "outputs": [],
   "source": [
    "var_iterator_abovethresh"
   ]
  },
  {
   "cell_type": "code",
   "execution_count": null,
   "id": "b8894eb7",
   "metadata": {
    "scrolled": false
   },
   "outputs": [],
   "source": [
    "# opacity and color settings for cell membrane and mito meshes\n",
    "cell_opac = 0.05 # 0.075\n",
    "cell_color = (1, 1, 1) # (0.2, 0.4, 0.7) blue\n",
    "mito_opac_abovethresh = 1 # 0.35\n",
    "mito_color_abovethresh = (0.2, 0.4, 0.7)\n",
    "mito_opac_belowthresh = 1\n",
    "mito_color_belowthresh = (0.7, 0.2, 0.2)\n",
    "\n",
    "# cell membrane mesh\n",
    "mesh_actor = trimesh_vtk.mesh_actor(mesh, opacity=cell_opac, color=cell_color)\n",
    "\n",
    "# mito meshes\n",
    "\n",
    "actor_iterator_abovethresh = {}\n",
    "for i in range(len(mito_query_abovethresh_mitolist)):\n",
    "    #random_color = list(np.random.random(size=3))\n",
    "    actor_iterator_abovethresh['mito_mesh_actor_' + str(i)] = trimesh_vtk.mesh_actor(var_iterator_abovethresh['mito_mesh_'+str(i)], opacity=mito_opac_abovethresh, color=(mito_color_abovethresh))\n",
    "    \n",
    "locals().update(actor_iterator_abovethresh)\n",
    "\n",
    "actor_iterator_belowthresh = {}\n",
    "for i in range(len(mito_query_belowthresh_mitolist)):\n",
    "    #random_color = list(np.random.random(size=3))\n",
    "    actor_iterator_belowthresh['mito_mesh_actor_' + str(i+(len(var_iterator_abovethresh)))] = trimesh_vtk.mesh_actor(var_iterator_belowthresh['mito_mesh_'+str(i)], opacity=mito_opac_belowthresh, color=(mito_color_belowthresh))\n",
    "    \n",
    "locals().update(actor_iterator_belowthresh)\n",
    "\n",
    "# update dictionary for the render actors code below\n",
    "actor_iterator = {}\n",
    "actor_iterator['mesh_actor'] = mesh_actor\n",
    "actor_iterator.update(actor_iterator_abovethresh)\n",
    "actor_iterator.update(actor_iterator_belowthresh)\n",
    "locals().update(actor_iterator)\n",
    "\n",
    "#creating a camera object and defining the view\n",
    "camera = trimesh_vtk.oriented_camera(mesh.centroid, backoff=200) # 150\n",
    "\n",
    "#render the actors, will open a pop up python window\n",
    "trimesh_vtk.render_actors(actor_iterator.values(), camera=camera)\n"
   ]
  },
  {
   "cell_type": "code",
   "execution_count": null,
   "id": "dbc934fc",
   "metadata": {},
   "outputs": [],
   "source": [
    "#actor_iterator"
   ]
  },
  {
   "cell_type": "code",
   "execution_count": null,
   "id": "50c321c8",
   "metadata": {
    "scrolled": false
   },
   "outputs": [],
   "source": [
    "#type(actor_iterator.values())"
   ]
  },
  {
   "cell_type": "code",
   "execution_count": null,
   "id": "29a4dc12",
   "metadata": {},
   "outputs": [],
   "source": [
    "# save image to disk\n",
    "# uncomment to save\n",
    "\n",
    "#camera = trimesh_vtk.oriented_camera(mesh.centroid, backoff=190)\n",
    "\n",
    "#trimesh_vtk.render_actors(actor_iterator.values(),\n",
    "#                          filename='vtk_images/'+str(cellid)+'.png',\n",
    "#                          do_save=True,\n",
    "#                          scale=6,\n",
    "#                          camera=camera\n",
    "#                         )"
   ]
  },
  {
   "cell_type": "code",
   "execution_count": null,
   "id": "00c63de0",
   "metadata": {},
   "outputs": [],
   "source": [
    "cellid"
   ]
  },
  {
   "cell_type": "code",
   "execution_count": null,
   "id": "992faf3f",
   "metadata": {},
   "outputs": [],
   "source": [
    "# 648518346349536888 has two to three astrocytes"
   ]
  },
  {
   "cell_type": "code",
   "execution_count": null,
   "id": "31b116af",
   "metadata": {},
   "outputs": [],
   "source": [
    "# 648518346341354380 very interesting case"
   ]
  },
  {
   "cell_type": "code",
   "execution_count": null,
   "id": "ae009aa5",
   "metadata": {},
   "outputs": [],
   "source": [
    "astrocyte_list"
   ]
  },
  {
   "cell_type": "markdown",
   "id": "2795ac09",
   "metadata": {},
   "source": [
    "# Neuroglancer visualizer"
   ]
  },
  {
   "cell_type": "code",
   "execution_count": null,
   "id": "7e342afb",
   "metadata": {},
   "outputs": [],
   "source": [
    "lookup = cellid"
   ]
  },
  {
   "cell_type": "code",
   "execution_count": null,
   "id": "2ff5643e",
   "metadata": {},
   "outputs": [],
   "source": [
    "query = mito[mito[\"cellid\"] == lookup]"
   ]
  },
  {
   "cell_type": "code",
   "execution_count": null,
   "id": "26322268",
   "metadata": {},
   "outputs": [],
   "source": [
    "len(query)"
   ]
  },
  {
   "cell_type": "code",
   "execution_count": null,
   "id": "ec4d4276",
   "metadata": {},
   "outputs": [],
   "source": [
    "query_list = query[\"mito_id\"].to_list()\n",
    "spacer = \"%22%2C%22\"\n",
    "query_list_join = spacer.join(map(str,query_list))\n",
    "baseURL = 'https://neuromancer-seung-import.appspot.com/'\n",
    "nglink_a = '#!%7B%22layers%22:%5B%7B%22source%22:%22precomputed://gs://microns_public_datasets/pinky100_v0/son_of_alignment_v15_rechunked%22%2C%22type%22:%22image%22%2C%22blend%22:%22default%22%2C%22shaderControls%22:%7B%7D%2C%22name%22:%22EM%22%7D%2C%7B%22source%22:%22precomputed://gs://microns_public_datasets/pinky100_v185/seg%22%2C%22type%22:%22segmentation%22%2C%22selectedAlpha%22:0.51%2C%22objectAlpha%22:0.15%2C%22segments%22:%5B%22'\n",
    "nglink_b = '%22%5D%2C%22skeletonRendering%22:%7B%22mode2d%22:%22lines_and_points%22%2C%22mode3d%22:%22lines%22%7D%2C%22name%22:%22cell_segmentation_v185%22%7D%2C%7B%22source%22:%22precomputed://matrix://sseung-archive/pinky100-clefts/mip1_d2_1175k%22%2C%22type%22:%22segmentation%22%2C%22skeletonRendering%22:%7B%22mode2d%22:%22lines_and_points%22%2C%22mode3d%22:%22lines%22%7D%2C%22name%22:%22synapses%22%7D%2C%7B%22source%22:%22precomputed://matrix://sseung-archive/pinky100-mito/seg_191220%22%2C%22type%22:%22segmentation%22%2C%22segments%22:%5B%22'\n",
    "nglink_c = '%22%5D%2C%22skeletonRendering%22:%7B%22mode2d%22:%22lines_and_points%22%2C%22mode3d%22:%22lines%22%7D%2C%22name%22:%22mitochondria%22%7D%2C%7B%22source%22:%22precomputed://matrix://sseung-archive/pinky100-nuclei/seg%22%2C%22type%22:%22segmentation%22%2C%22skeletonRendering%22:%7B%22mode2d%22:%22lines_and_points%22%2C%22mode3d%22:%22lines%22%7D%2C%22name%22:%22nuclei%22%7D%5D%2C%22navigation%22:%7B%22pose%22:%7B%22position%22:%7B%22voxelSize%22:%5B4%2C4%2C40%5D%2C%22voxelCoordinates%22:%5B83222.921875%2C52981.34765625%2C824.9962768554688%5D%7D%7D%2C%22zoomFactor%22:383.0066650796121%7D%2C%22perspectiveOrientation%22:%5B-0.00825042650103569%2C0.06130112707614899%2C-0.0012821174459531903%2C0.9980843663215637%5D%2C%22perspectiveZoom%22:3618.7659948513424%2C%22showSlices%22:false%2C%22selectedLayer%22:%7B%22layer%22:%22mitochondria%22%2C%22visible%22:true%7D%2C%22layout%22:%7B%22type%22:%223d%22%2C%22orthographicProjection%22:true%7D%7D'\n",
    "neuroglancerURL = baseURL + nglink_a + str(lookup) + nglink_b + query_list_join + nglink_c\n",
    "print(neuroglancerURL)"
   ]
  },
  {
   "cell_type": "code",
   "execution_count": null,
   "id": "bb0bfeec",
   "metadata": {
    "scrolled": true
   },
   "outputs": [],
   "source": [
    "query"
   ]
  },
  {
   "cell_type": "markdown",
   "id": "3c6a9457",
   "metadata": {},
   "source": [
    "# Center vtk view at centroid of mitoid of interest"
   ]
  },
  {
   "cell_type": "code",
   "execution_count": null,
   "id": "f3626256",
   "metadata": {},
   "outputs": [],
   "source": [
    "mitoid_query = 980814"
   ]
  },
  {
   "cell_type": "code",
   "execution_count": null,
   "id": "cb9b8a68",
   "metadata": {},
   "outputs": [],
   "source": [
    "pull_centroid = mito_querydf.reset_index()\n",
    "pull_centroid = pull_centroid.index[pull_centroid['mito_id'] == mitoid_query].to_list()\n",
    "pull_centroid[0]"
   ]
  },
  {
   "cell_type": "code",
   "execution_count": null,
   "id": "510c432f",
   "metadata": {},
   "outputs": [],
   "source": [
    "mito_mesh_centroid_dict = {}\n",
    "mito_seg_id = mitoid_query\n",
    "mito_mesh_file = os.path.join(mito_mesh_dir, str(mito_seg_id)+'.h5')\n",
    "mito_mesh_centroid_dict['mito_mesh_centroid_' + str(pull_centroid[0])] = mito_mm.mesh(filename = mito_mesh_file)\n",
    "locals().update(mito_mesh_centroid_dict)"
   ]
  },
  {
   "cell_type": "code",
   "execution_count": null,
   "id": "48920b60",
   "metadata": {},
   "outputs": [],
   "source": [
    "mito_mesh_centroid_dict"
   ]
  },
  {
   "cell_type": "code",
   "execution_count": null,
   "id": "9c7bad02",
   "metadata": {},
   "outputs": [],
   "source": [
    "mito_mesh_centroid_dict.get('mito_mesh_centroid_'+str(pull_centroid[0])).centroid"
   ]
  },
  {
   "cell_type": "code",
   "execution_count": null,
   "id": "db533d3e",
   "metadata": {},
   "outputs": [],
   "source": [
    "# opacity and color settings for cell membrane and mito meshes\n",
    "cell_opac = 0.05 # 0.075\n",
    "cell_color = (1, 1, 1) # (0.2, 0.4, 0.7) blue\n",
    "mito_opac_abovethresh = 1 # 0.35\n",
    "mito_color_abovethresh = (0.2, 0.4, 0.7)\n",
    "mito_opac_belowthresh = 1\n",
    "mito_color_belowthresh = (0.7, 0.2, 0.2)\n",
    "backoff_value = 20\n",
    "\n",
    "# cell membrane mesh\n",
    "mesh_actor = trimesh_vtk.mesh_actor(mesh, opacity=cell_opac, color=cell_color)\n",
    "\n",
    "# mito meshes\n",
    "\n",
    "actor_iterator_abovethresh = {}\n",
    "for i in range(len(mito_query_abovethresh_mitolist)):\n",
    "    #random_color = list(np.random.random(size=3))\n",
    "    actor_iterator_abovethresh['mito_mesh_actor_' + str(i)] = trimesh_vtk.mesh_actor(var_iterator_abovethresh['mito_mesh_'+str(i)], opacity=mito_opac_abovethresh, color=(mito_color_abovethresh))\n",
    "    \n",
    "locals().update(actor_iterator_abovethresh)\n",
    "\n",
    "actor_iterator_belowthresh = {}\n",
    "for i in range(len(mito_query_belowthresh_mitolist)):\n",
    "    #random_color = list(np.random.random(size=3))\n",
    "    actor_iterator_belowthresh['mito_mesh_actor_' + str(i+(len(var_iterator_abovethresh)))] = trimesh_vtk.mesh_actor(var_iterator_belowthresh['mito_mesh_'+str(i)], opacity=mito_opac_belowthresh, color=(mito_color_belowthresh))\n",
    "    \n",
    "locals().update(actor_iterator_belowthresh)\n",
    "\n",
    "# update dictionary for the render actors code below\n",
    "actor_iterator = {}\n",
    "actor_iterator['mesh_actor'] = mesh_actor\n",
    "actor_iterator.update(actor_iterator_abovethresh)\n",
    "actor_iterator.update(actor_iterator_belowthresh)\n",
    "locals().update(actor_iterator)\n",
    "\n",
    "#creating a camera object and defining the view\n",
    "camera = trimesh_vtk.oriented_camera(mito_mesh_centroid_dict.get('mito_mesh_centroid_'+str(pull_centroid[0])).centroid, backoff=backoff_value) # 150\n",
    "\n",
    "#render the actors, will open a pop up python window\n",
    "trimesh_vtk.render_actors(actor_iterator.values(), camera=camera)\n"
   ]
  },
  {
   "cell_type": "code",
   "execution_count": null,
   "id": "d765e102",
   "metadata": {},
   "outputs": [],
   "source": [
    "# save image to disk\n",
    "# uncomment to save\n",
    "\n",
    "camera = trimesh_vtk.oriented_camera(mito_mesh_centroid_dict.get('mito_mesh_centroid_'+str(pull_centroid[0])).centroid, backoff=backoff_value)\n",
    "\n",
    "trimesh_vtk.render_actors(actor_iterator.values(),\n",
    "                          filename='vtk_images/'+str(cellid)+'_'+str(mitoid_query)+'.png',\n",
    "                          do_save=True,\n",
    "                          scale=6,\n",
    "                          camera=camera\n",
    "                         )"
   ]
  },
  {
   "cell_type": "code",
   "execution_count": null,
   "id": "14c4bb4b",
   "metadata": {},
   "outputs": [],
   "source": []
  }
 ],
 "metadata": {
  "kernelspec": {
   "display_name": "Python 3 (ipykernel)",
   "language": "python",
   "name": "python3"
  },
  "language_info": {
   "codemirror_mode": {
    "name": "ipython",
    "version": 3
   },
   "file_extension": ".py",
   "mimetype": "text/x-python",
   "name": "python",
   "nbconvert_exporter": "python",
   "pygments_lexer": "ipython3",
   "version": "3.7.15"
  }
 },
 "nbformat": 4,
 "nbformat_minor": 5
}
