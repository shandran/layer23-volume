{
 "cells": [
  {
   "cell_type": "code",
   "execution_count": 1,
   "id": "1010e15b",
   "metadata": {},
   "outputs": [],
   "source": [
    "import pandas as pd"
   ]
  },
  {
   "cell_type": "code",
   "execution_count": 2,
   "id": "48c8a224",
   "metadata": {},
   "outputs": [
    {
     "data": {
      "text/html": [
       "<div>\n",
       "<style scoped>\n",
       "    .dataframe tbody tr th:only-of-type {\n",
       "        vertical-align: middle;\n",
       "    }\n",
       "\n",
       "    .dataframe tbody tr th {\n",
       "        vertical-align: top;\n",
       "    }\n",
       "\n",
       "    .dataframe thead th {\n",
       "        text-align: right;\n",
       "    }\n",
       "</style>\n",
       "<table border=\"1\" class=\"dataframe\">\n",
       "  <thead>\n",
       "    <tr style=\"text-align: right;\">\n",
       "      <th></th>\n",
       "      <th>id</th>\n",
       "      <th>pre_root_id</th>\n",
       "      <th>post_root_id</th>\n",
       "      <th>cleft_vx</th>\n",
       "      <th>ctr_pt_x_nm</th>\n",
       "      <th>ctr_pt_y_nm</th>\n",
       "      <th>ctr_pt_z_nm</th>\n",
       "      <th>pre_pos_x_vx</th>\n",
       "      <th>pre_pos_y_vx</th>\n",
       "      <th>pre_pos_z_vx</th>\n",
       "      <th>ctr_pos_x_vx</th>\n",
       "      <th>ctr_pos_y_vx</th>\n",
       "      <th>ctr_pos_z_vx</th>\n",
       "      <th>post_pos_x_vx</th>\n",
       "      <th>post_pos_y_vx</th>\n",
       "      <th>post_pos_z_vx</th>\n",
       "    </tr>\n",
       "  </thead>\n",
       "  <tbody>\n",
       "    <tr>\n",
       "      <th>0</th>\n",
       "      <td>2715757</td>\n",
       "      <td>648518346349538285</td>\n",
       "      <td>648518346349536759</td>\n",
       "      <td>1103</td>\n",
       "      <td>280784</td>\n",
       "      <td>261896</td>\n",
       "      <td>40600</td>\n",
       "      <td>70050</td>\n",
       "      <td>65534</td>\n",
       "      <td>1015</td>\n",
       "      <td>70196</td>\n",
       "      <td>65474</td>\n",
       "      <td>1015</td>\n",
       "      <td>70104</td>\n",
       "      <td>65602</td>\n",
       "      <td>1015</td>\n",
       "    </tr>\n",
       "    <tr>\n",
       "      <th>1</th>\n",
       "      <td>12498</td>\n",
       "      <td>648518346342404863</td>\n",
       "      <td>648518346342414574</td>\n",
       "      <td>62</td>\n",
       "      <td>365832</td>\n",
       "      <td>292808</td>\n",
       "      <td>25800</td>\n",
       "      <td>91472</td>\n",
       "      <td>73196</td>\n",
       "      <td>645</td>\n",
       "      <td>91458</td>\n",
       "      <td>73202</td>\n",
       "      <td>645</td>\n",
       "      <td>91396</td>\n",
       "      <td>73216</td>\n",
       "      <td>645</td>\n",
       "    </tr>\n",
       "    <tr>\n",
       "      <th>2</th>\n",
       "      <td>12500</td>\n",
       "      <td>648518346342921567</td>\n",
       "      <td>648518346345323296</td>\n",
       "      <td>62</td>\n",
       "      <td>229144</td>\n",
       "      <td>155952</td>\n",
       "      <td>48080</td>\n",
       "      <td>57250</td>\n",
       "      <td>39028</td>\n",
       "      <td>1202</td>\n",
       "      <td>57286</td>\n",
       "      <td>38988</td>\n",
       "      <td>1202</td>\n",
       "      <td>57312</td>\n",
       "      <td>38966</td>\n",
       "      <td>1203</td>\n",
       "    </tr>\n",
       "    <tr>\n",
       "      <th>3</th>\n",
       "      <td>12517</td>\n",
       "      <td>648518346342796822</td>\n",
       "      <td>648518346349537255</td>\n",
       "      <td>955</td>\n",
       "      <td>398452</td>\n",
       "      <td>208560</td>\n",
       "      <td>50760</td>\n",
       "      <td>99538</td>\n",
       "      <td>52184</td>\n",
       "      <td>1276</td>\n",
       "      <td>99613</td>\n",
       "      <td>52140</td>\n",
       "      <td>1269</td>\n",
       "      <td>99550</td>\n",
       "      <td>52098</td>\n",
       "      <td>1276</td>\n",
       "    </tr>\n",
       "    <tr>\n",
       "      <th>4</th>\n",
       "      <td>12503</td>\n",
       "      <td>648518346342800412</td>\n",
       "      <td>648518346348190542</td>\n",
       "      <td>718</td>\n",
       "      <td>461868</td>\n",
       "      <td>245212</td>\n",
       "      <td>53560</td>\n",
       "      <td>115462</td>\n",
       "      <td>61350</td>\n",
       "      <td>1335</td>\n",
       "      <td>115467</td>\n",
       "      <td>61303</td>\n",
       "      <td>1339</td>\n",
       "      <td>115468</td>\n",
       "      <td>61296</td>\n",
       "      <td>1335</td>\n",
       "    </tr>\n",
       "  </tbody>\n",
       "</table>\n",
       "</div>"
      ],
      "text/plain": [
       "        id         pre_root_id        post_root_id  cleft_vx  ctr_pt_x_nm  \\\n",
       "0  2715757  648518346349538285  648518346349536759      1103       280784   \n",
       "1    12498  648518346342404863  648518346342414574        62       365832   \n",
       "2    12500  648518346342921567  648518346345323296        62       229144   \n",
       "3    12517  648518346342796822  648518346349537255       955       398452   \n",
       "4    12503  648518346342800412  648518346348190542       718       461868   \n",
       "\n",
       "   ctr_pt_y_nm  ctr_pt_z_nm  pre_pos_x_vx  pre_pos_y_vx  pre_pos_z_vx  \\\n",
       "0       261896        40600         70050         65534          1015   \n",
       "1       292808        25800         91472         73196           645   \n",
       "2       155952        48080         57250         39028          1202   \n",
       "3       208560        50760         99538         52184          1276   \n",
       "4       245212        53560        115462         61350          1335   \n",
       "\n",
       "   ctr_pos_x_vx  ctr_pos_y_vx  ctr_pos_z_vx  post_pos_x_vx  post_pos_y_vx  \\\n",
       "0         70196         65474          1015          70104          65602   \n",
       "1         91458         73202           645          91396          73216   \n",
       "2         57286         38988          1202          57312          38966   \n",
       "3         99613         52140          1269          99550          52098   \n",
       "4        115467         61303          1339         115468          61296   \n",
       "\n",
       "   post_pos_z_vx  \n",
       "0           1015  \n",
       "1            645  \n",
       "2           1203  \n",
       "3           1276  \n",
       "4           1335  "
      ]
     },
     "execution_count": 2,
     "metadata": {},
     "output_type": "execute_result"
    }
   ],
   "source": [
    "synapses = pd.read_csv(\"pni_synapses_v185.csv\")\n",
    "synapses.head()"
   ]
  },
  {
   "cell_type": "code",
   "execution_count": 3,
   "id": "cad5bafa",
   "metadata": {},
   "outputs": [
    {
     "data": {
      "text/html": [
       "<div>\n",
       "<style scoped>\n",
       "    .dataframe tbody tr th:only-of-type {\n",
       "        vertical-align: middle;\n",
       "    }\n",
       "\n",
       "    .dataframe tbody tr th {\n",
       "        vertical-align: top;\n",
       "    }\n",
       "\n",
       "    .dataframe thead th {\n",
       "        text-align: right;\n",
       "    }\n",
       "</style>\n",
       "<table border=\"1\" class=\"dataframe\">\n",
       "  <thead>\n",
       "    <tr style=\"text-align: right;\">\n",
       "      <th></th>\n",
       "      <th>id</th>\n",
       "      <th>pre_root_id</th>\n",
       "      <th>post_root_id</th>\n",
       "      <th>cleft_vx</th>\n",
       "      <th>ctr_pt_x_nm</th>\n",
       "      <th>ctr_pt_y_nm</th>\n",
       "      <th>ctr_pt_z_nm</th>\n",
       "      <th>pre_pos_x_vx</th>\n",
       "      <th>pre_pos_y_vx</th>\n",
       "      <th>pre_pos_z_vx</th>\n",
       "      <th>ctr_pos_x_vx</th>\n",
       "      <th>ctr_pos_y_vx</th>\n",
       "      <th>ctr_pos_z_vx</th>\n",
       "      <th>post_pos_x_vx</th>\n",
       "      <th>post_pos_y_vx</th>\n",
       "      <th>post_pos_z_vx</th>\n",
       "    </tr>\n",
       "  </thead>\n",
       "  <tbody>\n",
       "    <tr>\n",
       "      <th>2588491</th>\n",
       "      <td>3272949</td>\n",
       "      <td>648518346342793197</td>\n",
       "      <td>648518346341386580</td>\n",
       "      <td>6825</td>\n",
       "      <td>264600</td>\n",
       "      <td>284508</td>\n",
       "      <td>28800</td>\n",
       "      <td>66016</td>\n",
       "      <td>71076</td>\n",
       "      <td>722</td>\n",
       "      <td>66150</td>\n",
       "      <td>71127</td>\n",
       "      <td>720</td>\n",
       "      <td>66040</td>\n",
       "      <td>71128</td>\n",
       "      <td>722</td>\n",
       "    </tr>\n",
       "  </tbody>\n",
       "</table>\n",
       "</div>"
      ],
      "text/plain": [
       "              id         pre_root_id        post_root_id  cleft_vx  \\\n",
       "2588491  3272949  648518346342793197  648518346341386580      6825   \n",
       "\n",
       "         ctr_pt_x_nm  ctr_pt_y_nm  ctr_pt_z_nm  pre_pos_x_vx  pre_pos_y_vx  \\\n",
       "2588491       264600       284508        28800         66016         71076   \n",
       "\n",
       "         pre_pos_z_vx  ctr_pos_x_vx  ctr_pos_y_vx  ctr_pos_z_vx  \\\n",
       "2588491           722         66150         71127           720   \n",
       "\n",
       "         post_pos_x_vx  post_pos_y_vx  post_pos_z_vx  \n",
       "2588491          66040          71128            722  "
      ]
     },
     "execution_count": 3,
     "metadata": {},
     "output_type": "execute_result"
    }
   ],
   "source": [
    "# the largest synaptic cleft by voxels in the volume\n",
    "\n",
    "synapses.sort_values(by=\"cleft_vx\", ascending=False).head(1)"
   ]
  },
  {
   "cell_type": "code",
   "execution_count": 4,
   "id": "99c65c02",
   "metadata": {},
   "outputs": [],
   "source": [
    "# In neuroglancer, the synapse ID for this synapse does not match the synapse ID in the table.\n",
    "# The xyz coordinates for id 3272949 actually points to synapse 2094901 in neuroglancer\n",
    "# The pre and post cells are the correct cell ids; and the synapse does indeed seem to be a very large area"
   ]
  },
  {
   "cell_type": "markdown",
   "id": "08e8422a",
   "metadata": {},
   "source": [
    "See in [Neuroglancer](https://neuromancer-seung-import.appspot.com/#!%7B%22layers%22:%5B%7B%22source%22:%22precomputed://gs://microns_public_datasets/pinky100_v0/son_of_alignment_v15_rechunked%22%2C%22type%22:%22image%22%2C%22blend%22:%22default%22%2C%22shaderControls%22:%7B%7D%2C%22name%22:%22EM%22%7D%2C%7B%22source%22:%22precomputed://gs://microns_public_datasets/pinky100_v185/seg%22%2C%22type%22:%22segmentation%22%2C%22selectedAlpha%22:0.51%2C%22colorSeed%22:3874586303%2C%22segments%22:%5B%22648518346341386580%22%2C%22648518346342793197%22%5D%2C%22skeletonRendering%22:%7B%22mode2d%22:%22lines_and_points%22%2C%22mode3d%22:%22lines%22%7D%2C%22name%22:%22cell_segmentation_v185%22%7D%2C%7B%22source%22:%22precomputed://matrix://sseung-archive/pinky100-clefts/mip1_d2_1175k%22%2C%22type%22:%22segmentation%22%2C%22colorSeed%22:150974334%2C%22segments%22:%5B%222094901%22%2C%223272949%22%5D%2C%22skeletonRendering%22:%7B%22mode2d%22:%22lines_and_points%22%2C%22mode3d%22:%22lines%22%7D%2C%22name%22:%22synapses%22%7D%2C%7B%22source%22:%22precomputed://matrix://sseung-archive/pinky100-mito/seg_191220%22%2C%22type%22:%22segmentation%22%2C%22colorSeed%22:3981541343%2C%22skeletonRendering%22:%7B%22mode2d%22:%22lines_and_points%22%2C%22mode3d%22:%22lines%22%7D%2C%22name%22:%22mitochondria%22%2C%22visible%22:false%7D%2C%7B%22source%22:%22precomputed://matrix://sseung-archive/pinky100-nuclei/seg%22%2C%22type%22:%22segmentation%22%2C%22colorSeed%22:29894241%2C%22skeletonRendering%22:%7B%22mode2d%22:%22lines_and_points%22%2C%22mode3d%22:%22lines%22%7D%2C%22name%22:%22nuclei%22%7D%5D%2C%22navigation%22:%7B%22pose%22:%7B%22position%22:%7B%22voxelSize%22:%5B4%2C4%2C40%5D%2C%22voxelCoordinates%22:%5B66150%2C71127%2C720%5D%7D%7D%2C%22zoomFactor%22:5.984479141868939%7D%2C%22perspectiveOrientation%22:%5B-0.943390965461731%2C-0.25432249903678894%2C0.10677479952573776%2C0.18420830368995667%5D%2C%22perspectiveZoom%22:113.08643733910445%2C%22showSlices%22:false%2C%22selectedLayer%22:%7B%22layer%22:%22synapses%22%2C%22visible%22:true%7D%2C%22layout%22:%7B%22type%22:%22xy-3d%22%2C%22orthographicProjection%22:true%7D%7D)"
   ]
  },
  {
   "cell_type": "code",
   "execution_count": 5,
   "id": "6bb97bac",
   "metadata": {},
   "outputs": [
    {
     "data": {
      "text/html": [
       "<div>\n",
       "<style scoped>\n",
       "    .dataframe tbody tr th:only-of-type {\n",
       "        vertical-align: middle;\n",
       "    }\n",
       "\n",
       "    .dataframe tbody tr th {\n",
       "        vertical-align: top;\n",
       "    }\n",
       "\n",
       "    .dataframe thead th {\n",
       "        text-align: right;\n",
       "    }\n",
       "</style>\n",
       "<table border=\"1\" class=\"dataframe\">\n",
       "  <thead>\n",
       "    <tr style=\"text-align: right;\">\n",
       "      <th></th>\n",
       "      <th>id</th>\n",
       "      <th>pre_root_id</th>\n",
       "      <th>post_root_id</th>\n",
       "      <th>cleft_vx</th>\n",
       "      <th>ctr_pos_x_vx</th>\n",
       "      <th>ctr_pos_y_vx</th>\n",
       "      <th>ctr_pos_z_vx</th>\n",
       "    </tr>\n",
       "  </thead>\n",
       "  <tbody>\n",
       "    <tr>\n",
       "      <th>1623462</th>\n",
       "      <td>2094901</td>\n",
       "      <td>648518346342098235</td>\n",
       "      <td>648518346342098284</td>\n",
       "      <td>378</td>\n",
       "      <td>84084</td>\n",
       "      <td>69378</td>\n",
       "      <td>1919</td>\n",
       "    </tr>\n",
       "  </tbody>\n",
       "</table>\n",
       "</div>"
      ],
      "text/plain": [
       "              id         pre_root_id        post_root_id  cleft_vx  \\\n",
       "1623462  2094901  648518346342098235  648518346342098284       378   \n",
       "\n",
       "         ctr_pos_x_vx  ctr_pos_y_vx  ctr_pos_z_vx  \n",
       "1623462         84084         69378          1919  "
      ]
     },
     "execution_count": 5,
     "metadata": {},
     "output_type": "execute_result"
    }
   ],
   "source": [
    "# Looking up synapse 2094901 to see where it is located in the synapse table\n",
    "\n",
    "lookup2094901 = synapses[\"id\"] == 2094901\n",
    "lookup2094901df = synapses.loc[lookup2094901, [\"id\", \"pre_root_id\", \"post_root_id\", \"cleft_vx\", \"ctr_pos_x_vx\", \"ctr_pos_y_vx\", \"ctr_pos_z_vx\"]]\n",
    "lookup2094901df"
   ]
  },
  {
   "cell_type": "code",
   "execution_count": 6,
   "id": "f79888db",
   "metadata": {},
   "outputs": [],
   "source": [
    "# This synapse in neuroglancer is labeled as 3906637 and is a small cleft volume"
   ]
  },
  {
   "cell_type": "markdown",
   "id": "e26ec9a6",
   "metadata": {},
   "source": [
    "See in [Neuroglancer](https://neuromancer-seung-import.appspot.com/#!%7B%22layers%22:%5B%7B%22source%22:%22precomputed://gs://microns_public_datasets/pinky100_v0/son_of_alignment_v15_rechunked%22%2C%22type%22:%22image%22%2C%22blend%22:%22default%22%2C%22shaderControls%22:%7B%7D%2C%22name%22:%22EM%22%7D%2C%7B%22source%22:%22precomputed://gs://microns_public_datasets/pinky100_v185/seg%22%2C%22type%22:%22segmentation%22%2C%22selectedAlpha%22:0.51%2C%22segments%22:%5B%22648518346342098235%22%2C%22648518346342098284%22%5D%2C%22skeletonRendering%22:%7B%22mode2d%22:%22lines_and_points%22%2C%22mode3d%22:%22lines%22%7D%2C%22name%22:%22cell_segmentation_v185%22%7D%2C%7B%22source%22:%22precomputed://matrix://sseung-archive/pinky100-clefts/mip1_d2_1175k%22%2C%22type%22:%22segmentation%22%2C%22segments%22:%5B%223906637%22%5D%2C%22skeletonRendering%22:%7B%22mode2d%22:%22lines_and_points%22%2C%22mode3d%22:%22lines%22%7D%2C%22name%22:%22synapses%22%7D%2C%7B%22source%22:%22precomputed://matrix://sseung-archive/pinky100-mito/seg_191220%22%2C%22type%22:%22segmentation%22%2C%22skeletonRendering%22:%7B%22mode2d%22:%22lines_and_points%22%2C%22mode3d%22:%22lines%22%7D%2C%22name%22:%22mitochondria%22%7D%2C%7B%22source%22:%22precomputed://matrix://sseung-archive/pinky100-nuclei/seg%22%2C%22type%22:%22segmentation%22%2C%22skeletonRendering%22:%7B%22mode2d%22:%22lines_and_points%22%2C%22mode3d%22:%22lines%22%7D%2C%22name%22:%22nuclei%22%7D%5D%2C%22navigation%22:%7B%22pose%22:%7B%22position%22:%7B%22voxelSize%22:%5B4%2C4%2C40%5D%2C%22voxelCoordinates%22:%5B84084%2C69378%2C1919%5D%7D%7D%2C%22zoomFactor%22:2.9922395709344696%7D%2C%22perspectiveOrientation%22:%5B-0.00825042650103569%2C0.06130112707614899%2C-0.0012821174459531903%2C0.9980843663215637%5D%2C%22perspectiveZoom%22:226.1728746782089%2C%22showSlices%22:false%2C%22selectedLayer%22:%7B%22layer%22:%22synapses%22%2C%22visible%22:true%7D%2C%22layout%22:%7B%22type%22:%22xy-3d%22%2C%22orthographicProjection%22:true%7D%7D)"
   ]
  },
  {
   "cell_type": "code",
   "execution_count": 7,
   "id": "11c560d4",
   "metadata": {},
   "outputs": [
    {
     "data": {
      "text/html": [
       "<div>\n",
       "<style scoped>\n",
       "    .dataframe tbody tr th:only-of-type {\n",
       "        vertical-align: middle;\n",
       "    }\n",
       "\n",
       "    .dataframe tbody tr th {\n",
       "        vertical-align: top;\n",
       "    }\n",
       "\n",
       "    .dataframe thead th {\n",
       "        text-align: right;\n",
       "    }\n",
       "</style>\n",
       "<table border=\"1\" class=\"dataframe\">\n",
       "  <thead>\n",
       "    <tr style=\"text-align: right;\">\n",
       "      <th></th>\n",
       "      <th>id</th>\n",
       "      <th>pre_root_id</th>\n",
       "      <th>post_root_id</th>\n",
       "      <th>cleft_vx</th>\n",
       "      <th>ctr_pos_x_vx</th>\n",
       "      <th>ctr_pos_y_vx</th>\n",
       "      <th>ctr_pos_z_vx</th>\n",
       "    </tr>\n",
       "  </thead>\n",
       "  <tbody>\n",
       "  </tbody>\n",
       "</table>\n",
       "</div>"
      ],
      "text/plain": [
       "Empty DataFrame\n",
       "Columns: [id, pre_root_id, post_root_id, cleft_vx, ctr_pos_x_vx, ctr_pos_y_vx, ctr_pos_z_vx]\n",
       "Index: []"
      ]
     },
     "execution_count": 7,
     "metadata": {},
     "output_type": "execute_result"
    }
   ],
   "source": [
    "# Looking up synapse 3906637 to see where it is located in the synapse table\n",
    "\n",
    "lookup3906637 = synapses[\"id\"] == 3906637\n",
    "lookup3906637df = synapses.loc[lookup3906637, [\"id\", \"pre_root_id\", \"post_root_id\", \"cleft_vx\", \"ctr_pos_x_vx\", \"ctr_pos_y_vx\", \"ctr_pos_z_vx\"]]\n",
    "lookup3906637df"
   ]
  },
  {
   "cell_type": "code",
   "execution_count": 8,
   "id": "c5a21017",
   "metadata": {},
   "outputs": [
    {
     "data": {
      "text/plain": [
       "False    3239275\n",
       "Name: id, dtype: int64"
      ]
     },
     "execution_count": 8,
     "metadata": {},
     "output_type": "execute_result"
    }
   ],
   "source": [
    "lookup3906637.value_counts()"
   ]
  },
  {
   "cell_type": "code",
   "execution_count": 9,
   "id": "cd307fab",
   "metadata": {},
   "outputs": [],
   "source": [
    "# There is no synapse id 3906637 in the synapse table"
   ]
  },
  {
   "cell_type": "code",
   "execution_count": null,
   "id": "9d3bc949",
   "metadata": {},
   "outputs": [],
   "source": []
  }
 ],
 "metadata": {
  "kernelspec": {
   "display_name": "Python 3 (ipykernel)",
   "language": "python",
   "name": "python3"
  },
  "language_info": {
   "codemirror_mode": {
    "name": "ipython",
    "version": 3
   },
   "file_extension": ".py",
   "mimetype": "text/x-python",
   "name": "python",
   "nbconvert_exporter": "python",
   "pygments_lexer": "ipython3",
   "version": "3.7.12"
  }
 },
 "nbformat": 4,
 "nbformat_minor": 5
}
