{
 "cells": [
  {
   "cell_type": "markdown",
   "id": "16599bce",
   "metadata": {},
   "source": [
    "dash code modified from [Coding with Adam](https://github.com/Coding-with-Adam/Dash-by-Plotly/tree/master/Good_to_Know/Dash2.0)  \n",
    "mesh and synapse code modified from Forrest Collman, [Allen Institute](https://github.com/AllenInstitute/MicronsBinder/blob/master/notebooks/intro/MeshExample.ipynb)"
   ]
  },
  {
   "cell_type": "code",
   "execution_count": 1,
   "id": "bdeec971",
   "metadata": {},
   "outputs": [],
   "source": [
    "from dash import Dash, html, dcc, Output, Input\n",
    "import dash_bootstrap_components as dbc\n",
    "from dash_bootstrap_templates import load_figure_template\n",
    "import pandas as pd\n",
    "import numpy as np\n",
    "import os\n",
    "import plotly.express as px\n",
    "import plotly.graph_objects as go\n",
    "from meshparty import trimesh_io, trimesh_vtk, skeleton, utils"
   ]
  },
  {
   "cell_type": "code",
   "execution_count": 2,
   "id": "0a84804c",
   "metadata": {},
   "outputs": [],
   "source": [
    "# read in data tables\n",
    "clean_complete = pd.read_csv(\"data/clean_and_complete_soma_ids_v185.csv\", names=['cellid'], dtype={'cellid':str})\n",
    "syn_clean_complete = pd.read_csv('data/syn_clean_complete.csv', index_col=[0])\n",
    "\n",
    "# define directory location to mesh files\n",
    "mesh_dir = 'data/neuron_meshes_v185/' # or change to your desired folder\n",
    "seg_source = \"precomputed://https://storage.googleapis.com/microns_public_datasets/pinky100_v185/seg\"\n",
    "mm = trimesh_io.MeshMeta(cv_path=seg_source,\n",
    "                         disk_cache_path=mesh_dir, \n",
    "                         cache_size=20)"
   ]
  },
  {
   "cell_type": "code",
   "execution_count": 3,
   "id": "202ab44f",
   "metadata": {},
   "outputs": [],
   "source": [
    "# run this cell to download meshes from 65 \"clean and complete\" curated pyr neurons\n",
    "# this will put the large mesh files on your local machine in the mesh_dir defined above\n",
    "# this cell only needs to be run once and will take 10 or more minutes to complete\n",
    "\n",
    "#clean_complete = pd.read_csv(\"data/clean_and_complete_soma_ids_v185.csv\", names=['cellid'])\n",
    "#clean_complete_list = clean_complete.cellid.to_list()\n",
    "#for i in range(len(clean_complete_list)):\n",
    "#    downloadmesh = mm.mesh(seg_id = clean_complete_list[i], remove_duplicate_vertices=True)\n"
   ]
  },
  {
   "cell_type": "code",
   "execution_count": 4,
   "id": "015d79f0",
   "metadata": {},
   "outputs": [],
   "source": [
    "# setting up and loading pyr neuron mesh and synapse data into dictionaries\n",
    "# this cell will take a minute or more to complete\n",
    "\n",
    "## create a dictionary of meshes from 65 clean and complete pyr neurons\n",
    "mesh_dictionary = {}\n",
    "for i in range(len(clean_complete.cellid.values)):\n",
    "    mesh_file = os.path.join(mesh_dir, str(clean_complete.cellid.values[i]) +'.h5')\n",
    "    mesh_dictionary['cellid_' + str(clean_complete.cellid.values[i])] = mm.mesh(filename = mesh_file)\n",
    "\n",
    "## create dictionaries for pre and post synaptic sites from 65 clean and complete pyr neurons\n",
    "cell_post_subgraph_dict = {}\n",
    "cell_pre_subgraph_dict = {}\n",
    "for i in range(len(clean_complete.cellid.values)):\n",
    "    cell_post_subgraph_dict['cell_post_subgraph_' + str(clean_complete.cellid.values[i])] = syn_clean_complete.query(f'post_root_id=={clean_complete.cellid.values[i]}')\n",
    "    cell_pre_subgraph_dict['cell_pre_subgraph_' + str(clean_complete.cellid.values[i])] = syn_clean_complete.query(f'pre_root_id=={clean_complete.cellid.values[i]}')\n",
    "\n",
    "## create dictionaries for the synapse coordinates from 65 clean and complete pyr neurons\n",
    "postsyn_xyz_dict = {}\n",
    "presyn_xyz_dict = {}\n",
    "for i in range(len(clean_complete.cellid.values)):\n",
    "    postsyn_xyz_dict['postsyn_xyz_dict_' + str(clean_complete.cellid.values[i])] = cell_post_subgraph_dict.get('cell_post_subgraph_' + str(clean_complete.cellid.values[i]))[['ctr_pt_x_nm', 'ctr_pt_y_nm', 'ctr_pt_z_nm']].values\n",
    "    presyn_xyz_dict['presyn_xyz_dict_' + str(clean_complete.cellid.values[i])] = cell_pre_subgraph_dict.get('cell_pre_subgraph_' + str(clean_complete.cellid.values[i]))[['ctr_pt_x_nm', 'ctr_pt_y_nm', 'ctr_pt_z_nm']].values\n"
   ]
  },
  {
   "cell_type": "code",
   "execution_count": 5,
   "id": "0cbc766a",
   "metadata": {
    "scrolled": true
   },
   "outputs": [
    {
     "name": "stdout",
     "output_type": "stream",
     "text": [
      "Dash app running on http://127.0.0.1:8050/\n"
     ]
    },
    {
     "data": {
      "application/javascript": [
       "window.open('http://127.0.0.1:8050/')"
      ],
      "text/plain": [
       "<IPython.core.display.Javascript object>"
      ]
     },
     "metadata": {},
     "output_type": "display_data"
    }
   ],
   "source": [
    "# components\n",
    "\n",
    "app = Dash(__name__, external_stylesheets=[dbc.themes.CERULEAN])\n",
    "load_figure_template(\"CERULEAN\")\n",
    "\n",
    "mytitle = html.H4(children='')\n",
    "mygraph = dcc.Graph(figure={})\n",
    "dropdown = dcc.Dropdown(options=clean_complete.cellid.values,\n",
    "                        value=str(clean_complete.cellid.values[0]),\n",
    "                        clearable=False,\n",
    "                        style={\"textAlign\":\"center\"},\n",
    "                        )\n",
    "granularity = dcc.Slider(5, 50, 5, value=50, id='granularity')\n",
    "\n",
    "# layout\n",
    "\n",
    "app.layout = html.Div(style={\"textAlign\":\"center\"},\n",
    "                      children=[\n",
    "                          dbc.Row([\n",
    "                              dbc.Col(width=3),\n",
    "                              dbc.Col([mytitle])\n",
    "                          ]),\n",
    "                          dbc.Row([\n",
    "                              dbc.Col([\n",
    "                                  dcc.Markdown('Select granularity'), granularity, \n",
    "                                  dcc.Markdown('Select cellid'), dropdown], width=3),\n",
    "                              dbc.Col(dbc.Card([mygraph]), width=9),\n",
    "                          ]),\n",
    "                              ]\n",
    "                     )\n",
    "\n",
    "# callback\n",
    "\n",
    "@app.callback(\n",
    "    Output(mygraph, 'figure'),\n",
    "    Output(mytitle, 'children'),\n",
    "    Input(dropdown, 'value'),\n",
    "    Input(granularity, 'value')\n",
    ")\n",
    "\n",
    "def update_graph(cellid, granularity):  # function arguments come from the component property of the Input\n",
    "\n",
    "    fig = go.Figure(data=[go.Scatter3d(\n",
    "        x=mesh_dictionary.get('cellid_' + str(cellid)).vertices[::granularity,0],\n",
    "        y=mesh_dictionary.get('cellid_' + str(cellid)).vertices[::granularity,1],\n",
    "        z=mesh_dictionary.get('cellid_' + str(cellid)).vertices[::granularity,2],\n",
    "        mode='markers',\n",
    "        marker=dict(size=1),\n",
    "        showlegend=False),\n",
    "        ])\n",
    "    \n",
    "    camera = dict(eye=dict(x=0, y=0.1, z=1.5))\n",
    "    fig.update_layout(scene_camera=camera, scene_dragmode='orbit')\n",
    "    \n",
    "    fig.add_trace(\n",
    "        go.Scatter3d(\n",
    "            x=postsyn_xyz_dict.get('postsyn_xyz_dict_' + str(cellid))[:,0],\n",
    "            y=postsyn_xyz_dict.get('postsyn_xyz_dict_' + str(cellid))[:,1],\n",
    "            z=postsyn_xyz_dict.get('postsyn_xyz_dict_' + str(cellid))[:,2],\n",
    "            mode=\"markers\",\n",
    "            marker=dict(size=2, opacity=0.95),\n",
    "            showlegend=False)\n",
    "    )\n",
    "\n",
    "    fig.add_trace(\n",
    "        go.Scatter3d(\n",
    "            x=presyn_xyz_dict.get('presyn_xyz_dict_' + str(cellid))[:,0],\n",
    "            y=presyn_xyz_dict.get('presyn_xyz_dict_' + str(cellid))[:,1],\n",
    "            z=presyn_xyz_dict.get('presyn_xyz_dict_' + str(cellid))[:,2],\n",
    "            mode=\"markers\",\n",
    "            marker=dict(size=3, opacity=1),\n",
    "            showlegend=False)\n",
    "    )\n",
    "\n",
    "    return fig, 'cellid: '+cellid  # returned objects are assigned to the component property of the Output\n",
    "\n",
    "# run app\n",
    "if __name__=='__main__':\n",
    "    app.run(jupyter_mode=\"tab\")"
   ]
  },
  {
   "cell_type": "code",
   "execution_count": null,
   "id": "a325e556",
   "metadata": {},
   "outputs": [],
   "source": []
  }
 ],
 "metadata": {
  "kernelspec": {
   "display_name": "Python 3 (ipykernel)",
   "language": "python",
   "name": "python3"
  },
  "language_info": {
   "codemirror_mode": {
    "name": "ipython",
    "version": 3
   },
   "file_extension": ".py",
   "mimetype": "text/x-python",
   "name": "python",
   "nbconvert_exporter": "python",
   "pygments_lexer": "ipython3",
   "version": "3.7.15"
  }
 },
 "nbformat": 4,
 "nbformat_minor": 5
}
