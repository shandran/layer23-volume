{
 "cells": [
  {
   "cell_type": "code",
   "execution_count": 1,
   "id": "e65db205",
   "metadata": {},
   "outputs": [],
   "source": [
    "import pandas as pd\n",
    "import numpy as np\n",
    "import os\n",
    "from meshparty import trimesh_io, trimesh_vtk, skeleton, utils"
   ]
  },
  {
   "cell_type": "code",
   "execution_count": 2,
   "id": "b1234780",
   "metadata": {},
   "outputs": [],
   "source": [
    "mito = pd.read_csv('data/211019_mitochondria_info.csv')"
   ]
  },
  {
   "cell_type": "code",
   "execution_count": 3,
   "id": "f8de6eac",
   "metadata": {},
   "outputs": [
    {
     "data": {
      "text/html": [
       "<div>\n",
       "<style scoped>\n",
       "    .dataframe tbody tr th:only-of-type {\n",
       "        vertical-align: middle;\n",
       "    }\n",
       "\n",
       "    .dataframe tbody tr th {\n",
       "        vertical-align: top;\n",
       "    }\n",
       "\n",
       "    .dataframe thead th {\n",
       "        text-align: right;\n",
       "    }\n",
       "</style>\n",
       "<table border=\"1\" class=\"dataframe\">\n",
       "  <thead>\n",
       "    <tr style=\"text-align: right;\">\n",
       "      <th></th>\n",
       "      <th>mito_id</th>\n",
       "      <th>mito_vx</th>\n",
       "      <th>ctr_pos_x_vx</th>\n",
       "      <th>ctr_pos_y_vx</th>\n",
       "      <th>ctr_pos_z_vx</th>\n",
       "      <th>bbox_beg_x_vx</th>\n",
       "      <th>bbox_beg_y_vx</th>\n",
       "      <th>bbox_beg_z_vx</th>\n",
       "      <th>bbox_end_x_vx</th>\n",
       "      <th>bbox_end_y_vx</th>\n",
       "      <th>bbox_end_z_vx</th>\n",
       "      <th>cellid</th>\n",
       "      <th>ctr_pos_x_nm</th>\n",
       "      <th>ctr_pos_y_nm</th>\n",
       "      <th>ctr_pos_z_nm</th>\n",
       "    </tr>\n",
       "  </thead>\n",
       "  <tbody>\n",
       "    <tr>\n",
       "      <th>0</th>\n",
       "      <td>3384540</td>\n",
       "      <td>5916</td>\n",
       "      <td>103764</td>\n",
       "      <td>47040</td>\n",
       "      <td>103</td>\n",
       "      <td>103734</td>\n",
       "      <td>47016</td>\n",
       "      <td>102</td>\n",
       "      <td>103798</td>\n",
       "      <td>47066</td>\n",
       "      <td>107</td>\n",
       "      <td>648518346348124201</td>\n",
       "      <td>371475.12</td>\n",
       "      <td>168403.20</td>\n",
       "      <td>4120</td>\n",
       "    </tr>\n",
       "    <tr>\n",
       "      <th>1</th>\n",
       "      <td>2526419</td>\n",
       "      <td>1075376</td>\n",
       "      <td>87582</td>\n",
       "      <td>60964</td>\n",
       "      <td>1435</td>\n",
       "      <td>87204</td>\n",
       "      <td>59752</td>\n",
       "      <td>1215</td>\n",
       "      <td>87992</td>\n",
       "      <td>62504</td>\n",
       "      <td>1609</td>\n",
       "      <td>648518346346303282</td>\n",
       "      <td>313543.56</td>\n",
       "      <td>218251.12</td>\n",
       "      <td>57400</td>\n",
       "    </tr>\n",
       "    <tr>\n",
       "      <th>2</th>\n",
       "      <td>1379480</td>\n",
       "      <td>483500</td>\n",
       "      <td>65740</td>\n",
       "      <td>73550</td>\n",
       "      <td>392</td>\n",
       "      <td>65556</td>\n",
       "      <td>73322</td>\n",
       "      <td>292</td>\n",
       "      <td>65976</td>\n",
       "      <td>73880</td>\n",
       "      <td>509</td>\n",
       "      <td>648518346341355778</td>\n",
       "      <td>235349.20</td>\n",
       "      <td>263309.00</td>\n",
       "      <td>15680</td>\n",
       "    </tr>\n",
       "    <tr>\n",
       "      <th>3</th>\n",
       "      <td>3380073</td>\n",
       "      <td>23140</td>\n",
       "      <td>103750</td>\n",
       "      <td>46904</td>\n",
       "      <td>176</td>\n",
       "      <td>103704</td>\n",
       "      <td>46862</td>\n",
       "      <td>173</td>\n",
       "      <td>103812</td>\n",
       "      <td>46946</td>\n",
       "      <td>181</td>\n",
       "      <td>648518346348124771</td>\n",
       "      <td>371425.00</td>\n",
       "      <td>167916.32</td>\n",
       "      <td>7040</td>\n",
       "    </tr>\n",
       "    <tr>\n",
       "      <th>4</th>\n",
       "      <td>1783610</td>\n",
       "      <td>11996</td>\n",
       "      <td>75124</td>\n",
       "      <td>43042</td>\n",
       "      <td>2100</td>\n",
       "      <td>75088</td>\n",
       "      <td>43008</td>\n",
       "      <td>2097</td>\n",
       "      <td>75164</td>\n",
       "      <td>43086</td>\n",
       "      <td>2103</td>\n",
       "      <td>648518346342925287</td>\n",
       "      <td>268943.92</td>\n",
       "      <td>154090.36</td>\n",
       "      <td>84000</td>\n",
       "    </tr>\n",
       "  </tbody>\n",
       "</table>\n",
       "</div>"
      ],
      "text/plain": [
       "   mito_id  mito_vx  ctr_pos_x_vx  ctr_pos_y_vx  ctr_pos_z_vx  bbox_beg_x_vx  \\\n",
       "0  3384540     5916        103764         47040           103         103734   \n",
       "1  2526419  1075376         87582         60964          1435          87204   \n",
       "2  1379480   483500         65740         73550           392          65556   \n",
       "3  3380073    23140        103750         46904           176         103704   \n",
       "4  1783610    11996         75124         43042          2100          75088   \n",
       "\n",
       "   bbox_beg_y_vx  bbox_beg_z_vx  bbox_end_x_vx  bbox_end_y_vx  bbox_end_z_vx  \\\n",
       "0          47016            102         103798          47066            107   \n",
       "1          59752           1215          87992          62504           1609   \n",
       "2          73322            292          65976          73880            509   \n",
       "3          46862            173         103812          46946            181   \n",
       "4          43008           2097          75164          43086           2103   \n",
       "\n",
       "               cellid  ctr_pos_x_nm  ctr_pos_y_nm  ctr_pos_z_nm  \n",
       "0  648518346348124201     371475.12     168403.20          4120  \n",
       "1  648518346346303282     313543.56     218251.12         57400  \n",
       "2  648518346341355778     235349.20     263309.00         15680  \n",
       "3  648518346348124771     371425.00     167916.32          7040  \n",
       "4  648518346342925287     268943.92     154090.36         84000  "
      ]
     },
     "execution_count": 3,
     "metadata": {},
     "output_type": "execute_result"
    }
   ],
   "source": [
    "mito.head()"
   ]
  },
  {
   "cell_type": "code",
   "execution_count": 4,
   "id": "00058843",
   "metadata": {},
   "outputs": [],
   "source": [
    "# mito = pd.read_csv('data/pni_mito_cellswskel_v185_fullstats.csv', dtype={'cellid':str})"
   ]
  },
  {
   "cell_type": "code",
   "execution_count": 5,
   "id": "350e7eb2",
   "metadata": {},
   "outputs": [],
   "source": [
    "# define directory location to mesh files\n",
    "# setup the mesh meta to handle downloads and caching\n",
    "\n",
    "mito_mesh_dir = 'data/meshes/'\n",
    "mito_source = \"precomputed://https://td.princeton.edu/sseung-archive/pinky100-mito/seg_191220\"\n",
    "mito_mm = trimesh_io.MeshMeta(cv_path=mito_source,\n",
    "                         disk_cache_path=mito_mesh_dir)"
   ]
  },
  {
   "cell_type": "code",
   "execution_count": 6,
   "id": "4b59855b",
   "metadata": {},
   "outputs": [],
   "source": [
    "cellid_list = [648518346349529031]\n",
    "#[648518346349526691, 648518346349528994, 648518346349489861, 648518346349522740, 648518346349538285, 648518346349487752, 648518346349493894, 648518346349538179, 648518346349522735, 648518346349489985, 648518346349531994, 648518346349517783, 648518346349487432, 648518346349477331, 648518346349539846, 648518346349488919, 648518346349537389, 648518346349515986, 648518346349522749, 648518346349538370, 648518346349525188, 648518346349491816, 648518346349537404, 648518346349525190, 648518346349516051, 648518346349522750, 648518346349538638, 648518346349515985, 648518346349518096, 648518346349516055, 648518346349536849, 648518346349538789, 648518346349539215, 648518346349538791]\n",
    "# inhibitory neurons"
   ]
  },
  {
   "cell_type": "code",
   "execution_count": 7,
   "id": "074269fa",
   "metadata": {},
   "outputs": [
    {
     "data": {
      "text/plain": [
       "(948, 15)"
      ]
     },
     "execution_count": 7,
     "metadata": {},
     "output_type": "execute_result"
    }
   ],
   "source": [
    "mitodf = mito[mito['cellid'].isin(cellid_list)]\n",
    "mitodf.shape"
   ]
  },
  {
   "cell_type": "code",
   "execution_count": 8,
   "id": "8aba6923",
   "metadata": {},
   "outputs": [
    {
     "data": {
      "text/plain": [
       "948"
      ]
     },
     "execution_count": 8,
     "metadata": {},
     "output_type": "execute_result"
    }
   ],
   "source": [
    "mitodf_mitoid_list = mitodf.mito_id.to_list()\n",
    "len(mitodf_mitoid_list)"
   ]
  },
  {
   "cell_type": "code",
   "execution_count": 9,
   "id": "c13b8b9a",
   "metadata": {},
   "outputs": [
    {
     "name": "stderr",
     "output_type": "stream",
     "text": [
      "Exists: 100%|██████████| 1/1 [00:00<00:00,  2.22it/s]\n",
      "Decoding Mesh Buffer: 100%|██████████| 2/2 [00:00<?, ?it/s]\n"
     ]
    },
    {
     "name": "stdout",
     "output_type": "stream",
     "text": [
      "completed 0 of 948\n"
     ]
    },
    {
     "name": "stderr",
     "output_type": "stream",
     "text": [
      "Exists: 100%|██████████| 1/1 [00:03<00:00,  3.38s/it]\n",
      "Decoding Mesh Buffer: 100%|██████████| 2/2 [00:00<?, ?it/s]\n"
     ]
    },
    {
     "name": "stdout",
     "output_type": "stream",
     "text": [
      "completed 1 of 948\n"
     ]
    },
    {
     "name": "stderr",
     "output_type": "stream",
     "text": [
      "Exists: 100%|██████████| 1/1 [00:03<00:00,  3.48s/it]\n",
      "Decoding Mesh Buffer: 100%|██████████| 2/2 [00:00<?, ?it/s]\n"
     ]
    },
    {
     "name": "stdout",
     "output_type": "stream",
     "text": [
      "completed 2 of 948\n"
     ]
    },
    {
     "name": "stderr",
     "output_type": "stream",
     "text": [
      "Exists: 100%|██████████| 1/1 [00:00<00:00,  1.07it/s]\n",
      "Decoding Mesh Buffer: 100%|██████████| 2/2 [00:00<?, ?it/s]\n"
     ]
    },
    {
     "name": "stdout",
     "output_type": "stream",
     "text": [
      "completed 3 of 948\n"
     ]
    },
    {
     "name": "stderr",
     "output_type": "stream",
     "text": [
      "Exists: 100%|██████████| 1/1 [00:00<00:00,  1.16it/s]\n",
      "Decoding Mesh Buffer: 100%|██████████| 2/2 [00:00<?, ?it/s]\n"
     ]
    },
    {
     "name": "stdout",
     "output_type": "stream",
     "text": [
      "completed 4 of 948\n"
     ]
    },
    {
     "name": "stderr",
     "output_type": "stream",
     "text": [
      "Exists: 100%|██████████| 1/1 [00:00<00:00,  1.13it/s]\n",
      "Decoding Mesh Buffer: 100%|██████████| 6/6 [00:00<?, ?it/s]\n"
     ]
    },
    {
     "name": "stdout",
     "output_type": "stream",
     "text": [
      "completed 5 of 948\n"
     ]
    },
    {
     "name": "stderr",
     "output_type": "stream",
     "text": [
      "Exists: 100%|██████████| 1/1 [00:00<00:00,  1.07it/s]\n",
      "Decoding Mesh Buffer: 100%|██████████| 2/2 [00:00<?, ?it/s]\n"
     ]
    },
    {
     "name": "stdout",
     "output_type": "stream",
     "text": [
      "completed 6 of 948\n"
     ]
    },
    {
     "name": "stderr",
     "output_type": "stream",
     "text": [
      "Exists: 100%|██████████| 1/1 [00:00<00:00,  1.12it/s]\n",
      "Decoding Mesh Buffer: 100%|██████████| 4/4 [00:00<00:00, 4001.24it/s]\n"
     ]
    },
    {
     "name": "stdout",
     "output_type": "stream",
     "text": [
      "completed 7 of 948\n"
     ]
    },
    {
     "name": "stderr",
     "output_type": "stream",
     "text": [
      "Exists: 100%|██████████| 1/1 [00:00<00:00,  1.12it/s]\n",
      "Decoding Mesh Buffer: 100%|██████████| 2/2 [00:00<00:00, 1802.84it/s]\n"
     ]
    },
    {
     "name": "stdout",
     "output_type": "stream",
     "text": [
      "completed 8 of 948\n"
     ]
    },
    {
     "name": "stderr",
     "output_type": "stream",
     "text": [
      "Exists: 100%|██████████| 1/1 [00:00<00:00,  1.14it/s]\n",
      "Decoding Mesh Buffer: 100%|██████████| 2/2 [00:00<?, ?it/s]\n"
     ]
    },
    {
     "name": "stdout",
     "output_type": "stream",
     "text": [
      "completed 9 of 948\n"
     ]
    },
    {
     "name": "stderr",
     "output_type": "stream",
     "text": [
      "Exists: 100%|██████████| 1/1 [00:00<00:00,  1.12it/s]\n",
      "Decoding Mesh Buffer: 100%|██████████| 2/2 [00:00<00:00, 1999.19it/s]\n"
     ]
    },
    {
     "name": "stdout",
     "output_type": "stream",
     "text": [
      "completed 10 of 948\n"
     ]
    },
    {
     "name": "stderr",
     "output_type": "stream",
     "text": [
      "Exists: 100%|██████████| 1/1 [00:00<00:00,  1.06it/s]\n",
      "Decoding Mesh Buffer: 100%|██████████| 2/2 [00:00<?, ?it/s]\n"
     ]
    },
    {
     "name": "stdout",
     "output_type": "stream",
     "text": [
      "completed 11 of 948\n"
     ]
    },
    {
     "name": "stderr",
     "output_type": "stream",
     "text": [
      "Exists: 100%|██████████| 1/1 [00:00<00:00,  1.01it/s]\n",
      "Decoding Mesh Buffer: 100%|██████████| 2/2 [00:00<?, ?it/s]\n"
     ]
    },
    {
     "name": "stdout",
     "output_type": "stream",
     "text": [
      "completed 12 of 948\n"
     ]
    },
    {
     "name": "stderr",
     "output_type": "stream",
     "text": [
      "Exists: 100%|██████████| 1/1 [00:00<00:00,  1.04it/s]\n",
      "Decoding Mesh Buffer: 100%|██████████| 2/2 [00:00<00:00, 2137.22it/s]\n"
     ]
    },
    {
     "name": "stdout",
     "output_type": "stream",
     "text": [
      "completed 13 of 948\n"
     ]
    },
    {
     "name": "stderr",
     "output_type": "stream",
     "text": [
      "Exists: 100%|██████████| 1/1 [00:00<00:00,  1.06it/s]\n",
      "Decoding Mesh Buffer: 100%|██████████| 2/2 [00:00<?, ?it/s]\n"
     ]
    },
    {
     "name": "stdout",
     "output_type": "stream",
     "text": [
      "completed 14 of 948\n"
     ]
    },
    {
     "name": "stderr",
     "output_type": "stream",
     "text": [
      "Exists: 100%|██████████| 1/1 [00:01<00:00,  1.06s/it]\n",
      "Decoding Mesh Buffer: 100%|██████████| 3/3 [00:00<?, ?it/s]\n"
     ]
    },
    {
     "name": "stdout",
     "output_type": "stream",
     "text": [
      "completed 15 of 948\n"
     ]
    },
    {
     "name": "stderr",
     "output_type": "stream",
     "text": [
      "Exists: 100%|██████████| 1/1 [00:00<00:00,  1.12it/s]\n",
      "Decoding Mesh Buffer: 100%|██████████| 2/2 [00:00<?, ?it/s]\n"
     ]
    },
    {
     "name": "stdout",
     "output_type": "stream",
     "text": [
      "completed 16 of 948\n"
     ]
    },
    {
     "name": "stderr",
     "output_type": "stream",
     "text": [
      "Exists: 100%|██████████| 1/1 [00:00<00:00,  1.09it/s]\n",
      "Decoding Mesh Buffer: 100%|██████████| 4/4 [00:00<?, ?it/s]\n"
     ]
    },
    {
     "name": "stdout",
     "output_type": "stream",
     "text": [
      "completed 17 of 948\n"
     ]
    },
    {
     "name": "stderr",
     "output_type": "stream",
     "text": [
      "Exists: 100%|██████████| 1/1 [00:00<00:00,  1.02it/s]\n",
      "Decoding Mesh Buffer: 100%|██████████| 4/4 [00:00<?, ?it/s]\n"
     ]
    },
    {
     "name": "stdout",
     "output_type": "stream",
     "text": [
      "completed 18 of 948\n"
     ]
    },
    {
     "name": "stderr",
     "output_type": "stream",
     "text": [
      "Exists: 100%|██████████| 1/1 [00:00<00:00,  1.16it/s]\n",
      "Decoding Mesh Buffer: 100%|██████████| 2/2 [00:00<?, ?it/s]\n"
     ]
    },
    {
     "name": "stdout",
     "output_type": "stream",
     "text": [
      "completed 19 of 948\n"
     ]
    },
    {
     "name": "stderr",
     "output_type": "stream",
     "text": [
      "Exists: 100%|██████████| 1/1 [00:00<00:00,  1.10it/s]\n",
      "Decoding Mesh Buffer: 100%|██████████| 2/2 [00:00<?, ?it/s]\n"
     ]
    },
    {
     "name": "stdout",
     "output_type": "stream",
     "text": [
      "completed 20 of 948\n"
     ]
    },
    {
     "name": "stderr",
     "output_type": "stream",
     "text": [
      "Exists: 100%|██████████| 1/1 [00:01<00:00,  1.16s/it]\n",
      "Decoding Mesh Buffer: 100%|██████████| 3/3 [00:00<?, ?it/s]\n"
     ]
    },
    {
     "name": "stdout",
     "output_type": "stream",
     "text": [
      "completed 21 of 948\n"
     ]
    },
    {
     "name": "stderr",
     "output_type": "stream",
     "text": [
      "Exists: 100%|██████████| 1/1 [00:00<00:00,  1.16it/s]\n",
      "Decoding Mesh Buffer: 100%|██████████| 2/2 [00:00<?, ?it/s]\n"
     ]
    },
    {
     "name": "stdout",
     "output_type": "stream",
     "text": [
      "completed 22 of 948\n"
     ]
    },
    {
     "name": "stderr",
     "output_type": "stream",
     "text": [
      "Exists: 100%|██████████| 1/1 [00:00<00:00,  1.13it/s]\n",
      "Decoding Mesh Buffer: 100%|██████████| 3/3 [00:00<?, ?it/s]\n"
     ]
    },
    {
     "name": "stdout",
     "output_type": "stream",
     "text": [
      "completed 23 of 948\n"
     ]
    },
    {
     "name": "stderr",
     "output_type": "stream",
     "text": [
      "Exists: 100%|██████████| 1/1 [00:00<00:00,  1.14it/s]\n",
      "Decoding Mesh Buffer: 100%|██████████| 4/4 [00:00<?, ?it/s]\n"
     ]
    },
    {
     "name": "stdout",
     "output_type": "stream",
     "text": [
      "completed 24 of 948\n"
     ]
    },
    {
     "name": "stderr",
     "output_type": "stream",
     "text": [
      "Exists: 100%|██████████| 1/1 [00:00<00:00,  1.17it/s]\n",
      "Decoding Mesh Buffer: 100%|██████████| 4/4 [00:00<?, ?it/s]\n"
     ]
    },
    {
     "name": "stdout",
     "output_type": "stream",
     "text": [
      "completed 25 of 948\n"
     ]
    },
    {
     "name": "stderr",
     "output_type": "stream",
     "text": [
      "Exists: 100%|██████████| 1/1 [00:00<00:00,  1.18it/s]\n",
      "Decoding Mesh Buffer: 100%|██████████| 4/4 [00:00<?, ?it/s]\n"
     ]
    },
    {
     "name": "stdout",
     "output_type": "stream",
     "text": [
      "completed 26 of 948\n"
     ]
    },
    {
     "name": "stderr",
     "output_type": "stream",
     "text": [
      "Exists: 100%|██████████| 1/1 [00:00<00:00,  1.16it/s]\n",
      "Decoding Mesh Buffer: 100%|██████████| 3/3 [00:00<?, ?it/s]\n"
     ]
    },
    {
     "name": "stdout",
     "output_type": "stream",
     "text": [
      "completed 27 of 948\n"
     ]
    },
    {
     "name": "stderr",
     "output_type": "stream",
     "text": [
      "Exists: 100%|██████████| 1/1 [00:00<00:00,  1.17it/s]\n",
      "Decoding Mesh Buffer: 100%|██████████| 2/2 [00:00<?, ?it/s]\n"
     ]
    },
    {
     "name": "stdout",
     "output_type": "stream",
     "text": [
      "completed 28 of 948\n"
     ]
    },
    {
     "name": "stderr",
     "output_type": "stream",
     "text": [
      "Exists: 100%|██████████| 1/1 [00:00<00:00,  1.08it/s]\n",
      "Decoding Mesh Buffer: 100%|██████████| 2/2 [00:00<?, ?it/s]\n"
     ]
    },
    {
     "name": "stdout",
     "output_type": "stream",
     "text": [
      "completed 29 of 948\n"
     ]
    },
    {
     "name": "stderr",
     "output_type": "stream",
     "text": [
      "Exists: 100%|██████████| 1/1 [00:00<00:00,  1.02it/s]\n",
      "Decoding Mesh Buffer: 100%|██████████| 2/2 [00:00<00:00, 1315.24it/s]\n"
     ]
    },
    {
     "name": "stdout",
     "output_type": "stream",
     "text": [
      "completed 30 of 948\n"
     ]
    },
    {
     "name": "stderr",
     "output_type": "stream",
     "text": [
      "Exists: 100%|██████████| 1/1 [00:00<00:00,  1.12it/s]\n",
      "Decoding Mesh Buffer: 100%|██████████| 2/2 [00:00<?, ?it/s]\n"
     ]
    },
    {
     "name": "stdout",
     "output_type": "stream",
     "text": [
      "completed 31 of 948\n"
     ]
    },
    {
     "name": "stderr",
     "output_type": "stream",
     "text": [
      "Exists: 100%|██████████| 1/1 [00:00<00:00,  1.11it/s]\n",
      "Decoding Mesh Buffer: 100%|██████████| 2/2 [00:00<?, ?it/s]\n"
     ]
    },
    {
     "name": "stdout",
     "output_type": "stream",
     "text": [
      "completed 32 of 948\n"
     ]
    },
    {
     "name": "stderr",
     "output_type": "stream",
     "text": [
      "Exists: 100%|██████████| 1/1 [00:00<00:00,  1.12it/s]\n",
      "Decoding Mesh Buffer: 100%|██████████| 2/2 [00:00<?, ?it/s]\n"
     ]
    },
    {
     "name": "stdout",
     "output_type": "stream",
     "text": [
      "completed 33 of 948\n"
     ]
    },
    {
     "name": "stderr",
     "output_type": "stream",
     "text": [
      "Exists: 100%|██████████| 1/1 [00:01<00:00,  1.02s/it]\n",
      "Decoding Mesh Buffer: 100%|██████████| 2/2 [00:00<00:00, 1932.86it/s]\n"
     ]
    },
    {
     "name": "stdout",
     "output_type": "stream",
     "text": [
      "completed 34 of 948\n"
     ]
    },
    {
     "name": "stderr",
     "output_type": "stream",
     "text": [
      "Exists: 100%|██████████| 1/1 [00:00<00:00,  1.16it/s]\n",
      "Decoding Mesh Buffer: 100%|██████████| 1/1 [00:00<?, ?it/s]\n"
     ]
    },
    {
     "name": "stdout",
     "output_type": "stream",
     "text": [
      "completed 35 of 948\n"
     ]
    },
    {
     "name": "stderr",
     "output_type": "stream",
     "text": [
      "Exists: 100%|██████████| 1/1 [00:00<00:00,  1.16it/s]\n",
      "Decoding Mesh Buffer: 100%|██████████| 2/2 [00:00<00:00, 3400.33it/s]\n"
     ]
    },
    {
     "name": "stdout",
     "output_type": "stream",
     "text": [
      "completed 36 of 948\n"
     ]
    },
    {
     "name": "stderr",
     "output_type": "stream",
     "text": [
      "Exists: 100%|██████████| 1/1 [00:00<00:00,  1.14it/s]\n",
      "Decoding Mesh Buffer: 100%|██████████| 2/2 [00:00<?, ?it/s]\n"
     ]
    },
    {
     "name": "stdout",
     "output_type": "stream",
     "text": [
      "completed 37 of 948\n"
     ]
    },
    {
     "name": "stderr",
     "output_type": "stream",
     "text": [
      "Exists: 100%|██████████| 1/1 [00:00<00:00,  1.11it/s]\n",
      "Decoding Mesh Buffer: 100%|██████████| 2/2 [00:00<?, ?it/s]\n"
     ]
    },
    {
     "name": "stdout",
     "output_type": "stream",
     "text": [
      "completed 38 of 948\n"
     ]
    },
    {
     "name": "stderr",
     "output_type": "stream",
     "text": [
      "Exists: 100%|██████████| 1/1 [00:00<00:00,  1.18it/s]\n",
      "Decoding Mesh Buffer: 100%|██████████| 2/2 [00:00<?, ?it/s]\n"
     ]
    },
    {
     "name": "stdout",
     "output_type": "stream",
     "text": [
      "completed 39 of 948\n"
     ]
    },
    {
     "name": "stderr",
     "output_type": "stream",
     "text": [
      "Exists: 100%|██████████| 1/1 [00:00<00:00,  1.19it/s]\n",
      "Decoding Mesh Buffer: 100%|██████████| 2/2 [00:00<?, ?it/s]\n"
     ]
    },
    {
     "name": "stdout",
     "output_type": "stream",
     "text": [
      "completed 40 of 948\n"
     ]
    },
    {
     "name": "stderr",
     "output_type": "stream",
     "text": [
      "Exists: 100%|██████████| 1/1 [00:00<00:00,  1.18it/s]\n",
      "Decoding Mesh Buffer: 100%|██████████| 2/2 [00:00<00:00, 2183.40it/s]\n"
     ]
    },
    {
     "name": "stdout",
     "output_type": "stream",
     "text": [
      "completed 41 of 948\n"
     ]
    },
    {
     "name": "stderr",
     "output_type": "stream",
     "text": [
      "Exists: 100%|██████████| 1/1 [00:00<00:00,  1.17it/s]\n",
      "Decoding Mesh Buffer: 100%|██████████| 2/2 [00:00<?, ?it/s]\n"
     ]
    },
    {
     "name": "stdout",
     "output_type": "stream",
     "text": [
      "completed 42 of 948\n"
     ]
    },
    {
     "name": "stderr",
     "output_type": "stream",
     "text": [
      "Exists: 100%|██████████| 1/1 [00:00<00:00,  1.15it/s]\n",
      "Decoding Mesh Buffer: 100%|██████████| 1/1 [00:00<?, ?it/s]\n"
     ]
    },
    {
     "name": "stdout",
     "output_type": "stream",
     "text": [
      "completed 43 of 948\n"
     ]
    },
    {
     "name": "stderr",
     "output_type": "stream",
     "text": [
      "Exists: 100%|██████████| 1/1 [00:00<00:00,  1.18it/s]\n",
      "Decoding Mesh Buffer: 100%|██████████| 2/2 [00:00<00:00, 1906.50it/s]\n"
     ]
    },
    {
     "name": "stdout",
     "output_type": "stream",
     "text": [
      "completed 44 of 948\n"
     ]
    },
    {
     "name": "stderr",
     "output_type": "stream",
     "text": [
      "Exists: 100%|██████████| 1/1 [00:00<00:00,  1.18it/s]\n",
      "Decoding Mesh Buffer: 100%|██████████| 2/2 [00:00<?, ?it/s]\n"
     ]
    },
    {
     "name": "stdout",
     "output_type": "stream",
     "text": [
      "completed 45 of 948\n"
     ]
    },
    {
     "name": "stderr",
     "output_type": "stream",
     "text": [
      "Exists: 100%|██████████| 1/1 [00:00<00:00,  1.18it/s]\n",
      "Decoding Mesh Buffer: 100%|██████████| 2/2 [00:00<?, ?it/s]\n"
     ]
    },
    {
     "name": "stdout",
     "output_type": "stream",
     "text": [
      "completed 46 of 948\n"
     ]
    },
    {
     "name": "stderr",
     "output_type": "stream",
     "text": [
      "Exists: 100%|██████████| 1/1 [00:00<00:00,  1.14it/s]\n",
      "Decoding Mesh Buffer: 100%|██████████| 4/4 [00:00<?, ?it/s]\n"
     ]
    },
    {
     "name": "stdout",
     "output_type": "stream",
     "text": [
      "completed 47 of 948\n"
     ]
    },
    {
     "name": "stderr",
     "output_type": "stream",
     "text": [
      "Exists: 100%|██████████| 1/1 [00:00<00:00,  1.19it/s]\n",
      "Decoding Mesh Buffer: 100%|██████████| 2/2 [00:00<?, ?it/s]\n"
     ]
    },
    {
     "name": "stdout",
     "output_type": "stream",
     "text": [
      "completed 48 of 948\n"
     ]
    },
    {
     "name": "stderr",
     "output_type": "stream",
     "text": [
      "Exists: 100%|██████████| 1/1 [00:00<00:00,  1.18it/s]\n",
      "Decoding Mesh Buffer: 100%|██████████| 2/2 [00:00<?, ?it/s]\n"
     ]
    },
    {
     "name": "stdout",
     "output_type": "stream",
     "text": [
      "completed 49 of 948\n"
     ]
    },
    {
     "name": "stderr",
     "output_type": "stream",
     "text": [
      "Exists: 100%|██████████| 1/1 [00:00<00:00,  1.20it/s]\n",
      "Decoding Mesh Buffer: 100%|██████████| 2/2 [00:00<?, ?it/s]\n"
     ]
    },
    {
     "name": "stdout",
     "output_type": "stream",
     "text": [
      "completed 50 of 948\n"
     ]
    },
    {
     "name": "stderr",
     "output_type": "stream",
     "text": [
      "Exists: 100%|██████████| 1/1 [00:00<00:00,  1.10it/s]\n",
      "Decoding Mesh Buffer: 100%|██████████| 2/2 [00:00<?, ?it/s]\n"
     ]
    },
    {
     "name": "stdout",
     "output_type": "stream",
     "text": [
      "completed 51 of 948\n"
     ]
    },
    {
     "name": "stderr",
     "output_type": "stream",
     "text": [
      "Exists: 100%|██████████| 1/1 [00:00<00:00,  1.14it/s]\n",
      "Decoding Mesh Buffer: 100%|██████████| 1/1 [00:00<?, ?it/s]\n"
     ]
    },
    {
     "name": "stdout",
     "output_type": "stream",
     "text": [
      "completed 52 of 948\n"
     ]
    },
    {
     "name": "stderr",
     "output_type": "stream",
     "text": [
      "Exists: 100%|██████████| 1/1 [00:00<00:00,  1.15it/s]\n",
      "Decoding Mesh Buffer: 100%|██████████| 2/2 [00:00<?, ?it/s]\n"
     ]
    },
    {
     "name": "stdout",
     "output_type": "stream",
     "text": [
      "completed 53 of 948\n"
     ]
    },
    {
     "name": "stderr",
     "output_type": "stream",
     "text": [
      "Exists: 100%|██████████| 1/1 [00:00<00:00,  1.19it/s]\n",
      "Decoding Mesh Buffer: 100%|██████████| 2/2 [00:00<?, ?it/s]\n"
     ]
    },
    {
     "name": "stdout",
     "output_type": "stream",
     "text": [
      "completed 54 of 948\n"
     ]
    },
    {
     "name": "stderr",
     "output_type": "stream",
     "text": [
      "Exists: 100%|██████████| 1/1 [00:00<00:00,  1.15it/s]\n",
      "Decoding Mesh Buffer: 100%|██████████| 2/2 [00:00<?, ?it/s]\n"
     ]
    },
    {
     "name": "stdout",
     "output_type": "stream",
     "text": [
      "completed 55 of 948\n"
     ]
    },
    {
     "name": "stderr",
     "output_type": "stream",
     "text": [
      "Exists: 100%|██████████| 1/1 [00:00<00:00,  1.14it/s]\n",
      "Decoding Mesh Buffer: 100%|██████████| 1/1 [00:00<?, ?it/s]\n"
     ]
    },
    {
     "name": "stdout",
     "output_type": "stream",
     "text": [
      "completed 56 of 948\n"
     ]
    },
    {
     "name": "stderr",
     "output_type": "stream",
     "text": [
      "Exists: 100%|██████████| 1/1 [00:00<00:00,  1.15it/s]\n",
      "Decoding Mesh Buffer: 100%|██████████| 2/2 [00:00<00:00, 1984.53it/s]\n"
     ]
    },
    {
     "name": "stdout",
     "output_type": "stream",
     "text": [
      "completed 57 of 948\n"
     ]
    },
    {
     "name": "stderr",
     "output_type": "stream",
     "text": [
      "Exists: 100%|██████████| 1/1 [00:00<00:00,  1.16it/s]\n",
      "Decoding Mesh Buffer: 100%|██████████| 2/2 [00:00<?, ?it/s]\n"
     ]
    },
    {
     "name": "stdout",
     "output_type": "stream",
     "text": [
      "completed 58 of 948\n"
     ]
    },
    {
     "name": "stderr",
     "output_type": "stream",
     "text": [
      "Exists: 100%|██████████| 1/1 [00:00<00:00,  1.10it/s]\n",
      "Decoding Mesh Buffer: 100%|██████████| 2/2 [00:00<?, ?it/s]\n"
     ]
    },
    {
     "name": "stdout",
     "output_type": "stream",
     "text": [
      "completed 59 of 948\n"
     ]
    },
    {
     "name": "stderr",
     "output_type": "stream",
     "text": [
      "Exists: 100%|██████████| 1/1 [00:00<00:00,  1.12it/s]\n",
      "Decoding Mesh Buffer: 100%|██████████| 2/2 [00:00<?, ?it/s]\n"
     ]
    },
    {
     "name": "stdout",
     "output_type": "stream",
     "text": [
      "completed 60 of 948\n"
     ]
    },
    {
     "name": "stderr",
     "output_type": "stream",
     "text": [
      "Exists: 100%|██████████| 1/1 [00:00<00:00,  1.16it/s]\n",
      "Decoding Mesh Buffer: 100%|██████████| 3/3 [00:00<00:00, 3232.19it/s]\n"
     ]
    },
    {
     "name": "stdout",
     "output_type": "stream",
     "text": [
      "completed 61 of 948\n"
     ]
    },
    {
     "name": "stderr",
     "output_type": "stream",
     "text": [
      "Exists: 100%|██████████| 1/1 [00:00<00:00,  1.16it/s]\n",
      "Decoding Mesh Buffer: 100%|██████████| 2/2 [00:00<00:00, 2043.01it/s]\n"
     ]
    },
    {
     "name": "stdout",
     "output_type": "stream",
     "text": [
      "completed 62 of 948\n"
     ]
    },
    {
     "name": "stderr",
     "output_type": "stream",
     "text": [
      "Exists: 100%|██████████| 1/1 [00:00<00:00,  1.15it/s]\n",
      "Decoding Mesh Buffer: 100%|██████████| 2/2 [00:00<?, ?it/s]\n"
     ]
    },
    {
     "name": "stdout",
     "output_type": "stream",
     "text": [
      "completed 63 of 948\n"
     ]
    },
    {
     "name": "stderr",
     "output_type": "stream",
     "text": [
      "Exists: 100%|██████████| 1/1 [00:00<00:00,  1.16it/s]\n",
      "Decoding Mesh Buffer: 100%|██████████| 2/2 [00:00<?, ?it/s]\n"
     ]
    },
    {
     "name": "stdout",
     "output_type": "stream",
     "text": [
      "completed 64 of 948\n"
     ]
    },
    {
     "name": "stderr",
     "output_type": "stream",
     "text": [
      "Exists: 100%|██████████| 1/1 [00:00<00:00,  1.13it/s]\n",
      "Decoding Mesh Buffer: 100%|██████████| 2/2 [00:00<00:00, 2123.16it/s]\n"
     ]
    },
    {
     "name": "stdout",
     "output_type": "stream",
     "text": [
      "completed 65 of 948\n"
     ]
    },
    {
     "name": "stderr",
     "output_type": "stream",
     "text": [
      "Exists: 100%|██████████| 1/1 [00:00<00:00,  1.16it/s]\n",
      "Decoding Mesh Buffer: 100%|██████████| 3/3 [00:00<00:00, 3010.99it/s]\n"
     ]
    },
    {
     "name": "stdout",
     "output_type": "stream",
     "text": [
      "completed 66 of 948\n"
     ]
    },
    {
     "name": "stderr",
     "output_type": "stream",
     "text": [
      "Exists: 100%|██████████| 1/1 [00:00<00:00,  1.15it/s]\n",
      "Decoding Mesh Buffer: 100%|██████████| 1/1 [00:00<?, ?it/s]\n"
     ]
    },
    {
     "name": "stdout",
     "output_type": "stream",
     "text": [
      "completed 67 of 948\n"
     ]
    },
    {
     "name": "stderr",
     "output_type": "stream",
     "text": [
      "Exists: 100%|██████████| 1/1 [00:00<00:00,  1.15it/s]\n",
      "Decoding Mesh Buffer: 100%|██████████| 1/1 [00:00<00:00, 1034.61it/s]\n"
     ]
    },
    {
     "name": "stdout",
     "output_type": "stream",
     "text": [
      "completed 68 of 948\n"
     ]
    },
    {
     "name": "stderr",
     "output_type": "stream",
     "text": [
      "Exists: 100%|██████████| 1/1 [00:00<00:00,  1.17it/s]\n",
      "Decoding Mesh Buffer: 100%|██████████| 4/4 [00:00<?, ?it/s]\n"
     ]
    },
    {
     "name": "stdout",
     "output_type": "stream",
     "text": [
      "completed 69 of 948\n"
     ]
    },
    {
     "name": "stderr",
     "output_type": "stream",
     "text": [
      "Exists: 100%|██████████| 1/1 [00:00<00:00,  1.16it/s]\n",
      "Decoding Mesh Buffer: 100%|██████████| 2/2 [00:00<?, ?it/s]\n"
     ]
    },
    {
     "name": "stdout",
     "output_type": "stream",
     "text": [
      "completed 70 of 948\n"
     ]
    },
    {
     "name": "stderr",
     "output_type": "stream",
     "text": [
      "Exists: 100%|██████████| 1/1 [00:00<00:00,  1.13it/s]\n",
      "Decoding Mesh Buffer: 100%|██████████| 2/2 [00:00<00:00, 1981.72it/s]\n"
     ]
    },
    {
     "name": "stdout",
     "output_type": "stream",
     "text": [
      "completed 71 of 948\n"
     ]
    },
    {
     "name": "stderr",
     "output_type": "stream",
     "text": [
      "Exists: 100%|██████████| 1/1 [00:00<00:00,  1.15it/s]\n",
      "Decoding Mesh Buffer: 100%|██████████| 2/2 [00:00<?, ?it/s]\n"
     ]
    },
    {
     "name": "stdout",
     "output_type": "stream",
     "text": [
      "completed 72 of 948\n"
     ]
    },
    {
     "name": "stderr",
     "output_type": "stream",
     "text": [
      "Exists: 100%|██████████| 1/1 [00:00<00:00,  1.12it/s]\n",
      "Decoding Mesh Buffer: 100%|██████████| 2/2 [00:00<?, ?it/s]\n"
     ]
    },
    {
     "name": "stdout",
     "output_type": "stream",
     "text": [
      "completed 73 of 948\n"
     ]
    },
    {
     "name": "stderr",
     "output_type": "stream",
     "text": [
      "Exists: 100%|██████████| 1/1 [00:00<00:00,  1.18it/s]\n",
      "Decoding Mesh Buffer: 100%|██████████| 1/1 [00:00<?, ?it/s]\n"
     ]
    },
    {
     "name": "stdout",
     "output_type": "stream",
     "text": [
      "completed 74 of 948\n"
     ]
    },
    {
     "name": "stderr",
     "output_type": "stream",
     "text": [
      "Exists: 100%|██████████| 1/1 [00:00<00:00,  1.15it/s]\n",
      "Decoding Mesh Buffer: 100%|██████████| 2/2 [00:00<00:00, 1985.47it/s]\n"
     ]
    },
    {
     "name": "stdout",
     "output_type": "stream",
     "text": [
      "completed 75 of 948\n"
     ]
    },
    {
     "name": "stderr",
     "output_type": "stream",
     "text": [
      "Exists: 100%|██████████| 1/1 [00:00<00:00,  1.15it/s]\n",
      "Decoding Mesh Buffer: 100%|██████████| 1/1 [00:00<?, ?it/s]\n"
     ]
    },
    {
     "name": "stdout",
     "output_type": "stream",
     "text": [
      "completed 76 of 948\n"
     ]
    },
    {
     "name": "stderr",
     "output_type": "stream",
     "text": [
      "Exists: 100%|██████████| 1/1 [00:00<00:00,  1.16it/s]\n",
      "Decoding Mesh Buffer: 100%|██████████| 2/2 [00:00<?, ?it/s]\n"
     ]
    },
    {
     "name": "stdout",
     "output_type": "stream",
     "text": [
      "completed 77 of 948\n"
     ]
    },
    {
     "name": "stderr",
     "output_type": "stream",
     "text": [
      "Exists: 100%|██████████| 1/1 [00:00<00:00,  1.15it/s]\n",
      "Decoding Mesh Buffer: 100%|██████████| 2/2 [00:00<00:00, 2103.46it/s]\n"
     ]
    },
    {
     "name": "stdout",
     "output_type": "stream",
     "text": [
      "completed 78 of 948\n"
     ]
    },
    {
     "name": "stderr",
     "output_type": "stream",
     "text": [
      "Exists: 100%|██████████| 1/1 [00:00<00:00,  1.11it/s]\n",
      "Decoding Mesh Buffer: 100%|██████████| 1/1 [00:00<?, ?it/s]\n"
     ]
    },
    {
     "name": "stdout",
     "output_type": "stream",
     "text": [
      "completed 79 of 948\n"
     ]
    },
    {
     "name": "stderr",
     "output_type": "stream",
     "text": [
      "Exists: 100%|██████████| 1/1 [00:00<00:00,  1.15it/s]\n",
      "Decoding Mesh Buffer: 100%|██████████| 2/2 [00:00<?, ?it/s]\n"
     ]
    },
    {
     "name": "stdout",
     "output_type": "stream",
     "text": [
      "completed 80 of 948\n"
     ]
    },
    {
     "name": "stderr",
     "output_type": "stream",
     "text": [
      "Exists: 100%|██████████| 1/1 [00:00<00:00,  1.12it/s]\n",
      "Decoding Mesh Buffer: 100%|██████████| 2/2 [00:00<?, ?it/s]\n"
     ]
    },
    {
     "name": "stdout",
     "output_type": "stream",
     "text": [
      "completed 81 of 948\n"
     ]
    },
    {
     "name": "stderr",
     "output_type": "stream",
     "text": [
      "Exists: 100%|██████████| 1/1 [00:00<00:00,  1.15it/s]\n",
      "Decoding Mesh Buffer: 100%|██████████| 1/1 [00:00<00:00, 994.62it/s]\n"
     ]
    },
    {
     "name": "stdout",
     "output_type": "stream",
     "text": [
      "completed 82 of 948\n"
     ]
    },
    {
     "name": "stderr",
     "output_type": "stream",
     "text": [
      "Exists: 100%|██████████| 1/1 [00:00<00:00,  1.13it/s]\n",
      "Decoding Mesh Buffer: 100%|██████████| 2/2 [00:00<?, ?it/s]\n"
     ]
    },
    {
     "name": "stdout",
     "output_type": "stream",
     "text": [
      "completed 83 of 948\n"
     ]
    },
    {
     "name": "stderr",
     "output_type": "stream",
     "text": [
      "Exists: 100%|██████████| 1/1 [00:00<00:00,  1.15it/s]\n",
      "Decoding Mesh Buffer: 100%|██████████| 2/2 [00:00<?, ?it/s]\n"
     ]
    },
    {
     "name": "stdout",
     "output_type": "stream",
     "text": [
      "completed 84 of 948\n"
     ]
    },
    {
     "name": "stderr",
     "output_type": "stream",
     "text": [
      "Exists: 100%|██████████| 1/1 [00:00<00:00,  1.11it/s]\n",
      "Decoding Mesh Buffer: 100%|██████████| 2/2 [00:00<?, ?it/s]\n"
     ]
    },
    {
     "name": "stdout",
     "output_type": "stream",
     "text": [
      "completed 85 of 948\n"
     ]
    },
    {
     "name": "stderr",
     "output_type": "stream",
     "text": [
      "Exists: 100%|██████████| 1/1 [00:00<00:00,  1.12it/s]\n",
      "Decoding Mesh Buffer: 100%|██████████| 1/1 [00:00<?, ?it/s]\n"
     ]
    },
    {
     "name": "stdout",
     "output_type": "stream",
     "text": [
      "completed 86 of 948\n"
     ]
    },
    {
     "name": "stderr",
     "output_type": "stream",
     "text": [
      "Exists: 100%|██████████| 1/1 [00:00<00:00,  1.17it/s]\n",
      "Decoding Mesh Buffer: 100%|██████████| 2/2 [00:00<00:00, 1911.72it/s]\n"
     ]
    },
    {
     "name": "stdout",
     "output_type": "stream",
     "text": [
      "completed 87 of 948\n"
     ]
    },
    {
     "name": "stderr",
     "output_type": "stream",
     "text": [
      "Exists: 100%|██████████| 1/1 [00:00<00:00,  1.18it/s]\n",
      "Decoding Mesh Buffer: 100%|██████████| 2/2 [00:00<?, ?it/s]\n"
     ]
    },
    {
     "name": "stdout",
     "output_type": "stream",
     "text": [
      "completed 88 of 948\n"
     ]
    },
    {
     "name": "stderr",
     "output_type": "stream",
     "text": [
      "Exists: 100%|██████████| 1/1 [00:00<00:00,  1.19it/s]\n",
      "Decoding Mesh Buffer: 100%|██████████| 1/1 [00:00<?, ?it/s]\n"
     ]
    },
    {
     "name": "stdout",
     "output_type": "stream",
     "text": [
      "completed 89 of 948\n"
     ]
    },
    {
     "name": "stderr",
     "output_type": "stream",
     "text": [
      "Exists: 100%|██████████| 1/1 [00:00<00:00,  1.14it/s]\n",
      "Decoding Mesh Buffer: 100%|██████████| 2/2 [00:00<?, ?it/s]\n"
     ]
    },
    {
     "name": "stdout",
     "output_type": "stream",
     "text": [
      "completed 90 of 948\n"
     ]
    },
    {
     "name": "stderr",
     "output_type": "stream",
     "text": [
      "Exists: 100%|██████████| 1/1 [00:00<00:00,  1.16it/s]\n",
      "Decoding Mesh Buffer: 100%|██████████| 2/2 [00:00<?, ?it/s]\n"
     ]
    },
    {
     "name": "stdout",
     "output_type": "stream",
     "text": [
      "completed 91 of 948\n"
     ]
    },
    {
     "name": "stderr",
     "output_type": "stream",
     "text": [
      "Exists: 100%|██████████| 1/1 [00:00<00:00,  1.07it/s]\n",
      "Decoding Mesh Buffer: 100%|██████████| 2/2 [00:00<?, ?it/s]\n"
     ]
    },
    {
     "name": "stdout",
     "output_type": "stream",
     "text": [
      "completed 92 of 948\n"
     ]
    },
    {
     "name": "stderr",
     "output_type": "stream",
     "text": [
      "Exists: 100%|██████████| 1/1 [00:00<00:00,  1.13it/s]\n",
      "Decoding Mesh Buffer: 100%|██████████| 1/1 [00:00<?, ?it/s]\n"
     ]
    },
    {
     "name": "stdout",
     "output_type": "stream",
     "text": [
      "completed 93 of 948\n"
     ]
    },
    {
     "name": "stderr",
     "output_type": "stream",
     "text": [
      "Exists: 100%|██████████| 1/1 [00:00<00:00,  1.08it/s]\n",
      "Decoding Mesh Buffer: 100%|██████████| 1/1 [00:00<?, ?it/s]\n"
     ]
    },
    {
     "name": "stdout",
     "output_type": "stream",
     "text": [
      "completed 94 of 948\n"
     ]
    },
    {
     "name": "stderr",
     "output_type": "stream",
     "text": [
      "Exists: 100%|██████████| 1/1 [00:00<00:00,  1.14it/s]\n",
      "Decoding Mesh Buffer: 100%|██████████| 2/2 [00:00<?, ?it/s]\n"
     ]
    },
    {
     "name": "stdout",
     "output_type": "stream",
     "text": [
      "completed 95 of 948\n"
     ]
    },
    {
     "name": "stderr",
     "output_type": "stream",
     "text": [
      "Exists: 100%|██████████| 1/1 [00:00<00:00,  1.14it/s]\n",
      "Decoding Mesh Buffer: 100%|██████████| 2/2 [00:00<?, ?it/s]\n"
     ]
    },
    {
     "name": "stdout",
     "output_type": "stream",
     "text": [
      "completed 96 of 948\n"
     ]
    },
    {
     "name": "stderr",
     "output_type": "stream",
     "text": [
      "Exists: 100%|██████████| 1/1 [00:01<00:00,  1.02s/it]\n",
      "Decoding Mesh Buffer: 100%|██████████| 2/2 [00:00<?, ?it/s]\n"
     ]
    },
    {
     "name": "stdout",
     "output_type": "stream",
     "text": [
      "completed 97 of 948\n"
     ]
    },
    {
     "name": "stderr",
     "output_type": "stream",
     "text": [
      "Exists: 100%|██████████| 1/1 [00:00<00:00,  1.10it/s]\n",
      "Decoding Mesh Buffer: 100%|██████████| 4/4 [00:00<?, ?it/s]\n"
     ]
    },
    {
     "name": "stdout",
     "output_type": "stream",
     "text": [
      "completed 98 of 948\n"
     ]
    },
    {
     "name": "stderr",
     "output_type": "stream",
     "text": [
      "Exists: 100%|██████████| 1/1 [00:00<00:00,  1.06it/s]\n",
      "Decoding Mesh Buffer: 100%|██████████| 1/1 [00:00<?, ?it/s]\n"
     ]
    },
    {
     "name": "stdout",
     "output_type": "stream",
     "text": [
      "completed 99 of 948\n"
     ]
    },
    {
     "name": "stderr",
     "output_type": "stream",
     "text": [
      "Exists: 100%|██████████| 1/1 [00:00<00:00,  1.13it/s]\n",
      "Decoding Mesh Buffer: 100%|██████████| 1/1 [00:00<00:00, 987.82it/s]\n"
     ]
    },
    {
     "name": "stdout",
     "output_type": "stream",
     "text": [
      "completed 100 of 948\n"
     ]
    },
    {
     "name": "stderr",
     "output_type": "stream",
     "text": [
      "Exists: 100%|██████████| 1/1 [00:00<00:00,  1.13it/s]\n",
      "Decoding Mesh Buffer: 100%|██████████| 1/1 [00:00<?, ?it/s]\n"
     ]
    },
    {
     "name": "stdout",
     "output_type": "stream",
     "text": [
      "completed 101 of 948\n"
     ]
    },
    {
     "name": "stderr",
     "output_type": "stream",
     "text": [
      "Exists: 100%|██████████| 1/1 [00:00<00:00,  1.14it/s]\n",
      "Decoding Mesh Buffer: 100%|██████████| 2/2 [00:00<?, ?it/s]\n"
     ]
    },
    {
     "name": "stdout",
     "output_type": "stream",
     "text": [
      "completed 102 of 948\n"
     ]
    },
    {
     "name": "stderr",
     "output_type": "stream",
     "text": [
      "Exists: 100%|██████████| 1/1 [00:00<00:00,  1.11it/s]\n",
      "Decoding Mesh Buffer: 100%|██████████| 1/1 [00:00<00:00, 1003.42it/s]\n"
     ]
    },
    {
     "name": "stdout",
     "output_type": "stream",
     "text": [
      "completed 103 of 948\n"
     ]
    },
    {
     "name": "stderr",
     "output_type": "stream",
     "text": [
      "Exists: 100%|██████████| 1/1 [00:00<00:00,  1.08it/s]\n",
      "Decoding Mesh Buffer: 100%|██████████| 1/1 [00:00<?, ?it/s]\n"
     ]
    },
    {
     "name": "stdout",
     "output_type": "stream",
     "text": [
      "completed 104 of 948\n"
     ]
    },
    {
     "name": "stderr",
     "output_type": "stream",
     "text": [
      "Exists: 100%|██████████| 1/1 [00:00<00:00,  1.13it/s]\n",
      "Decoding Mesh Buffer: 100%|██████████| 1/1 [00:00<?, ?it/s]\n"
     ]
    },
    {
     "name": "stdout",
     "output_type": "stream",
     "text": [
      "completed 105 of 948\n"
     ]
    },
    {
     "name": "stderr",
     "output_type": "stream",
     "text": [
      "Exists: 100%|██████████| 1/1 [00:00<00:00,  1.14it/s]\n",
      "Decoding Mesh Buffer: 100%|██████████| 2/2 [00:00<?, ?it/s]\n"
     ]
    },
    {
     "name": "stdout",
     "output_type": "stream",
     "text": [
      "completed 106 of 948\n"
     ]
    },
    {
     "name": "stderr",
     "output_type": "stream",
     "text": [
      "Exists: 100%|██████████| 1/1 [00:01<00:00,  1.17s/it]\n",
      "Decoding Mesh Buffer: 100%|██████████| 2/2 [00:00<?, ?it/s]\n"
     ]
    },
    {
     "name": "stdout",
     "output_type": "stream",
     "text": [
      "completed 107 of 948\n"
     ]
    },
    {
     "name": "stderr",
     "output_type": "stream",
     "text": [
      "Exists: 100%|██████████| 1/1 [00:00<00:00,  1.15it/s]\n",
      "Decoding Mesh Buffer: 100%|██████████| 2/2 [00:00<?, ?it/s]\n"
     ]
    },
    {
     "name": "stdout",
     "output_type": "stream",
     "text": [
      "completed 108 of 948\n"
     ]
    },
    {
     "name": "stderr",
     "output_type": "stream",
     "text": [
      "Exists: 100%|██████████| 1/1 [00:00<00:00,  1.12it/s]\n",
      "Decoding Mesh Buffer: 100%|██████████| 2/2 [00:00<?, ?it/s]\n"
     ]
    },
    {
     "name": "stdout",
     "output_type": "stream",
     "text": [
      "completed 109 of 948\n"
     ]
    },
    {
     "name": "stderr",
     "output_type": "stream",
     "text": [
      "Exists: 100%|██████████| 1/1 [00:00<00:00,  1.14it/s]\n",
      "Decoding Mesh Buffer: 100%|██████████| 1/1 [00:00<?, ?it/s]\n"
     ]
    },
    {
     "name": "stdout",
     "output_type": "stream",
     "text": [
      "completed 110 of 948\n"
     ]
    },
    {
     "name": "stderr",
     "output_type": "stream",
     "text": [
      "Exists: 100%|██████████| 1/1 [00:00<00:00,  1.12it/s]\n",
      "Decoding Mesh Buffer: 100%|██████████| 1/1 [00:00<?, ?it/s]\n"
     ]
    },
    {
     "name": "stdout",
     "output_type": "stream",
     "text": [
      "completed 111 of 948\n"
     ]
    },
    {
     "name": "stderr",
     "output_type": "stream",
     "text": [
      "Exists: 100%|██████████| 1/1 [00:00<00:00,  1.15it/s]\n",
      "Decoding Mesh Buffer: 100%|██████████| 2/2 [00:00<?, ?it/s]\n"
     ]
    },
    {
     "name": "stdout",
     "output_type": "stream",
     "text": [
      "completed 112 of 948\n"
     ]
    },
    {
     "name": "stderr",
     "output_type": "stream",
     "text": [
      "Exists: 100%|██████████| 1/1 [00:00<00:00,  1.13it/s]\n",
      "Decoding Mesh Buffer: 100%|██████████| 2/2 [00:00<?, ?it/s]\n"
     ]
    },
    {
     "name": "stdout",
     "output_type": "stream",
     "text": [
      "completed 113 of 948\n"
     ]
    },
    {
     "name": "stderr",
     "output_type": "stream",
     "text": [
      "Exists: 100%|██████████| 1/1 [00:00<00:00,  1.14it/s]\n",
      "Decoding Mesh Buffer: 100%|██████████| 2/2 [00:00<?, ?it/s]\n"
     ]
    },
    {
     "name": "stdout",
     "output_type": "stream",
     "text": [
      "completed 114 of 948\n"
     ]
    },
    {
     "name": "stderr",
     "output_type": "stream",
     "text": [
      "Exists: 100%|██████████| 1/1 [00:00<00:00,  1.05it/s]\n",
      "Decoding Mesh Buffer: 100%|██████████| 1/1 [00:00<?, ?it/s]\n"
     ]
    },
    {
     "name": "stdout",
     "output_type": "stream",
     "text": [
      "completed 115 of 948\n"
     ]
    },
    {
     "name": "stderr",
     "output_type": "stream",
     "text": [
      "Exists: 100%|██████████| 1/1 [00:00<00:00,  1.15it/s]\n",
      "Decoding Mesh Buffer: 100%|██████████| 1/1 [00:00<?, ?it/s]\n"
     ]
    },
    {
     "name": "stdout",
     "output_type": "stream",
     "text": [
      "completed 116 of 948\n"
     ]
    },
    {
     "name": "stderr",
     "output_type": "stream",
     "text": [
      "Exists: 100%|██████████| 1/1 [00:00<00:00,  1.12it/s]\n",
      "Decoding Mesh Buffer: 100%|██████████| 2/2 [00:00<?, ?it/s]\n"
     ]
    },
    {
     "name": "stdout",
     "output_type": "stream",
     "text": [
      "completed 117 of 948\n"
     ]
    },
    {
     "name": "stderr",
     "output_type": "stream",
     "text": [
      "Exists: 100%|██████████| 1/1 [00:00<00:00,  1.07it/s]\n",
      "Decoding Mesh Buffer: 100%|██████████| 1/1 [00:00<?, ?it/s]\n"
     ]
    },
    {
     "name": "stdout",
     "output_type": "stream",
     "text": [
      "completed 118 of 948\n"
     ]
    },
    {
     "name": "stderr",
     "output_type": "stream",
     "text": [
      "Exists: 100%|██████████| 1/1 [00:00<00:00,  1.18it/s]\n",
      "Decoding Mesh Buffer: 100%|██████████| 2/2 [00:00<?, ?it/s]\n"
     ]
    },
    {
     "name": "stdout",
     "output_type": "stream",
     "text": [
      "completed 119 of 948\n"
     ]
    },
    {
     "name": "stderr",
     "output_type": "stream",
     "text": [
      "Exists: 100%|██████████| 1/1 [00:01<00:00,  1.00s/it]\n",
      "Decoding Mesh Buffer: 100%|██████████| 1/1 [00:00<00:00, 1057.30it/s]\n"
     ]
    },
    {
     "name": "stdout",
     "output_type": "stream",
     "text": [
      "completed 120 of 948\n"
     ]
    },
    {
     "name": "stderr",
     "output_type": "stream",
     "text": [
      "Exists: 100%|██████████| 1/1 [00:00<00:00,  1.14it/s]\n",
      "Decoding Mesh Buffer: 100%|██████████| 2/2 [00:00<?, ?it/s]\n"
     ]
    },
    {
     "name": "stdout",
     "output_type": "stream",
     "text": [
      "completed 121 of 948\n"
     ]
    },
    {
     "name": "stderr",
     "output_type": "stream",
     "text": [
      "Exists: 100%|██████████| 1/1 [00:00<00:00,  1.15it/s]\n",
      "Decoding Mesh Buffer: 100%|██████████| 2/2 [00:00<?, ?it/s]\n"
     ]
    },
    {
     "name": "stdout",
     "output_type": "stream",
     "text": [
      "completed 122 of 948\n"
     ]
    },
    {
     "name": "stderr",
     "output_type": "stream",
     "text": [
      "Exists: 100%|██████████| 1/1 [00:00<00:00,  1.15it/s]\n",
      "Decoding Mesh Buffer: 100%|██████████| 2/2 [00:00<?, ?it/s]\n"
     ]
    },
    {
     "name": "stdout",
     "output_type": "stream",
     "text": [
      "completed 123 of 948\n"
     ]
    },
    {
     "name": "stderr",
     "output_type": "stream",
     "text": [
      "Exists: 100%|██████████| 1/1 [00:00<00:00,  1.15it/s]\n",
      "Decoding Mesh Buffer: 100%|██████████| 2/2 [00:00<?, ?it/s]\n"
     ]
    },
    {
     "name": "stdout",
     "output_type": "stream",
     "text": [
      "completed 124 of 948\n"
     ]
    },
    {
     "name": "stderr",
     "output_type": "stream",
     "text": [
      "Exists: 100%|██████████| 1/1 [00:00<00:00,  1.14it/s]\n",
      "Decoding Mesh Buffer: 100%|██████████| 1/1 [00:00<?, ?it/s]\n"
     ]
    },
    {
     "name": "stdout",
     "output_type": "stream",
     "text": [
      "completed 125 of 948\n"
     ]
    },
    {
     "name": "stderr",
     "output_type": "stream",
     "text": [
      "Exists: 100%|██████████| 1/1 [00:00<00:00,  1.07it/s]\n",
      "Decoding Mesh Buffer: 100%|██████████| 1/1 [00:00<?, ?it/s]\n"
     ]
    },
    {
     "name": "stdout",
     "output_type": "stream",
     "text": [
      "completed 126 of 948\n"
     ]
    },
    {
     "name": "stderr",
     "output_type": "stream",
     "text": [
      "Exists: 100%|██████████| 1/1 [00:00<00:00,  1.10it/s]\n",
      "Decoding Mesh Buffer: 100%|██████████| 2/2 [00:00<?, ?it/s]\n"
     ]
    },
    {
     "name": "stdout",
     "output_type": "stream",
     "text": [
      "completed 127 of 948\n"
     ]
    },
    {
     "name": "stderr",
     "output_type": "stream",
     "text": [
      "Exists: 100%|██████████| 1/1 [00:00<00:00,  1.14it/s]\n",
      "Decoding Mesh Buffer: 100%|██████████| 1/1 [00:00<00:00, 1031.56it/s]\n"
     ]
    },
    {
     "name": "stdout",
     "output_type": "stream",
     "text": [
      "completed 128 of 948\n"
     ]
    },
    {
     "name": "stderr",
     "output_type": "stream",
     "text": [
      "Exists: 100%|██████████| 1/1 [00:00<00:00,  1.16it/s]\n",
      "Decoding Mesh Buffer: 100%|██████████| 2/2 [00:00<?, ?it/s]\n"
     ]
    },
    {
     "name": "stdout",
     "output_type": "stream",
     "text": [
      "completed 129 of 948\n"
     ]
    },
    {
     "name": "stderr",
     "output_type": "stream",
     "text": [
      "Exists: 100%|██████████| 1/1 [00:00<00:00,  1.12it/s]\n",
      "Decoding Mesh Buffer: 100%|██████████| 1/1 [00:00<?, ?it/s]\n"
     ]
    },
    {
     "name": "stdout",
     "output_type": "stream",
     "text": [
      "completed 130 of 948\n"
     ]
    },
    {
     "name": "stderr",
     "output_type": "stream",
     "text": [
      "Exists: 100%|██████████| 1/1 [00:00<00:00,  1.06it/s]\n",
      "Decoding Mesh Buffer: 100%|██████████| 2/2 [00:00<?, ?it/s]\n"
     ]
    },
    {
     "name": "stdout",
     "output_type": "stream",
     "text": [
      "completed 131 of 948\n"
     ]
    },
    {
     "name": "stderr",
     "output_type": "stream",
     "text": [
      "Exists: 100%|██████████| 1/1 [00:01<00:00,  1.11s/it]\n",
      "Decoding Mesh Buffer: 100%|██████████| 1/1 [00:00<?, ?it/s]\n"
     ]
    },
    {
     "name": "stdout",
     "output_type": "stream",
     "text": [
      "completed 132 of 948\n"
     ]
    },
    {
     "name": "stderr",
     "output_type": "stream",
     "text": [
      "Exists: 100%|██████████| 1/1 [00:00<00:00,  1.11it/s]\n",
      "Decoding Mesh Buffer: 100%|██████████| 1/1 [00:00<?, ?it/s]\n"
     ]
    },
    {
     "name": "stdout",
     "output_type": "stream",
     "text": [
      "completed 133 of 948\n"
     ]
    },
    {
     "name": "stderr",
     "output_type": "stream",
     "text": [
      "Exists: 100%|██████████| 1/1 [00:00<00:00,  1.15it/s]\n",
      "Decoding Mesh Buffer: 100%|██████████| 2/2 [00:00<?, ?it/s]\n"
     ]
    },
    {
     "name": "stdout",
     "output_type": "stream",
     "text": [
      "completed 134 of 948\n"
     ]
    },
    {
     "name": "stderr",
     "output_type": "stream",
     "text": [
      "Exists: 100%|██████████| 1/1 [00:00<00:00,  1.12it/s]\n",
      "Decoding Mesh Buffer: 100%|██████████| 1/1 [00:00<?, ?it/s]\n"
     ]
    },
    {
     "name": "stdout",
     "output_type": "stream",
     "text": [
      "completed 135 of 948\n"
     ]
    },
    {
     "name": "stderr",
     "output_type": "stream",
     "text": [
      "Exists: 100%|██████████| 1/1 [00:00<00:00,  1.16it/s]\n",
      "Decoding Mesh Buffer: 100%|██████████| 2/2 [00:00<?, ?it/s]\n"
     ]
    },
    {
     "name": "stdout",
     "output_type": "stream",
     "text": [
      "completed 136 of 948\n"
     ]
    },
    {
     "name": "stderr",
     "output_type": "stream",
     "text": [
      "Exists: 100%|██████████| 1/1 [00:00<00:00,  1.18it/s]\n",
      "Decoding Mesh Buffer: 100%|██████████| 1/1 [00:00<?, ?it/s]\n"
     ]
    },
    {
     "name": "stdout",
     "output_type": "stream",
     "text": [
      "completed 137 of 948\n"
     ]
    },
    {
     "name": "stderr",
     "output_type": "stream",
     "text": [
      "Exists: 100%|██████████| 1/1 [00:00<00:00,  1.17it/s]\n",
      "Decoding Mesh Buffer: 100%|██████████| 1/1 [00:00<?, ?it/s]\n"
     ]
    },
    {
     "name": "stdout",
     "output_type": "stream",
     "text": [
      "completed 138 of 948\n"
     ]
    },
    {
     "name": "stderr",
     "output_type": "stream",
     "text": [
      "Exists: 100%|██████████| 1/1 [00:00<00:00,  1.11it/s]\n",
      "Decoding Mesh Buffer: 100%|██████████| 1/1 [00:00<00:00, 1079.34it/s]\n"
     ]
    },
    {
     "name": "stdout",
     "output_type": "stream",
     "text": [
      "completed 139 of 948\n"
     ]
    },
    {
     "name": "stderr",
     "output_type": "stream",
     "text": [
      "Exists: 100%|██████████| 1/1 [00:00<00:00,  1.14it/s]\n",
      "Decoding Mesh Buffer: 100%|██████████| 2/2 [00:00<?, ?it/s]\n"
     ]
    },
    {
     "name": "stdout",
     "output_type": "stream",
     "text": [
      "completed 140 of 948\n"
     ]
    },
    {
     "name": "stderr",
     "output_type": "stream",
     "text": [
      "Exists: 100%|██████████| 1/1 [00:00<00:00,  1.14it/s]\n",
      "Decoding Mesh Buffer: 100%|██████████| 2/2 [00:00<?, ?it/s]\n"
     ]
    },
    {
     "name": "stdout",
     "output_type": "stream",
     "text": [
      "completed 141 of 948\n"
     ]
    },
    {
     "name": "stderr",
     "output_type": "stream",
     "text": [
      "Exists: 100%|██████████| 1/1 [00:00<00:00,  1.15it/s]\n",
      "Decoding Mesh Buffer: 100%|██████████| 2/2 [00:00<00:00, 2190.24it/s]\n"
     ]
    },
    {
     "name": "stdout",
     "output_type": "stream",
     "text": [
      "completed 142 of 948\n"
     ]
    },
    {
     "name": "stderr",
     "output_type": "stream",
     "text": [
      "Exists: 100%|██████████| 1/1 [00:00<00:00,  1.13it/s]\n",
      "Decoding Mesh Buffer: 100%|██████████| 2/2 [00:00<?, ?it/s]\n"
     ]
    },
    {
     "name": "stdout",
     "output_type": "stream",
     "text": [
      "completed 143 of 948\n"
     ]
    },
    {
     "name": "stderr",
     "output_type": "stream",
     "text": [
      "Exists: 100%|██████████| 1/1 [00:00<00:00,  1.15it/s]\n",
      "Decoding Mesh Buffer: 100%|██████████| 1/1 [00:00<?, ?it/s]\n"
     ]
    },
    {
     "name": "stdout",
     "output_type": "stream",
     "text": [
      "completed 144 of 948\n"
     ]
    },
    {
     "name": "stderr",
     "output_type": "stream",
     "text": [
      "Exists: 100%|██████████| 1/1 [00:00<00:00,  1.11it/s]\n",
      "Decoding Mesh Buffer: 100%|██████████| 1/1 [00:00<?, ?it/s]\n"
     ]
    },
    {
     "name": "stdout",
     "output_type": "stream",
     "text": [
      "completed 145 of 948\n"
     ]
    },
    {
     "name": "stderr",
     "output_type": "stream",
     "text": [
      "Exists: 100%|██████████| 1/1 [00:00<00:00,  1.01it/s]\n",
      "Decoding Mesh Buffer: 100%|██████████| 1/1 [00:00<00:00, 1010.92it/s]\n"
     ]
    },
    {
     "name": "stdout",
     "output_type": "stream",
     "text": [
      "completed 146 of 948\n"
     ]
    },
    {
     "name": "stderr",
     "output_type": "stream",
     "text": [
      "Exists: 100%|██████████| 1/1 [00:00<00:00,  1.14it/s]\n",
      "Decoding Mesh Buffer: 100%|██████████| 1/1 [00:00<?, ?it/s]\n"
     ]
    },
    {
     "name": "stdout",
     "output_type": "stream",
     "text": [
      "completed 147 of 948\n"
     ]
    },
    {
     "name": "stderr",
     "output_type": "stream",
     "text": [
      "Exists: 100%|██████████| 1/1 [00:00<00:00,  1.14it/s]\n",
      "Decoding Mesh Buffer: 100%|██████████| 2/2 [00:00<?, ?it/s]\n"
     ]
    },
    {
     "name": "stdout",
     "output_type": "stream",
     "text": [
      "completed 148 of 948\n"
     ]
    },
    {
     "name": "stderr",
     "output_type": "stream",
     "text": [
      "Exists: 100%|██████████| 1/1 [00:00<00:00,  1.06it/s]\n",
      "Decoding Mesh Buffer: 100%|██████████| 2/2 [00:00<?, ?it/s]\n"
     ]
    },
    {
     "name": "stdout",
     "output_type": "stream",
     "text": [
      "completed 149 of 948\n"
     ]
    },
    {
     "name": "stderr",
     "output_type": "stream",
     "text": [
      "Exists: 100%|██████████| 1/1 [00:00<00:00,  1.15it/s]\n",
      "Decoding Mesh Buffer: 100%|██████████| 1/1 [00:00<00:00, 986.90it/s]\n"
     ]
    },
    {
     "name": "stdout",
     "output_type": "stream",
     "text": [
      "completed 150 of 948\n"
     ]
    },
    {
     "name": "stderr",
     "output_type": "stream",
     "text": [
      "Exists: 100%|██████████| 1/1 [00:00<00:00,  1.14it/s]\n",
      "Decoding Mesh Buffer: 100%|██████████| 1/1 [00:00<?, ?it/s]\n"
     ]
    },
    {
     "name": "stdout",
     "output_type": "stream",
     "text": [
      "completed 151 of 948\n"
     ]
    },
    {
     "name": "stderr",
     "output_type": "stream",
     "text": [
      "Exists: 100%|██████████| 1/1 [00:00<00:00,  1.08it/s]\n",
      "Decoding Mesh Buffer: 100%|██████████| 1/1 [00:00<?, ?it/s]\n"
     ]
    },
    {
     "name": "stdout",
     "output_type": "stream",
     "text": [
      "completed 152 of 948\n"
     ]
    },
    {
     "name": "stderr",
     "output_type": "stream",
     "text": [
      "Exists: 100%|██████████| 1/1 [00:00<00:00,  1.13it/s]\n",
      "Decoding Mesh Buffer: 100%|██████████| 1/1 [00:00<00:00, 629.59it/s]\n"
     ]
    },
    {
     "name": "stdout",
     "output_type": "stream",
     "text": [
      "completed 153 of 948\n"
     ]
    },
    {
     "name": "stderr",
     "output_type": "stream",
     "text": [
      "Exists: 100%|██████████| 1/1 [00:00<00:00,  1.15it/s]\n",
      "Decoding Mesh Buffer: 100%|██████████| 2/2 [00:00<?, ?it/s]\n"
     ]
    },
    {
     "name": "stdout",
     "output_type": "stream",
     "text": [
      "completed 154 of 948\n"
     ]
    },
    {
     "name": "stderr",
     "output_type": "stream",
     "text": [
      "Exists: 100%|██████████| 1/1 [00:00<00:00,  1.17it/s]\n",
      "Decoding Mesh Buffer: 100%|██████████| 1/1 [00:00<?, ?it/s]\n"
     ]
    },
    {
     "name": "stdout",
     "output_type": "stream",
     "text": [
      "completed 155 of 948\n"
     ]
    },
    {
     "name": "stderr",
     "output_type": "stream",
     "text": [
      "Exists: 100%|██████████| 1/1 [00:00<00:00,  1.14it/s]\n",
      "Decoding Mesh Buffer: 100%|██████████| 1/1 [00:00<?, ?it/s]\n"
     ]
    },
    {
     "name": "stdout",
     "output_type": "stream",
     "text": [
      "completed 156 of 948\n"
     ]
    },
    {
     "name": "stderr",
     "output_type": "stream",
     "text": [
      "Exists: 100%|██████████| 1/1 [00:00<00:00,  1.07it/s]\n",
      "Decoding Mesh Buffer: 100%|██████████| 1/1 [00:00<?, ?it/s]\n"
     ]
    },
    {
     "name": "stdout",
     "output_type": "stream",
     "text": [
      "completed 157 of 948\n"
     ]
    },
    {
     "name": "stderr",
     "output_type": "stream",
     "text": [
      "Exists: 100%|██████████| 1/1 [00:00<00:00,  1.14it/s]\n",
      "Decoding Mesh Buffer: 100%|██████████| 1/1 [00:00<00:00, 1985.00it/s]\n"
     ]
    },
    {
     "name": "stdout",
     "output_type": "stream",
     "text": [
      "completed 158 of 948\n"
     ]
    },
    {
     "name": "stderr",
     "output_type": "stream",
     "text": [
      "Exists: 100%|██████████| 1/1 [00:00<00:00,  1.12it/s]\n",
      "Decoding Mesh Buffer: 100%|██████████| 2/2 [00:00<?, ?it/s]\n"
     ]
    },
    {
     "name": "stdout",
     "output_type": "stream",
     "text": [
      "completed 159 of 948\n"
     ]
    },
    {
     "name": "stderr",
     "output_type": "stream",
     "text": [
      "Exists: 100%|██████████| 1/1 [00:00<00:00,  1.12it/s]\n",
      "Decoding Mesh Buffer: 100%|██████████| 1/1 [00:00<00:00, 1005.11it/s]\n"
     ]
    },
    {
     "name": "stdout",
     "output_type": "stream",
     "text": [
      "completed 160 of 948\n"
     ]
    },
    {
     "name": "stderr",
     "output_type": "stream",
     "text": [
      "Exists: 100%|██████████| 1/1 [00:00<00:00,  1.15it/s]\n",
      "Decoding Mesh Buffer: 100%|██████████| 2/2 [00:00<?, ?it/s]\n"
     ]
    },
    {
     "name": "stdout",
     "output_type": "stream",
     "text": [
      "completed 161 of 948\n"
     ]
    },
    {
     "name": "stderr",
     "output_type": "stream",
     "text": [
      "Exists: 100%|██████████| 1/1 [00:00<00:00,  1.07it/s]\n",
      "Decoding Mesh Buffer: 100%|██████████| 1/1 [00:00<00:00, 992.50it/s]\n"
     ]
    },
    {
     "name": "stdout",
     "output_type": "stream",
     "text": [
      "completed 162 of 948\n"
     ]
    },
    {
     "name": "stderr",
     "output_type": "stream",
     "text": [
      "Exists: 100%|██████████| 1/1 [00:00<00:00,  1.14it/s]\n",
      "Decoding Mesh Buffer: 100%|██████████| 2/2 [00:00<00:00, 1991.60it/s]\n"
     ]
    },
    {
     "name": "stdout",
     "output_type": "stream",
     "text": [
      "completed 163 of 948\n"
     ]
    },
    {
     "name": "stderr",
     "output_type": "stream",
     "text": [
      "Exists: 100%|██████████| 1/1 [00:00<00:00,  1.02it/s]\n",
      "Decoding Mesh Buffer: 100%|██████████| 1/1 [00:00<?, ?it/s]\n"
     ]
    },
    {
     "name": "stdout",
     "output_type": "stream",
     "text": [
      "completed 164 of 948\n"
     ]
    },
    {
     "name": "stderr",
     "output_type": "stream",
     "text": [
      "Exists: 100%|██████████| 1/1 [00:00<00:00,  1.16it/s]\n",
      "Decoding Mesh Buffer: 100%|██████████| 2/2 [00:00<00:00, 1987.82it/s]\n"
     ]
    },
    {
     "name": "stdout",
     "output_type": "stream",
     "text": [
      "completed 165 of 948\n"
     ]
    },
    {
     "name": "stderr",
     "output_type": "stream",
     "text": [
      "Exists: 100%|██████████| 1/1 [00:00<00:00,  1.15it/s]\n",
      "Decoding Mesh Buffer: 100%|██████████| 2/2 [00:00<?, ?it/s]\n"
     ]
    },
    {
     "name": "stdout",
     "output_type": "stream",
     "text": [
      "completed 166 of 948\n"
     ]
    },
    {
     "name": "stderr",
     "output_type": "stream",
     "text": [
      "Exists: 100%|██████████| 1/1 [00:01<00:00,  1.03s/it]\n",
      "Decoding Mesh Buffer: 100%|██████████| 2/2 [00:00<?, ?it/s]\n"
     ]
    },
    {
     "name": "stdout",
     "output_type": "stream",
     "text": [
      "completed 167 of 948\n"
     ]
    },
    {
     "name": "stderr",
     "output_type": "stream",
     "text": [
      "Exists: 100%|██████████| 1/1 [00:00<00:00,  1.04it/s]\n",
      "Decoding Mesh Buffer: 100%|██████████| 2/2 [00:00<00:00, 2150.93it/s]\n"
     ]
    },
    {
     "name": "stdout",
     "output_type": "stream",
     "text": [
      "completed 168 of 948\n"
     ]
    },
    {
     "name": "stderr",
     "output_type": "stream",
     "text": [
      "Exists: 100%|██████████| 1/1 [00:00<00:00,  1.12it/s]\n",
      "Decoding Mesh Buffer: 100%|██████████| 2/2 [00:00<?, ?it/s]\n"
     ]
    },
    {
     "name": "stdout",
     "output_type": "stream",
     "text": [
      "completed 169 of 948\n"
     ]
    },
    {
     "name": "stderr",
     "output_type": "stream",
     "text": [
      "Exists: 100%|██████████| 1/1 [00:00<00:00,  1.14it/s]\n",
      "Decoding Mesh Buffer: 100%|██████████| 2/2 [00:00<?, ?it/s]\n"
     ]
    },
    {
     "name": "stdout",
     "output_type": "stream",
     "text": [
      "completed 170 of 948\n"
     ]
    },
    {
     "name": "stderr",
     "output_type": "stream",
     "text": [
      "Exists: 100%|██████████| 1/1 [00:00<00:00,  1.16it/s]\n",
      "Decoding Mesh Buffer: 100%|██████████| 2/2 [00:00<?, ?it/s]\n"
     ]
    },
    {
     "name": "stdout",
     "output_type": "stream",
     "text": [
      "completed 171 of 948\n"
     ]
    },
    {
     "name": "stderr",
     "output_type": "stream",
     "text": [
      "Exists: 100%|██████████| 1/1 [00:01<00:00,  1.15s/it]\n",
      "Decoding Mesh Buffer: 100%|██████████| 1/1 [00:00<?, ?it/s]\n"
     ]
    },
    {
     "name": "stdout",
     "output_type": "stream",
     "text": [
      "completed 172 of 948\n"
     ]
    },
    {
     "name": "stderr",
     "output_type": "stream",
     "text": [
      "Exists: 100%|██████████| 1/1 [00:00<00:00,  1.09it/s]\n",
      "Decoding Mesh Buffer: 100%|██████████| 1/1 [00:00<00:00, 1008.49it/s]\n"
     ]
    },
    {
     "name": "stdout",
     "output_type": "stream",
     "text": [
      "completed 173 of 948\n"
     ]
    },
    {
     "name": "stderr",
     "output_type": "stream",
     "text": [
      "Exists: 100%|██████████| 1/1 [00:00<00:00,  1.16it/s]\n",
      "Decoding Mesh Buffer: 100%|██████████| 2/2 [00:00<?, ?it/s]\n"
     ]
    },
    {
     "name": "stdout",
     "output_type": "stream",
     "text": [
      "completed 174 of 948\n"
     ]
    },
    {
     "name": "stderr",
     "output_type": "stream",
     "text": [
      "Exists: 100%|██████████| 1/1 [00:00<00:00,  1.12it/s]\n",
      "Decoding Mesh Buffer: 100%|██████████| 1/1 [00:00<?, ?it/s]\n"
     ]
    },
    {
     "name": "stdout",
     "output_type": "stream",
     "text": [
      "completed 175 of 948\n"
     ]
    },
    {
     "name": "stderr",
     "output_type": "stream",
     "text": [
      "Exists: 100%|██████████| 1/1 [00:01<00:00,  1.09s/it]\n",
      "Decoding Mesh Buffer: 100%|██████████| 1/1 [00:00<00:00, 1005.83it/s]\n"
     ]
    },
    {
     "name": "stdout",
     "output_type": "stream",
     "text": [
      "completed 176 of 948\n"
     ]
    },
    {
     "name": "stderr",
     "output_type": "stream",
     "text": [
      "Exists: 100%|██████████| 1/1 [00:00<00:00,  1.14it/s]\n",
      "Decoding Mesh Buffer: 100%|██████████| 2/2 [00:00<00:00, 1977.05it/s]\n"
     ]
    },
    {
     "name": "stdout",
     "output_type": "stream",
     "text": [
      "completed 177 of 948\n"
     ]
    },
    {
     "name": "stderr",
     "output_type": "stream",
     "text": [
      "Exists: 100%|██████████| 1/1 [00:00<00:00,  1.13it/s]\n",
      "Decoding Mesh Buffer: 100%|██████████| 1/1 [00:00<?, ?it/s]\n"
     ]
    },
    {
     "name": "stdout",
     "output_type": "stream",
     "text": [
      "completed 178 of 948\n"
     ]
    },
    {
     "name": "stderr",
     "output_type": "stream",
     "text": [
      "Exists: 100%|██████████| 1/1 [00:00<00:00,  1.15it/s]\n",
      "Decoding Mesh Buffer: 100%|██████████| 1/1 [00:00<00:00, 1625.70it/s]\n"
     ]
    },
    {
     "name": "stdout",
     "output_type": "stream",
     "text": [
      "completed 179 of 948\n"
     ]
    },
    {
     "name": "stderr",
     "output_type": "stream",
     "text": [
      "Exists: 100%|██████████| 1/1 [00:00<00:00,  1.17it/s]\n",
      "Decoding Mesh Buffer: 100%|██████████| 1/1 [00:00<?, ?it/s]\n"
     ]
    },
    {
     "name": "stdout",
     "output_type": "stream",
     "text": [
      "completed 180 of 948\n"
     ]
    },
    {
     "name": "stderr",
     "output_type": "stream",
     "text": [
      "Exists: 100%|██████████| 1/1 [00:00<00:00,  1.09it/s]\n",
      "Decoding Mesh Buffer: 100%|██████████| 1/1 [00:00<?, ?it/s]\n"
     ]
    },
    {
     "name": "stdout",
     "output_type": "stream",
     "text": [
      "completed 181 of 948\n"
     ]
    },
    {
     "name": "stderr",
     "output_type": "stream",
     "text": [
      "Exists: 100%|██████████| 1/1 [00:00<00:00,  1.16it/s]\n",
      "Decoding Mesh Buffer: 100%|██████████| 1/1 [00:00<?, ?it/s]\n"
     ]
    },
    {
     "name": "stdout",
     "output_type": "stream",
     "text": [
      "completed 182 of 948\n"
     ]
    },
    {
     "name": "stderr",
     "output_type": "stream",
     "text": [
      "Exists: 100%|██████████| 1/1 [00:00<00:00,  1.05it/s]\n",
      "Decoding Mesh Buffer: 100%|██████████| 1/1 [00:00<00:00, 1040.77it/s]\n"
     ]
    },
    {
     "name": "stdout",
     "output_type": "stream",
     "text": [
      "completed 183 of 948\n"
     ]
    },
    {
     "name": "stderr",
     "output_type": "stream",
     "text": [
      "Exists: 100%|██████████| 1/1 [00:00<00:00,  1.17it/s]\n",
      "Decoding Mesh Buffer: 100%|██████████| 1/1 [00:00<?, ?it/s]\n"
     ]
    },
    {
     "name": "stdout",
     "output_type": "stream",
     "text": [
      "completed 184 of 948\n"
     ]
    },
    {
     "name": "stderr",
     "output_type": "stream",
     "text": [
      "Exists: 100%|██████████| 1/1 [00:00<00:00,  1.12it/s]\n",
      "Decoding Mesh Buffer: 100%|██████████| 2/2 [00:00<?, ?it/s]\n"
     ]
    },
    {
     "name": "stdout",
     "output_type": "stream",
     "text": [
      "completed 185 of 948\n"
     ]
    },
    {
     "name": "stderr",
     "output_type": "stream",
     "text": [
      "Exists: 100%|██████████| 1/1 [00:00<00:00,  1.16it/s]\n",
      "Decoding Mesh Buffer: 100%|██████████| 1/1 [00:00<00:00, 1000.31it/s]\n"
     ]
    },
    {
     "name": "stdout",
     "output_type": "stream",
     "text": [
      "completed 186 of 948\n"
     ]
    },
    {
     "name": "stderr",
     "output_type": "stream",
     "text": [
      "Exists: 100%|██████████| 1/1 [00:00<00:00,  1.17it/s]\n",
      "Decoding Mesh Buffer: 100%|██████████| 1/1 [00:00<?, ?it/s]\n"
     ]
    },
    {
     "name": "stdout",
     "output_type": "stream",
     "text": [
      "completed 187 of 948\n"
     ]
    },
    {
     "name": "stderr",
     "output_type": "stream",
     "text": [
      "Exists: 100%|██████████| 1/1 [00:00<00:00,  1.17it/s]\n",
      "Decoding Mesh Buffer: 100%|██████████| 2/2 [00:00<?, ?it/s]\n"
     ]
    },
    {
     "name": "stdout",
     "output_type": "stream",
     "text": [
      "completed 188 of 948\n"
     ]
    },
    {
     "name": "stderr",
     "output_type": "stream",
     "text": [
      "Exists: 100%|██████████| 1/1 [00:00<00:00,  1.07it/s]\n",
      "Decoding Mesh Buffer: 100%|██████████| 1/1 [00:00<00:00, 1016.80it/s]\n"
     ]
    },
    {
     "name": "stdout",
     "output_type": "stream",
     "text": [
      "completed 189 of 948\n"
     ]
    },
    {
     "name": "stderr",
     "output_type": "stream",
     "text": [
      "Exists: 100%|██████████| 1/1 [00:00<00:00,  1.00it/s]\n",
      "Decoding Mesh Buffer: 100%|██████████| 2/2 [00:00<?, ?it/s]\n"
     ]
    },
    {
     "name": "stdout",
     "output_type": "stream",
     "text": [
      "completed 190 of 948\n"
     ]
    },
    {
     "name": "stderr",
     "output_type": "stream",
     "text": [
      "Exists: 100%|██████████| 1/1 [00:00<00:00,  1.16it/s]\n",
      "Decoding Mesh Buffer: 100%|██████████| 1/1 [00:00<?, ?it/s]\n"
     ]
    },
    {
     "name": "stdout",
     "output_type": "stream",
     "text": [
      "completed 191 of 948\n"
     ]
    },
    {
     "name": "stderr",
     "output_type": "stream",
     "text": [
      "Exists: 100%|██████████| 1/1 [00:00<00:00,  1.13it/s]\n",
      "Decoding Mesh Buffer: 100%|██████████| 1/1 [00:00<?, ?it/s]\n"
     ]
    },
    {
     "name": "stdout",
     "output_type": "stream",
     "text": [
      "completed 192 of 948\n"
     ]
    },
    {
     "name": "stderr",
     "output_type": "stream",
     "text": [
      "Exists: 100%|██████████| 1/1 [00:00<00:00,  1.12it/s]\n",
      "Decoding Mesh Buffer: 100%|██████████| 1/1 [00:00<?, ?it/s]\n"
     ]
    },
    {
     "name": "stdout",
     "output_type": "stream",
     "text": [
      "completed 193 of 948\n"
     ]
    },
    {
     "name": "stderr",
     "output_type": "stream",
     "text": [
      "Exists: 100%|██████████| 1/1 [00:00<00:00,  1.16it/s]\n",
      "Decoding Mesh Buffer: 100%|██████████| 1/1 [00:00<?, ?it/s]\n"
     ]
    },
    {
     "name": "stdout",
     "output_type": "stream",
     "text": [
      "completed 194 of 948\n"
     ]
    },
    {
     "name": "stderr",
     "output_type": "stream",
     "text": [
      "Exists: 100%|██████████| 1/1 [00:00<00:00,  1.15it/s]\n",
      "Decoding Mesh Buffer: 100%|██████████| 1/1 [00:00<00:00, 996.75it/s]\n"
     ]
    },
    {
     "name": "stdout",
     "output_type": "stream",
     "text": [
      "completed 195 of 948\n"
     ]
    },
    {
     "name": "stderr",
     "output_type": "stream",
     "text": [
      "Exists: 100%|██████████| 1/1 [00:00<00:00,  1.17it/s]\n",
      "Decoding Mesh Buffer: 100%|██████████| 2/2 [00:00<00:00, 1863.31it/s]\n"
     ]
    },
    {
     "name": "stdout",
     "output_type": "stream",
     "text": [
      "completed 196 of 948\n"
     ]
    },
    {
     "name": "stderr",
     "output_type": "stream",
     "text": [
      "Exists: 100%|██████████| 1/1 [00:00<00:00,  1.13it/s]\n",
      "Decoding Mesh Buffer: 100%|██████████| 1/1 [00:00<?, ?it/s]\n"
     ]
    },
    {
     "name": "stdout",
     "output_type": "stream",
     "text": [
      "completed 197 of 948\n"
     ]
    },
    {
     "name": "stderr",
     "output_type": "stream",
     "text": [
      "Exists: 100%|██████████| 1/1 [00:01<00:00,  1.17s/it]\n",
      "Decoding Mesh Buffer: 100%|██████████| 2/2 [00:00<?, ?it/s]\n"
     ]
    },
    {
     "name": "stdout",
     "output_type": "stream",
     "text": [
      "completed 198 of 948\n"
     ]
    },
    {
     "name": "stderr",
     "output_type": "stream",
     "text": [
      "Exists: 100%|██████████| 1/1 [00:01<00:00,  1.31s/it]\n",
      "Decoding Mesh Buffer: 100%|██████████| 2/2 [00:00<?, ?it/s]\n"
     ]
    },
    {
     "name": "stdout",
     "output_type": "stream",
     "text": [
      "completed 199 of 948\n"
     ]
    },
    {
     "name": "stderr",
     "output_type": "stream",
     "text": [
      "Exists: 100%|██████████| 1/1 [00:00<00:00,  1.07it/s]\n",
      "Decoding Mesh Buffer: 100%|██████████| 1/1 [00:00<00:00, 1062.12it/s]\n"
     ]
    },
    {
     "name": "stdout",
     "output_type": "stream",
     "text": [
      "completed 200 of 948\n"
     ]
    },
    {
     "name": "stderr",
     "output_type": "stream",
     "text": [
      "Exists: 100%|██████████| 1/1 [00:00<00:00,  1.13it/s]\n",
      "Decoding Mesh Buffer: 100%|██████████| 1/1 [00:00<?, ?it/s]\n"
     ]
    },
    {
     "name": "stdout",
     "output_type": "stream",
     "text": [
      "completed 201 of 948\n"
     ]
    },
    {
     "name": "stderr",
     "output_type": "stream",
     "text": [
      "Exists: 100%|██████████| 1/1 [00:00<00:00,  1.13it/s]\n",
      "Decoding Mesh Buffer: 100%|██████████| 1/1 [00:00<00:00, 984.58it/s]\n"
     ]
    },
    {
     "name": "stdout",
     "output_type": "stream",
     "text": [
      "completed 202 of 948\n"
     ]
    },
    {
     "name": "stderr",
     "output_type": "stream",
     "text": [
      "Exists: 100%|██████████| 1/1 [00:00<00:00,  1.07it/s]\n",
      "Decoding Mesh Buffer: 100%|██████████| 1/1 [00:00<?, ?it/s]\n"
     ]
    },
    {
     "name": "stdout",
     "output_type": "stream",
     "text": [
      "completed 203 of 948\n"
     ]
    },
    {
     "name": "stderr",
     "output_type": "stream",
     "text": [
      "Exists: 100%|██████████| 1/1 [00:00<00:00,  1.17it/s]\n",
      "Decoding Mesh Buffer: 100%|██████████| 1/1 [00:00<?, ?it/s]\n"
     ]
    },
    {
     "name": "stdout",
     "output_type": "stream",
     "text": [
      "completed 204 of 948\n"
     ]
    },
    {
     "name": "stderr",
     "output_type": "stream",
     "text": [
      "Exists: 100%|██████████| 1/1 [00:00<00:00,  1.11it/s]\n",
      "Decoding Mesh Buffer: 100%|██████████| 1/1 [00:00<?, ?it/s]\n"
     ]
    },
    {
     "name": "stdout",
     "output_type": "stream",
     "text": [
      "completed 205 of 948\n"
     ]
    },
    {
     "name": "stderr",
     "output_type": "stream",
     "text": [
      "Exists: 100%|██████████| 1/1 [00:00<00:00,  1.16it/s]\n",
      "Decoding Mesh Buffer: 100%|██████████| 2/2 [00:00<?, ?it/s]\n"
     ]
    },
    {
     "name": "stdout",
     "output_type": "stream",
     "text": [
      "completed 206 of 948\n"
     ]
    },
    {
     "name": "stderr",
     "output_type": "stream",
     "text": [
      "Exists: 100%|██████████| 1/1 [00:00<00:00,  1.10it/s]\n",
      "Decoding Mesh Buffer: 100%|██████████| 1/1 [00:00<?, ?it/s]\n"
     ]
    },
    {
     "name": "stdout",
     "output_type": "stream",
     "text": [
      "completed 207 of 948\n"
     ]
    },
    {
     "name": "stderr",
     "output_type": "stream",
     "text": [
      "Exists: 100%|██████████| 1/1 [00:00<00:00,  1.14it/s]\n",
      "Decoding Mesh Buffer: 100%|██████████| 2/2 [00:00<00:00, 1984.06it/s]\n"
     ]
    },
    {
     "name": "stdout",
     "output_type": "stream",
     "text": [
      "completed 208 of 948\n"
     ]
    },
    {
     "name": "stderr",
     "output_type": "stream",
     "text": [
      "Exists: 100%|██████████| 1/1 [00:00<00:00,  1.16it/s]\n",
      "Decoding Mesh Buffer: 100%|██████████| 1/1 [00:00<?, ?it/s]\n"
     ]
    },
    {
     "name": "stdout",
     "output_type": "stream",
     "text": [
      "completed 209 of 948\n"
     ]
    },
    {
     "name": "stderr",
     "output_type": "stream",
     "text": [
      "Exists: 100%|██████████| 1/1 [00:00<00:00,  1.15it/s]\n",
      "Decoding Mesh Buffer: 100%|██████████| 1/1 [00:00<?, ?it/s]\n"
     ]
    },
    {
     "name": "stdout",
     "output_type": "stream",
     "text": [
      "completed 210 of 948\n"
     ]
    },
    {
     "name": "stderr",
     "output_type": "stream",
     "text": [
      "Exists: 100%|██████████| 1/1 [00:00<00:00,  1.17it/s]\n",
      "Decoding Mesh Buffer: 100%|██████████| 1/1 [00:00<?, ?it/s]\n"
     ]
    },
    {
     "name": "stdout",
     "output_type": "stream",
     "text": [
      "completed 211 of 948\n"
     ]
    },
    {
     "name": "stderr",
     "output_type": "stream",
     "text": [
      "Exists: 100%|██████████| 1/1 [00:00<00:00,  1.11it/s]\n",
      "Decoding Mesh Buffer: 100%|██████████| 2/2 [00:00<?, ?it/s]\n"
     ]
    },
    {
     "name": "stdout",
     "output_type": "stream",
     "text": [
      "completed 212 of 948\n"
     ]
    },
    {
     "name": "stderr",
     "output_type": "stream",
     "text": [
      "Exists: 100%|██████████| 1/1 [00:00<00:00,  1.15it/s]\n",
      "Decoding Mesh Buffer: 100%|██████████| 1/1 [00:00<?, ?it/s]\n"
     ]
    },
    {
     "name": "stdout",
     "output_type": "stream",
     "text": [
      "completed 213 of 948\n"
     ]
    },
    {
     "name": "stderr",
     "output_type": "stream",
     "text": [
      "Exists: 100%|██████████| 1/1 [00:00<00:00,  1.15it/s]\n",
      "Decoding Mesh Buffer: 100%|██████████| 1/1 [00:00<?, ?it/s]\n"
     ]
    },
    {
     "name": "stdout",
     "output_type": "stream",
     "text": [
      "completed 214 of 948\n"
     ]
    },
    {
     "name": "stderr",
     "output_type": "stream",
     "text": [
      "Exists: 100%|██████████| 1/1 [00:00<00:00,  1.12it/s]\n",
      "Decoding Mesh Buffer: 100%|██████████| 2/2 [00:00<00:00, 1971.01it/s]\n"
     ]
    },
    {
     "name": "stdout",
     "output_type": "stream",
     "text": [
      "completed 215 of 948\n"
     ]
    },
    {
     "name": "stderr",
     "output_type": "stream",
     "text": [
      "Exists: 100%|██████████| 1/1 [00:00<00:00,  1.15it/s]\n",
      "Decoding Mesh Buffer: 100%|██████████| 1/1 [00:00<00:00, 951.31it/s]\n"
     ]
    },
    {
     "name": "stdout",
     "output_type": "stream",
     "text": [
      "completed 216 of 948\n"
     ]
    },
    {
     "name": "stderr",
     "output_type": "stream",
     "text": [
      "Exists: 100%|██████████| 1/1 [00:00<00:00,  1.15it/s]\n",
      "Decoding Mesh Buffer: 100%|██████████| 1/1 [00:00<?, ?it/s]\n"
     ]
    },
    {
     "name": "stdout",
     "output_type": "stream",
     "text": [
      "completed 217 of 948\n"
     ]
    },
    {
     "name": "stderr",
     "output_type": "stream",
     "text": [
      "Exists: 100%|██████████| 1/1 [00:00<00:00,  1.16it/s]\n",
      "Decoding Mesh Buffer: 100%|██████████| 2/2 [00:00<?, ?it/s]\n"
     ]
    },
    {
     "name": "stdout",
     "output_type": "stream",
     "text": [
      "completed 218 of 948\n"
     ]
    },
    {
     "name": "stderr",
     "output_type": "stream",
     "text": [
      "Exists: 100%|██████████| 1/1 [00:00<00:00,  1.13it/s]\n",
      "Decoding Mesh Buffer: 100%|██████████| 1/1 [00:00<?, ?it/s]\n"
     ]
    },
    {
     "name": "stdout",
     "output_type": "stream",
     "text": [
      "completed 219 of 948\n"
     ]
    },
    {
     "name": "stderr",
     "output_type": "stream",
     "text": [
      "Exists: 100%|██████████| 1/1 [00:00<00:00,  1.18it/s]\n",
      "Decoding Mesh Buffer: 100%|██████████| 1/1 [00:00<?, ?it/s]\n"
     ]
    },
    {
     "name": "stdout",
     "output_type": "stream",
     "text": [
      "completed 220 of 948\n"
     ]
    },
    {
     "name": "stderr",
     "output_type": "stream",
     "text": [
      "Exists: 100%|██████████| 1/1 [00:00<00:00,  1.13it/s]\n",
      "Decoding Mesh Buffer: 100%|██████████| 2/2 [00:00<?, ?it/s]\n"
     ]
    },
    {
     "name": "stdout",
     "output_type": "stream",
     "text": [
      "completed 221 of 948\n"
     ]
    },
    {
     "name": "stderr",
     "output_type": "stream",
     "text": [
      "Exists: 100%|██████████| 1/1 [00:00<00:00,  1.14it/s]\n",
      "Decoding Mesh Buffer: 100%|██████████| 1/1 [00:00<?, ?it/s]\n"
     ]
    },
    {
     "name": "stdout",
     "output_type": "stream",
     "text": [
      "completed 222 of 948\n"
     ]
    },
    {
     "name": "stderr",
     "output_type": "stream",
     "text": [
      "Exists: 100%|██████████| 1/1 [00:00<00:00,  1.12it/s]\n",
      "Decoding Mesh Buffer: 100%|██████████| 2/2 [00:00<?, ?it/s]\n"
     ]
    },
    {
     "name": "stdout",
     "output_type": "stream",
     "text": [
      "completed 223 of 948\n"
     ]
    },
    {
     "name": "stderr",
     "output_type": "stream",
     "text": [
      "Exists: 100%|██████████| 1/1 [00:01<00:00,  1.00s/it]\n",
      "Decoding Mesh Buffer: 100%|██████████| 1/1 [00:00<?, ?it/s]\n"
     ]
    },
    {
     "name": "stdout",
     "output_type": "stream",
     "text": [
      "completed 224 of 948\n"
     ]
    },
    {
     "name": "stderr",
     "output_type": "stream",
     "text": [
      "Exists: 100%|██████████| 1/1 [00:00<00:00,  1.14it/s]\n",
      "Decoding Mesh Buffer: 100%|██████████| 1/1 [00:00<?, ?it/s]\n"
     ]
    },
    {
     "name": "stdout",
     "output_type": "stream",
     "text": [
      "completed 225 of 948\n"
     ]
    },
    {
     "name": "stderr",
     "output_type": "stream",
     "text": [
      "Exists: 100%|██████████| 1/1 [00:00<00:00,  1.00it/s]\n",
      "Decoding Mesh Buffer: 100%|██████████| 1/1 [00:00<?, ?it/s]\n"
     ]
    },
    {
     "name": "stdout",
     "output_type": "stream",
     "text": [
      "completed 226 of 948\n"
     ]
    },
    {
     "name": "stderr",
     "output_type": "stream",
     "text": [
      "Exists: 100%|██████████| 1/1 [00:00<00:00,  1.11it/s]\n",
      "Decoding Mesh Buffer: 100%|██████████| 1/1 [00:00<?, ?it/s]\n"
     ]
    },
    {
     "name": "stdout",
     "output_type": "stream",
     "text": [
      "completed 227 of 948\n"
     ]
    },
    {
     "name": "stderr",
     "output_type": "stream",
     "text": [
      "Exists: 100%|██████████| 1/1 [00:00<00:00,  1.14it/s]\n",
      "Decoding Mesh Buffer: 100%|██████████| 1/1 [00:00<00:00, 1064.00it/s]\n"
     ]
    },
    {
     "name": "stdout",
     "output_type": "stream",
     "text": [
      "completed 228 of 948\n"
     ]
    },
    {
     "name": "stderr",
     "output_type": "stream",
     "text": [
      "Exists: 100%|██████████| 1/1 [00:00<00:00,  1.05it/s]\n",
      "Decoding Mesh Buffer: 100%|██████████| 1/1 [00:00<?, ?it/s]\n"
     ]
    },
    {
     "name": "stdout",
     "output_type": "stream",
     "text": [
      "completed 229 of 948\n"
     ]
    },
    {
     "name": "stderr",
     "output_type": "stream",
     "text": [
      "Exists: 100%|██████████| 1/1 [00:00<00:00,  1.11it/s]\n",
      "Decoding Mesh Buffer: 100%|██████████| 2/2 [00:00<?, ?it/s]\n"
     ]
    },
    {
     "name": "stdout",
     "output_type": "stream",
     "text": [
      "completed 230 of 948\n"
     ]
    },
    {
     "name": "stderr",
     "output_type": "stream",
     "text": [
      "Exists: 100%|██████████| 1/1 [00:00<00:00,  1.06it/s]\n",
      "Decoding Mesh Buffer: 100%|██████████| 1/1 [00:00<?, ?it/s]\n"
     ]
    },
    {
     "name": "stdout",
     "output_type": "stream",
     "text": [
      "completed 231 of 948\n"
     ]
    },
    {
     "name": "stderr",
     "output_type": "stream",
     "text": [
      "Exists: 100%|██████████| 1/1 [00:00<00:00,  1.13it/s]\n",
      "Decoding Mesh Buffer: 100%|██████████| 1/1 [00:00<?, ?it/s]\n"
     ]
    },
    {
     "name": "stdout",
     "output_type": "stream",
     "text": [
      "completed 232 of 948\n"
     ]
    },
    {
     "name": "stderr",
     "output_type": "stream",
     "text": [
      "Exists: 100%|██████████| 1/1 [00:00<00:00,  1.15it/s]\n",
      "Decoding Mesh Buffer: 100%|██████████| 1/1 [00:00<?, ?it/s]\n"
     ]
    },
    {
     "name": "stdout",
     "output_type": "stream",
     "text": [
      "completed 233 of 948\n"
     ]
    },
    {
     "name": "stderr",
     "output_type": "stream",
     "text": [
      "Exists: 100%|██████████| 1/1 [00:00<00:00,  1.12it/s]\n",
      "Decoding Mesh Buffer: 100%|██████████| 1/1 [00:00<?, ?it/s]\n"
     ]
    },
    {
     "name": "stdout",
     "output_type": "stream",
     "text": [
      "completed 234 of 948\n"
     ]
    },
    {
     "name": "stderr",
     "output_type": "stream",
     "text": [
      "Exists: 100%|██████████| 1/1 [00:00<00:00,  1.13it/s]\n",
      "Decoding Mesh Buffer: 100%|██████████| 1/1 [00:00<?, ?it/s]\n"
     ]
    },
    {
     "name": "stdout",
     "output_type": "stream",
     "text": [
      "completed 235 of 948\n"
     ]
    },
    {
     "name": "stderr",
     "output_type": "stream",
     "text": [
      "Exists: 100%|██████████| 1/1 [00:00<00:00,  1.13it/s]\n",
      "Decoding Mesh Buffer: 100%|██████████| 1/1 [00:00<?, ?it/s]\n"
     ]
    },
    {
     "name": "stdout",
     "output_type": "stream",
     "text": [
      "completed 236 of 948\n"
     ]
    },
    {
     "name": "stderr",
     "output_type": "stream",
     "text": [
      "Exists: 100%|██████████| 1/1 [00:00<00:00,  1.11it/s]\n",
      "Decoding Mesh Buffer: 100%|██████████| 1/1 [00:00<?, ?it/s]\n"
     ]
    },
    {
     "name": "stdout",
     "output_type": "stream",
     "text": [
      "completed 237 of 948\n"
     ]
    },
    {
     "name": "stderr",
     "output_type": "stream",
     "text": [
      "Exists: 100%|██████████| 1/1 [00:00<00:00,  1.17it/s]\n",
      "Decoding Mesh Buffer: 100%|██████████| 1/1 [00:00<?, ?it/s]\n"
     ]
    },
    {
     "name": "stdout",
     "output_type": "stream",
     "text": [
      "completed 238 of 948\n"
     ]
    },
    {
     "name": "stderr",
     "output_type": "stream",
     "text": [
      "Exists: 100%|██████████| 1/1 [00:00<00:00,  1.09it/s]\n",
      "Decoding Mesh Buffer: 100%|██████████| 1/1 [00:00<?, ?it/s]\n"
     ]
    },
    {
     "name": "stdout",
     "output_type": "stream",
     "text": [
      "completed 239 of 948\n"
     ]
    },
    {
     "name": "stderr",
     "output_type": "stream",
     "text": [
      "Exists: 100%|██████████| 1/1 [00:00<00:00,  1.09it/s]\n",
      "Decoding Mesh Buffer: 100%|██████████| 1/1 [00:00<?, ?it/s]\n"
     ]
    },
    {
     "name": "stdout",
     "output_type": "stream",
     "text": [
      "completed 240 of 948\n"
     ]
    },
    {
     "name": "stderr",
     "output_type": "stream",
     "text": [
      "Exists: 100%|██████████| 1/1 [00:00<00:00,  1.15it/s]\n",
      "Decoding Mesh Buffer: 100%|██████████| 2/2 [00:00<?, ?it/s]\n"
     ]
    },
    {
     "name": "stdout",
     "output_type": "stream",
     "text": [
      "completed 241 of 948\n"
     ]
    },
    {
     "name": "stderr",
     "output_type": "stream",
     "text": [
      "Exists: 100%|██████████| 1/1 [00:00<00:00,  1.06it/s]\n",
      "Decoding Mesh Buffer: 100%|██████████| 1/1 [00:00<?, ?it/s]\n"
     ]
    },
    {
     "name": "stdout",
     "output_type": "stream",
     "text": [
      "completed 242 of 948\n"
     ]
    },
    {
     "name": "stderr",
     "output_type": "stream",
     "text": [
      "Exists: 100%|██████████| 1/1 [00:01<00:00,  1.01s/it]\n",
      "Decoding Mesh Buffer: 100%|██████████| 1/1 [00:00<?, ?it/s]\n"
     ]
    },
    {
     "name": "stdout",
     "output_type": "stream",
     "text": [
      "completed 243 of 948\n"
     ]
    },
    {
     "name": "stderr",
     "output_type": "stream",
     "text": [
      "Exists: 100%|██████████| 1/1 [00:00<00:00,  1.06it/s]\n",
      "Decoding Mesh Buffer: 100%|██████████| 2/2 [00:00<?, ?it/s]\n"
     ]
    },
    {
     "name": "stdout",
     "output_type": "stream",
     "text": [
      "completed 244 of 948\n"
     ]
    },
    {
     "name": "stderr",
     "output_type": "stream",
     "text": [
      "Exists: 100%|██████████| 1/1 [00:01<00:00,  1.03s/it]\n",
      "Decoding Mesh Buffer: 100%|██████████| 1/1 [00:00<?, ?it/s]\n"
     ]
    },
    {
     "name": "stdout",
     "output_type": "stream",
     "text": [
      "completed 245 of 948\n"
     ]
    },
    {
     "name": "stderr",
     "output_type": "stream",
     "text": [
      "Exists: 100%|██████████| 1/1 [00:00<00:00,  1.14it/s]\n",
      "Decoding Mesh Buffer: 100%|██████████| 1/1 [00:00<?, ?it/s]\n"
     ]
    },
    {
     "name": "stdout",
     "output_type": "stream",
     "text": [
      "completed 246 of 948\n"
     ]
    },
    {
     "name": "stderr",
     "output_type": "stream",
     "text": [
      "Exists: 100%|██████████| 1/1 [00:00<00:00,  1.17it/s]\n",
      "Decoding Mesh Buffer: 100%|██████████| 1/1 [00:00<?, ?it/s]\n"
     ]
    },
    {
     "name": "stdout",
     "output_type": "stream",
     "text": [
      "completed 247 of 948\n"
     ]
    },
    {
     "name": "stderr",
     "output_type": "stream",
     "text": [
      "Exists: 100%|██████████| 1/1 [00:00<00:00,  1.14it/s]\n",
      "Decoding Mesh Buffer: 100%|██████████| 2/2 [00:00<?, ?it/s]\n"
     ]
    },
    {
     "name": "stdout",
     "output_type": "stream",
     "text": [
      "completed 248 of 948\n"
     ]
    },
    {
     "name": "stderr",
     "output_type": "stream",
     "text": [
      "Exists: 100%|██████████| 1/1 [00:00<00:00,  1.10it/s]\n",
      "Decoding Mesh Buffer: 100%|██████████| 1/1 [00:00<?, ?it/s]\n"
     ]
    },
    {
     "name": "stdout",
     "output_type": "stream",
     "text": [
      "completed 249 of 948\n"
     ]
    },
    {
     "name": "stderr",
     "output_type": "stream",
     "text": [
      "Exists: 100%|██████████| 1/1 [00:00<00:00,  1.03it/s]\n",
      "Decoding Mesh Buffer: 100%|██████████| 1/1 [00:00<00:00, 953.25it/s]\n"
     ]
    },
    {
     "name": "stdout",
     "output_type": "stream",
     "text": [
      "completed 250 of 948\n"
     ]
    },
    {
     "name": "stderr",
     "output_type": "stream",
     "text": [
      "Exists: 100%|██████████| 1/1 [00:00<00:00,  1.14it/s]\n",
      "Decoding Mesh Buffer: 100%|██████████| 1/1 [00:00<00:00, 999.83it/s]\n"
     ]
    },
    {
     "name": "stdout",
     "output_type": "stream",
     "text": [
      "completed 251 of 948\n"
     ]
    },
    {
     "name": "stderr",
     "output_type": "stream",
     "text": [
      "Exists: 100%|██████████| 1/1 [00:00<00:00,  1.14it/s]\n",
      "Decoding Mesh Buffer: 100%|██████████| 2/2 [00:00<?, ?it/s]\n"
     ]
    },
    {
     "name": "stdout",
     "output_type": "stream",
     "text": [
      "completed 252 of 948\n"
     ]
    },
    {
     "name": "stderr",
     "output_type": "stream",
     "text": [
      "Exists: 100%|██████████| 1/1 [00:00<00:00,  1.15it/s]\n",
      "Decoding Mesh Buffer: 100%|██████████| 2/2 [00:00<?, ?it/s]\n"
     ]
    },
    {
     "name": "stdout",
     "output_type": "stream",
     "text": [
      "completed 253 of 948\n"
     ]
    },
    {
     "name": "stderr",
     "output_type": "stream",
     "text": [
      "Exists: 100%|██████████| 1/1 [00:00<00:00,  1.14it/s]\n",
      "Decoding Mesh Buffer: 100%|██████████| 1/1 [00:00<?, ?it/s]\n"
     ]
    },
    {
     "name": "stdout",
     "output_type": "stream",
     "text": [
      "completed 254 of 948\n"
     ]
    },
    {
     "name": "stderr",
     "output_type": "stream",
     "text": [
      "Exists: 100%|██████████| 1/1 [00:00<00:00,  1.15it/s]\n",
      "Decoding Mesh Buffer: 100%|██████████| 1/1 [00:00<?, ?it/s]\n"
     ]
    },
    {
     "name": "stdout",
     "output_type": "stream",
     "text": [
      "completed 255 of 948\n"
     ]
    },
    {
     "name": "stderr",
     "output_type": "stream",
     "text": [
      "Exists: 100%|██████████| 1/1 [00:00<00:00,  1.13it/s]\n",
      "Decoding Mesh Buffer: 100%|██████████| 1/1 [00:00<00:00, 1053.85it/s]\n"
     ]
    },
    {
     "name": "stdout",
     "output_type": "stream",
     "text": [
      "completed 256 of 948\n"
     ]
    },
    {
     "name": "stderr",
     "output_type": "stream",
     "text": [
      "Exists: 100%|██████████| 1/1 [00:00<00:00,  1.16it/s]\n",
      "Decoding Mesh Buffer: 100%|██████████| 1/1 [00:00<?, ?it/s]\n"
     ]
    },
    {
     "name": "stdout",
     "output_type": "stream",
     "text": [
      "completed 257 of 948\n"
     ]
    },
    {
     "name": "stderr",
     "output_type": "stream",
     "text": [
      "Exists: 100%|██████████| 1/1 [00:00<00:00,  1.14it/s]\n",
      "Decoding Mesh Buffer: 100%|██████████| 3/3 [00:00<?, ?it/s]\n"
     ]
    },
    {
     "name": "stdout",
     "output_type": "stream",
     "text": [
      "completed 258 of 948\n"
     ]
    },
    {
     "name": "stderr",
     "output_type": "stream",
     "text": [
      "Exists: 100%|██████████| 1/1 [00:00<00:00,  1.14it/s]\n",
      "Decoding Mesh Buffer: 100%|██████████| 1/1 [00:00<?, ?it/s]\n"
     ]
    },
    {
     "name": "stdout",
     "output_type": "stream",
     "text": [
      "completed 259 of 948\n"
     ]
    },
    {
     "name": "stderr",
     "output_type": "stream",
     "text": [
      "Exists: 100%|██████████| 1/1 [00:00<00:00,  1.04it/s]\n",
      "Decoding Mesh Buffer: 100%|██████████| 1/1 [00:00<?, ?it/s]\n"
     ]
    },
    {
     "name": "stdout",
     "output_type": "stream",
     "text": [
      "completed 260 of 948\n"
     ]
    },
    {
     "name": "stderr",
     "output_type": "stream",
     "text": [
      "Exists: 100%|██████████| 1/1 [00:01<00:00,  1.02s/it]\n",
      "Decoding Mesh Buffer: 100%|██████████| 2/2 [00:00<?, ?it/s]\n"
     ]
    },
    {
     "name": "stdout",
     "output_type": "stream",
     "text": [
      "completed 261 of 948\n"
     ]
    },
    {
     "name": "stderr",
     "output_type": "stream",
     "text": [
      "Exists: 100%|██████████| 1/1 [00:00<00:00,  1.13it/s]\n",
      "Decoding Mesh Buffer: 100%|██████████| 1/1 [00:00<?, ?it/s]\n"
     ]
    },
    {
     "name": "stdout",
     "output_type": "stream",
     "text": [
      "completed 262 of 948\n"
     ]
    },
    {
     "name": "stderr",
     "output_type": "stream",
     "text": [
      "Exists: 100%|██████████| 1/1 [00:00<00:00,  1.08it/s]\n",
      "Decoding Mesh Buffer: 100%|██████████| 1/1 [00:00<?, ?it/s]\n"
     ]
    },
    {
     "name": "stdout",
     "output_type": "stream",
     "text": [
      "completed 263 of 948\n"
     ]
    },
    {
     "name": "stderr",
     "output_type": "stream",
     "text": [
      "Exists: 100%|██████████| 1/1 [00:00<00:00,  1.06it/s]\n",
      "Decoding Mesh Buffer: 100%|██████████| 1/1 [00:00<00:00, 1000.79it/s]\n"
     ]
    },
    {
     "name": "stdout",
     "output_type": "stream",
     "text": [
      "completed 264 of 948\n"
     ]
    },
    {
     "name": "stderr",
     "output_type": "stream",
     "text": [
      "Exists: 100%|██████████| 1/1 [00:00<00:00,  1.12it/s]\n",
      "Decoding Mesh Buffer: 100%|██████████| 1/1 [00:00<?, ?it/s]\n"
     ]
    },
    {
     "name": "stdout",
     "output_type": "stream",
     "text": [
      "completed 265 of 948\n"
     ]
    },
    {
     "name": "stderr",
     "output_type": "stream",
     "text": [
      "Exists: 100%|██████████| 1/1 [00:00<00:00,  1.11it/s]\n",
      "Decoding Mesh Buffer: 100%|██████████| 1/1 [00:00<00:00, 1021.75it/s]\n"
     ]
    },
    {
     "name": "stdout",
     "output_type": "stream",
     "text": [
      "completed 266 of 948\n"
     ]
    },
    {
     "name": "stderr",
     "output_type": "stream",
     "text": [
      "Exists: 100%|██████████| 1/1 [00:00<00:00,  1.12it/s]\n",
      "Decoding Mesh Buffer: 100%|██████████| 1/1 [00:00<?, ?it/s]\n"
     ]
    },
    {
     "name": "stdout",
     "output_type": "stream",
     "text": [
      "completed 267 of 948\n"
     ]
    },
    {
     "name": "stderr",
     "output_type": "stream",
     "text": [
      "Exists: 100%|██████████| 1/1 [00:00<00:00,  1.12it/s]\n",
      "Decoding Mesh Buffer: 100%|██████████| 2/2 [00:00<?, ?it/s]\n"
     ]
    },
    {
     "name": "stdout",
     "output_type": "stream",
     "text": [
      "completed 268 of 948\n"
     ]
    },
    {
     "name": "stderr",
     "output_type": "stream",
     "text": [
      "Exists: 100%|██████████| 1/1 [00:00<00:00,  1.11it/s]\n",
      "Decoding Mesh Buffer: 100%|██████████| 1/1 [00:00<?, ?it/s]\n"
     ]
    },
    {
     "name": "stdout",
     "output_type": "stream",
     "text": [
      "completed 269 of 948\n"
     ]
    },
    {
     "name": "stderr",
     "output_type": "stream",
     "text": [
      "Exists: 100%|██████████| 1/1 [00:00<00:00,  1.13it/s]\n",
      "Decoding Mesh Buffer: 100%|██████████| 2/2 [00:00<?, ?it/s]\n"
     ]
    },
    {
     "name": "stdout",
     "output_type": "stream",
     "text": [
      "completed 270 of 948\n"
     ]
    },
    {
     "name": "stderr",
     "output_type": "stream",
     "text": [
      "Exists: 100%|██████████| 1/1 [00:00<00:00,  1.16it/s]\n",
      "Decoding Mesh Buffer: 100%|██████████| 1/1 [00:00<?, ?it/s]\n"
     ]
    },
    {
     "name": "stdout",
     "output_type": "stream",
     "text": [
      "completed 271 of 948\n"
     ]
    },
    {
     "name": "stderr",
     "output_type": "stream",
     "text": [
      "Exists: 100%|██████████| 1/1 [00:00<00:00,  1.17it/s]\n",
      "Decoding Mesh Buffer: 100%|██████████| 1/1 [00:00<?, ?it/s]\n"
     ]
    },
    {
     "name": "stdout",
     "output_type": "stream",
     "text": [
      "completed 272 of 948\n"
     ]
    },
    {
     "name": "stderr",
     "output_type": "stream",
     "text": [
      "Exists: 100%|██████████| 1/1 [00:00<00:00,  1.14it/s]\n",
      "Decoding Mesh Buffer: 100%|██████████| 1/1 [00:00<00:00, 996.75it/s]\n"
     ]
    },
    {
     "name": "stdout",
     "output_type": "stream",
     "text": [
      "completed 273 of 948\n"
     ]
    },
    {
     "name": "stderr",
     "output_type": "stream",
     "text": [
      "Exists: 100%|██████████| 1/1 [00:00<00:00,  1.17it/s]\n",
      "Decoding Mesh Buffer: 100%|██████████| 1/1 [00:00<?, ?it/s]\n"
     ]
    },
    {
     "name": "stdout",
     "output_type": "stream",
     "text": [
      "completed 274 of 948\n"
     ]
    },
    {
     "name": "stderr",
     "output_type": "stream",
     "text": [
      "Exists: 100%|██████████| 1/1 [00:00<00:00,  1.13it/s]\n",
      "Decoding Mesh Buffer: 100%|██████████| 1/1 [00:00<?, ?it/s]\n"
     ]
    },
    {
     "name": "stdout",
     "output_type": "stream",
     "text": [
      "completed 275 of 948\n"
     ]
    },
    {
     "name": "stderr",
     "output_type": "stream",
     "text": [
      "Exists: 100%|██████████| 1/1 [00:00<00:00,  1.13it/s]\n",
      "Decoding Mesh Buffer: 100%|██████████| 1/1 [00:00<00:00, 1006.55it/s]\n"
     ]
    },
    {
     "name": "stdout",
     "output_type": "stream",
     "text": [
      "completed 276 of 948\n"
     ]
    },
    {
     "name": "stderr",
     "output_type": "stream",
     "text": [
      "Exists: 100%|██████████| 1/1 [00:00<00:00,  1.15it/s]\n",
      "Decoding Mesh Buffer: 100%|██████████| 1/1 [00:00<00:00, 913.19it/s]\n"
     ]
    },
    {
     "name": "stdout",
     "output_type": "stream",
     "text": [
      "completed 277 of 948\n"
     ]
    },
    {
     "name": "stderr",
     "output_type": "stream",
     "text": [
      "Exists: 100%|██████████| 1/1 [00:00<00:00,  1.13it/s]\n",
      "Decoding Mesh Buffer: 100%|██████████| 1/1 [00:00<?, ?it/s]\n"
     ]
    },
    {
     "name": "stdout",
     "output_type": "stream",
     "text": [
      "completed 278 of 948\n"
     ]
    },
    {
     "name": "stderr",
     "output_type": "stream",
     "text": [
      "Exists: 100%|██████████| 1/1 [00:00<00:00,  1.13it/s]\n",
      "Decoding Mesh Buffer: 100%|██████████| 1/1 [00:00<?, ?it/s]\n"
     ]
    },
    {
     "name": "stdout",
     "output_type": "stream",
     "text": [
      "completed 279 of 948\n"
     ]
    },
    {
     "name": "stderr",
     "output_type": "stream",
     "text": [
      "Exists: 100%|██████████| 1/1 [00:00<00:00,  1.12it/s]\n",
      "Decoding Mesh Buffer: 100%|██████████| 1/1 [00:00<?, ?it/s]\n"
     ]
    },
    {
     "name": "stdout",
     "output_type": "stream",
     "text": [
      "completed 280 of 948\n"
     ]
    },
    {
     "name": "stderr",
     "output_type": "stream",
     "text": [
      "Exists: 100%|██████████| 1/1 [00:00<00:00,  1.14it/s]\n",
      "Decoding Mesh Buffer: 100%|██████████| 1/1 [00:00<?, ?it/s]\n"
     ]
    },
    {
     "name": "stdout",
     "output_type": "stream",
     "text": [
      "completed 281 of 948\n"
     ]
    },
    {
     "name": "stderr",
     "output_type": "stream",
     "text": [
      "Exists: 100%|██████████| 1/1 [00:01<00:00,  1.07s/it]\n",
      "Decoding Mesh Buffer: 100%|██████████| 2/2 [00:00<?, ?it/s]\n"
     ]
    },
    {
     "name": "stdout",
     "output_type": "stream",
     "text": [
      "completed 282 of 948\n"
     ]
    },
    {
     "name": "stderr",
     "output_type": "stream",
     "text": [
      "Exists: 100%|██████████| 1/1 [00:00<00:00,  1.14it/s]\n",
      "Decoding Mesh Buffer: 100%|██████████| 1/1 [00:00<?, ?it/s]\n"
     ]
    },
    {
     "name": "stdout",
     "output_type": "stream",
     "text": [
      "completed 283 of 948\n"
     ]
    },
    {
     "name": "stderr",
     "output_type": "stream",
     "text": [
      "Exists: 100%|██████████| 1/1 [00:00<00:00,  1.13it/s]\n",
      "Decoding Mesh Buffer: 100%|██████████| 1/1 [00:00<?, ?it/s]\n"
     ]
    },
    {
     "name": "stdout",
     "output_type": "stream",
     "text": [
      "completed 284 of 948\n"
     ]
    },
    {
     "name": "stderr",
     "output_type": "stream",
     "text": [
      "Exists: 100%|██████████| 1/1 [00:01<00:00,  1.06s/it]\n",
      "Decoding Mesh Buffer: 100%|██████████| 1/1 [00:00<?, ?it/s]\n"
     ]
    },
    {
     "name": "stdout",
     "output_type": "stream",
     "text": [
      "completed 285 of 948\n"
     ]
    },
    {
     "name": "stderr",
     "output_type": "stream",
     "text": [
      "Exists: 100%|██████████| 1/1 [00:00<00:00,  1.13it/s]\n",
      "Decoding Mesh Buffer: 100%|██████████| 4/4 [00:00<00:00, 7745.71it/s]\n"
     ]
    },
    {
     "name": "stdout",
     "output_type": "stream",
     "text": [
      "completed 286 of 948\n"
     ]
    },
    {
     "name": "stderr",
     "output_type": "stream",
     "text": [
      "Exists: 100%|██████████| 1/1 [00:00<00:00,  1.17it/s]\n",
      "Decoding Mesh Buffer: 100%|██████████| 2/2 [00:00<00:00, 1986.41it/s]\n"
     ]
    },
    {
     "name": "stdout",
     "output_type": "stream",
     "text": [
      "completed 287 of 948\n"
     ]
    },
    {
     "name": "stderr",
     "output_type": "stream",
     "text": [
      "Exists: 100%|██████████| 1/1 [00:00<00:00,  1.16it/s]\n",
      "Decoding Mesh Buffer: 100%|██████████| 4/4 [00:00<?, ?it/s]\n"
     ]
    },
    {
     "name": "stdout",
     "output_type": "stream",
     "text": [
      "completed 288 of 948\n"
     ]
    },
    {
     "name": "stderr",
     "output_type": "stream",
     "text": [
      "Exists: 100%|██████████| 1/1 [00:01<00:00,  1.08s/it]\n",
      "Decoding Mesh Buffer: 100%|██████████| 1/1 [00:00<?, ?it/s]\n"
     ]
    },
    {
     "name": "stdout",
     "output_type": "stream",
     "text": [
      "completed 289 of 948\n"
     ]
    },
    {
     "name": "stderr",
     "output_type": "stream",
     "text": [
      "Exists: 100%|██████████| 1/1 [00:00<00:00,  1.16it/s]\n",
      "Decoding Mesh Buffer: 100%|██████████| 2/2 [00:00<?, ?it/s]\n"
     ]
    },
    {
     "name": "stdout",
     "output_type": "stream",
     "text": [
      "completed 290 of 948\n"
     ]
    },
    {
     "name": "stderr",
     "output_type": "stream",
     "text": [
      "Exists: 100%|██████████| 1/1 [00:00<00:00,  1.15it/s]\n",
      "Decoding Mesh Buffer: 100%|██████████| 2/2 [00:00<?, ?it/s]\n"
     ]
    },
    {
     "name": "stdout",
     "output_type": "stream",
     "text": [
      "completed 291 of 948\n"
     ]
    },
    {
     "name": "stderr",
     "output_type": "stream",
     "text": [
      "Exists: 100%|██████████| 1/1 [00:00<00:00,  1.16it/s]\n",
      "Decoding Mesh Buffer: 100%|██████████| 1/1 [00:00<?, ?it/s]\n"
     ]
    },
    {
     "name": "stdout",
     "output_type": "stream",
     "text": [
      "completed 292 of 948\n"
     ]
    },
    {
     "name": "stderr",
     "output_type": "stream",
     "text": [
      "Exists: 100%|██████████| 1/1 [00:00<00:00,  1.17it/s]\n",
      "Decoding Mesh Buffer: 100%|██████████| 1/1 [00:00<?, ?it/s]\n"
     ]
    },
    {
     "name": "stdout",
     "output_type": "stream",
     "text": [
      "completed 293 of 948\n"
     ]
    },
    {
     "name": "stderr",
     "output_type": "stream",
     "text": [
      "Exists: 100%|██████████| 1/1 [00:00<00:00,  1.14it/s]\n",
      "Decoding Mesh Buffer: 100%|██████████| 1/1 [00:00<?, ?it/s]\n"
     ]
    },
    {
     "name": "stdout",
     "output_type": "stream",
     "text": [
      "completed 294 of 948\n"
     ]
    },
    {
     "name": "stderr",
     "output_type": "stream",
     "text": [
      "Exists: 100%|██████████| 1/1 [00:00<00:00,  1.15it/s]\n",
      "Decoding Mesh Buffer: 100%|██████████| 1/1 [00:00<?, ?it/s]\n"
     ]
    },
    {
     "name": "stdout",
     "output_type": "stream",
     "text": [
      "completed 295 of 948\n"
     ]
    },
    {
     "name": "stderr",
     "output_type": "stream",
     "text": [
      "Exists: 100%|██████████| 1/1 [00:00<00:00,  1.14it/s]\n",
      "Decoding Mesh Buffer: 100%|██████████| 1/1 [00:00<?, ?it/s]\n"
     ]
    },
    {
     "name": "stdout",
     "output_type": "stream",
     "text": [
      "completed 296 of 948\n"
     ]
    },
    {
     "name": "stderr",
     "output_type": "stream",
     "text": [
      "Exists: 100%|██████████| 1/1 [00:00<00:00,  1.14it/s]\n",
      "Decoding Mesh Buffer: 100%|██████████| 1/1 [00:00<00:00, 898.72it/s]\n"
     ]
    },
    {
     "name": "stdout",
     "output_type": "stream",
     "text": [
      "completed 297 of 948\n"
     ]
    },
    {
     "name": "stderr",
     "output_type": "stream",
     "text": [
      "Exists: 100%|██████████| 1/1 [00:00<00:00,  1.10it/s]\n",
      "Decoding Mesh Buffer: 100%|██████████| 1/1 [00:00<00:00, 975.65it/s]\n"
     ]
    },
    {
     "name": "stdout",
     "output_type": "stream",
     "text": [
      "completed 298 of 948\n"
     ]
    },
    {
     "name": "stderr",
     "output_type": "stream",
     "text": [
      "Exists: 100%|██████████| 1/1 [00:00<00:00,  1.16it/s]\n",
      "Decoding Mesh Buffer: 100%|██████████| 2/2 [00:00<?, ?it/s]\n"
     ]
    },
    {
     "name": "stdout",
     "output_type": "stream",
     "text": [
      "completed 299 of 948\n"
     ]
    },
    {
     "name": "stderr",
     "output_type": "stream",
     "text": [
      "Exists: 100%|██████████| 1/1 [00:00<00:00,  1.12it/s]\n",
      "Decoding Mesh Buffer: 100%|██████████| 1/1 [00:00<00:00, 992.03it/s]\n"
     ]
    },
    {
     "name": "stdout",
     "output_type": "stream",
     "text": [
      "completed 300 of 948\n"
     ]
    },
    {
     "name": "stderr",
     "output_type": "stream",
     "text": [
      "Exists: 100%|██████████| 1/1 [00:00<00:00,  1.12it/s]\n",
      "Decoding Mesh Buffer: 100%|██████████| 1/1 [00:00<?, ?it/s]\n"
     ]
    },
    {
     "name": "stdout",
     "output_type": "stream",
     "text": [
      "completed 301 of 948\n"
     ]
    },
    {
     "name": "stderr",
     "output_type": "stream",
     "text": [
      "Exists: 100%|██████████| 1/1 [00:00<00:00,  1.12it/s]\n",
      "Decoding Mesh Buffer: 100%|██████████| 1/1 [00:00<?, ?it/s]\n"
     ]
    },
    {
     "name": "stdout",
     "output_type": "stream",
     "text": [
      "completed 302 of 948\n"
     ]
    },
    {
     "name": "stderr",
     "output_type": "stream",
     "text": [
      "Exists: 100%|██████████| 1/1 [00:00<00:00,  1.13it/s]\n",
      "Decoding Mesh Buffer: 100%|██████████| 1/1 [00:00<00:00, 1000.07it/s]\n"
     ]
    },
    {
     "name": "stdout",
     "output_type": "stream",
     "text": [
      "completed 303 of 948\n"
     ]
    },
    {
     "name": "stderr",
     "output_type": "stream",
     "text": [
      "Exists: 100%|██████████| 1/1 [00:00<00:00,  1.07it/s]\n",
      "Decoding Mesh Buffer: 100%|██████████| 1/1 [00:00<?, ?it/s]\n"
     ]
    },
    {
     "name": "stdout",
     "output_type": "stream",
     "text": [
      "completed 304 of 948\n"
     ]
    },
    {
     "name": "stderr",
     "output_type": "stream",
     "text": [
      "Exists: 100%|██████████| 1/1 [00:00<00:00,  1.08it/s]\n",
      "Decoding Mesh Buffer: 100%|██████████| 1/1 [00:00<00:00, 608.49it/s]\n"
     ]
    },
    {
     "name": "stdout",
     "output_type": "stream",
     "text": [
      "completed 305 of 948\n"
     ]
    },
    {
     "name": "stderr",
     "output_type": "stream",
     "text": [
      "Exists: 100%|██████████| 1/1 [00:00<00:00,  1.06it/s]\n",
      "Decoding Mesh Buffer: 100%|██████████| 2/2 [00:00<?, ?it/s]\n"
     ]
    },
    {
     "name": "stdout",
     "output_type": "stream",
     "text": [
      "completed 306 of 948\n"
     ]
    },
    {
     "name": "stderr",
     "output_type": "stream",
     "text": [
      "Exists: 100%|██████████| 1/1 [00:00<00:00,  1.10it/s]\n",
      "Decoding Mesh Buffer: 100%|██████████| 1/1 [00:00<?, ?it/s]\n"
     ]
    },
    {
     "name": "stdout",
     "output_type": "stream",
     "text": [
      "completed 307 of 948\n"
     ]
    },
    {
     "name": "stderr",
     "output_type": "stream",
     "text": [
      "Exists: 100%|██████████| 1/1 [00:01<00:00,  1.13s/it]\n",
      "Decoding Mesh Buffer: 100%|██████████| 1/1 [00:00<?, ?it/s]\n"
     ]
    },
    {
     "name": "stdout",
     "output_type": "stream",
     "text": [
      "completed 308 of 948\n"
     ]
    },
    {
     "name": "stderr",
     "output_type": "stream",
     "text": [
      "Exists: 100%|██████████| 1/1 [00:00<00:00,  1.10it/s]\n",
      "Decoding Mesh Buffer: 100%|██████████| 1/1 [00:00<?, ?it/s]\n"
     ]
    },
    {
     "name": "stdout",
     "output_type": "stream",
     "text": [
      "completed 309 of 948\n"
     ]
    },
    {
     "name": "stderr",
     "output_type": "stream",
     "text": [
      "Exists: 100%|██████████| 1/1 [00:00<00:00,  1.12it/s]\n",
      "Decoding Mesh Buffer: 100%|██████████| 1/1 [00:00<00:00, 1009.95it/s]\n"
     ]
    },
    {
     "name": "stdout",
     "output_type": "stream",
     "text": [
      "completed 310 of 948\n"
     ]
    },
    {
     "name": "stderr",
     "output_type": "stream",
     "text": [
      "Exists: 100%|██████████| 1/1 [00:00<00:00,  1.09it/s]\n",
      "Decoding Mesh Buffer: 100%|██████████| 1/1 [00:00<?, ?it/s]\n"
     ]
    },
    {
     "name": "stdout",
     "output_type": "stream",
     "text": [
      "completed 311 of 948\n"
     ]
    },
    {
     "name": "stderr",
     "output_type": "stream",
     "text": [
      "Exists: 100%|██████████| 1/1 [00:00<00:00,  1.10it/s]\n",
      "Decoding Mesh Buffer: 100%|██████████| 2/2 [00:00<00:00, 2139.41it/s]\n"
     ]
    },
    {
     "name": "stdout",
     "output_type": "stream",
     "text": [
      "completed 312 of 948\n"
     ]
    },
    {
     "name": "stderr",
     "output_type": "stream",
     "text": [
      "Exists: 100%|██████████| 1/1 [00:00<00:00,  1.14it/s]\n",
      "Decoding Mesh Buffer: 100%|██████████| 1/1 [00:00<?, ?it/s]\n"
     ]
    },
    {
     "name": "stdout",
     "output_type": "stream",
     "text": [
      "completed 313 of 948\n"
     ]
    },
    {
     "name": "stderr",
     "output_type": "stream",
     "text": [
      "Exists: 100%|██████████| 1/1 [00:00<00:00,  1.14it/s]\n",
      "Decoding Mesh Buffer: 100%|██████████| 1/1 [00:00<?, ?it/s]\n"
     ]
    },
    {
     "name": "stdout",
     "output_type": "stream",
     "text": [
      "completed 314 of 948\n"
     ]
    },
    {
     "name": "stderr",
     "output_type": "stream",
     "text": [
      "Exists: 100%|██████████| 1/1 [00:00<00:00,  1.15it/s]\n",
      "Decoding Mesh Buffer: 100%|██████████| 2/2 [00:00<?, ?it/s]\n"
     ]
    },
    {
     "name": "stdout",
     "output_type": "stream",
     "text": [
      "completed 315 of 948\n"
     ]
    },
    {
     "name": "stderr",
     "output_type": "stream",
     "text": [
      "Exists: 100%|██████████| 1/1 [00:00<00:00,  1.03it/s]\n",
      "Decoding Mesh Buffer: 100%|██████████| 1/1 [00:00<?, ?it/s]\n"
     ]
    },
    {
     "name": "stdout",
     "output_type": "stream",
     "text": [
      "completed 316 of 948\n"
     ]
    },
    {
     "name": "stderr",
     "output_type": "stream",
     "text": [
      "Exists: 100%|██████████| 1/1 [00:01<00:00,  1.03s/it]\n",
      "Decoding Mesh Buffer: 100%|██████████| 1/1 [00:00<?, ?it/s]\n"
     ]
    },
    {
     "name": "stdout",
     "output_type": "stream",
     "text": [
      "completed 317 of 948\n"
     ]
    },
    {
     "name": "stderr",
     "output_type": "stream",
     "text": [
      "Exists: 100%|██████████| 1/1 [00:00<00:00,  1.12it/s]\n",
      "Decoding Mesh Buffer: 100%|██████████| 1/1 [00:00<00:00, 1003.18it/s]\n"
     ]
    },
    {
     "name": "stdout",
     "output_type": "stream",
     "text": [
      "completed 318 of 948\n"
     ]
    },
    {
     "name": "stderr",
     "output_type": "stream",
     "text": [
      "Exists: 100%|██████████| 1/1 [00:00<00:00,  1.12it/s]\n",
      "Decoding Mesh Buffer: 100%|██████████| 1/1 [00:00<?, ?it/s]\n"
     ]
    },
    {
     "name": "stdout",
     "output_type": "stream",
     "text": [
      "completed 319 of 948\n"
     ]
    },
    {
     "name": "stderr",
     "output_type": "stream",
     "text": [
      "Exists: 100%|██████████| 1/1 [00:00<00:00,  1.06it/s]\n",
      "Decoding Mesh Buffer: 100%|██████████| 1/1 [00:00<?, ?it/s]\n"
     ]
    },
    {
     "name": "stdout",
     "output_type": "stream",
     "text": [
      "completed 320 of 948\n"
     ]
    },
    {
     "name": "stderr",
     "output_type": "stream",
     "text": [
      "Exists: 100%|██████████| 1/1 [00:00<00:00,  1.12it/s]\n",
      "Decoding Mesh Buffer: 100%|██████████| 1/1 [00:00<?, ?it/s]\n"
     ]
    },
    {
     "name": "stdout",
     "output_type": "stream",
     "text": [
      "completed 321 of 948\n"
     ]
    },
    {
     "name": "stderr",
     "output_type": "stream",
     "text": [
      "Exists: 100%|██████████| 1/1 [00:00<00:00,  1.10it/s]\n",
      "Decoding Mesh Buffer: 100%|██████████| 1/1 [00:00<?, ?it/s]\n"
     ]
    },
    {
     "name": "stdout",
     "output_type": "stream",
     "text": [
      "completed 322 of 948\n"
     ]
    },
    {
     "name": "stderr",
     "output_type": "stream",
     "text": [
      "Exists: 100%|██████████| 1/1 [00:00<00:00,  1.13it/s]\n",
      "Decoding Mesh Buffer: 100%|██████████| 1/1 [00:00<?, ?it/s]\n"
     ]
    },
    {
     "name": "stdout",
     "output_type": "stream",
     "text": [
      "completed 323 of 948\n"
     ]
    },
    {
     "name": "stderr",
     "output_type": "stream",
     "text": [
      "Exists: 100%|██████████| 1/1 [00:00<00:00,  1.13it/s]\n",
      "Decoding Mesh Buffer: 100%|██████████| 1/1 [00:00<?, ?it/s]\n"
     ]
    },
    {
     "name": "stdout",
     "output_type": "stream",
     "text": [
      "completed 324 of 948\n"
     ]
    },
    {
     "name": "stderr",
     "output_type": "stream",
     "text": [
      "Exists: 100%|██████████| 1/1 [00:00<00:00,  1.02it/s]\n",
      "Decoding Mesh Buffer: 100%|██████████| 1/1 [00:00<?, ?it/s]\n"
     ]
    },
    {
     "name": "stdout",
     "output_type": "stream",
     "text": [
      "completed 325 of 948\n"
     ]
    },
    {
     "name": "stderr",
     "output_type": "stream",
     "text": [
      "Exists: 100%|██████████| 1/1 [00:00<00:00,  1.12it/s]\n",
      "Decoding Mesh Buffer: 100%|██████████| 1/1 [00:00<?, ?it/s]\n"
     ]
    },
    {
     "name": "stdout",
     "output_type": "stream",
     "text": [
      "completed 326 of 948\n"
     ]
    },
    {
     "name": "stderr",
     "output_type": "stream",
     "text": [
      "Exists: 100%|██████████| 1/1 [00:00<00:00,  1.16it/s]\n",
      "Decoding Mesh Buffer: 100%|██████████| 1/1 [00:00<?, ?it/s]\n"
     ]
    },
    {
     "name": "stdout",
     "output_type": "stream",
     "text": [
      "completed 327 of 948\n"
     ]
    },
    {
     "name": "stderr",
     "output_type": "stream",
     "text": [
      "Exists: 100%|██████████| 1/1 [00:00<00:00,  1.11it/s]\n",
      "Decoding Mesh Buffer: 100%|██████████| 1/1 [00:00<00:00, 555.61it/s]\n"
     ]
    },
    {
     "name": "stdout",
     "output_type": "stream",
     "text": [
      "completed 328 of 948\n"
     ]
    },
    {
     "name": "stderr",
     "output_type": "stream",
     "text": [
      "Exists: 100%|██████████| 1/1 [00:00<00:00,  1.11it/s]\n",
      "Decoding Mesh Buffer: 100%|██████████| 2/2 [00:00<?, ?it/s]\n"
     ]
    },
    {
     "name": "stdout",
     "output_type": "stream",
     "text": [
      "completed 329 of 948\n"
     ]
    },
    {
     "name": "stderr",
     "output_type": "stream",
     "text": [
      "Exists: 100%|██████████| 1/1 [00:00<00:00,  1.15it/s]\n",
      "Decoding Mesh Buffer: 100%|██████████| 1/1 [00:00<?, ?it/s]\n"
     ]
    },
    {
     "name": "stdout",
     "output_type": "stream",
     "text": [
      "completed 330 of 948\n"
     ]
    },
    {
     "name": "stderr",
     "output_type": "stream",
     "text": [
      "Exists: 100%|██████████| 1/1 [00:00<00:00,  1.15it/s]\n",
      "Decoding Mesh Buffer: 100%|██████████| 1/1 [00:00<00:00, 1002.46it/s]\n"
     ]
    },
    {
     "name": "stdout",
     "output_type": "stream",
     "text": [
      "completed 331 of 948\n"
     ]
    },
    {
     "name": "stderr",
     "output_type": "stream",
     "text": [
      "Exists: 100%|██████████| 1/1 [00:00<00:00,  1.13it/s]\n",
      "Decoding Mesh Buffer: 100%|██████████| 1/1 [00:00<?, ?it/s]\n"
     ]
    },
    {
     "name": "stdout",
     "output_type": "stream",
     "text": [
      "completed 332 of 948\n"
     ]
    },
    {
     "name": "stderr",
     "output_type": "stream",
     "text": [
      "Exists: 100%|██████████| 1/1 [00:00<00:00,  1.15it/s]\n",
      "Decoding Mesh Buffer: 100%|██████████| 1/1 [00:00<?, ?it/s]\n"
     ]
    },
    {
     "name": "stdout",
     "output_type": "stream",
     "text": [
      "completed 333 of 948\n"
     ]
    },
    {
     "name": "stderr",
     "output_type": "stream",
     "text": [
      "Exists: 100%|██████████| 1/1 [00:00<00:00,  1.14it/s]\n",
      "Decoding Mesh Buffer: 100%|██████████| 1/1 [00:00<?, ?it/s]\n"
     ]
    },
    {
     "name": "stdout",
     "output_type": "stream",
     "text": [
      "completed 334 of 948\n"
     ]
    },
    {
     "name": "stderr",
     "output_type": "stream",
     "text": [
      "Exists: 100%|██████████| 1/1 [00:00<00:00,  1.12it/s]\n",
      "Decoding Mesh Buffer: 100%|██████████| 1/1 [00:00<?, ?it/s]\n"
     ]
    },
    {
     "name": "stdout",
     "output_type": "stream",
     "text": [
      "completed 335 of 948\n"
     ]
    },
    {
     "name": "stderr",
     "output_type": "stream",
     "text": [
      "Exists: 100%|██████████| 1/1 [00:00<00:00,  1.14it/s]\n",
      "Decoding Mesh Buffer: 100%|██████████| 1/1 [00:00<?, ?it/s]\n"
     ]
    },
    {
     "name": "stdout",
     "output_type": "stream",
     "text": [
      "completed 336 of 948\n"
     ]
    },
    {
     "name": "stderr",
     "output_type": "stream",
     "text": [
      "Exists: 100%|██████████| 1/1 [00:00<00:00,  1.15it/s]\n",
      "Decoding Mesh Buffer: 100%|██████████| 1/1 [00:00<00:00, 6442.86it/s]\n"
     ]
    },
    {
     "name": "stdout",
     "output_type": "stream",
     "text": [
      "completed 337 of 948\n"
     ]
    },
    {
     "name": "stderr",
     "output_type": "stream",
     "text": [
      "Exists: 100%|██████████| 1/1 [00:00<00:00,  1.11it/s]\n",
      "Decoding Mesh Buffer: 100%|██████████| 2/2 [00:00<?, ?it/s]\n"
     ]
    },
    {
     "name": "stdout",
     "output_type": "stream",
     "text": [
      "completed 338 of 948\n"
     ]
    },
    {
     "name": "stderr",
     "output_type": "stream",
     "text": [
      "Exists: 100%|██████████| 1/1 [00:00<00:00,  1.14it/s]\n",
      "Decoding Mesh Buffer: 100%|██████████| 1/1 [00:00<?, ?it/s]\n"
     ]
    },
    {
     "name": "stdout",
     "output_type": "stream",
     "text": [
      "completed 339 of 948\n"
     ]
    },
    {
     "name": "stderr",
     "output_type": "stream",
     "text": [
      "Exists: 100%|██████████| 1/1 [00:00<00:00,  1.14it/s]\n",
      "Decoding Mesh Buffer: 100%|██████████| 1/1 [00:00<?, ?it/s]\n"
     ]
    },
    {
     "name": "stdout",
     "output_type": "stream",
     "text": [
      "completed 340 of 948\n"
     ]
    },
    {
     "name": "stderr",
     "output_type": "stream",
     "text": [
      "Exists: 100%|██████████| 1/1 [00:00<00:00,  1.13it/s]\n",
      "Decoding Mesh Buffer: 100%|██████████| 1/1 [00:00<?, ?it/s]\n"
     ]
    },
    {
     "name": "stdout",
     "output_type": "stream",
     "text": [
      "completed 341 of 948\n"
     ]
    },
    {
     "name": "stderr",
     "output_type": "stream",
     "text": [
      "Exists: 100%|██████████| 1/1 [00:00<00:00,  1.14it/s]\n",
      "Decoding Mesh Buffer: 100%|██████████| 2/2 [00:00<00:00, 2006.84it/s]\n"
     ]
    },
    {
     "name": "stdout",
     "output_type": "stream",
     "text": [
      "completed 342 of 948\n"
     ]
    },
    {
     "name": "stderr",
     "output_type": "stream",
     "text": [
      "Exists: 100%|██████████| 1/1 [00:00<00:00,  1.17it/s]\n",
      "Decoding Mesh Buffer: 100%|██████████| 2/2 [00:00<00:00, 1993.96it/s]\n"
     ]
    },
    {
     "name": "stdout",
     "output_type": "stream",
     "text": [
      "completed 343 of 948\n"
     ]
    },
    {
     "name": "stderr",
     "output_type": "stream",
     "text": [
      "Exists: 100%|██████████| 1/1 [00:01<00:00,  1.03s/it]\n",
      "Decoding Mesh Buffer: 100%|██████████| 1/1 [00:00<00:00, 994.38it/s]\n"
     ]
    },
    {
     "name": "stdout",
     "output_type": "stream",
     "text": [
      "completed 344 of 948\n"
     ]
    },
    {
     "name": "stderr",
     "output_type": "stream",
     "text": [
      "Exists: 100%|██████████| 1/1 [00:00<00:00,  1.11it/s]\n",
      "Decoding Mesh Buffer: 100%|██████████| 1/1 [00:00<?, ?it/s]\n"
     ]
    },
    {
     "name": "stdout",
     "output_type": "stream",
     "text": [
      "completed 345 of 948\n"
     ]
    },
    {
     "name": "stderr",
     "output_type": "stream",
     "text": [
      "Exists: 100%|██████████| 1/1 [00:00<00:00,  1.12it/s]\n",
      "Decoding Mesh Buffer: 100%|██████████| 1/1 [00:00<?, ?it/s]\n"
     ]
    },
    {
     "name": "stdout",
     "output_type": "stream",
     "text": [
      "completed 346 of 948\n"
     ]
    },
    {
     "name": "stderr",
     "output_type": "stream",
     "text": [
      "Exists: 100%|██████████| 1/1 [00:00<00:00,  1.15it/s]\n",
      "Decoding Mesh Buffer: 100%|██████████| 1/1 [00:00<00:00, 1000.31it/s]\n"
     ]
    },
    {
     "name": "stdout",
     "output_type": "stream",
     "text": [
      "completed 347 of 948\n"
     ]
    },
    {
     "name": "stderr",
     "output_type": "stream",
     "text": [
      "Exists: 100%|██████████| 1/1 [00:00<00:00,  1.13it/s]\n",
      "Decoding Mesh Buffer: 100%|██████████| 1/1 [00:00<?, ?it/s]\n"
     ]
    },
    {
     "name": "stdout",
     "output_type": "stream",
     "text": [
      "completed 348 of 948\n"
     ]
    },
    {
     "name": "stderr",
     "output_type": "stream",
     "text": [
      "Exists: 100%|██████████| 1/1 [00:00<00:00,  1.12it/s]\n",
      "Decoding Mesh Buffer: 100%|██████████| 1/1 [00:00<?, ?it/s]\n"
     ]
    },
    {
     "name": "stdout",
     "output_type": "stream",
     "text": [
      "completed 349 of 948\n"
     ]
    },
    {
     "name": "stderr",
     "output_type": "stream",
     "text": [
      "Exists: 100%|██████████| 1/1 [00:00<00:00,  1.13it/s]\n",
      "Decoding Mesh Buffer: 100%|██████████| 1/1 [00:00<?, ?it/s]\n"
     ]
    },
    {
     "name": "stdout",
     "output_type": "stream",
     "text": [
      "completed 350 of 948\n"
     ]
    },
    {
     "name": "stderr",
     "output_type": "stream",
     "text": [
      "Exists: 100%|██████████| 1/1 [00:00<00:00,  1.05it/s]\n",
      "Decoding Mesh Buffer: 100%|██████████| 1/1 [00:00<?, ?it/s]\n"
     ]
    },
    {
     "name": "stdout",
     "output_type": "stream",
     "text": [
      "completed 351 of 948\n"
     ]
    },
    {
     "name": "stderr",
     "output_type": "stream",
     "text": [
      "Exists: 100%|██████████| 1/1 [00:00<00:00,  1.13it/s]\n",
      "Decoding Mesh Buffer: 100%|██████████| 1/1 [00:00<?, ?it/s]\n"
     ]
    },
    {
     "name": "stdout",
     "output_type": "stream",
     "text": [
      "completed 352 of 948\n"
     ]
    },
    {
     "name": "stderr",
     "output_type": "stream",
     "text": [
      "Exists: 100%|██████████| 1/1 [00:00<00:00,  1.15it/s]\n",
      "Decoding Mesh Buffer: 100%|██████████| 1/1 [00:00<?, ?it/s]\n"
     ]
    },
    {
     "name": "stdout",
     "output_type": "stream",
     "text": [
      "completed 353 of 948\n"
     ]
    },
    {
     "name": "stderr",
     "output_type": "stream",
     "text": [
      "Exists: 100%|██████████| 1/1 [00:00<00:00,  1.13it/s]\n",
      "Decoding Mesh Buffer: 100%|██████████| 1/1 [00:00<?, ?it/s]\n"
     ]
    },
    {
     "name": "stdout",
     "output_type": "stream",
     "text": [
      "completed 354 of 948\n"
     ]
    },
    {
     "name": "stderr",
     "output_type": "stream",
     "text": [
      "Exists: 100%|██████████| 1/1 [00:00<00:00,  1.15it/s]\n",
      "Decoding Mesh Buffer: 100%|██████████| 1/1 [00:00<?, ?it/s]\n"
     ]
    },
    {
     "name": "stdout",
     "output_type": "stream",
     "text": [
      "completed 355 of 948\n"
     ]
    },
    {
     "name": "stderr",
     "output_type": "stream",
     "text": [
      "Exists: 100%|██████████| 1/1 [00:00<00:00,  1.13it/s]\n",
      "Decoding Mesh Buffer: 100%|██████████| 1/1 [00:00<?, ?it/s]\n"
     ]
    },
    {
     "name": "stdout",
     "output_type": "stream",
     "text": [
      "completed 356 of 948\n"
     ]
    },
    {
     "name": "stderr",
     "output_type": "stream",
     "text": [
      "Exists: 100%|██████████| 1/1 [00:00<00:00,  1.15it/s]\n",
      "Decoding Mesh Buffer: 100%|██████████| 1/1 [00:00<00:00, 1066.17it/s]\n"
     ]
    },
    {
     "name": "stdout",
     "output_type": "stream",
     "text": [
      "completed 357 of 948\n"
     ]
    },
    {
     "name": "stderr",
     "output_type": "stream",
     "text": [
      "Exists: 100%|██████████| 1/1 [00:00<00:00,  1.16it/s]\n",
      "Decoding Mesh Buffer: 100%|██████████| 1/1 [00:00<?, ?it/s]\n"
     ]
    },
    {
     "name": "stdout",
     "output_type": "stream",
     "text": [
      "completed 358 of 948\n"
     ]
    },
    {
     "name": "stderr",
     "output_type": "stream",
     "text": [
      "Exists: 100%|██████████| 1/1 [00:00<00:00,  1.10it/s]\n",
      "Decoding Mesh Buffer: 100%|██████████| 2/2 [00:00<?, ?it/s]\n"
     ]
    },
    {
     "name": "stdout",
     "output_type": "stream",
     "text": [
      "completed 359 of 948\n"
     ]
    },
    {
     "name": "stderr",
     "output_type": "stream",
     "text": [
      "Exists: 100%|██████████| 1/1 [00:00<00:00,  1.14it/s]\n",
      "Decoding Mesh Buffer: 100%|██████████| 1/1 [00:00<00:00, 881.71it/s]\n"
     ]
    },
    {
     "name": "stdout",
     "output_type": "stream",
     "text": [
      "completed 360 of 948\n"
     ]
    },
    {
     "name": "stderr",
     "output_type": "stream",
     "text": [
      "Exists: 100%|██████████| 1/1 [00:00<00:00,  1.12it/s]\n",
      "Decoding Mesh Buffer: 100%|██████████| 1/1 [00:00<?, ?it/s]\n"
     ]
    },
    {
     "name": "stdout",
     "output_type": "stream",
     "text": [
      "completed 361 of 948\n"
     ]
    },
    {
     "name": "stderr",
     "output_type": "stream",
     "text": [
      "Exists: 100%|██████████| 1/1 [00:00<00:00,  1.14it/s]\n",
      "Decoding Mesh Buffer: 100%|██████████| 1/1 [00:00<?, ?it/s]\n"
     ]
    },
    {
     "name": "stdout",
     "output_type": "stream",
     "text": [
      "completed 362 of 948\n"
     ]
    },
    {
     "name": "stderr",
     "output_type": "stream",
     "text": [
      "Exists: 100%|██████████| 1/1 [00:00<00:00,  1.17it/s]\n",
      "Decoding Mesh Buffer: 100%|██████████| 1/1 [00:00<?, ?it/s]\n"
     ]
    },
    {
     "name": "stdout",
     "output_type": "stream",
     "text": [
      "completed 363 of 948\n"
     ]
    },
    {
     "name": "stderr",
     "output_type": "stream",
     "text": [
      "Exists: 100%|██████████| 1/1 [00:00<00:00,  1.17it/s]\n",
      "Decoding Mesh Buffer: 100%|██████████| 2/2 [00:00<?, ?it/s]\n"
     ]
    },
    {
     "name": "stdout",
     "output_type": "stream",
     "text": [
      "completed 364 of 948\n"
     ]
    },
    {
     "name": "stderr",
     "output_type": "stream",
     "text": [
      "Exists: 100%|██████████| 1/1 [00:00<00:00,  1.12it/s]\n",
      "Decoding Mesh Buffer: 100%|██████████| 1/1 [00:00<?, ?it/s]\n"
     ]
    },
    {
     "name": "stdout",
     "output_type": "stream",
     "text": [
      "completed 365 of 948\n"
     ]
    },
    {
     "name": "stderr",
     "output_type": "stream",
     "text": [
      "Exists: 100%|██████████| 1/1 [00:00<00:00,  1.16it/s]\n",
      "Decoding Mesh Buffer: 100%|██████████| 1/1 [00:00<?, ?it/s]\n"
     ]
    },
    {
     "name": "stdout",
     "output_type": "stream",
     "text": [
      "completed 366 of 948\n"
     ]
    },
    {
     "name": "stderr",
     "output_type": "stream",
     "text": [
      "Exists: 100%|██████████| 1/1 [00:00<00:00,  1.14it/s]\n",
      "Decoding Mesh Buffer: 100%|██████████| 1/1 [00:00<?, ?it/s]\n"
     ]
    },
    {
     "name": "stdout",
     "output_type": "stream",
     "text": [
      "completed 367 of 948\n"
     ]
    },
    {
     "name": "stderr",
     "output_type": "stream",
     "text": [
      "Exists: 100%|██████████| 1/1 [00:00<00:00,  1.15it/s]\n",
      "Decoding Mesh Buffer: 100%|██████████| 1/1 [00:00<?, ?it/s]\n"
     ]
    },
    {
     "name": "stdout",
     "output_type": "stream",
     "text": [
      "completed 368 of 948\n"
     ]
    },
    {
     "name": "stderr",
     "output_type": "stream",
     "text": [
      "Exists: 100%|██████████| 1/1 [00:00<00:00,  1.16it/s]\n",
      "Decoding Mesh Buffer: 100%|██████████| 1/1 [00:00<?, ?it/s]\n"
     ]
    },
    {
     "name": "stdout",
     "output_type": "stream",
     "text": [
      "completed 369 of 948\n"
     ]
    },
    {
     "name": "stderr",
     "output_type": "stream",
     "text": [
      "Exists: 100%|██████████| 1/1 [00:00<00:00,  1.14it/s]\n",
      "Decoding Mesh Buffer: 100%|██████████| 1/1 [00:00<?, ?it/s]\n"
     ]
    },
    {
     "name": "stdout",
     "output_type": "stream",
     "text": [
      "completed 370 of 948\n"
     ]
    },
    {
     "name": "stderr",
     "output_type": "stream",
     "text": [
      "Exists: 100%|██████████| 1/1 [00:00<00:00,  1.13it/s]\n",
      "Decoding Mesh Buffer: 100%|██████████| 1/1 [00:00<?, ?it/s]\n"
     ]
    },
    {
     "name": "stdout",
     "output_type": "stream",
     "text": [
      "completed 371 of 948\n"
     ]
    },
    {
     "name": "stderr",
     "output_type": "stream",
     "text": [
      "Exists: 100%|██████████| 1/1 [00:00<00:00,  1.14it/s]\n",
      "Decoding Mesh Buffer: 100%|██████████| 1/1 [00:00<00:00, 988.99it/s]\n"
     ]
    },
    {
     "name": "stdout",
     "output_type": "stream",
     "text": [
      "completed 372 of 948\n"
     ]
    },
    {
     "name": "stderr",
     "output_type": "stream",
     "text": [
      "Exists: 100%|██████████| 1/1 [00:00<00:00,  1.13it/s]\n",
      "Decoding Mesh Buffer: 100%|██████████| 1/1 [00:00<?, ?it/s]\n"
     ]
    },
    {
     "name": "stdout",
     "output_type": "stream",
     "text": [
      "completed 373 of 948\n"
     ]
    },
    {
     "name": "stderr",
     "output_type": "stream",
     "text": [
      "Exists: 100%|██████████| 1/1 [00:00<00:00,  1.13it/s]\n",
      "Decoding Mesh Buffer: 100%|██████████| 1/1 [00:00<?, ?it/s]\n"
     ]
    },
    {
     "name": "stdout",
     "output_type": "stream",
     "text": [
      "completed 374 of 948\n"
     ]
    },
    {
     "name": "stderr",
     "output_type": "stream",
     "text": [
      "Exists: 100%|██████████| 1/1 [00:00<00:00,  1.14it/s]\n",
      "Decoding Mesh Buffer: 100%|██████████| 1/1 [00:00<?, ?it/s]\n"
     ]
    },
    {
     "name": "stdout",
     "output_type": "stream",
     "text": [
      "completed 375 of 948\n"
     ]
    },
    {
     "name": "stderr",
     "output_type": "stream",
     "text": [
      "Exists: 100%|██████████| 1/1 [00:00<00:00,  1.13it/s]\n",
      "Decoding Mesh Buffer: 100%|██████████| 2/2 [00:00<?, ?it/s]\n"
     ]
    },
    {
     "name": "stdout",
     "output_type": "stream",
     "text": [
      "completed 376 of 948\n"
     ]
    },
    {
     "name": "stderr",
     "output_type": "stream",
     "text": [
      "Exists: 100%|██████████| 1/1 [00:00<00:00,  1.09it/s]\n",
      "Decoding Mesh Buffer: 100%|██████████| 1/1 [00:00<00:00, 516.73it/s]\n"
     ]
    },
    {
     "name": "stdout",
     "output_type": "stream",
     "text": [
      "completed 377 of 948\n"
     ]
    },
    {
     "name": "stderr",
     "output_type": "stream",
     "text": [
      "Exists: 100%|██████████| 1/1 [00:00<00:00,  1.15it/s]\n",
      "Decoding Mesh Buffer: 100%|██████████| 1/1 [00:00<?, ?it/s]\n"
     ]
    },
    {
     "name": "stdout",
     "output_type": "stream",
     "text": [
      "completed 378 of 948\n"
     ]
    },
    {
     "name": "stderr",
     "output_type": "stream",
     "text": [
      "Exists: 100%|██████████| 1/1 [00:00<00:00,  1.13it/s]\n",
      "Decoding Mesh Buffer: 100%|██████████| 1/1 [00:00<?, ?it/s]\n"
     ]
    },
    {
     "name": "stdout",
     "output_type": "stream",
     "text": [
      "completed 379 of 948\n"
     ]
    },
    {
     "name": "stderr",
     "output_type": "stream",
     "text": [
      "Exists: 100%|██████████| 1/1 [00:00<00:00,  1.15it/s]\n",
      "Decoding Mesh Buffer: 100%|██████████| 1/1 [00:00<00:00, 995.09it/s]\n"
     ]
    },
    {
     "name": "stdout",
     "output_type": "stream",
     "text": [
      "completed 380 of 948\n"
     ]
    },
    {
     "name": "stderr",
     "output_type": "stream",
     "text": [
      "Exists: 100%|██████████| 1/1 [00:00<00:00,  1.14it/s]\n",
      "Decoding Mesh Buffer: 100%|██████████| 1/1 [00:00<00:00, 1660.45it/s]\n"
     ]
    },
    {
     "name": "stdout",
     "output_type": "stream",
     "text": [
      "completed 381 of 948\n"
     ]
    },
    {
     "name": "stderr",
     "output_type": "stream",
     "text": [
      "Exists: 100%|██████████| 1/1 [00:00<00:00,  1.13it/s]\n",
      "Decoding Mesh Buffer: 100%|██████████| 1/1 [00:00<?, ?it/s]\n"
     ]
    },
    {
     "name": "stdout",
     "output_type": "stream",
     "text": [
      "completed 382 of 948\n"
     ]
    },
    {
     "name": "stderr",
     "output_type": "stream",
     "text": [
      "Exists: 100%|██████████| 1/1 [00:00<00:00,  1.10it/s]\n",
      "Decoding Mesh Buffer: 100%|██████████| 1/1 [00:00<?, ?it/s]\n"
     ]
    },
    {
     "name": "stdout",
     "output_type": "stream",
     "text": [
      "completed 383 of 948\n"
     ]
    },
    {
     "name": "stderr",
     "output_type": "stream",
     "text": [
      "Exists: 100%|██████████| 1/1 [00:00<00:00,  1.13it/s]\n",
      "Decoding Mesh Buffer: 100%|██████████| 1/1 [00:00<?, ?it/s]\n"
     ]
    },
    {
     "name": "stdout",
     "output_type": "stream",
     "text": [
      "completed 384 of 948\n"
     ]
    },
    {
     "name": "stderr",
     "output_type": "stream",
     "text": [
      "Exists: 100%|██████████| 1/1 [00:00<00:00,  1.15it/s]\n",
      "Decoding Mesh Buffer: 100%|██████████| 1/1 [00:00<?, ?it/s]\n"
     ]
    },
    {
     "name": "stdout",
     "output_type": "stream",
     "text": [
      "completed 385 of 948\n"
     ]
    },
    {
     "name": "stderr",
     "output_type": "stream",
     "text": [
      "Exists: 100%|██████████| 1/1 [00:00<00:00,  1.09it/s]\n",
      "Decoding Mesh Buffer: 100%|██████████| 1/1 [00:00<?, ?it/s]\n"
     ]
    },
    {
     "name": "stdout",
     "output_type": "stream",
     "text": [
      "completed 386 of 948\n"
     ]
    },
    {
     "name": "stderr",
     "output_type": "stream",
     "text": [
      "Exists: 100%|██████████| 1/1 [00:00<00:00,  1.11it/s]\n",
      "Decoding Mesh Buffer: 100%|██████████| 1/1 [00:00<?, ?it/s]\n"
     ]
    },
    {
     "name": "stdout",
     "output_type": "stream",
     "text": [
      "completed 387 of 948\n"
     ]
    },
    {
     "name": "stderr",
     "output_type": "stream",
     "text": [
      "Exists: 100%|██████████| 1/1 [00:00<00:00,  1.14it/s]\n",
      "Decoding Mesh Buffer: 100%|██████████| 1/1 [00:00<00:00, 1065.63it/s]\n"
     ]
    },
    {
     "name": "stdout",
     "output_type": "stream",
     "text": [
      "completed 388 of 948\n"
     ]
    },
    {
     "name": "stderr",
     "output_type": "stream",
     "text": [
      "Exists: 100%|██████████| 1/1 [00:00<00:00,  1.16it/s]\n",
      "Decoding Mesh Buffer: 100%|██████████| 2/2 [00:00<?, ?it/s]\n"
     ]
    },
    {
     "name": "stdout",
     "output_type": "stream",
     "text": [
      "completed 389 of 948\n"
     ]
    },
    {
     "name": "stderr",
     "output_type": "stream",
     "text": [
      "Exists: 100%|██████████| 1/1 [00:00<00:00,  1.02it/s]\n",
      "Decoding Mesh Buffer: 100%|██████████| 1/1 [00:00<?, ?it/s]\n"
     ]
    },
    {
     "name": "stdout",
     "output_type": "stream",
     "text": [
      "completed 390 of 948\n"
     ]
    },
    {
     "name": "stderr",
     "output_type": "stream",
     "text": [
      "Exists: 100%|██████████| 1/1 [00:00<00:00,  1.12it/s]\n",
      "Decoding Mesh Buffer: 100%|██████████| 1/1 [00:00<?, ?it/s]\n"
     ]
    },
    {
     "name": "stdout",
     "output_type": "stream",
     "text": [
      "completed 391 of 948\n"
     ]
    },
    {
     "name": "stderr",
     "output_type": "stream",
     "text": [
      "Exists: 100%|██████████| 1/1 [00:00<00:00,  1.12it/s]\n",
      "Decoding Mesh Buffer: 100%|██████████| 1/1 [00:00<?, ?it/s]\n"
     ]
    },
    {
     "name": "stdout",
     "output_type": "stream",
     "text": [
      "completed 392 of 948\n"
     ]
    },
    {
     "name": "stderr",
     "output_type": "stream",
     "text": [
      "Exists: 100%|██████████| 1/1 [00:00<00:00,  1.09it/s]\n",
      "Decoding Mesh Buffer: 100%|██████████| 1/1 [00:00<?, ?it/s]\n"
     ]
    },
    {
     "name": "stdout",
     "output_type": "stream",
     "text": [
      "completed 393 of 948\n"
     ]
    },
    {
     "name": "stderr",
     "output_type": "stream",
     "text": [
      "Exists: 100%|██████████| 1/1 [00:00<00:00,  1.13it/s]\n",
      "Decoding Mesh Buffer: 100%|██████████| 1/1 [00:00<?, ?it/s]\n"
     ]
    },
    {
     "name": "stdout",
     "output_type": "stream",
     "text": [
      "completed 394 of 948\n"
     ]
    },
    {
     "name": "stderr",
     "output_type": "stream",
     "text": [
      "Exists: 100%|██████████| 1/1 [00:00<00:00,  1.16it/s]\n",
      "Decoding Mesh Buffer: 100%|██████████| 1/1 [00:00<?, ?it/s]\n"
     ]
    },
    {
     "name": "stdout",
     "output_type": "stream",
     "text": [
      "completed 395 of 948\n"
     ]
    },
    {
     "name": "stderr",
     "output_type": "stream",
     "text": [
      "Exists: 100%|██████████| 1/1 [00:00<00:00,  1.14it/s]\n",
      "Decoding Mesh Buffer: 100%|██████████| 1/1 [00:00<?, ?it/s]\n"
     ]
    },
    {
     "name": "stdout",
     "output_type": "stream",
     "text": [
      "completed 396 of 948\n"
     ]
    },
    {
     "name": "stderr",
     "output_type": "stream",
     "text": [
      "Exists: 100%|██████████| 1/1 [00:01<00:00,  1.16s/it]\n",
      "Decoding Mesh Buffer: 100%|██████████| 1/1 [00:00<?, ?it/s]\n"
     ]
    },
    {
     "name": "stdout",
     "output_type": "stream",
     "text": [
      "completed 397 of 948\n"
     ]
    },
    {
     "name": "stderr",
     "output_type": "stream",
     "text": [
      "Exists: 100%|██████████| 1/1 [00:00<00:00,  1.12it/s]\n",
      "Decoding Mesh Buffer: 100%|██████████| 1/1 [00:00<?, ?it/s]\n"
     ]
    },
    {
     "name": "stdout",
     "output_type": "stream",
     "text": [
      "completed 398 of 948\n"
     ]
    },
    {
     "name": "stderr",
     "output_type": "stream",
     "text": [
      "Exists: 100%|██████████| 1/1 [00:00<00:00,  1.14it/s]\n",
      "Decoding Mesh Buffer: 100%|██████████| 1/1 [00:00<?, ?it/s]\n"
     ]
    },
    {
     "name": "stdout",
     "output_type": "stream",
     "text": [
      "completed 399 of 948\n"
     ]
    },
    {
     "name": "stderr",
     "output_type": "stream",
     "text": [
      "Exists: 100%|██████████| 1/1 [00:00<00:00,  1.07it/s]\n",
      "Decoding Mesh Buffer: 100%|██████████| 1/1 [00:00<?, ?it/s]\n"
     ]
    },
    {
     "name": "stdout",
     "output_type": "stream",
     "text": [
      "completed 400 of 948\n"
     ]
    },
    {
     "name": "stderr",
     "output_type": "stream",
     "text": [
      "Exists: 100%|██████████| 1/1 [00:00<00:00,  1.12it/s]\n",
      "Decoding Mesh Buffer: 100%|██████████| 1/1 [00:00<00:00, 1008.25it/s]\n"
     ]
    },
    {
     "name": "stdout",
     "output_type": "stream",
     "text": [
      "completed 401 of 948\n"
     ]
    },
    {
     "name": "stderr",
     "output_type": "stream",
     "text": [
      "Exists: 100%|██████████| 1/1 [00:00<00:00,  1.15it/s]\n",
      "Decoding Mesh Buffer: 100%|██████████| 1/1 [00:00<?, ?it/s]\n"
     ]
    },
    {
     "name": "stdout",
     "output_type": "stream",
     "text": [
      "completed 402 of 948\n"
     ]
    },
    {
     "name": "stderr",
     "output_type": "stream",
     "text": [
      "Exists: 100%|██████████| 1/1 [00:00<00:00,  1.14it/s]\n",
      "Decoding Mesh Buffer: 100%|██████████| 1/1 [00:00<00:00, 1073.26it/s]\n"
     ]
    },
    {
     "name": "stdout",
     "output_type": "stream",
     "text": [
      "completed 403 of 948\n"
     ]
    },
    {
     "name": "stderr",
     "output_type": "stream",
     "text": [
      "Exists: 100%|██████████| 1/1 [00:00<00:00,  1.15it/s]\n",
      "Decoding Mesh Buffer: 100%|██████████| 1/1 [00:00<00:00, 1700.85it/s]\n"
     ]
    },
    {
     "name": "stdout",
     "output_type": "stream",
     "text": [
      "completed 404 of 948\n"
     ]
    },
    {
     "name": "stderr",
     "output_type": "stream",
     "text": [
      "Exists: 100%|██████████| 1/1 [00:00<00:00,  1.13it/s]\n",
      "Decoding Mesh Buffer: 100%|██████████| 1/1 [00:00<?, ?it/s]\n"
     ]
    },
    {
     "name": "stdout",
     "output_type": "stream",
     "text": [
      "completed 405 of 948\n"
     ]
    },
    {
     "name": "stderr",
     "output_type": "stream",
     "text": [
      "Exists: 100%|██████████| 1/1 [00:00<00:00,  1.14it/s]\n",
      "Decoding Mesh Buffer: 100%|██████████| 1/1 [00:00<?, ?it/s]\n"
     ]
    },
    {
     "name": "stdout",
     "output_type": "stream",
     "text": [
      "completed 406 of 948\n"
     ]
    },
    {
     "name": "stderr",
     "output_type": "stream",
     "text": [
      "Exists: 100%|██████████| 1/1 [00:00<00:00,  1.15it/s]\n",
      "Decoding Mesh Buffer: 100%|██████████| 1/1 [00:00<?, ?it/s]\n"
     ]
    },
    {
     "name": "stdout",
     "output_type": "stream",
     "text": [
      "completed 407 of 948\n"
     ]
    },
    {
     "name": "stderr",
     "output_type": "stream",
     "text": [
      "Exists: 100%|██████████| 1/1 [00:00<00:00,  1.15it/s]\n",
      "Decoding Mesh Buffer: 100%|██████████| 1/1 [00:00<?, ?it/s]\n"
     ]
    },
    {
     "name": "stdout",
     "output_type": "stream",
     "text": [
      "completed 408 of 948\n"
     ]
    },
    {
     "name": "stderr",
     "output_type": "stream",
     "text": [
      "Exists: 100%|██████████| 1/1 [00:00<00:00,  1.14it/s]\n",
      "Decoding Mesh Buffer: 100%|██████████| 1/1 [00:00<?, ?it/s]\n"
     ]
    },
    {
     "name": "stdout",
     "output_type": "stream",
     "text": [
      "completed 409 of 948\n"
     ]
    },
    {
     "name": "stderr",
     "output_type": "stream",
     "text": [
      "Exists: 100%|██████████| 1/1 [00:00<00:00,  1.08it/s]\n",
      "Decoding Mesh Buffer: 100%|██████████| 1/1 [00:00<?, ?it/s]\n"
     ]
    },
    {
     "name": "stdout",
     "output_type": "stream",
     "text": [
      "completed 410 of 948\n"
     ]
    },
    {
     "name": "stderr",
     "output_type": "stream",
     "text": [
      "Exists: 100%|██████████| 1/1 [00:00<00:00,  1.16it/s]\n",
      "Decoding Mesh Buffer: 100%|██████████| 1/1 [00:00<?, ?it/s]\n"
     ]
    },
    {
     "name": "stdout",
     "output_type": "stream",
     "text": [
      "completed 411 of 948\n"
     ]
    },
    {
     "name": "stderr",
     "output_type": "stream",
     "text": [
      "Exists: 100%|██████████| 1/1 [00:00<00:00,  1.13it/s]\n",
      "Decoding Mesh Buffer: 100%|██████████| 1/1 [00:00<?, ?it/s]\n"
     ]
    },
    {
     "name": "stdout",
     "output_type": "stream",
     "text": [
      "completed 412 of 948\n"
     ]
    },
    {
     "name": "stderr",
     "output_type": "stream",
     "text": [
      "Exists: 100%|██████████| 1/1 [00:00<00:00,  1.09it/s]\n",
      "Decoding Mesh Buffer: 100%|██████████| 1/1 [00:00<?, ?it/s]\n"
     ]
    },
    {
     "name": "stdout",
     "output_type": "stream",
     "text": [
      "completed 413 of 948\n"
     ]
    },
    {
     "name": "stderr",
     "output_type": "stream",
     "text": [
      "Exists: 100%|██████████| 1/1 [00:00<00:00,  1.01it/s]\n",
      "Decoding Mesh Buffer: 100%|██████████| 1/1 [00:00<?, ?it/s]\n"
     ]
    },
    {
     "name": "stdout",
     "output_type": "stream",
     "text": [
      "completed 414 of 948\n"
     ]
    },
    {
     "name": "stderr",
     "output_type": "stream",
     "text": [
      "Exists: 100%|██████████| 1/1 [00:01<00:00,  1.02s/it]\n",
      "Decoding Mesh Buffer: 100%|██████████| 1/1 [00:00<?, ?it/s]\n"
     ]
    },
    {
     "name": "stdout",
     "output_type": "stream",
     "text": [
      "completed 415 of 948\n"
     ]
    },
    {
     "name": "stderr",
     "output_type": "stream",
     "text": [
      "Exists: 100%|██████████| 1/1 [00:00<00:00,  1.15it/s]\n",
      "Decoding Mesh Buffer: 100%|██████████| 1/1 [00:00<?, ?it/s]\n"
     ]
    },
    {
     "name": "stdout",
     "output_type": "stream",
     "text": [
      "completed 416 of 948\n"
     ]
    },
    {
     "name": "stderr",
     "output_type": "stream",
     "text": [
      "Exists: 100%|██████████| 1/1 [00:00<00:00,  1.14it/s]\n",
      "Decoding Mesh Buffer: 100%|██████████| 1/1 [00:00<00:00, 999.12it/s]\n"
     ]
    },
    {
     "name": "stdout",
     "output_type": "stream",
     "text": [
      "completed 417 of 948\n"
     ]
    },
    {
     "name": "stderr",
     "output_type": "stream",
     "text": [
      "Exists: 100%|██████████| 1/1 [00:00<00:00,  1.14it/s]\n",
      "Decoding Mesh Buffer: 100%|██████████| 1/1 [00:00<00:00, 999.60it/s]\n"
     ]
    },
    {
     "name": "stdout",
     "output_type": "stream",
     "text": [
      "completed 418 of 948\n"
     ]
    },
    {
     "name": "stderr",
     "output_type": "stream",
     "text": [
      "Exists: 100%|██████████| 1/1 [00:01<00:00,  1.04s/it]\n",
      "Decoding Mesh Buffer: 100%|██████████| 1/1 [00:00<?, ?it/s]\n"
     ]
    },
    {
     "name": "stdout",
     "output_type": "stream",
     "text": [
      "completed 419 of 948\n"
     ]
    },
    {
     "name": "stderr",
     "output_type": "stream",
     "text": [
      "Exists: 100%|██████████| 1/1 [00:00<00:00,  1.07it/s]\n",
      "Decoding Mesh Buffer: 100%|██████████| 1/1 [00:00<?, ?it/s]\n"
     ]
    },
    {
     "name": "stdout",
     "output_type": "stream",
     "text": [
      "completed 420 of 948\n"
     ]
    },
    {
     "name": "stderr",
     "output_type": "stream",
     "text": [
      "Exists: 100%|██████████| 1/1 [00:00<00:00,  1.06it/s]\n",
      "Decoding Mesh Buffer: 100%|██████████| 1/1 [00:00<00:00, 1005.59it/s]\n"
     ]
    },
    {
     "name": "stdout",
     "output_type": "stream",
     "text": [
      "completed 421 of 948\n"
     ]
    },
    {
     "name": "stderr",
     "output_type": "stream",
     "text": [
      "Exists: 100%|██████████| 1/1 [00:00<00:00,  1.15it/s]\n",
      "Decoding Mesh Buffer: 100%|██████████| 2/2 [00:00<?, ?it/s]\n"
     ]
    },
    {
     "name": "stdout",
     "output_type": "stream",
     "text": [
      "completed 422 of 948\n"
     ]
    },
    {
     "name": "stderr",
     "output_type": "stream",
     "text": [
      "Exists: 100%|██████████| 1/1 [00:00<00:00,  1.05it/s]\n",
      "Decoding Mesh Buffer: 100%|██████████| 2/2 [00:00<?, ?it/s]\n"
     ]
    },
    {
     "name": "stdout",
     "output_type": "stream",
     "text": [
      "completed 423 of 948\n"
     ]
    },
    {
     "name": "stderr",
     "output_type": "stream",
     "text": [
      "Exists: 100%|██████████| 1/1 [00:00<00:00,  1.14it/s]\n",
      "Decoding Mesh Buffer: 100%|██████████| 1/1 [00:00<?, ?it/s]\n"
     ]
    },
    {
     "name": "stdout",
     "output_type": "stream",
     "text": [
      "completed 424 of 948\n"
     ]
    },
    {
     "name": "stderr",
     "output_type": "stream",
     "text": [
      "Exists: 100%|██████████| 1/1 [00:00<00:00,  1.10it/s]\n",
      "Decoding Mesh Buffer: 100%|██████████| 1/1 [00:00<?, ?it/s]\n"
     ]
    },
    {
     "name": "stdout",
     "output_type": "stream",
     "text": [
      "completed 425 of 948\n"
     ]
    },
    {
     "name": "stderr",
     "output_type": "stream",
     "text": [
      "Exists: 100%|██████████| 1/1 [00:00<00:00,  1.11it/s]\n",
      "Decoding Mesh Buffer: 100%|██████████| 1/1 [00:00<?, ?it/s]\n"
     ]
    },
    {
     "name": "stdout",
     "output_type": "stream",
     "text": [
      "completed 426 of 948\n"
     ]
    },
    {
     "name": "stderr",
     "output_type": "stream",
     "text": [
      "Exists: 100%|██████████| 1/1 [00:00<00:00,  1.18it/s]\n",
      "Decoding Mesh Buffer: 100%|██████████| 1/1 [00:00<?, ?it/s]\n"
     ]
    },
    {
     "name": "stdout",
     "output_type": "stream",
     "text": [
      "completed 427 of 948\n"
     ]
    },
    {
     "name": "stderr",
     "output_type": "stream",
     "text": [
      "Exists: 100%|██████████| 1/1 [00:01<00:00,  1.07s/it]\n",
      "Decoding Mesh Buffer: 100%|██████████| 1/1 [00:00<?, ?it/s]\n"
     ]
    },
    {
     "name": "stdout",
     "output_type": "stream",
     "text": [
      "completed 428 of 948\n"
     ]
    },
    {
     "name": "stderr",
     "output_type": "stream",
     "text": [
      "Exists: 100%|██████████| 1/1 [00:00<00:00,  1.17it/s]\n",
      "Decoding Mesh Buffer: 100%|██████████| 1/1 [00:00<?, ?it/s]\n"
     ]
    },
    {
     "name": "stdout",
     "output_type": "stream",
     "text": [
      "completed 429 of 948\n"
     ]
    },
    {
     "name": "stderr",
     "output_type": "stream",
     "text": [
      "Exists: 100%|██████████| 1/1 [00:00<00:00,  1.16it/s]\n",
      "Decoding Mesh Buffer: 100%|██████████| 1/1 [00:00<?, ?it/s]\n"
     ]
    },
    {
     "name": "stdout",
     "output_type": "stream",
     "text": [
      "completed 430 of 948\n"
     ]
    },
    {
     "name": "stderr",
     "output_type": "stream",
     "text": [
      "Exists: 100%|██████████| 1/1 [00:00<00:00,  1.15it/s]\n",
      "Decoding Mesh Buffer: 100%|██████████| 1/1 [00:00<?, ?it/s]\n"
     ]
    },
    {
     "name": "stdout",
     "output_type": "stream",
     "text": [
      "completed 431 of 948\n"
     ]
    },
    {
     "name": "stderr",
     "output_type": "stream",
     "text": [
      "Exists: 100%|██████████| 1/1 [00:00<00:00,  1.14it/s]\n",
      "Decoding Mesh Buffer: 100%|██████████| 1/1 [00:00<00:00, 1012.38it/s]\n"
     ]
    },
    {
     "name": "stdout",
     "output_type": "stream",
     "text": [
      "completed 432 of 948\n"
     ]
    },
    {
     "name": "stderr",
     "output_type": "stream",
     "text": [
      "Exists: 100%|██████████| 1/1 [00:00<00:00,  1.13it/s]\n",
      "Decoding Mesh Buffer: 100%|██████████| 1/1 [00:00<?, ?it/s]\n"
     ]
    },
    {
     "name": "stdout",
     "output_type": "stream",
     "text": [
      "completed 433 of 948\n"
     ]
    },
    {
     "name": "stderr",
     "output_type": "stream",
     "text": [
      "Exists: 100%|██████████| 1/1 [00:00<00:00,  1.14it/s]\n",
      "Decoding Mesh Buffer: 100%|██████████| 2/2 [00:00<?, ?it/s]\n"
     ]
    },
    {
     "name": "stdout",
     "output_type": "stream",
     "text": [
      "completed 434 of 948\n"
     ]
    },
    {
     "name": "stderr",
     "output_type": "stream",
     "text": [
      "Exists: 100%|██████████| 1/1 [00:00<00:00,  1.18it/s]\n",
      "Decoding Mesh Buffer: 100%|██████████| 1/1 [00:00<?, ?it/s]\n"
     ]
    },
    {
     "name": "stdout",
     "output_type": "stream",
     "text": [
      "completed 435 of 948\n"
     ]
    },
    {
     "name": "stderr",
     "output_type": "stream",
     "text": [
      "Exists: 100%|██████████| 1/1 [00:01<00:00,  1.12s/it]\n",
      "Decoding Mesh Buffer: 100%|██████████| 1/1 [00:00<?, ?it/s]\n"
     ]
    },
    {
     "name": "stdout",
     "output_type": "stream",
     "text": [
      "completed 436 of 948\n"
     ]
    },
    {
     "name": "stderr",
     "output_type": "stream",
     "text": [
      "Exists: 100%|██████████| 1/1 [00:00<00:00,  1.08it/s]\n",
      "Decoding Mesh Buffer: 100%|██████████| 1/1 [00:00<?, ?it/s]\n"
     ]
    },
    {
     "name": "stdout",
     "output_type": "stream",
     "text": [
      "completed 437 of 948\n"
     ]
    },
    {
     "name": "stderr",
     "output_type": "stream",
     "text": [
      "Exists: 100%|██████████| 1/1 [00:00<00:00,  1.14it/s]\n",
      "Decoding Mesh Buffer: 100%|██████████| 1/1 [00:00<00:00, 1013.36it/s]\n"
     ]
    },
    {
     "name": "stdout",
     "output_type": "stream",
     "text": [
      "completed 438 of 948\n"
     ]
    },
    {
     "name": "stderr",
     "output_type": "stream",
     "text": [
      "Exists: 100%|██████████| 1/1 [00:00<00:00,  1.15it/s]\n",
      "Decoding Mesh Buffer: 100%|██████████| 1/1 [00:00<?, ?it/s]\n"
     ]
    },
    {
     "name": "stdout",
     "output_type": "stream",
     "text": [
      "completed 439 of 948\n"
     ]
    },
    {
     "name": "stderr",
     "output_type": "stream",
     "text": [
      "Exists: 100%|██████████| 1/1 [00:01<00:00,  1.05s/it]\n",
      "Decoding Mesh Buffer: 100%|██████████| 1/1 [00:00<00:00, 1001.98it/s]\n"
     ]
    },
    {
     "name": "stdout",
     "output_type": "stream",
     "text": [
      "completed 440 of 948\n"
     ]
    },
    {
     "name": "stderr",
     "output_type": "stream",
     "text": [
      "Exists: 100%|██████████| 1/1 [00:00<00:00,  1.12it/s]\n",
      "Decoding Mesh Buffer: 100%|██████████| 1/1 [00:00<?, ?it/s]\n"
     ]
    },
    {
     "name": "stdout",
     "output_type": "stream",
     "text": [
      "completed 441 of 948\n"
     ]
    },
    {
     "name": "stderr",
     "output_type": "stream",
     "text": [
      "Exists: 100%|██████████| 1/1 [00:00<00:00,  1.10it/s]\n",
      "Decoding Mesh Buffer: 100%|██████████| 1/1 [00:00<00:00, 1010.92it/s]\n"
     ]
    },
    {
     "name": "stdout",
     "output_type": "stream",
     "text": [
      "completed 442 of 948\n"
     ]
    },
    {
     "name": "stderr",
     "output_type": "stream",
     "text": [
      "Exists: 100%|██████████| 1/1 [00:00<00:00,  1.14it/s]\n",
      "Decoding Mesh Buffer: 100%|██████████| 1/1 [00:00<?, ?it/s]\n"
     ]
    },
    {
     "name": "stdout",
     "output_type": "stream",
     "text": [
      "completed 443 of 948\n"
     ]
    },
    {
     "name": "stderr",
     "output_type": "stream",
     "text": [
      "Exists: 100%|██████████| 1/1 [00:00<00:00,  1.13it/s]\n",
      "Decoding Mesh Buffer: 100%|██████████| 1/1 [00:00<?, ?it/s]\n"
     ]
    },
    {
     "name": "stdout",
     "output_type": "stream",
     "text": [
      "completed 444 of 948\n"
     ]
    },
    {
     "name": "stderr",
     "output_type": "stream",
     "text": [
      "Exists: 100%|██████████| 1/1 [00:01<00:00,  1.07s/it]\n",
      "Decoding Mesh Buffer: 100%|██████████| 1/1 [00:00<?, ?it/s]\n"
     ]
    },
    {
     "name": "stdout",
     "output_type": "stream",
     "text": [
      "completed 445 of 948\n"
     ]
    },
    {
     "name": "stderr",
     "output_type": "stream",
     "text": [
      "Exists: 100%|██████████| 1/1 [00:00<00:00,  1.05it/s]\n",
      "Decoding Mesh Buffer: 100%|██████████| 1/1 [00:00<?, ?it/s]\n"
     ]
    },
    {
     "name": "stdout",
     "output_type": "stream",
     "text": [
      "completed 446 of 948\n"
     ]
    },
    {
     "name": "stderr",
     "output_type": "stream",
     "text": [
      "Exists: 100%|██████████| 1/1 [00:00<00:00,  1.15it/s]\n",
      "Decoding Mesh Buffer: 100%|██████████| 1/1 [00:00<00:00, 1039.48it/s]\n"
     ]
    },
    {
     "name": "stdout",
     "output_type": "stream",
     "text": [
      "completed 447 of 948\n"
     ]
    },
    {
     "name": "stderr",
     "output_type": "stream",
     "text": [
      "Exists: 100%|██████████| 1/1 [00:00<00:00,  1.18it/s]\n",
      "Decoding Mesh Buffer: 100%|██████████| 1/1 [00:00<?, ?it/s]\n"
     ]
    },
    {
     "name": "stdout",
     "output_type": "stream",
     "text": [
      "completed 448 of 948\n"
     ]
    },
    {
     "name": "stderr",
     "output_type": "stream",
     "text": [
      "Exists: 100%|██████████| 1/1 [00:00<00:00,  1.07it/s]\n",
      "Decoding Mesh Buffer: 100%|██████████| 1/1 [00:00<?, ?it/s]\n"
     ]
    },
    {
     "name": "stdout",
     "output_type": "stream",
     "text": [
      "completed 449 of 948\n"
     ]
    },
    {
     "name": "stderr",
     "output_type": "stream",
     "text": [
      "Exists: 100%|██████████| 1/1 [00:00<00:00,  1.01it/s]\n",
      "Decoding Mesh Buffer: 100%|██████████| 1/1 [00:00<?, ?it/s]\n"
     ]
    },
    {
     "name": "stdout",
     "output_type": "stream",
     "text": [
      "completed 450 of 948\n"
     ]
    },
    {
     "name": "stderr",
     "output_type": "stream",
     "text": [
      "Exists: 100%|██████████| 1/1 [00:01<00:00,  1.02s/it]\n",
      "Decoding Mesh Buffer: 100%|██████████| 1/1 [00:00<00:00, 1099.14it/s]\n"
     ]
    },
    {
     "name": "stdout",
     "output_type": "stream",
     "text": [
      "completed 451 of 948\n"
     ]
    },
    {
     "name": "stderr",
     "output_type": "stream",
     "text": [
      "Exists: 100%|██████████| 1/1 [00:00<00:00,  1.15it/s]\n",
      "Decoding Mesh Buffer: 100%|██████████| 2/2 [00:00<?, ?it/s]\n"
     ]
    },
    {
     "name": "stdout",
     "output_type": "stream",
     "text": [
      "completed 452 of 948\n"
     ]
    },
    {
     "name": "stderr",
     "output_type": "stream",
     "text": [
      "Exists: 100%|██████████| 1/1 [00:00<00:00,  1.11it/s]\n",
      "Decoding Mesh Buffer: 100%|██████████| 1/1 [00:00<00:00, 608.66it/s]\n"
     ]
    },
    {
     "name": "stdout",
     "output_type": "stream",
     "text": [
      "completed 453 of 948\n"
     ]
    },
    {
     "name": "stderr",
     "output_type": "stream",
     "text": [
      "Exists: 100%|██████████| 1/1 [00:00<00:00,  1.06it/s]\n",
      "Decoding Mesh Buffer: 100%|██████████| 1/1 [00:00<?, ?it/s]\n"
     ]
    },
    {
     "name": "stdout",
     "output_type": "stream",
     "text": [
      "completed 454 of 948\n"
     ]
    },
    {
     "name": "stderr",
     "output_type": "stream",
     "text": [
      "Exists: 100%|██████████| 1/1 [00:00<00:00,  1.07it/s]\n",
      "Decoding Mesh Buffer: 100%|██████████| 1/1 [00:00<?, ?it/s]\n"
     ]
    },
    {
     "name": "stdout",
     "output_type": "stream",
     "text": [
      "completed 455 of 948\n"
     ]
    },
    {
     "name": "stderr",
     "output_type": "stream",
     "text": [
      "Exists: 100%|██████████| 1/1 [00:00<00:00,  1.01it/s]\n",
      "Decoding Mesh Buffer: 100%|██████████| 1/1 [00:00<?, ?it/s]\n"
     ]
    },
    {
     "name": "stdout",
     "output_type": "stream",
     "text": [
      "completed 456 of 948\n"
     ]
    },
    {
     "name": "stderr",
     "output_type": "stream",
     "text": [
      "Exists: 100%|██████████| 1/1 [00:00<00:00,  1.16it/s]\n",
      "Decoding Mesh Buffer: 100%|██████████| 2/2 [00:00<?, ?it/s]\n"
     ]
    },
    {
     "name": "stdout",
     "output_type": "stream",
     "text": [
      "completed 457 of 948\n"
     ]
    },
    {
     "name": "stderr",
     "output_type": "stream",
     "text": [
      "Exists: 100%|██████████| 1/1 [00:00<00:00,  1.16it/s]\n",
      "Decoding Mesh Buffer: 100%|██████████| 2/2 [00:00<?, ?it/s]\n"
     ]
    },
    {
     "name": "stdout",
     "output_type": "stream",
     "text": [
      "completed 458 of 948\n"
     ]
    },
    {
     "name": "stderr",
     "output_type": "stream",
     "text": [
      "Exists: 100%|██████████| 1/1 [00:00<00:00,  1.11it/s]\n",
      "Decoding Mesh Buffer: 100%|██████████| 1/1 [00:00<?, ?it/s]\n"
     ]
    },
    {
     "name": "stdout",
     "output_type": "stream",
     "text": [
      "completed 459 of 948\n"
     ]
    },
    {
     "name": "stderr",
     "output_type": "stream",
     "text": [
      "Exists: 100%|██████████| 1/1 [00:00<00:00,  1.15it/s]\n",
      "Decoding Mesh Buffer: 100%|██████████| 1/1 [00:00<00:00, 1072.71it/s]\n"
     ]
    },
    {
     "name": "stdout",
     "output_type": "stream",
     "text": [
      "completed 460 of 948\n"
     ]
    },
    {
     "name": "stderr",
     "output_type": "stream",
     "text": [
      "Exists: 100%|██████████| 1/1 [00:00<00:00,  1.02it/s]\n",
      "Decoding Mesh Buffer: 100%|██████████| 1/1 [00:00<?, ?it/s]\n"
     ]
    },
    {
     "name": "stdout",
     "output_type": "stream",
     "text": [
      "completed 461 of 948\n"
     ]
    },
    {
     "name": "stderr",
     "output_type": "stream",
     "text": [
      "Exists: 100%|██████████| 1/1 [00:00<00:00,  1.10it/s]\n",
      "Decoding Mesh Buffer: 100%|██████████| 1/1 [00:00<?, ?it/s]\n"
     ]
    },
    {
     "name": "stdout",
     "output_type": "stream",
     "text": [
      "completed 462 of 948\n"
     ]
    },
    {
     "name": "stderr",
     "output_type": "stream",
     "text": [
      "Exists: 100%|██████████| 1/1 [00:01<00:00,  1.29s/it]\n",
      "Decoding Mesh Buffer: 100%|██████████| 1/1 [00:00<?, ?it/s]\n"
     ]
    },
    {
     "name": "stdout",
     "output_type": "stream",
     "text": [
      "completed 463 of 948\n"
     ]
    },
    {
     "name": "stderr",
     "output_type": "stream",
     "text": [
      "Exists: 100%|██████████| 1/1 [00:00<00:00,  1.14it/s]\n",
      "Decoding Mesh Buffer: 100%|██████████| 1/1 [00:00<?, ?it/s]\n"
     ]
    },
    {
     "name": "stdout",
     "output_type": "stream",
     "text": [
      "completed 464 of 948\n"
     ]
    },
    {
     "name": "stderr",
     "output_type": "stream",
     "text": [
      "Exists: 100%|██████████| 1/1 [00:00<00:00,  1.09it/s]\n",
      "Decoding Mesh Buffer: 100%|██████████| 1/1 [00:00<?, ?it/s]\n"
     ]
    },
    {
     "name": "stdout",
     "output_type": "stream",
     "text": [
      "completed 465 of 948\n"
     ]
    },
    {
     "name": "stderr",
     "output_type": "stream",
     "text": [
      "Exists: 100%|██████████| 1/1 [00:00<00:00,  1.15it/s]\n",
      "Decoding Mesh Buffer: 100%|██████████| 1/1 [00:00<?, ?it/s]\n"
     ]
    },
    {
     "name": "stdout",
     "output_type": "stream",
     "text": [
      "completed 466 of 948\n"
     ]
    },
    {
     "name": "stderr",
     "output_type": "stream",
     "text": [
      "Exists: 100%|██████████| 1/1 [00:00<00:00,  1.12it/s]\n",
      "Decoding Mesh Buffer: 100%|██████████| 1/1 [00:00<00:00, 999.83it/s]\n"
     ]
    },
    {
     "name": "stdout",
     "output_type": "stream",
     "text": [
      "completed 467 of 948\n"
     ]
    },
    {
     "name": "stderr",
     "output_type": "stream",
     "text": [
      "Exists: 100%|██████████| 1/1 [00:00<00:00,  1.14it/s]\n",
      "Decoding Mesh Buffer: 100%|██████████| 2/2 [00:00<00:00, 2278.89it/s]\n"
     ]
    },
    {
     "name": "stdout",
     "output_type": "stream",
     "text": [
      "completed 468 of 948\n"
     ]
    },
    {
     "name": "stderr",
     "output_type": "stream",
     "text": [
      "Exists: 100%|██████████| 1/1 [00:00<00:00,  1.12it/s]\n",
      "Decoding Mesh Buffer: 100%|██████████| 1/1 [00:00<00:00, 1056.23it/s]\n"
     ]
    },
    {
     "name": "stdout",
     "output_type": "stream",
     "text": [
      "completed 469 of 948\n"
     ]
    },
    {
     "name": "stderr",
     "output_type": "stream",
     "text": [
      "Exists: 100%|██████████| 1/1 [00:00<00:00,  1.14it/s]\n",
      "Decoding Mesh Buffer: 100%|██████████| 1/1 [00:00<?, ?it/s]\n"
     ]
    },
    {
     "name": "stdout",
     "output_type": "stream",
     "text": [
      "completed 470 of 948\n"
     ]
    },
    {
     "name": "stderr",
     "output_type": "stream",
     "text": [
      "Exists: 100%|██████████| 1/1 [00:00<00:00,  1.12it/s]\n",
      "Decoding Mesh Buffer: 100%|██████████| 1/1 [00:00<?, ?it/s]\n"
     ]
    },
    {
     "name": "stdout",
     "output_type": "stream",
     "text": [
      "completed 471 of 948\n"
     ]
    },
    {
     "name": "stderr",
     "output_type": "stream",
     "text": [
      "Exists: 100%|██████████| 1/1 [00:00<00:00,  1.11it/s]\n",
      "Decoding Mesh Buffer: 100%|██████████| 1/1 [00:00<?, ?it/s]\n"
     ]
    },
    {
     "name": "stdout",
     "output_type": "stream",
     "text": [
      "completed 472 of 948\n"
     ]
    },
    {
     "name": "stderr",
     "output_type": "stream",
     "text": [
      "Exists: 100%|██████████| 1/1 [00:00<00:00,  1.15it/s]\n",
      "Decoding Mesh Buffer: 100%|██████████| 1/1 [00:00<?, ?it/s]\n"
     ]
    },
    {
     "name": "stdout",
     "output_type": "stream",
     "text": [
      "completed 473 of 948\n"
     ]
    },
    {
     "name": "stderr",
     "output_type": "stream",
     "text": [
      "Exists: 100%|██████████| 1/1 [00:00<00:00,  1.14it/s]\n",
      "Decoding Mesh Buffer: 100%|██████████| 1/1 [00:00<?, ?it/s]\n"
     ]
    },
    {
     "name": "stdout",
     "output_type": "stream",
     "text": [
      "completed 474 of 948\n"
     ]
    },
    {
     "name": "stderr",
     "output_type": "stream",
     "text": [
      "Exists: 100%|██████████| 1/1 [00:00<00:00,  1.06it/s]\n",
      "Decoding Mesh Buffer: 100%|██████████| 1/1 [00:00<?, ?it/s]\n"
     ]
    },
    {
     "name": "stdout",
     "output_type": "stream",
     "text": [
      "completed 475 of 948\n"
     ]
    },
    {
     "name": "stderr",
     "output_type": "stream",
     "text": [
      "Exists: 100%|██████████| 1/1 [00:00<00:00,  1.03it/s]\n",
      "Decoding Mesh Buffer: 100%|██████████| 1/1 [00:00<?, ?it/s]\n"
     ]
    },
    {
     "name": "stdout",
     "output_type": "stream",
     "text": [
      "completed 476 of 948\n"
     ]
    },
    {
     "name": "stderr",
     "output_type": "stream",
     "text": [
      "Exists: 100%|██████████| 1/1 [00:00<00:00,  1.13it/s]\n",
      "Decoding Mesh Buffer: 100%|██████████| 1/1 [00:00<?, ?it/s]\n"
     ]
    },
    {
     "name": "stdout",
     "output_type": "stream",
     "text": [
      "completed 477 of 948\n"
     ]
    },
    {
     "name": "stderr",
     "output_type": "stream",
     "text": [
      "Exists: 100%|██████████| 1/1 [00:00<00:00,  1.13it/s]\n",
      "Decoding Mesh Buffer: 100%|██████████| 1/1 [00:00<00:00, 1733.18it/s]\n"
     ]
    },
    {
     "name": "stdout",
     "output_type": "stream",
     "text": [
      "completed 478 of 948\n"
     ]
    },
    {
     "name": "stderr",
     "output_type": "stream",
     "text": [
      "Exists: 100%|██████████| 1/1 [00:01<00:00,  1.00s/it]\n",
      "Decoding Mesh Buffer: 100%|██████████| 1/1 [00:00<00:00, 1002.70it/s]\n"
     ]
    },
    {
     "name": "stdout",
     "output_type": "stream",
     "text": [
      "completed 479 of 948\n"
     ]
    },
    {
     "name": "stderr",
     "output_type": "stream",
     "text": [
      "Exists: 100%|██████████| 1/1 [00:00<00:00,  1.04it/s]\n",
      "Decoding Mesh Buffer: 100%|██████████| 2/2 [00:00<?, ?it/s]\n"
     ]
    },
    {
     "name": "stdout",
     "output_type": "stream",
     "text": [
      "completed 480 of 948\n"
     ]
    },
    {
     "name": "stderr",
     "output_type": "stream",
     "text": [
      "Exists: 100%|██████████| 1/1 [00:00<00:00,  1.03it/s]\n",
      "Decoding Mesh Buffer: 100%|██████████| 1/1 [00:00<00:00, 962.88it/s]\n"
     ]
    },
    {
     "name": "stdout",
     "output_type": "stream",
     "text": [
      "completed 481 of 948\n"
     ]
    },
    {
     "name": "stderr",
     "output_type": "stream",
     "text": [
      "Exists: 100%|██████████| 1/1 [00:00<00:00,  1.15it/s]\n",
      "Decoding Mesh Buffer: 100%|██████████| 1/1 [00:00<?, ?it/s]\n"
     ]
    },
    {
     "name": "stdout",
     "output_type": "stream",
     "text": [
      "completed 482 of 948\n"
     ]
    },
    {
     "name": "stderr",
     "output_type": "stream",
     "text": [
      "Exists: 100%|██████████| 1/1 [00:00<00:00,  1.08it/s]\n",
      "Decoding Mesh Buffer: 100%|██████████| 1/1 [00:00<00:00, 1014.59it/s]\n"
     ]
    },
    {
     "name": "stdout",
     "output_type": "stream",
     "text": [
      "completed 483 of 948\n"
     ]
    },
    {
     "name": "stderr",
     "output_type": "stream",
     "text": [
      "Exists: 100%|██████████| 1/1 [00:00<00:00,  1.08it/s]\n",
      "Decoding Mesh Buffer: 100%|██████████| 1/1 [00:00<?, ?it/s]\n"
     ]
    },
    {
     "name": "stdout",
     "output_type": "stream",
     "text": [
      "completed 484 of 948\n"
     ]
    },
    {
     "name": "stderr",
     "output_type": "stream",
     "text": [
      "Exists: 100%|██████████| 1/1 [00:00<00:00,  1.15it/s]\n",
      "Decoding Mesh Buffer: 100%|██████████| 1/1 [00:00<?, ?it/s]\n"
     ]
    },
    {
     "name": "stdout",
     "output_type": "stream",
     "text": [
      "completed 485 of 948\n"
     ]
    },
    {
     "name": "stderr",
     "output_type": "stream",
     "text": [
      "Exists: 100%|██████████| 1/1 [00:00<00:00,  1.10it/s]\n",
      "Decoding Mesh Buffer: 100%|██████████| 2/2 [00:00<?, ?it/s]\n"
     ]
    },
    {
     "name": "stdout",
     "output_type": "stream",
     "text": [
      "completed 486 of 948\n"
     ]
    },
    {
     "name": "stderr",
     "output_type": "stream",
     "text": [
      "Exists: 100%|██████████| 1/1 [00:00<00:00,  1.07it/s]\n",
      "Decoding Mesh Buffer: 100%|██████████| 1/1 [00:00<?, ?it/s]\n"
     ]
    },
    {
     "name": "stdout",
     "output_type": "stream",
     "text": [
      "completed 487 of 948\n"
     ]
    },
    {
     "name": "stderr",
     "output_type": "stream",
     "text": [
      "Exists: 100%|██████████| 1/1 [00:01<00:00,  1.27s/it]\n",
      "Decoding Mesh Buffer: 100%|██████████| 1/1 [00:00<00:00, 988.06it/s]\n"
     ]
    },
    {
     "name": "stdout",
     "output_type": "stream",
     "text": [
      "completed 488 of 948\n"
     ]
    },
    {
     "name": "stderr",
     "output_type": "stream",
     "text": [
      "Exists: 100%|██████████| 1/1 [00:00<00:00,  1.13it/s]\n",
      "Decoding Mesh Buffer: 100%|██████████| 1/1 [00:00<?, ?it/s]\n"
     ]
    },
    {
     "name": "stdout",
     "output_type": "stream",
     "text": [
      "completed 489 of 948\n"
     ]
    },
    {
     "name": "stderr",
     "output_type": "stream",
     "text": [
      "Exists: 100%|██████████| 1/1 [00:00<00:00,  1.13it/s]\n",
      "Decoding Mesh Buffer: 100%|██████████| 2/2 [00:00<?, ?it/s]\n"
     ]
    },
    {
     "name": "stdout",
     "output_type": "stream",
     "text": [
      "completed 490 of 948\n"
     ]
    },
    {
     "name": "stderr",
     "output_type": "stream",
     "text": [
      "Exists: 100%|██████████| 1/1 [00:00<00:00,  1.07it/s]\n",
      "Decoding Mesh Buffer: 100%|██████████| 1/1 [00:00<?, ?it/s]\n"
     ]
    },
    {
     "name": "stdout",
     "output_type": "stream",
     "text": [
      "completed 491 of 948\n"
     ]
    },
    {
     "name": "stderr",
     "output_type": "stream",
     "text": [
      "Exists: 100%|██████████| 1/1 [00:00<00:00,  1.08it/s]\n",
      "Decoding Mesh Buffer: 100%|██████████| 1/1 [00:00<?, ?it/s]\n"
     ]
    },
    {
     "name": "stdout",
     "output_type": "stream",
     "text": [
      "completed 492 of 948\n"
     ]
    },
    {
     "name": "stderr",
     "output_type": "stream",
     "text": [
      "Exists: 100%|██████████| 1/1 [00:00<00:00,  1.12it/s]\n",
      "Decoding Mesh Buffer: 100%|██████████| 1/1 [00:00<?, ?it/s]\n"
     ]
    },
    {
     "name": "stdout",
     "output_type": "stream",
     "text": [
      "completed 493 of 948\n"
     ]
    },
    {
     "name": "stderr",
     "output_type": "stream",
     "text": [
      "Exists: 100%|██████████| 1/1 [00:00<00:00,  1.16it/s]\n",
      "Decoding Mesh Buffer: 100%|██████████| 1/1 [00:00<00:00, 1063.73it/s]\n"
     ]
    },
    {
     "name": "stdout",
     "output_type": "stream",
     "text": [
      "completed 494 of 948\n"
     ]
    },
    {
     "name": "stderr",
     "output_type": "stream",
     "text": [
      "Exists: 100%|██████████| 1/1 [00:00<00:00,  1.10it/s]\n",
      "Decoding Mesh Buffer: 100%|██████████| 1/1 [00:00<?, ?it/s]\n"
     ]
    },
    {
     "name": "stdout",
     "output_type": "stream",
     "text": [
      "completed 495 of 948\n"
     ]
    },
    {
     "name": "stderr",
     "output_type": "stream",
     "text": [
      "Exists: 100%|██████████| 1/1 [00:00<00:00,  1.13it/s]\n",
      "Decoding Mesh Buffer: 100%|██████████| 1/1 [00:00<?, ?it/s]\n"
     ]
    },
    {
     "name": "stdout",
     "output_type": "stream",
     "text": [
      "completed 496 of 948\n"
     ]
    },
    {
     "name": "stderr",
     "output_type": "stream",
     "text": [
      "Exists: 100%|██████████| 1/1 [00:00<00:00,  1.11it/s]\n",
      "Decoding Mesh Buffer: 100%|██████████| 1/1 [00:00<?, ?it/s]\n"
     ]
    },
    {
     "name": "stdout",
     "output_type": "stream",
     "text": [
      "completed 497 of 948\n"
     ]
    },
    {
     "name": "stderr",
     "output_type": "stream",
     "text": [
      "Exists: 100%|██████████| 1/1 [00:00<00:00,  1.16it/s]\n",
      "Decoding Mesh Buffer: 100%|██████████| 1/1 [00:00<?, ?it/s]\n"
     ]
    },
    {
     "name": "stdout",
     "output_type": "stream",
     "text": [
      "completed 498 of 948\n"
     ]
    },
    {
     "name": "stderr",
     "output_type": "stream",
     "text": [
      "Exists: 100%|██████████| 1/1 [00:00<00:00,  1.16it/s]\n",
      "Decoding Mesh Buffer: 100%|██████████| 1/1 [00:00<?, ?it/s]\n"
     ]
    },
    {
     "name": "stdout",
     "output_type": "stream",
     "text": [
      "completed 499 of 948\n"
     ]
    },
    {
     "name": "stderr",
     "output_type": "stream",
     "text": [
      "Exists: 100%|██████████| 1/1 [00:00<00:00,  1.04it/s]\n",
      "Decoding Mesh Buffer: 100%|██████████| 1/1 [00:00<00:00, 994.38it/s]\n"
     ]
    },
    {
     "name": "stdout",
     "output_type": "stream",
     "text": [
      "completed 500 of 948\n"
     ]
    },
    {
     "name": "stderr",
     "output_type": "stream",
     "text": [
      "Exists: 100%|██████████| 1/1 [00:00<00:00,  1.13it/s]\n",
      "Decoding Mesh Buffer: 100%|██████████| 1/1 [00:00<?, ?it/s]\n"
     ]
    },
    {
     "name": "stdout",
     "output_type": "stream",
     "text": [
      "completed 501 of 948\n"
     ]
    },
    {
     "name": "stderr",
     "output_type": "stream",
     "text": [
      "Exists: 100%|██████████| 1/1 [00:00<00:00,  1.03it/s]\n",
      "Decoding Mesh Buffer: 100%|██████████| 1/1 [00:00<?, ?it/s]\n"
     ]
    },
    {
     "name": "stdout",
     "output_type": "stream",
     "text": [
      "completed 502 of 948\n"
     ]
    },
    {
     "name": "stderr",
     "output_type": "stream",
     "text": [
      "Exists: 100%|██████████| 1/1 [00:01<00:00,  1.03s/it]\n",
      "Decoding Mesh Buffer: 100%|██████████| 1/1 [00:00<00:00, 988.06it/s]\n"
     ]
    },
    {
     "name": "stdout",
     "output_type": "stream",
     "text": [
      "completed 503 of 948\n"
     ]
    },
    {
     "name": "stderr",
     "output_type": "stream",
     "text": [
      "Exists: 100%|██████████| 1/1 [00:00<00:00,  1.13it/s]\n",
      "Decoding Mesh Buffer: 100%|██████████| 1/1 [00:00<?, ?it/s]\n"
     ]
    },
    {
     "name": "stdout",
     "output_type": "stream",
     "text": [
      "completed 504 of 948\n"
     ]
    },
    {
     "name": "stderr",
     "output_type": "stream",
     "text": [
      "Exists: 100%|██████████| 1/1 [00:00<00:00,  1.04it/s]\n",
      "Decoding Mesh Buffer: 100%|██████████| 2/2 [00:00<00:00, 2132.88it/s]\n"
     ]
    },
    {
     "name": "stdout",
     "output_type": "stream",
     "text": [
      "completed 505 of 948\n"
     ]
    },
    {
     "name": "stderr",
     "output_type": "stream",
     "text": [
      "Exists: 100%|██████████| 1/1 [00:00<00:00,  1.16it/s]\n",
      "Decoding Mesh Buffer: 100%|██████████| 1/1 [00:00<?, ?it/s]\n"
     ]
    },
    {
     "name": "stdout",
     "output_type": "stream",
     "text": [
      "completed 506 of 948\n"
     ]
    },
    {
     "name": "stderr",
     "output_type": "stream",
     "text": [
      "Exists: 100%|██████████| 1/1 [00:00<00:00,  1.13it/s]\n",
      "Decoding Mesh Buffer: 100%|██████████| 2/2 [00:00<?, ?it/s]\n"
     ]
    },
    {
     "name": "stdout",
     "output_type": "stream",
     "text": [
      "completed 507 of 948\n"
     ]
    },
    {
     "name": "stderr",
     "output_type": "stream",
     "text": [
      "Exists: 100%|██████████| 1/1 [00:01<00:00,  1.01s/it]\n",
      "Decoding Mesh Buffer: 100%|██████████| 1/1 [00:00<00:00, 1007.76it/s]\n"
     ]
    },
    {
     "name": "stdout",
     "output_type": "stream",
     "text": [
      "completed 508 of 948\n"
     ]
    },
    {
     "name": "stderr",
     "output_type": "stream",
     "text": [
      "Exists: 100%|██████████| 1/1 [00:00<00:00,  1.17it/s]\n",
      "Decoding Mesh Buffer: 100%|██████████| 1/1 [00:00<00:00, 1072.16it/s]\n"
     ]
    },
    {
     "name": "stdout",
     "output_type": "stream",
     "text": [
      "completed 509 of 948\n"
     ]
    },
    {
     "name": "stderr",
     "output_type": "stream",
     "text": [
      "Exists: 100%|██████████| 1/1 [00:00<00:00,  1.17it/s]\n",
      "Decoding Mesh Buffer: 100%|██████████| 2/2 [00:00<?, ?it/s]\n"
     ]
    },
    {
     "name": "stdout",
     "output_type": "stream",
     "text": [
      "completed 510 of 948\n"
     ]
    },
    {
     "name": "stderr",
     "output_type": "stream",
     "text": [
      "Exists: 100%|██████████| 1/1 [00:00<00:00,  1.16it/s]\n",
      "Decoding Mesh Buffer: 100%|██████████| 2/2 [00:00<?, ?it/s]\n"
     ]
    },
    {
     "name": "stdout",
     "output_type": "stream",
     "text": [
      "completed 511 of 948\n"
     ]
    },
    {
     "name": "stderr",
     "output_type": "stream",
     "text": [
      "Exists: 100%|██████████| 1/1 [00:00<00:00,  1.16it/s]\n",
      "Decoding Mesh Buffer: 100%|██████████| 1/1 [00:00<?, ?it/s]\n"
     ]
    },
    {
     "name": "stdout",
     "output_type": "stream",
     "text": [
      "completed 512 of 948\n"
     ]
    },
    {
     "name": "stderr",
     "output_type": "stream",
     "text": [
      "Exists: 100%|██████████| 1/1 [00:00<00:00,  1.17it/s]\n",
      "Decoding Mesh Buffer: 100%|██████████| 1/1 [00:00<?, ?it/s]\n"
     ]
    },
    {
     "name": "stdout",
     "output_type": "stream",
     "text": [
      "completed 513 of 948\n"
     ]
    },
    {
     "name": "stderr",
     "output_type": "stream",
     "text": [
      "Exists: 100%|██████████| 1/1 [00:01<00:00,  1.02s/it]\n",
      "Decoding Mesh Buffer: 100%|██████████| 1/1 [00:00<?, ?it/s]\n"
     ]
    },
    {
     "name": "stdout",
     "output_type": "stream",
     "text": [
      "completed 514 of 948\n"
     ]
    },
    {
     "name": "stderr",
     "output_type": "stream",
     "text": [
      "Exists: 100%|██████████| 1/1 [00:01<00:00,  1.00s/it]\n",
      "Decoding Mesh Buffer: 100%|██████████| 1/1 [00:00<00:00, 685.79it/s]\n"
     ]
    },
    {
     "name": "stdout",
     "output_type": "stream",
     "text": [
      "completed 515 of 948\n"
     ]
    },
    {
     "name": "stderr",
     "output_type": "stream",
     "text": [
      "Exists: 100%|██████████| 1/1 [00:01<00:00,  1.08s/it]\n",
      "Decoding Mesh Buffer: 100%|██████████| 1/1 [00:00<?, ?it/s]\n"
     ]
    },
    {
     "name": "stdout",
     "output_type": "stream",
     "text": [
      "completed 516 of 948\n"
     ]
    },
    {
     "name": "stderr",
     "output_type": "stream",
     "text": [
      "Exists: 100%|██████████| 1/1 [00:00<00:00,  1.15it/s]\n",
      "Decoding Mesh Buffer: 100%|██████████| 1/1 [00:00<?, ?it/s]\n"
     ]
    },
    {
     "name": "stdout",
     "output_type": "stream",
     "text": [
      "completed 517 of 948\n"
     ]
    },
    {
     "name": "stderr",
     "output_type": "stream",
     "text": [
      "Exists: 100%|██████████| 1/1 [00:00<00:00,  1.13it/s]\n",
      "Decoding Mesh Buffer: 100%|██████████| 2/2 [00:00<00:00, 1982.19it/s]\n"
     ]
    },
    {
     "name": "stdout",
     "output_type": "stream",
     "text": [
      "completed 518 of 948\n"
     ]
    },
    {
     "name": "stderr",
     "output_type": "stream",
     "text": [
      "Exists: 100%|██████████| 1/1 [00:01<00:00,  1.08s/it]\n",
      "Decoding Mesh Buffer: 100%|██████████| 3/3 [00:00<?, ?it/s]\n"
     ]
    },
    {
     "name": "stdout",
     "output_type": "stream",
     "text": [
      "completed 519 of 948\n"
     ]
    },
    {
     "name": "stderr",
     "output_type": "stream",
     "text": [
      "Exists: 100%|██████████| 1/1 [00:00<00:00,  1.05it/s]\n",
      "Decoding Mesh Buffer: 100%|██████████| 1/1 [00:00<00:00, 1050.68it/s]\n"
     ]
    },
    {
     "name": "stdout",
     "output_type": "stream",
     "text": [
      "completed 520 of 948\n"
     ]
    },
    {
     "name": "stderr",
     "output_type": "stream",
     "text": [
      "Exists: 100%|██████████| 1/1 [00:00<00:00,  1.03it/s]\n",
      "Decoding Mesh Buffer: 100%|██████████| 1/1 [00:00<00:00, 992.73it/s]\n"
     ]
    },
    {
     "name": "stdout",
     "output_type": "stream",
     "text": [
      "completed 521 of 948\n"
     ]
    },
    {
     "name": "stderr",
     "output_type": "stream",
     "text": [
      "Exists: 100%|██████████| 1/1 [00:00<00:00,  1.12it/s]\n",
      "Decoding Mesh Buffer: 100%|██████████| 1/1 [00:00<?, ?it/s]\n"
     ]
    },
    {
     "name": "stdout",
     "output_type": "stream",
     "text": [
      "completed 522 of 948\n"
     ]
    },
    {
     "name": "stderr",
     "output_type": "stream",
     "text": [
      "Exists: 100%|██████████| 1/1 [00:00<00:00,  1.16it/s]\n",
      "Decoding Mesh Buffer: 100%|██████████| 1/1 [00:00<?, ?it/s]\n"
     ]
    },
    {
     "name": "stdout",
     "output_type": "stream",
     "text": [
      "completed 523 of 948\n"
     ]
    },
    {
     "name": "stderr",
     "output_type": "stream",
     "text": [
      "Exists: 100%|██████████| 1/1 [00:00<00:00,  1.09it/s]\n",
      "Decoding Mesh Buffer: 100%|██████████| 1/1 [00:00<?, ?it/s]\n"
     ]
    },
    {
     "name": "stdout",
     "output_type": "stream",
     "text": [
      "completed 524 of 948\n"
     ]
    },
    {
     "name": "stderr",
     "output_type": "stream",
     "text": [
      "Exists: 100%|██████████| 1/1 [00:00<00:00,  1.08it/s]\n",
      "Decoding Mesh Buffer: 100%|██████████| 1/1 [00:00<?, ?it/s]\n"
     ]
    },
    {
     "name": "stdout",
     "output_type": "stream",
     "text": [
      "completed 525 of 948\n"
     ]
    },
    {
     "name": "stderr",
     "output_type": "stream",
     "text": [
      "Exists: 100%|██████████| 1/1 [00:00<00:00,  1.12it/s]\n",
      "Decoding Mesh Buffer: 100%|██████████| 1/1 [00:00<?, ?it/s]\n"
     ]
    },
    {
     "name": "stdout",
     "output_type": "stream",
     "text": [
      "completed 526 of 948\n"
     ]
    },
    {
     "name": "stderr",
     "output_type": "stream",
     "text": [
      "Exists: 100%|██████████| 1/1 [00:00<00:00,  1.13it/s]\n",
      "Decoding Mesh Buffer: 100%|██████████| 1/1 [00:00<00:00, 1004.86it/s]\n"
     ]
    },
    {
     "name": "stdout",
     "output_type": "stream",
     "text": [
      "completed 527 of 948\n"
     ]
    },
    {
     "name": "stderr",
     "output_type": "stream",
     "text": [
      "Exists: 100%|██████████| 1/1 [00:01<00:00,  1.02s/it]\n",
      "Decoding Mesh Buffer: 100%|██████████| 1/1 [00:00<?, ?it/s]\n"
     ]
    },
    {
     "name": "stdout",
     "output_type": "stream",
     "text": [
      "completed 528 of 948\n"
     ]
    },
    {
     "name": "stderr",
     "output_type": "stream",
     "text": [
      "Exists: 100%|██████████| 1/1 [00:00<00:00,  1.12it/s]\n",
      "Decoding Mesh Buffer: 100%|██████████| 1/1 [00:00<?, ?it/s]\n"
     ]
    },
    {
     "name": "stdout",
     "output_type": "stream",
     "text": [
      "completed 529 of 948\n"
     ]
    },
    {
     "name": "stderr",
     "output_type": "stream",
     "text": [
      "Exists: 100%|██████████| 1/1 [00:00<00:00,  1.13it/s]\n",
      "Decoding Mesh Buffer: 100%|██████████| 1/1 [00:00<?, ?it/s]\n"
     ]
    },
    {
     "name": "stdout",
     "output_type": "stream",
     "text": [
      "completed 530 of 948\n"
     ]
    },
    {
     "name": "stderr",
     "output_type": "stream",
     "text": [
      "Exists: 100%|██████████| 1/1 [00:00<00:00,  1.13it/s]\n",
      "Decoding Mesh Buffer: 100%|██████████| 1/1 [00:00<00:00, 1022.25it/s]\n"
     ]
    },
    {
     "name": "stdout",
     "output_type": "stream",
     "text": [
      "completed 531 of 948\n"
     ]
    },
    {
     "name": "stderr",
     "output_type": "stream",
     "text": [
      "Exists: 100%|██████████| 1/1 [00:00<00:00,  1.15it/s]\n",
      "Decoding Mesh Buffer: 100%|██████████| 1/1 [00:00<?, ?it/s]\n"
     ]
    },
    {
     "name": "stdout",
     "output_type": "stream",
     "text": [
      "completed 532 of 948\n"
     ]
    },
    {
     "name": "stderr",
     "output_type": "stream",
     "text": [
      "Exists: 100%|██████████| 1/1 [00:00<00:00,  1.07it/s]\n",
      "Decoding Mesh Buffer: 100%|██████████| 1/1 [00:00<?, ?it/s]\n"
     ]
    },
    {
     "name": "stdout",
     "output_type": "stream",
     "text": [
      "completed 533 of 948\n"
     ]
    },
    {
     "name": "stderr",
     "output_type": "stream",
     "text": [
      "Exists: 100%|██████████| 1/1 [00:00<00:00,  1.11it/s]\n",
      "Decoding Mesh Buffer: 100%|██████████| 1/1 [00:00<00:00, 1071.07it/s]\n"
     ]
    },
    {
     "name": "stdout",
     "output_type": "stream",
     "text": [
      "completed 534 of 948\n"
     ]
    },
    {
     "name": "stderr",
     "output_type": "stream",
     "text": [
      "Exists: 100%|██████████| 1/1 [00:00<00:00,  1.18it/s]\n",
      "Decoding Mesh Buffer: 100%|██████████| 1/1 [00:00<00:00, 982.04it/s]\n"
     ]
    },
    {
     "name": "stdout",
     "output_type": "stream",
     "text": [
      "completed 535 of 948\n"
     ]
    },
    {
     "name": "stderr",
     "output_type": "stream",
     "text": [
      "Exists: 100%|██████████| 1/1 [00:00<00:00,  1.19it/s]\n",
      "Decoding Mesh Buffer: 100%|██████████| 1/1 [00:00<?, ?it/s]\n"
     ]
    },
    {
     "name": "stdout",
     "output_type": "stream",
     "text": [
      "completed 536 of 948\n"
     ]
    },
    {
     "name": "stderr",
     "output_type": "stream",
     "text": [
      "Exists: 100%|██████████| 1/1 [00:00<00:00,  1.15it/s]\n",
      "Decoding Mesh Buffer: 100%|██████████| 1/1 [00:00<?, ?it/s]\n"
     ]
    },
    {
     "name": "stdout",
     "output_type": "stream",
     "text": [
      "completed 537 of 948\n"
     ]
    },
    {
     "name": "stderr",
     "output_type": "stream",
     "text": [
      "Exists: 100%|██████████| 1/1 [00:01<00:00,  1.02s/it]\n",
      "Decoding Mesh Buffer: 100%|██████████| 1/1 [00:00<?, ?it/s]\n"
     ]
    },
    {
     "name": "stdout",
     "output_type": "stream",
     "text": [
      "completed 538 of 948\n"
     ]
    },
    {
     "name": "stderr",
     "output_type": "stream",
     "text": [
      "Exists: 100%|██████████| 1/1 [00:00<00:00,  1.11it/s]\n",
      "Decoding Mesh Buffer: 100%|██████████| 1/1 [00:00<?, ?it/s]\n"
     ]
    },
    {
     "name": "stdout",
     "output_type": "stream",
     "text": [
      "completed 539 of 948\n"
     ]
    },
    {
     "name": "stderr",
     "output_type": "stream",
     "text": [
      "Exists: 100%|██████████| 1/1 [00:01<00:00,  1.01s/it]\n",
      "Decoding Mesh Buffer: 100%|██████████| 1/1 [00:00<?, ?it/s]\n"
     ]
    },
    {
     "name": "stdout",
     "output_type": "stream",
     "text": [
      "completed 540 of 948\n"
     ]
    },
    {
     "name": "stderr",
     "output_type": "stream",
     "text": [
      "Exists: 100%|██████████| 1/1 [00:00<00:00,  1.15it/s]\n",
      "Decoding Mesh Buffer: 100%|██████████| 1/1 [00:00<?, ?it/s]\n"
     ]
    },
    {
     "name": "stdout",
     "output_type": "stream",
     "text": [
      "completed 541 of 948\n"
     ]
    },
    {
     "name": "stderr",
     "output_type": "stream",
     "text": [
      "Exists: 100%|██████████| 1/1 [00:00<00:00,  1.13it/s]\n",
      "Decoding Mesh Buffer: 100%|██████████| 2/2 [00:00<?, ?it/s]\n"
     ]
    },
    {
     "name": "stdout",
     "output_type": "stream",
     "text": [
      "completed 542 of 948\n"
     ]
    },
    {
     "name": "stderr",
     "output_type": "stream",
     "text": [
      "Exists: 100%|██████████| 1/1 [00:00<00:00,  1.02it/s]\n",
      "Decoding Mesh Buffer: 100%|██████████| 1/1 [00:00<?, ?it/s]\n"
     ]
    },
    {
     "name": "stdout",
     "output_type": "stream",
     "text": [
      "completed 543 of 948\n"
     ]
    },
    {
     "name": "stderr",
     "output_type": "stream",
     "text": [
      "Exists: 100%|██████████| 1/1 [00:00<00:00,  1.13it/s]\n",
      "Decoding Mesh Buffer: 100%|██████████| 1/1 [00:00<?, ?it/s]\n"
     ]
    },
    {
     "name": "stdout",
     "output_type": "stream",
     "text": [
      "completed 544 of 948\n"
     ]
    },
    {
     "name": "stderr",
     "output_type": "stream",
     "text": [
      "Exists: 100%|██████████| 1/1 [00:00<00:00,  1.14it/s]\n",
      "Decoding Mesh Buffer: 100%|██████████| 2/2 [00:00<?, ?it/s]\n"
     ]
    },
    {
     "name": "stdout",
     "output_type": "stream",
     "text": [
      "completed 545 of 948\n"
     ]
    },
    {
     "name": "stderr",
     "output_type": "stream",
     "text": [
      "Exists: 100%|██████████| 1/1 [00:00<00:00,  1.10it/s]\n",
      "Decoding Mesh Buffer: 100%|██████████| 1/1 [00:00<00:00, 932.48it/s]\n"
     ]
    },
    {
     "name": "stdout",
     "output_type": "stream",
     "text": [
      "completed 546 of 948\n"
     ]
    },
    {
     "name": "stderr",
     "output_type": "stream",
     "text": [
      "Exists: 100%|██████████| 1/1 [00:00<00:00,  1.11it/s]\n",
      "Decoding Mesh Buffer: 100%|██████████| 1/1 [00:00<00:00, 1896.16it/s]\n"
     ]
    },
    {
     "name": "stdout",
     "output_type": "stream",
     "text": [
      "completed 547 of 948\n"
     ]
    },
    {
     "name": "stderr",
     "output_type": "stream",
     "text": [
      "Exists: 100%|██████████| 1/1 [00:00<00:00,  1.16it/s]\n",
      "Decoding Mesh Buffer: 100%|██████████| 1/1 [00:00<?, ?it/s]\n"
     ]
    },
    {
     "name": "stdout",
     "output_type": "stream",
     "text": [
      "completed 548 of 948\n"
     ]
    },
    {
     "name": "stderr",
     "output_type": "stream",
     "text": [
      "Exists: 100%|██████████| 1/1 [00:00<00:00,  1.16it/s]\n",
      "Decoding Mesh Buffer: 100%|██████████| 1/1 [00:00<00:00, 990.86it/s]\n"
     ]
    },
    {
     "name": "stdout",
     "output_type": "stream",
     "text": [
      "completed 549 of 948\n"
     ]
    },
    {
     "name": "stderr",
     "output_type": "stream",
     "text": [
      "Exists: 100%|██████████| 1/1 [00:00<00:00,  1.16it/s]\n",
      "Decoding Mesh Buffer: 100%|██████████| 1/1 [00:00<?, ?it/s]\n"
     ]
    },
    {
     "name": "stdout",
     "output_type": "stream",
     "text": [
      "completed 550 of 948\n"
     ]
    },
    {
     "name": "stderr",
     "output_type": "stream",
     "text": [
      "Exists: 100%|██████████| 1/1 [00:00<00:00,  1.13it/s]\n",
      "Decoding Mesh Buffer: 100%|██████████| 2/2 [00:00<?, ?it/s]\n"
     ]
    },
    {
     "name": "stdout",
     "output_type": "stream",
     "text": [
      "completed 551 of 948\n"
     ]
    },
    {
     "name": "stderr",
     "output_type": "stream",
     "text": [
      "Exists: 100%|██████████| 1/1 [00:00<00:00,  1.17it/s]\n",
      "Decoding Mesh Buffer: 100%|██████████| 1/1 [00:00<?, ?it/s]\n"
     ]
    },
    {
     "name": "stdout",
     "output_type": "stream",
     "text": [
      "completed 552 of 948\n"
     ]
    },
    {
     "name": "stderr",
     "output_type": "stream",
     "text": [
      "Exists: 100%|██████████| 1/1 [00:00<00:00,  1.16it/s]\n",
      "Decoding Mesh Buffer: 100%|██████████| 1/1 [00:00<?, ?it/s]\n"
     ]
    },
    {
     "name": "stdout",
     "output_type": "stream",
     "text": [
      "completed 553 of 948\n"
     ]
    },
    {
     "name": "stderr",
     "output_type": "stream",
     "text": [
      "Exists: 100%|██████████| 1/1 [00:00<00:00,  1.18it/s]\n",
      "Decoding Mesh Buffer: 100%|██████████| 1/1 [00:00<?, ?it/s]\n"
     ]
    },
    {
     "name": "stdout",
     "output_type": "stream",
     "text": [
      "completed 554 of 948\n"
     ]
    },
    {
     "name": "stderr",
     "output_type": "stream",
     "text": [
      "Exists: 100%|██████████| 1/1 [00:00<00:00,  1.15it/s]\n",
      "Decoding Mesh Buffer: 100%|██████████| 1/1 [00:00<00:00, 1024.25it/s]\n"
     ]
    },
    {
     "name": "stdout",
     "output_type": "stream",
     "text": [
      "completed 555 of 948\n"
     ]
    },
    {
     "name": "stderr",
     "output_type": "stream",
     "text": [
      "Exists: 100%|██████████| 1/1 [00:00<00:00,  1.14it/s]\n",
      "Decoding Mesh Buffer: 100%|██████████| 1/1 [00:00<?, ?it/s]\n"
     ]
    },
    {
     "name": "stdout",
     "output_type": "stream",
     "text": [
      "completed 556 of 948\n"
     ]
    },
    {
     "name": "stderr",
     "output_type": "stream",
     "text": [
      "Exists: 100%|██████████| 1/1 [00:00<00:00,  1.17it/s]\n",
      "Decoding Mesh Buffer: 100%|██████████| 1/1 [00:00<00:00, 587.19it/s]\n"
     ]
    },
    {
     "name": "stdout",
     "output_type": "stream",
     "text": [
      "completed 557 of 948\n"
     ]
    },
    {
     "name": "stderr",
     "output_type": "stream",
     "text": [
      "Exists: 100%|██████████| 1/1 [00:00<00:00,  1.15it/s]\n",
      "Decoding Mesh Buffer: 100%|██████████| 1/1 [00:00<?, ?it/s]\n"
     ]
    },
    {
     "name": "stdout",
     "output_type": "stream",
     "text": [
      "completed 558 of 948\n"
     ]
    },
    {
     "name": "stderr",
     "output_type": "stream",
     "text": [
      "Exists: 100%|██████████| 1/1 [00:00<00:00,  1.16it/s]\n",
      "Decoding Mesh Buffer: 100%|██████████| 1/1 [00:00<?, ?it/s]\n"
     ]
    },
    {
     "name": "stdout",
     "output_type": "stream",
     "text": [
      "completed 559 of 948\n"
     ]
    },
    {
     "name": "stderr",
     "output_type": "stream",
     "text": [
      "Exists: 100%|██████████| 1/1 [00:00<00:00,  1.00it/s]\n",
      "Decoding Mesh Buffer: 100%|██████████| 1/1 [00:00<?, ?it/s]\n"
     ]
    },
    {
     "name": "stdout",
     "output_type": "stream",
     "text": [
      "completed 560 of 948\n"
     ]
    },
    {
     "name": "stderr",
     "output_type": "stream",
     "text": [
      "Exists: 100%|██████████| 1/1 [00:00<00:00,  1.16it/s]\n",
      "Decoding Mesh Buffer: 100%|██████████| 1/1 [00:00<?, ?it/s]\n"
     ]
    },
    {
     "name": "stdout",
     "output_type": "stream",
     "text": [
      "completed 561 of 948\n"
     ]
    },
    {
     "name": "stderr",
     "output_type": "stream",
     "text": [
      "Exists: 100%|██████████| 1/1 [00:00<00:00,  1.14it/s]\n",
      "Decoding Mesh Buffer: 100%|██████████| 1/1 [00:00<?, ?it/s]\n"
     ]
    },
    {
     "name": "stdout",
     "output_type": "stream",
     "text": [
      "completed 562 of 948\n"
     ]
    },
    {
     "name": "stderr",
     "output_type": "stream",
     "text": [
      "Exists: 100%|██████████| 1/1 [00:00<00:00,  1.15it/s]\n",
      "Decoding Mesh Buffer: 100%|██████████| 1/1 [00:00<?, ?it/s]\n"
     ]
    },
    {
     "name": "stdout",
     "output_type": "stream",
     "text": [
      "completed 563 of 948\n"
     ]
    },
    {
     "name": "stderr",
     "output_type": "stream",
     "text": [
      "Exists: 100%|██████████| 1/1 [00:00<00:00,  1.04it/s]\n",
      "Decoding Mesh Buffer: 100%|██████████| 1/1 [00:00<?, ?it/s]\n"
     ]
    },
    {
     "name": "stdout",
     "output_type": "stream",
     "text": [
      "completed 564 of 948\n"
     ]
    },
    {
     "name": "stderr",
     "output_type": "stream",
     "text": [
      "Exists: 100%|██████████| 1/1 [00:00<00:00,  1.15it/s]\n",
      "Decoding Mesh Buffer: 100%|██████████| 1/1 [00:00<?, ?it/s]\n"
     ]
    },
    {
     "name": "stdout",
     "output_type": "stream",
     "text": [
      "completed 565 of 948\n"
     ]
    },
    {
     "name": "stderr",
     "output_type": "stream",
     "text": [
      "Exists: 100%|██████████| 1/1 [00:00<00:00,  1.17it/s]\n",
      "Decoding Mesh Buffer: 100%|██████████| 1/1 [00:00<?, ?it/s]\n"
     ]
    },
    {
     "name": "stdout",
     "output_type": "stream",
     "text": [
      "completed 566 of 948\n"
     ]
    },
    {
     "name": "stderr",
     "output_type": "stream",
     "text": [
      "Exists: 100%|██████████| 1/1 [00:00<00:00,  1.12it/s]\n",
      "Decoding Mesh Buffer: 100%|██████████| 1/1 [00:00<?, ?it/s]\n"
     ]
    },
    {
     "name": "stdout",
     "output_type": "stream",
     "text": [
      "completed 567 of 948\n"
     ]
    },
    {
     "name": "stderr",
     "output_type": "stream",
     "text": [
      "Exists: 100%|██████████| 1/1 [00:00<00:00,  1.07it/s]\n",
      "Decoding Mesh Buffer: 100%|██████████| 1/1 [00:00<?, ?it/s]\n"
     ]
    },
    {
     "name": "stdout",
     "output_type": "stream",
     "text": [
      "completed 568 of 948\n"
     ]
    },
    {
     "name": "stderr",
     "output_type": "stream",
     "text": [
      "Exists: 100%|██████████| 1/1 [00:00<00:00,  1.11it/s]\n",
      "Decoding Mesh Buffer: 100%|██████████| 1/1 [00:00<00:00, 1066.71it/s]\n"
     ]
    },
    {
     "name": "stdout",
     "output_type": "stream",
     "text": [
      "completed 569 of 948\n"
     ]
    },
    {
     "name": "stderr",
     "output_type": "stream",
     "text": [
      "Exists: 100%|██████████| 1/1 [00:00<00:00,  1.08it/s]\n",
      "Decoding Mesh Buffer: 100%|██████████| 1/1 [00:00<00:00, 992.97it/s]\n"
     ]
    },
    {
     "name": "stdout",
     "output_type": "stream",
     "text": [
      "completed 570 of 948\n"
     ]
    },
    {
     "name": "stderr",
     "output_type": "stream",
     "text": [
      "Exists: 100%|██████████| 1/1 [00:00<00:00,  1.11it/s]\n",
      "Decoding Mesh Buffer: 100%|██████████| 1/1 [00:00<?, ?it/s]\n"
     ]
    },
    {
     "name": "stdout",
     "output_type": "stream",
     "text": [
      "completed 571 of 948\n"
     ]
    },
    {
     "name": "stderr",
     "output_type": "stream",
     "text": [
      "Exists: 100%|██████████| 1/1 [00:00<00:00,  1.12it/s]\n",
      "Decoding Mesh Buffer: 100%|██████████| 1/1 [00:00<?, ?it/s]\n"
     ]
    },
    {
     "name": "stdout",
     "output_type": "stream",
     "text": [
      "completed 572 of 948\n"
     ]
    },
    {
     "name": "stderr",
     "output_type": "stream",
     "text": [
      "Exists: 100%|██████████| 1/1 [00:00<00:00,  1.09it/s]\n",
      "Decoding Mesh Buffer: 100%|██████████| 1/1 [00:00<?, ?it/s]\n"
     ]
    },
    {
     "name": "stdout",
     "output_type": "stream",
     "text": [
      "completed 573 of 948\n"
     ]
    },
    {
     "name": "stderr",
     "output_type": "stream",
     "text": [
      "Exists: 100%|██████████| 1/1 [00:01<00:00,  1.06s/it]\n",
      "Decoding Mesh Buffer: 100%|██████████| 1/1 [00:00<?, ?it/s]\n"
     ]
    },
    {
     "name": "stdout",
     "output_type": "stream",
     "text": [
      "completed 574 of 948\n"
     ]
    },
    {
     "name": "stderr",
     "output_type": "stream",
     "text": [
      "Exists: 100%|██████████| 1/1 [00:01<00:00,  1.00s/it]\n",
      "Decoding Mesh Buffer: 100%|██████████| 1/1 [00:00<?, ?it/s]\n"
     ]
    },
    {
     "name": "stdout",
     "output_type": "stream",
     "text": [
      "completed 575 of 948\n"
     ]
    },
    {
     "name": "stderr",
     "output_type": "stream",
     "text": [
      "Exists: 100%|██████████| 1/1 [00:00<00:00,  1.15it/s]\n",
      "Decoding Mesh Buffer: 100%|██████████| 1/1 [00:00<00:00, 1693.98it/s]\n"
     ]
    },
    {
     "name": "stdout",
     "output_type": "stream",
     "text": [
      "completed 576 of 948\n"
     ]
    },
    {
     "name": "stderr",
     "output_type": "stream",
     "text": [
      "Exists: 100%|██████████| 1/1 [00:00<00:00,  1.02it/s]\n",
      "Decoding Mesh Buffer: 100%|██████████| 1/1 [00:00<?, ?it/s]\n"
     ]
    },
    {
     "name": "stdout",
     "output_type": "stream",
     "text": [
      "completed 577 of 948\n"
     ]
    },
    {
     "name": "stderr",
     "output_type": "stream",
     "text": [
      "Exists: 100%|██████████| 1/1 [00:01<00:00,  1.18s/it]\n",
      "Decoding Mesh Buffer: 100%|██████████| 1/1 [00:00<?, ?it/s]\n"
     ]
    },
    {
     "name": "stdout",
     "output_type": "stream",
     "text": [
      "completed 578 of 948\n"
     ]
    },
    {
     "name": "stderr",
     "output_type": "stream",
     "text": [
      "Exists: 100%|██████████| 1/1 [00:00<00:00,  1.07it/s]\n",
      "Decoding Mesh Buffer: 100%|██████████| 1/1 [00:00<00:00, 1698.10it/s]\n"
     ]
    },
    {
     "name": "stdout",
     "output_type": "stream",
     "text": [
      "completed 579 of 948\n"
     ]
    },
    {
     "name": "stderr",
     "output_type": "stream",
     "text": [
      "Exists: 100%|██████████| 1/1 [00:00<00:00,  1.12it/s]\n",
      "Decoding Mesh Buffer: 100%|██████████| 1/1 [00:00<00:00, 1005.59it/s]\n"
     ]
    },
    {
     "name": "stdout",
     "output_type": "stream",
     "text": [
      "completed 580 of 948\n"
     ]
    },
    {
     "name": "stderr",
     "output_type": "stream",
     "text": [
      "Exists: 100%|██████████| 1/1 [00:00<00:00,  1.12it/s]\n",
      "Decoding Mesh Buffer: 100%|██████████| 1/1 [00:00<?, ?it/s]\n"
     ]
    },
    {
     "name": "stdout",
     "output_type": "stream",
     "text": [
      "completed 581 of 948\n"
     ]
    },
    {
     "name": "stderr",
     "output_type": "stream",
     "text": [
      "Exists: 100%|██████████| 1/1 [00:00<00:00,  1.14it/s]\n",
      "Decoding Mesh Buffer: 100%|██████████| 1/1 [00:00<?, ?it/s]\n"
     ]
    },
    {
     "name": "stdout",
     "output_type": "stream",
     "text": [
      "completed 582 of 948\n"
     ]
    },
    {
     "name": "stderr",
     "output_type": "stream",
     "text": [
      "Exists: 100%|██████████| 1/1 [00:00<00:00,  1.16it/s]\n",
      "Decoding Mesh Buffer: 100%|██████████| 1/1 [00:00<00:00, 993.91it/s]\n"
     ]
    },
    {
     "name": "stdout",
     "output_type": "stream",
     "text": [
      "completed 583 of 948\n"
     ]
    },
    {
     "name": "stderr",
     "output_type": "stream",
     "text": [
      "Exists: 100%|██████████| 1/1 [00:00<00:00,  1.15it/s]\n",
      "Decoding Mesh Buffer: 100%|██████████| 2/2 [00:00<?, ?it/s]\n"
     ]
    },
    {
     "name": "stdout",
     "output_type": "stream",
     "text": [
      "completed 584 of 948\n"
     ]
    },
    {
     "name": "stderr",
     "output_type": "stream",
     "text": [
      "Exists: 100%|██████████| 1/1 [00:00<00:00,  1.16it/s]\n",
      "Decoding Mesh Buffer: 100%|██████████| 1/1 [00:00<?, ?it/s]\n"
     ]
    },
    {
     "name": "stdout",
     "output_type": "stream",
     "text": [
      "completed 585 of 948\n"
     ]
    },
    {
     "name": "stderr",
     "output_type": "stream",
     "text": [
      "Exists: 100%|██████████| 1/1 [00:00<00:00,  1.16it/s]\n",
      "Decoding Mesh Buffer: 100%|██████████| 1/1 [00:00<?, ?it/s]\n"
     ]
    },
    {
     "name": "stdout",
     "output_type": "stream",
     "text": [
      "completed 586 of 948\n"
     ]
    },
    {
     "name": "stderr",
     "output_type": "stream",
     "text": [
      "Exists: 100%|██████████| 1/1 [00:00<00:00,  1.11it/s]\n",
      "Decoding Mesh Buffer: 100%|██████████| 1/1 [00:00<00:00, 986.20it/s]\n"
     ]
    },
    {
     "name": "stdout",
     "output_type": "stream",
     "text": [
      "completed 587 of 948\n"
     ]
    },
    {
     "name": "stderr",
     "output_type": "stream",
     "text": [
      "Exists: 100%|██████████| 1/1 [00:00<00:00,  1.09it/s]\n",
      "Decoding Mesh Buffer: 100%|██████████| 1/1 [00:00<?, ?it/s]\n"
     ]
    },
    {
     "name": "stdout",
     "output_type": "stream",
     "text": [
      "completed 588 of 948\n"
     ]
    },
    {
     "name": "stderr",
     "output_type": "stream",
     "text": [
      "Exists: 100%|██████████| 1/1 [00:00<00:00,  1.12it/s]\n",
      "Decoding Mesh Buffer: 100%|██████████| 2/2 [00:00<?, ?it/s]\n"
     ]
    },
    {
     "name": "stdout",
     "output_type": "stream",
     "text": [
      "completed 589 of 948\n"
     ]
    },
    {
     "name": "stderr",
     "output_type": "stream",
     "text": [
      "Exists: 100%|██████████| 1/1 [00:00<00:00,  1.11it/s]\n",
      "Decoding Mesh Buffer: 100%|██████████| 1/1 [00:00<00:00, 1003.66it/s]\n"
     ]
    },
    {
     "name": "stdout",
     "output_type": "stream",
     "text": [
      "completed 590 of 948\n"
     ]
    },
    {
     "name": "stderr",
     "output_type": "stream",
     "text": [
      "Exists: 100%|██████████| 1/1 [00:00<00:00,  1.06it/s]\n",
      "Decoding Mesh Buffer: 100%|██████████| 1/1 [00:00<?, ?it/s]\n"
     ]
    },
    {
     "name": "stdout",
     "output_type": "stream",
     "text": [
      "completed 591 of 948\n"
     ]
    },
    {
     "name": "stderr",
     "output_type": "stream",
     "text": [
      "Exists: 100%|██████████| 1/1 [00:00<00:00,  1.02it/s]\n",
      "Decoding Mesh Buffer: 100%|██████████| 1/1 [00:00<?, ?it/s]\n"
     ]
    },
    {
     "name": "stdout",
     "output_type": "stream",
     "text": [
      "completed 592 of 948\n"
     ]
    },
    {
     "name": "stderr",
     "output_type": "stream",
     "text": [
      "Exists: 100%|██████████| 1/1 [00:01<00:00,  1.11s/it]\n",
      "Decoding Mesh Buffer: 100%|██████████| 1/1 [00:00<00:00, 1063.46it/s]\n"
     ]
    },
    {
     "name": "stdout",
     "output_type": "stream",
     "text": [
      "completed 593 of 948\n"
     ]
    },
    {
     "name": "stderr",
     "output_type": "stream",
     "text": [
      "Exists: 100%|██████████| 1/1 [00:00<00:00,  1.16it/s]\n",
      "Decoding Mesh Buffer: 100%|██████████| 1/1 [00:00<?, ?it/s]\n"
     ]
    },
    {
     "name": "stdout",
     "output_type": "stream",
     "text": [
      "completed 594 of 948\n"
     ]
    },
    {
     "name": "stderr",
     "output_type": "stream",
     "text": [
      "Exists: 100%|██████████| 1/1 [00:00<00:00,  1.10it/s]\n",
      "Decoding Mesh Buffer: 100%|██████████| 1/1 [00:00<?, ?it/s]\n"
     ]
    },
    {
     "name": "stdout",
     "output_type": "stream",
     "text": [
      "completed 595 of 948\n"
     ]
    },
    {
     "name": "stderr",
     "output_type": "stream",
     "text": [
      "Exists: 100%|██████████| 1/1 [00:00<00:00,  1.17it/s]\n",
      "Decoding Mesh Buffer: 100%|██████████| 1/1 [00:00<?, ?it/s]\n"
     ]
    },
    {
     "name": "stdout",
     "output_type": "stream",
     "text": [
      "completed 596 of 948\n"
     ]
    },
    {
     "name": "stderr",
     "output_type": "stream",
     "text": [
      "Exists: 100%|██████████| 1/1 [00:00<00:00,  1.12it/s]\n",
      "Decoding Mesh Buffer: 100%|██████████| 1/1 [00:00<?, ?it/s]\n"
     ]
    },
    {
     "name": "stdout",
     "output_type": "stream",
     "text": [
      "completed 597 of 948\n"
     ]
    },
    {
     "name": "stderr",
     "output_type": "stream",
     "text": [
      "Exists: 100%|██████████| 1/1 [00:01<00:00,  1.11s/it]\n",
      "Decoding Mesh Buffer: 100%|██████████| 2/2 [00:00<?, ?it/s]\n"
     ]
    },
    {
     "name": "stdout",
     "output_type": "stream",
     "text": [
      "completed 598 of 948\n"
     ]
    },
    {
     "name": "stderr",
     "output_type": "stream",
     "text": [
      "Exists: 100%|██████████| 1/1 [00:00<00:00,  1.11it/s]\n",
      "Decoding Mesh Buffer: 100%|██████████| 1/1 [00:00<?, ?it/s]\n"
     ]
    },
    {
     "name": "stdout",
     "output_type": "stream",
     "text": [
      "completed 599 of 948\n"
     ]
    },
    {
     "name": "stderr",
     "output_type": "stream",
     "text": [
      "Exists: 100%|██████████| 1/1 [00:00<00:00,  1.16it/s]\n",
      "Decoding Mesh Buffer: 100%|██████████| 1/1 [00:00<?, ?it/s]\n"
     ]
    },
    {
     "name": "stdout",
     "output_type": "stream",
     "text": [
      "completed 600 of 948\n"
     ]
    },
    {
     "name": "stderr",
     "output_type": "stream",
     "text": [
      "Exists: 100%|██████████| 1/1 [00:00<00:00,  1.07it/s]\n",
      "Decoding Mesh Buffer: 100%|██████████| 1/1 [00:00<00:00, 986.20it/s]\n"
     ]
    },
    {
     "name": "stdout",
     "output_type": "stream",
     "text": [
      "completed 601 of 948\n"
     ]
    },
    {
     "name": "stderr",
     "output_type": "stream",
     "text": [
      "Exists: 100%|██████████| 1/1 [00:00<00:00,  1.14it/s]\n",
      "Decoding Mesh Buffer: 100%|██████████| 1/1 [00:00<?, ?it/s]\n"
     ]
    },
    {
     "name": "stdout",
     "output_type": "stream",
     "text": [
      "completed 602 of 948\n"
     ]
    },
    {
     "name": "stderr",
     "output_type": "stream",
     "text": [
      "Exists: 100%|██████████| 1/1 [00:00<00:00,  1.11it/s]\n",
      "Decoding Mesh Buffer: 100%|██████████| 1/1 [00:00<?, ?it/s]\n"
     ]
    },
    {
     "name": "stdout",
     "output_type": "stream",
     "text": [
      "completed 603 of 948\n"
     ]
    },
    {
     "name": "stderr",
     "output_type": "stream",
     "text": [
      "Exists: 100%|██████████| 1/1 [00:00<00:00,  1.02it/s]\n",
      "Decoding Mesh Buffer: 100%|██████████| 1/1 [00:00<?, ?it/s]\n"
     ]
    },
    {
     "name": "stdout",
     "output_type": "stream",
     "text": [
      "completed 604 of 948\n"
     ]
    },
    {
     "name": "stderr",
     "output_type": "stream",
     "text": [
      "Exists: 100%|██████████| 1/1 [00:00<00:00,  1.13it/s]\n",
      "Decoding Mesh Buffer: 100%|██████████| 1/1 [00:00<?, ?it/s]\n"
     ]
    },
    {
     "name": "stdout",
     "output_type": "stream",
     "text": [
      "completed 605 of 948\n"
     ]
    },
    {
     "name": "stderr",
     "output_type": "stream",
     "text": [
      "Exists: 100%|██████████| 1/1 [00:00<00:00,  1.18it/s]\n",
      "Decoding Mesh Buffer: 100%|██████████| 1/1 [00:00<00:00, 1003.18it/s]\n"
     ]
    },
    {
     "name": "stdout",
     "output_type": "stream",
     "text": [
      "completed 606 of 948\n"
     ]
    },
    {
     "name": "stderr",
     "output_type": "stream",
     "text": [
      "Exists: 100%|██████████| 1/1 [00:00<00:00,  1.13it/s]\n",
      "Decoding Mesh Buffer: 100%|██████████| 1/1 [00:00<?, ?it/s]\n"
     ]
    },
    {
     "name": "stdout",
     "output_type": "stream",
     "text": [
      "completed 607 of 948\n"
     ]
    },
    {
     "name": "stderr",
     "output_type": "stream",
     "text": [
      "Exists: 100%|██████████| 1/1 [00:00<00:00,  1.08it/s]\n",
      "Decoding Mesh Buffer: 100%|██████████| 1/1 [00:00<?, ?it/s]\n"
     ]
    },
    {
     "name": "stdout",
     "output_type": "stream",
     "text": [
      "completed 608 of 948\n"
     ]
    },
    {
     "name": "stderr",
     "output_type": "stream",
     "text": [
      "Exists: 100%|██████████| 1/1 [00:00<00:00,  1.14it/s]\n",
      "Decoding Mesh Buffer: 100%|██████████| 1/1 [00:00<?, ?it/s]\n"
     ]
    },
    {
     "name": "stdout",
     "output_type": "stream",
     "text": [
      "completed 609 of 948\n"
     ]
    },
    {
     "name": "stderr",
     "output_type": "stream",
     "text": [
      "Exists: 100%|██████████| 1/1 [00:00<00:00,  1.12it/s]\n",
      "Decoding Mesh Buffer: 100%|██████████| 1/1 [00:00<00:00, 981.35it/s]\n"
     ]
    },
    {
     "name": "stdout",
     "output_type": "stream",
     "text": [
      "completed 610 of 948\n"
     ]
    },
    {
     "name": "stderr",
     "output_type": "stream",
     "text": [
      "Exists: 100%|██████████| 1/1 [00:00<00:00,  1.09it/s]\n",
      "Decoding Mesh Buffer: 100%|██████████| 1/1 [00:00<?, ?it/s]\n"
     ]
    },
    {
     "name": "stdout",
     "output_type": "stream",
     "text": [
      "completed 611 of 948\n"
     ]
    },
    {
     "name": "stderr",
     "output_type": "stream",
     "text": [
      "Exists: 100%|██████████| 1/1 [00:00<00:00,  1.16it/s]\n",
      "Decoding Mesh Buffer: 100%|██████████| 1/1 [00:00<?, ?it/s]\n"
     ]
    },
    {
     "name": "stdout",
     "output_type": "stream",
     "text": [
      "completed 612 of 948\n"
     ]
    },
    {
     "name": "stderr",
     "output_type": "stream",
     "text": [
      "Exists: 100%|██████████| 1/1 [00:00<00:00,  1.02it/s]\n",
      "Decoding Mesh Buffer: 100%|██████████| 1/1 [00:00<?, ?it/s]\n"
     ]
    },
    {
     "name": "stdout",
     "output_type": "stream",
     "text": [
      "completed 613 of 948\n"
     ]
    },
    {
     "name": "stderr",
     "output_type": "stream",
     "text": [
      "Exists: 100%|██████████| 1/1 [00:00<00:00,  1.02it/s]\n",
      "Decoding Mesh Buffer: 100%|██████████| 1/1 [00:00<00:00, 1038.45it/s]\n"
     ]
    },
    {
     "name": "stdout",
     "output_type": "stream",
     "text": [
      "completed 614 of 948\n"
     ]
    },
    {
     "name": "stderr",
     "output_type": "stream",
     "text": [
      "Exists: 100%|██████████| 1/1 [00:00<00:00,  1.09it/s]\n",
      "Decoding Mesh Buffer: 100%|██████████| 1/1 [00:00<?, ?it/s]\n"
     ]
    },
    {
     "name": "stdout",
     "output_type": "stream",
     "text": [
      "completed 615 of 948\n"
     ]
    },
    {
     "name": "stderr",
     "output_type": "stream",
     "text": [
      "Exists: 100%|██████████| 1/1 [00:00<00:00,  1.14it/s]\n",
      "Decoding Mesh Buffer: 100%|██████████| 1/1 [00:00<?, ?it/s]\n"
     ]
    },
    {
     "name": "stdout",
     "output_type": "stream",
     "text": [
      "completed 616 of 948\n"
     ]
    },
    {
     "name": "stderr",
     "output_type": "stream",
     "text": [
      "Exists: 100%|██████████| 1/1 [00:00<00:00,  1.14it/s]\n",
      "Decoding Mesh Buffer: 100%|██████████| 1/1 [00:00<?, ?it/s]\n"
     ]
    },
    {
     "name": "stdout",
     "output_type": "stream",
     "text": [
      "completed 617 of 948\n"
     ]
    },
    {
     "name": "stderr",
     "output_type": "stream",
     "text": [
      "Exists: 100%|██████████| 1/1 [00:00<00:00,  1.16it/s]\n",
      "Decoding Mesh Buffer: 100%|██████████| 1/1 [00:00<?, ?it/s]\n"
     ]
    },
    {
     "name": "stdout",
     "output_type": "stream",
     "text": [
      "completed 618 of 948\n"
     ]
    },
    {
     "name": "stderr",
     "output_type": "stream",
     "text": [
      "Exists: 100%|██████████| 1/1 [00:00<00:00,  1.16it/s]\n",
      "Decoding Mesh Buffer: 100%|██████████| 1/1 [00:00<?, ?it/s]\n"
     ]
    },
    {
     "name": "stdout",
     "output_type": "stream",
     "text": [
      "completed 619 of 948\n"
     ]
    },
    {
     "name": "stderr",
     "output_type": "stream",
     "text": [
      "Exists: 100%|██████████| 1/1 [00:00<00:00,  1.09it/s]\n",
      "Decoding Mesh Buffer: 100%|██████████| 1/1 [00:00<?, ?it/s]\n"
     ]
    },
    {
     "name": "stdout",
     "output_type": "stream",
     "text": [
      "completed 620 of 948\n"
     ]
    },
    {
     "name": "stderr",
     "output_type": "stream",
     "text": [
      "Exists: 100%|██████████| 1/1 [00:00<00:00,  1.17it/s]\n",
      "Decoding Mesh Buffer: 100%|██████████| 1/1 [00:00<?, ?it/s]\n"
     ]
    },
    {
     "name": "stdout",
     "output_type": "stream",
     "text": [
      "completed 621 of 948\n"
     ]
    },
    {
     "name": "stderr",
     "output_type": "stream",
     "text": [
      "Exists: 100%|██████████| 1/1 [00:01<00:00,  1.00s/it]\n",
      "Decoding Mesh Buffer: 100%|██████████| 1/1 [00:00<00:00, 962.88it/s]\n"
     ]
    },
    {
     "name": "stdout",
     "output_type": "stream",
     "text": [
      "completed 622 of 948\n"
     ]
    },
    {
     "name": "stderr",
     "output_type": "stream",
     "text": [
      "Exists: 100%|██████████| 1/1 [00:00<00:00,  1.06it/s]\n",
      "Decoding Mesh Buffer: 100%|██████████| 1/1 [00:00<?, ?it/s]\n"
     ]
    },
    {
     "name": "stdout",
     "output_type": "stream",
     "text": [
      "completed 623 of 948\n"
     ]
    },
    {
     "name": "stderr",
     "output_type": "stream",
     "text": [
      "Exists: 100%|██████████| 1/1 [00:00<00:00,  1.13it/s]\n",
      "Decoding Mesh Buffer: 100%|██████████| 1/1 [00:00<?, ?it/s]\n"
     ]
    },
    {
     "name": "stdout",
     "output_type": "stream",
     "text": [
      "completed 624 of 948\n"
     ]
    },
    {
     "name": "stderr",
     "output_type": "stream",
     "text": [
      "Exists: 100%|██████████| 1/1 [00:00<00:00,  1.16it/s]\n",
      "Decoding Mesh Buffer: 100%|██████████| 1/1 [00:00<?, ?it/s]\n"
     ]
    },
    {
     "name": "stdout",
     "output_type": "stream",
     "text": [
      "completed 625 of 948\n"
     ]
    },
    {
     "name": "stderr",
     "output_type": "stream",
     "text": [
      "Exists: 100%|██████████| 1/1 [00:00<00:00,  1.06it/s]\n",
      "Decoding Mesh Buffer: 100%|██████████| 1/1 [00:00<?, ?it/s]\n"
     ]
    },
    {
     "name": "stdout",
     "output_type": "stream",
     "text": [
      "completed 626 of 948\n"
     ]
    },
    {
     "name": "stderr",
     "output_type": "stream",
     "text": [
      "Exists: 100%|██████████| 1/1 [00:00<00:00,  1.14it/s]\n",
      "Decoding Mesh Buffer: 100%|██████████| 1/1 [00:00<?, ?it/s]\n"
     ]
    },
    {
     "name": "stdout",
     "output_type": "stream",
     "text": [
      "completed 627 of 948\n"
     ]
    },
    {
     "name": "stderr",
     "output_type": "stream",
     "text": [
      "Exists: 100%|██████████| 1/1 [00:00<00:00,  1.09it/s]\n",
      "Decoding Mesh Buffer: 100%|██████████| 1/1 [00:00<?, ?it/s]\n"
     ]
    },
    {
     "name": "stdout",
     "output_type": "stream",
     "text": [
      "completed 628 of 948\n"
     ]
    },
    {
     "name": "stderr",
     "output_type": "stream",
     "text": [
      "Exists: 100%|██████████| 1/1 [00:00<00:00,  1.13it/s]\n",
      "Decoding Mesh Buffer: 100%|██████████| 1/1 [00:00<?, ?it/s]\n"
     ]
    },
    {
     "name": "stdout",
     "output_type": "stream",
     "text": [
      "completed 629 of 948\n"
     ]
    },
    {
     "name": "stderr",
     "output_type": "stream",
     "text": [
      "Exists: 100%|██████████| 1/1 [00:00<00:00,  1.14it/s]\n",
      "Decoding Mesh Buffer: 100%|██████████| 1/1 [00:00<00:00, 992.50it/s]\n"
     ]
    },
    {
     "name": "stdout",
     "output_type": "stream",
     "text": [
      "completed 630 of 948\n"
     ]
    },
    {
     "name": "stderr",
     "output_type": "stream",
     "text": [
      "Exists: 100%|██████████| 1/1 [00:00<00:00,  1.13it/s]\n",
      "Decoding Mesh Buffer: 100%|██████████| 2/2 [00:00<?, ?it/s]\n"
     ]
    },
    {
     "name": "stdout",
     "output_type": "stream",
     "text": [
      "completed 631 of 948\n"
     ]
    },
    {
     "name": "stderr",
     "output_type": "stream",
     "text": [
      "Exists: 100%|██████████| 1/1 [00:00<00:00,  1.13it/s]\n",
      "Decoding Mesh Buffer: 100%|██████████| 1/1 [00:00<00:00, 1014.34it/s]\n"
     ]
    },
    {
     "name": "stdout",
     "output_type": "stream",
     "text": [
      "completed 632 of 948\n"
     ]
    },
    {
     "name": "stderr",
     "output_type": "stream",
     "text": [
      "Exists: 100%|██████████| 1/1 [00:00<00:00,  1.14it/s]\n",
      "Decoding Mesh Buffer: 100%|██████████| 1/1 [00:00<?, ?it/s]\n"
     ]
    },
    {
     "name": "stdout",
     "output_type": "stream",
     "text": [
      "completed 633 of 948\n"
     ]
    },
    {
     "name": "stderr",
     "output_type": "stream",
     "text": [
      "Exists: 100%|██████████| 1/1 [00:00<00:00,  1.16it/s]\n",
      "Decoding Mesh Buffer: 100%|██████████| 1/1 [00:00<?, ?it/s]\n"
     ]
    },
    {
     "name": "stdout",
     "output_type": "stream",
     "text": [
      "completed 634 of 948\n"
     ]
    },
    {
     "name": "stderr",
     "output_type": "stream",
     "text": [
      "Exists: 100%|██████████| 1/1 [00:00<00:00,  1.15it/s]\n",
      "Decoding Mesh Buffer: 100%|██████████| 1/1 [00:00<?, ?it/s]\n"
     ]
    },
    {
     "name": "stdout",
     "output_type": "stream",
     "text": [
      "completed 635 of 948\n"
     ]
    },
    {
     "name": "stderr",
     "output_type": "stream",
     "text": [
      "Exists: 100%|██████████| 1/1 [00:00<00:00,  1.16it/s]\n",
      "Decoding Mesh Buffer: 100%|██████████| 1/1 [00:00<00:00, 1034.61it/s]\n"
     ]
    },
    {
     "name": "stdout",
     "output_type": "stream",
     "text": [
      "completed 636 of 948\n"
     ]
    },
    {
     "name": "stderr",
     "output_type": "stream",
     "text": [
      "Exists: 100%|██████████| 1/1 [00:00<00:00,  1.16it/s]\n",
      "Decoding Mesh Buffer: 100%|██████████| 1/1 [00:00<00:00, 1000.31it/s]\n"
     ]
    },
    {
     "name": "stdout",
     "output_type": "stream",
     "text": [
      "completed 637 of 948\n"
     ]
    },
    {
     "name": "stderr",
     "output_type": "stream",
     "text": [
      "Exists: 100%|██████████| 1/1 [00:00<00:00,  1.19it/s]\n",
      "Decoding Mesh Buffer: 100%|██████████| 1/1 [00:00<?, ?it/s]\n"
     ]
    },
    {
     "name": "stdout",
     "output_type": "stream",
     "text": [
      "completed 638 of 948\n"
     ]
    },
    {
     "name": "stderr",
     "output_type": "stream",
     "text": [
      "Exists: 100%|██████████| 1/1 [00:00<00:00,  1.11it/s]\n",
      "Decoding Mesh Buffer: 100%|██████████| 1/1 [00:00<?, ?it/s]\n"
     ]
    },
    {
     "name": "stdout",
     "output_type": "stream",
     "text": [
      "completed 639 of 948\n"
     ]
    },
    {
     "name": "stderr",
     "output_type": "stream",
     "text": [
      "Exists: 100%|██████████| 1/1 [00:01<00:00,  1.02s/it]\n",
      "Decoding Mesh Buffer: 100%|██████████| 1/1 [00:00<?, ?it/s]\n"
     ]
    },
    {
     "name": "stdout",
     "output_type": "stream",
     "text": [
      "completed 640 of 948\n"
     ]
    },
    {
     "name": "stderr",
     "output_type": "stream",
     "text": [
      "Exists: 100%|██████████| 1/1 [00:00<00:00,  1.19it/s]\n",
      "Decoding Mesh Buffer: 100%|██████████| 1/1 [00:00<?, ?it/s]\n"
     ]
    },
    {
     "name": "stdout",
     "output_type": "stream",
     "text": [
      "completed 641 of 948\n"
     ]
    },
    {
     "name": "stderr",
     "output_type": "stream",
     "text": [
      "Exists: 100%|██████████| 1/1 [00:00<00:00,  1.14it/s]\n",
      "Decoding Mesh Buffer: 100%|██████████| 1/1 [00:00<?, ?it/s]\n"
     ]
    },
    {
     "name": "stdout",
     "output_type": "stream",
     "text": [
      "completed 642 of 948\n"
     ]
    },
    {
     "name": "stderr",
     "output_type": "stream",
     "text": [
      "Exists: 100%|██████████| 1/1 [00:00<00:00,  1.17it/s]\n",
      "Decoding Mesh Buffer: 100%|██████████| 1/1 [00:00<?, ?it/s]\n"
     ]
    },
    {
     "name": "stdout",
     "output_type": "stream",
     "text": [
      "completed 643 of 948\n"
     ]
    },
    {
     "name": "stderr",
     "output_type": "stream",
     "text": [
      "Exists: 100%|██████████| 1/1 [00:00<00:00,  1.10it/s]\n",
      "Decoding Mesh Buffer: 100%|██████████| 1/1 [00:00<?, ?it/s]\n"
     ]
    },
    {
     "name": "stdout",
     "output_type": "stream",
     "text": [
      "completed 644 of 948\n"
     ]
    },
    {
     "name": "stderr",
     "output_type": "stream",
     "text": [
      "Exists: 100%|██████████| 1/1 [00:00<00:00,  1.15it/s]\n",
      "Decoding Mesh Buffer: 100%|██████████| 1/1 [00:00<?, ?it/s]\n"
     ]
    },
    {
     "name": "stdout",
     "output_type": "stream",
     "text": [
      "completed 645 of 948\n"
     ]
    },
    {
     "name": "stderr",
     "output_type": "stream",
     "text": [
      "Exists: 100%|██████████| 1/1 [00:00<00:00,  1.14it/s]\n",
      "Decoding Mesh Buffer: 100%|██████████| 1/1 [00:00<00:00, 1007.52it/s]\n"
     ]
    },
    {
     "name": "stdout",
     "output_type": "stream",
     "text": [
      "completed 646 of 948\n"
     ]
    },
    {
     "name": "stderr",
     "output_type": "stream",
     "text": [
      "Exists: 100%|██████████| 1/1 [00:00<00:00,  1.06it/s]\n",
      "Decoding Mesh Buffer: 100%|██████████| 1/1 [00:00<?, ?it/s]\n"
     ]
    },
    {
     "name": "stdout",
     "output_type": "stream",
     "text": [
      "completed 647 of 948\n"
     ]
    },
    {
     "name": "stderr",
     "output_type": "stream",
     "text": [
      "Exists: 100%|██████████| 1/1 [00:00<00:00,  1.13it/s]\n",
      "Decoding Mesh Buffer: 100%|██████████| 1/1 [00:00<?, ?it/s]\n"
     ]
    },
    {
     "name": "stdout",
     "output_type": "stream",
     "text": [
      "completed 648 of 948\n"
     ]
    },
    {
     "name": "stderr",
     "output_type": "stream",
     "text": [
      "Exists: 100%|██████████| 1/1 [00:00<00:00,  1.03it/s]\n",
      "Decoding Mesh Buffer: 100%|██████████| 1/1 [00:00<?, ?it/s]\n"
     ]
    },
    {
     "name": "stdout",
     "output_type": "stream",
     "text": [
      "completed 649 of 948\n"
     ]
    },
    {
     "name": "stderr",
     "output_type": "stream",
     "text": [
      "Exists: 100%|██████████| 1/1 [00:00<00:00,  1.08it/s]\n",
      "Decoding Mesh Buffer: 100%|██████████| 1/1 [00:00<?, ?it/s]\n"
     ]
    },
    {
     "name": "stdout",
     "output_type": "stream",
     "text": [
      "completed 650 of 948\n"
     ]
    },
    {
     "name": "stderr",
     "output_type": "stream",
     "text": [
      "Exists: 100%|██████████| 1/1 [00:00<00:00,  1.13it/s]\n",
      "Decoding Mesh Buffer: 100%|██████████| 1/1 [00:00<?, ?it/s]\n"
     ]
    },
    {
     "name": "stdout",
     "output_type": "stream",
     "text": [
      "completed 651 of 948\n"
     ]
    },
    {
     "name": "stderr",
     "output_type": "stream",
     "text": [
      "Exists: 100%|██████████| 1/1 [00:00<00:00,  1.14it/s]\n",
      "Decoding Mesh Buffer: 100%|██████████| 1/1 [00:00<?, ?it/s]\n"
     ]
    },
    {
     "name": "stdout",
     "output_type": "stream",
     "text": [
      "completed 652 of 948\n"
     ]
    },
    {
     "name": "stderr",
     "output_type": "stream",
     "text": [
      "Exists: 100%|██████████| 1/1 [00:00<00:00,  1.15it/s]\n",
      "Decoding Mesh Buffer: 100%|██████████| 1/1 [00:00<?, ?it/s]\n"
     ]
    },
    {
     "name": "stdout",
     "output_type": "stream",
     "text": [
      "completed 653 of 948\n"
     ]
    },
    {
     "name": "stderr",
     "output_type": "stream",
     "text": [
      "Exists: 100%|██████████| 1/1 [00:00<00:00,  1.16it/s]\n",
      "Decoding Mesh Buffer: 100%|██████████| 1/1 [00:00<?, ?it/s]\n"
     ]
    },
    {
     "name": "stdout",
     "output_type": "stream",
     "text": [
      "completed 654 of 948\n"
     ]
    },
    {
     "name": "stderr",
     "output_type": "stream",
     "text": [
      "Exists: 100%|██████████| 1/1 [00:00<00:00,  1.02it/s]\n",
      "Decoding Mesh Buffer: 100%|██████████| 1/1 [00:00<?, ?it/s]\n"
     ]
    },
    {
     "name": "stdout",
     "output_type": "stream",
     "text": [
      "completed 655 of 948\n"
     ]
    },
    {
     "name": "stderr",
     "output_type": "stream",
     "text": [
      "Exists: 100%|██████████| 1/1 [00:00<00:00,  1.14it/s]\n",
      "Decoding Mesh Buffer: 100%|██████████| 1/1 [00:00<?, ?it/s]\n"
     ]
    },
    {
     "name": "stdout",
     "output_type": "stream",
     "text": [
      "completed 656 of 948\n"
     ]
    },
    {
     "name": "stderr",
     "output_type": "stream",
     "text": [
      "Exists: 100%|██████████| 1/1 [00:01<00:00,  1.03s/it]\n",
      "Decoding Mesh Buffer: 100%|██████████| 1/1 [00:00<00:00, 1032.57it/s]\n"
     ]
    },
    {
     "name": "stdout",
     "output_type": "stream",
     "text": [
      "completed 657 of 948\n"
     ]
    },
    {
     "name": "stderr",
     "output_type": "stream",
     "text": [
      "Exists: 100%|██████████| 1/1 [00:00<00:00,  1.16it/s]\n",
      "Decoding Mesh Buffer: 100%|██████████| 1/1 [00:00<?, ?it/s]\n"
     ]
    },
    {
     "name": "stdout",
     "output_type": "stream",
     "text": [
      "completed 658 of 948\n"
     ]
    },
    {
     "name": "stderr",
     "output_type": "stream",
     "text": [
      "Exists: 100%|██████████| 1/1 [00:00<00:00,  1.00it/s]\n",
      "Decoding Mesh Buffer: 100%|██████████| 2/2 [00:00<00:00, 1973.33it/s]\n"
     ]
    },
    {
     "name": "stdout",
     "output_type": "stream",
     "text": [
      "completed 659 of 948\n"
     ]
    },
    {
     "name": "stderr",
     "output_type": "stream",
     "text": [
      "Exists: 100%|██████████| 1/1 [00:00<00:00,  1.14it/s]\n",
      "Decoding Mesh Buffer: 100%|██████████| 1/1 [00:00<?, ?it/s]\n"
     ]
    },
    {
     "name": "stdout",
     "output_type": "stream",
     "text": [
      "completed 660 of 948\n"
     ]
    },
    {
     "name": "stderr",
     "output_type": "stream",
     "text": [
      "Exists: 100%|██████████| 1/1 [00:00<00:00,  1.17it/s]\n",
      "Decoding Mesh Buffer: 100%|██████████| 1/1 [00:00<?, ?it/s]\n"
     ]
    },
    {
     "name": "stdout",
     "output_type": "stream",
     "text": [
      "completed 661 of 948\n"
     ]
    },
    {
     "name": "stderr",
     "output_type": "stream",
     "text": [
      "Exists: 100%|██████████| 1/1 [00:00<00:00,  1.16it/s]\n",
      "Decoding Mesh Buffer: 100%|██████████| 1/1 [00:00<00:00, 995.33it/s]\n"
     ]
    },
    {
     "name": "stdout",
     "output_type": "stream",
     "text": [
      "completed 662 of 948\n"
     ]
    },
    {
     "name": "stderr",
     "output_type": "stream",
     "text": [
      "Exists: 100%|██████████| 1/1 [00:00<00:00,  1.17it/s]\n",
      "Decoding Mesh Buffer: 100%|██████████| 1/1 [00:00<?, ?it/s]\n"
     ]
    },
    {
     "name": "stdout",
     "output_type": "stream",
     "text": [
      "completed 663 of 948\n"
     ]
    },
    {
     "name": "stderr",
     "output_type": "stream",
     "text": [
      "Exists: 100%|██████████| 1/1 [00:00<00:00,  1.17it/s]\n",
      "Decoding Mesh Buffer: 100%|██████████| 1/1 [00:00<?, ?it/s]\n"
     ]
    },
    {
     "name": "stdout",
     "output_type": "stream",
     "text": [
      "completed 664 of 948\n"
     ]
    },
    {
     "name": "stderr",
     "output_type": "stream",
     "text": [
      "Exists: 100%|██████████| 1/1 [00:00<00:00,  1.16it/s]\n",
      "Decoding Mesh Buffer: 100%|██████████| 1/1 [00:00<00:00, 971.58it/s]\n"
     ]
    },
    {
     "name": "stdout",
     "output_type": "stream",
     "text": [
      "completed 665 of 948\n"
     ]
    },
    {
     "name": "stderr",
     "output_type": "stream",
     "text": [
      "Exists: 100%|██████████| 1/1 [00:00<00:00,  1.15it/s]\n",
      "Decoding Mesh Buffer: 100%|██████████| 1/1 [00:00<?, ?it/s]\n"
     ]
    },
    {
     "name": "stdout",
     "output_type": "stream",
     "text": [
      "completed 666 of 948\n"
     ]
    },
    {
     "name": "stderr",
     "output_type": "stream",
     "text": [
      "Exists: 100%|██████████| 1/1 [00:00<00:00,  1.06it/s]\n",
      "Decoding Mesh Buffer: 100%|██████████| 2/2 [00:00<?, ?it/s]\n"
     ]
    },
    {
     "name": "stdout",
     "output_type": "stream",
     "text": [
      "completed 667 of 948\n"
     ]
    },
    {
     "name": "stderr",
     "output_type": "stream",
     "text": [
      "Exists: 100%|██████████| 1/1 [00:00<00:00,  1.14it/s]\n",
      "Decoding Mesh Buffer: 100%|██████████| 1/1 [00:00<?, ?it/s]\n"
     ]
    },
    {
     "name": "stdout",
     "output_type": "stream",
     "text": [
      "completed 668 of 948\n"
     ]
    },
    {
     "name": "stderr",
     "output_type": "stream",
     "text": [
      "Exists: 100%|██████████| 1/1 [00:00<00:00,  1.12it/s]\n",
      "Decoding Mesh Buffer: 100%|██████████| 1/1 [00:00<?, ?it/s]\n"
     ]
    },
    {
     "name": "stdout",
     "output_type": "stream",
     "text": [
      "completed 669 of 948\n"
     ]
    },
    {
     "name": "stderr",
     "output_type": "stream",
     "text": [
      "Exists: 100%|██████████| 1/1 [00:00<00:00,  1.18it/s]\n",
      "Decoding Mesh Buffer: 100%|██████████| 1/1 [00:00<?, ?it/s]\n"
     ]
    },
    {
     "name": "stdout",
     "output_type": "stream",
     "text": [
      "completed 670 of 948\n"
     ]
    },
    {
     "name": "stderr",
     "output_type": "stream",
     "text": [
      "Exists: 100%|██████████| 1/1 [00:00<00:00,  1.04it/s]\n",
      "Decoding Mesh Buffer: 100%|██████████| 1/1 [00:00<?, ?it/s]\n"
     ]
    },
    {
     "name": "stdout",
     "output_type": "stream",
     "text": [
      "completed 671 of 948\n"
     ]
    },
    {
     "name": "stderr",
     "output_type": "stream",
     "text": [
      "Exists: 100%|██████████| 1/1 [00:00<00:00,  1.14it/s]\n",
      "Decoding Mesh Buffer: 100%|██████████| 1/1 [00:00<00:00, 1000.55it/s]\n"
     ]
    },
    {
     "name": "stdout",
     "output_type": "stream",
     "text": [
      "completed 672 of 948\n"
     ]
    },
    {
     "name": "stderr",
     "output_type": "stream",
     "text": [
      "Exists: 100%|██████████| 1/1 [00:00<00:00,  1.03it/s]\n",
      "Decoding Mesh Buffer: 100%|██████████| 1/1 [00:00<00:00, 1014.83it/s]\n"
     ]
    },
    {
     "name": "stdout",
     "output_type": "stream",
     "text": [
      "completed 673 of 948\n"
     ]
    },
    {
     "name": "stderr",
     "output_type": "stream",
     "text": [
      "Exists: 100%|██████████| 1/1 [00:00<00:00,  1.18it/s]\n",
      "Decoding Mesh Buffer: 100%|██████████| 1/1 [00:00<00:00, 1005.35it/s]\n"
     ]
    },
    {
     "name": "stdout",
     "output_type": "stream",
     "text": [
      "completed 674 of 948\n"
     ]
    },
    {
     "name": "stderr",
     "output_type": "stream",
     "text": [
      "Exists: 100%|██████████| 1/1 [00:01<00:00,  1.10s/it]\n",
      "Decoding Mesh Buffer: 100%|██████████| 1/1 [00:00<?, ?it/s]\n"
     ]
    },
    {
     "name": "stdout",
     "output_type": "stream",
     "text": [
      "completed 675 of 948\n"
     ]
    },
    {
     "name": "stderr",
     "output_type": "stream",
     "text": [
      "Exists: 100%|██████████| 1/1 [00:00<00:00,  1.18it/s]\n",
      "Decoding Mesh Buffer: 100%|██████████| 1/1 [00:00<00:00, 999.83it/s]\n"
     ]
    },
    {
     "name": "stdout",
     "output_type": "stream",
     "text": [
      "completed 676 of 948\n"
     ]
    },
    {
     "name": "stderr",
     "output_type": "stream",
     "text": [
      "Exists: 100%|██████████| 1/1 [00:00<00:00,  1.13it/s]\n",
      "Decoding Mesh Buffer: 100%|██████████| 1/1 [00:00<?, ?it/s]\n"
     ]
    },
    {
     "name": "stdout",
     "output_type": "stream",
     "text": [
      "completed 677 of 948\n"
     ]
    },
    {
     "name": "stderr",
     "output_type": "stream",
     "text": [
      "Exists: 100%|██████████| 1/1 [00:00<00:00,  1.04it/s]\n",
      "Decoding Mesh Buffer: 100%|██████████| 1/1 [00:00<?, ?it/s]\n"
     ]
    },
    {
     "name": "stdout",
     "output_type": "stream",
     "text": [
      "completed 678 of 948\n"
     ]
    },
    {
     "name": "stderr",
     "output_type": "stream",
     "text": [
      "Exists: 100%|██████████| 1/1 [00:00<00:00,  1.15it/s]\n",
      "Decoding Mesh Buffer: 100%|██████████| 1/1 [00:00<?, ?it/s]\n"
     ]
    },
    {
     "name": "stdout",
     "output_type": "stream",
     "text": [
      "completed 679 of 948\n"
     ]
    },
    {
     "name": "stderr",
     "output_type": "stream",
     "text": [
      "Exists: 100%|██████████| 1/1 [00:00<00:00,  1.14it/s]\n",
      "Decoding Mesh Buffer: 100%|██████████| 1/1 [00:00<?, ?it/s]\n"
     ]
    },
    {
     "name": "stdout",
     "output_type": "stream",
     "text": [
      "completed 680 of 948\n"
     ]
    },
    {
     "name": "stderr",
     "output_type": "stream",
     "text": [
      "Exists: 100%|██████████| 1/1 [00:00<00:00,  1.16it/s]\n",
      "Decoding Mesh Buffer: 100%|██████████| 1/1 [00:00<?, ?it/s]\n"
     ]
    },
    {
     "name": "stdout",
     "output_type": "stream",
     "text": [
      "completed 681 of 948\n"
     ]
    },
    {
     "name": "stderr",
     "output_type": "stream",
     "text": [
      "Exists: 100%|██████████| 1/1 [00:00<00:00,  1.16it/s]\n",
      "Decoding Mesh Buffer: 100%|██████████| 1/1 [00:00<?, ?it/s]\n"
     ]
    },
    {
     "name": "stdout",
     "output_type": "stream",
     "text": [
      "completed 682 of 948\n"
     ]
    },
    {
     "name": "stderr",
     "output_type": "stream",
     "text": [
      "Exists: 100%|██████████| 1/1 [00:00<00:00,  1.12it/s]\n",
      "Decoding Mesh Buffer: 100%|██████████| 1/1 [00:00<?, ?it/s]\n"
     ]
    },
    {
     "name": "stdout",
     "output_type": "stream",
     "text": [
      "completed 683 of 948\n"
     ]
    },
    {
     "name": "stderr",
     "output_type": "stream",
     "text": [
      "Exists: 100%|██████████| 1/1 [00:00<00:00,  1.14it/s]\n",
      "Decoding Mesh Buffer: 100%|██████████| 1/1 [00:00<00:00, 1006.55it/s]\n"
     ]
    },
    {
     "name": "stdout",
     "output_type": "stream",
     "text": [
      "completed 684 of 948\n"
     ]
    },
    {
     "name": "stderr",
     "output_type": "stream",
     "text": [
      "Exists: 100%|██████████| 1/1 [00:00<00:00,  1.12it/s]\n",
      "Decoding Mesh Buffer: 100%|██████████| 1/1 [00:00<?, ?it/s]\n"
     ]
    },
    {
     "name": "stdout",
     "output_type": "stream",
     "text": [
      "completed 685 of 948\n"
     ]
    },
    {
     "name": "stderr",
     "output_type": "stream",
     "text": [
      "Exists: 100%|██████████| 1/1 [00:00<00:00,  1.01it/s]\n",
      "Decoding Mesh Buffer: 100%|██████████| 1/1 [00:00<?, ?it/s]\n"
     ]
    },
    {
     "name": "stdout",
     "output_type": "stream",
     "text": [
      "completed 686 of 948\n"
     ]
    },
    {
     "name": "stderr",
     "output_type": "stream",
     "text": [
      "Exists: 100%|██████████| 1/1 [00:00<00:00,  1.01it/s]\n",
      "Decoding Mesh Buffer: 100%|██████████| 1/1 [00:00<?, ?it/s]\n"
     ]
    },
    {
     "name": "stdout",
     "output_type": "stream",
     "text": [
      "completed 687 of 948\n"
     ]
    },
    {
     "name": "stderr",
     "output_type": "stream",
     "text": [
      "Exists: 100%|██████████| 1/1 [00:00<00:00,  1.14it/s]\n",
      "Decoding Mesh Buffer: 100%|██████████| 1/1 [00:00<?, ?it/s]\n"
     ]
    },
    {
     "name": "stdout",
     "output_type": "stream",
     "text": [
      "completed 688 of 948\n"
     ]
    },
    {
     "name": "stderr",
     "output_type": "stream",
     "text": [
      "Exists: 100%|██████████| 1/1 [00:00<00:00,  1.14it/s]\n",
      "Decoding Mesh Buffer: 100%|██████████| 2/2 [00:00<00:00, 2072.28it/s]\n"
     ]
    },
    {
     "name": "stdout",
     "output_type": "stream",
     "text": [
      "completed 689 of 948\n"
     ]
    },
    {
     "name": "stderr",
     "output_type": "stream",
     "text": [
      "Exists: 100%|██████████| 1/1 [00:00<00:00,  1.16it/s]\n",
      "Decoding Mesh Buffer: 100%|██████████| 1/1 [00:00<?, ?it/s]\n"
     ]
    },
    {
     "name": "stdout",
     "output_type": "stream",
     "text": [
      "completed 690 of 948\n"
     ]
    },
    {
     "name": "stderr",
     "output_type": "stream",
     "text": [
      "Exists: 100%|██████████| 1/1 [00:00<00:00,  1.11it/s]\n",
      "Decoding Mesh Buffer: 100%|██████████| 1/1 [00:00<?, ?it/s]\n"
     ]
    },
    {
     "name": "stdout",
     "output_type": "stream",
     "text": [
      "completed 691 of 948\n"
     ]
    },
    {
     "name": "stderr",
     "output_type": "stream",
     "text": [
      "Exists: 100%|██████████| 1/1 [00:00<00:00,  1.16it/s]\n",
      "Decoding Mesh Buffer: 100%|██████████| 1/1 [00:00<00:00, 1082.12it/s]\n"
     ]
    },
    {
     "name": "stdout",
     "output_type": "stream",
     "text": [
      "completed 692 of 948\n"
     ]
    },
    {
     "name": "stderr",
     "output_type": "stream",
     "text": [
      "Exists: 100%|██████████| 1/1 [00:00<00:00,  1.19it/s]\n",
      "Decoding Mesh Buffer: 100%|██████████| 1/1 [00:00<00:00, 1143.80it/s]\n"
     ]
    },
    {
     "name": "stdout",
     "output_type": "stream",
     "text": [
      "completed 693 of 948\n"
     ]
    },
    {
     "name": "stderr",
     "output_type": "stream",
     "text": [
      "Exists: 100%|██████████| 1/1 [00:00<00:00,  1.02it/s]\n",
      "Decoding Mesh Buffer: 100%|██████████| 1/1 [00:00<?, ?it/s]\n"
     ]
    },
    {
     "name": "stdout",
     "output_type": "stream",
     "text": [
      "completed 694 of 948\n"
     ]
    },
    {
     "name": "stderr",
     "output_type": "stream",
     "text": [
      "Exists: 100%|██████████| 1/1 [00:00<00:00,  1.15it/s]\n",
      "Decoding Mesh Buffer: 100%|██████████| 1/1 [00:00<?, ?it/s]\n"
     ]
    },
    {
     "name": "stdout",
     "output_type": "stream",
     "text": [
      "completed 695 of 948\n"
     ]
    },
    {
     "name": "stderr",
     "output_type": "stream",
     "text": [
      "Exists: 100%|██████████| 1/1 [00:00<00:00,  1.16it/s]\n",
      "Decoding Mesh Buffer: 100%|██████████| 1/1 [00:00<00:00, 1057.83it/s]\n"
     ]
    },
    {
     "name": "stdout",
     "output_type": "stream",
     "text": [
      "completed 696 of 948\n"
     ]
    },
    {
     "name": "stderr",
     "output_type": "stream",
     "text": [
      "Exists: 100%|██████████| 1/1 [00:00<00:00,  1.11it/s]\n",
      "Decoding Mesh Buffer: 100%|██████████| 1/1 [00:00<?, ?it/s]\n"
     ]
    },
    {
     "name": "stdout",
     "output_type": "stream",
     "text": [
      "completed 697 of 948\n"
     ]
    },
    {
     "name": "stderr",
     "output_type": "stream",
     "text": [
      "Exists: 100%|██████████| 1/1 [00:00<00:00,  1.09it/s]\n",
      "Decoding Mesh Buffer: 100%|██████████| 1/1 [00:00<?, ?it/s]\n"
     ]
    },
    {
     "name": "stdout",
     "output_type": "stream",
     "text": [
      "completed 698 of 948\n"
     ]
    },
    {
     "name": "stderr",
     "output_type": "stream",
     "text": [
      "Exists: 100%|██████████| 1/1 [00:00<00:00,  1.16it/s]\n",
      "Decoding Mesh Buffer: 100%|██████████| 1/1 [00:00<?, ?it/s]\n"
     ]
    },
    {
     "name": "stdout",
     "output_type": "stream",
     "text": [
      "completed 699 of 948\n"
     ]
    },
    {
     "name": "stderr",
     "output_type": "stream",
     "text": [
      "Exists: 100%|██████████| 1/1 [00:00<00:00,  1.12it/s]\n",
      "Decoding Mesh Buffer: 100%|██████████| 1/1 [00:00<?, ?it/s]\n"
     ]
    },
    {
     "name": "stdout",
     "output_type": "stream",
     "text": [
      "completed 700 of 948\n"
     ]
    },
    {
     "name": "stderr",
     "output_type": "stream",
     "text": [
      "Exists: 100%|██████████| 1/1 [00:00<00:00,  1.14it/s]\n",
      "Decoding Mesh Buffer: 100%|██████████| 1/1 [00:00<?, ?it/s]\n"
     ]
    },
    {
     "name": "stdout",
     "output_type": "stream",
     "text": [
      "completed 701 of 948\n"
     ]
    },
    {
     "name": "stderr",
     "output_type": "stream",
     "text": [
      "Exists: 100%|██████████| 1/1 [00:00<00:00,  1.14it/s]\n",
      "Decoding Mesh Buffer: 100%|██████████| 1/1 [00:00<?, ?it/s]\n"
     ]
    },
    {
     "name": "stdout",
     "output_type": "stream",
     "text": [
      "completed 702 of 948\n"
     ]
    },
    {
     "name": "stderr",
     "output_type": "stream",
     "text": [
      "Exists: 100%|██████████| 1/1 [00:00<00:00,  1.15it/s]\n",
      "Decoding Mesh Buffer: 100%|██████████| 1/1 [00:00<?, ?it/s]\n"
     ]
    },
    {
     "name": "stdout",
     "output_type": "stream",
     "text": [
      "completed 703 of 948\n"
     ]
    },
    {
     "name": "stderr",
     "output_type": "stream",
     "text": [
      "Exists: 100%|██████████| 1/1 [00:00<00:00,  1.14it/s]\n",
      "Decoding Mesh Buffer: 100%|██████████| 1/1 [00:00<?, ?it/s]\n"
     ]
    },
    {
     "name": "stdout",
     "output_type": "stream",
     "text": [
      "completed 704 of 948\n"
     ]
    },
    {
     "name": "stderr",
     "output_type": "stream",
     "text": [
      "Exists: 100%|██████████| 1/1 [00:00<00:00,  1.15it/s]\n",
      "Decoding Mesh Buffer: 100%|██████████| 1/1 [00:00<?, ?it/s]\n"
     ]
    },
    {
     "name": "stdout",
     "output_type": "stream",
     "text": [
      "completed 705 of 948\n"
     ]
    },
    {
     "name": "stderr",
     "output_type": "stream",
     "text": [
      "Exists: 100%|██████████| 1/1 [00:00<00:00,  1.07it/s]\n",
      "Decoding Mesh Buffer: 100%|██████████| 1/1 [00:00<?, ?it/s]\n"
     ]
    },
    {
     "name": "stdout",
     "output_type": "stream",
     "text": [
      "completed 706 of 948\n"
     ]
    },
    {
     "name": "stderr",
     "output_type": "stream",
     "text": [
      "Exists: 100%|██████████| 1/1 [00:00<00:00,  1.13it/s]\n",
      "Decoding Mesh Buffer: 100%|██████████| 1/1 [00:00<?, ?it/s]\n"
     ]
    },
    {
     "name": "stdout",
     "output_type": "stream",
     "text": [
      "completed 707 of 948\n"
     ]
    },
    {
     "name": "stderr",
     "output_type": "stream",
     "text": [
      "Exists: 100%|██████████| 1/1 [00:00<00:00,  1.12it/s]\n",
      "Decoding Mesh Buffer: 100%|██████████| 1/1 [00:00<?, ?it/s]\n"
     ]
    },
    {
     "name": "stdout",
     "output_type": "stream",
     "text": [
      "completed 708 of 948\n"
     ]
    },
    {
     "name": "stderr",
     "output_type": "stream",
     "text": [
      "Exists: 100%|██████████| 1/1 [00:00<00:00,  1.15it/s]\n",
      "Decoding Mesh Buffer: 100%|██████████| 1/1 [00:00<?, ?it/s]\n"
     ]
    },
    {
     "name": "stdout",
     "output_type": "stream",
     "text": [
      "completed 709 of 948\n"
     ]
    },
    {
     "name": "stderr",
     "output_type": "stream",
     "text": [
      "Exists: 100%|██████████| 1/1 [00:00<00:00,  1.14it/s]\n",
      "Decoding Mesh Buffer: 100%|██████████| 1/1 [00:00<?, ?it/s]\n"
     ]
    },
    {
     "name": "stdout",
     "output_type": "stream",
     "text": [
      "completed 710 of 948\n"
     ]
    },
    {
     "name": "stderr",
     "output_type": "stream",
     "text": [
      "Exists: 100%|██████████| 1/1 [00:00<00:00,  1.15it/s]\n",
      "Decoding Mesh Buffer: 100%|██████████| 1/1 [00:00<00:00, 1000.79it/s]\n"
     ]
    },
    {
     "name": "stdout",
     "output_type": "stream",
     "text": [
      "completed 711 of 948\n"
     ]
    },
    {
     "name": "stderr",
     "output_type": "stream",
     "text": [
      "Exists: 100%|██████████| 1/1 [00:00<00:00,  1.17it/s]\n",
      "Decoding Mesh Buffer: 100%|██████████| 1/1 [00:00<?, ?it/s]\n"
     ]
    },
    {
     "name": "stdout",
     "output_type": "stream",
     "text": [
      "completed 712 of 948\n"
     ]
    },
    {
     "name": "stderr",
     "output_type": "stream",
     "text": [
      "Exists: 100%|██████████| 1/1 [00:00<00:00,  1.16it/s]\n",
      "Decoding Mesh Buffer: 100%|██████████| 1/1 [00:00<?, ?it/s]\n"
     ]
    },
    {
     "name": "stdout",
     "output_type": "stream",
     "text": [
      "completed 713 of 948\n"
     ]
    },
    {
     "name": "stderr",
     "output_type": "stream",
     "text": [
      "Exists: 100%|██████████| 1/1 [00:00<00:00,  1.15it/s]\n",
      "Decoding Mesh Buffer: 100%|██████████| 1/1 [00:00<00:00, 1005.35it/s]\n"
     ]
    },
    {
     "name": "stdout",
     "output_type": "stream",
     "text": [
      "completed 714 of 948\n"
     ]
    },
    {
     "name": "stderr",
     "output_type": "stream",
     "text": [
      "Exists: 100%|██████████| 1/1 [00:00<00:00,  1.13it/s]\n",
      "Decoding Mesh Buffer: 100%|██████████| 2/2 [00:00<?, ?it/s]\n"
     ]
    },
    {
     "name": "stdout",
     "output_type": "stream",
     "text": [
      "completed 715 of 948\n"
     ]
    },
    {
     "name": "stderr",
     "output_type": "stream",
     "text": [
      "Exists: 100%|██████████| 1/1 [00:00<00:00,  1.15it/s]\n",
      "Decoding Mesh Buffer: 100%|██████████| 1/1 [00:00<?, ?it/s]\n"
     ]
    },
    {
     "name": "stdout",
     "output_type": "stream",
     "text": [
      "completed 716 of 948\n"
     ]
    },
    {
     "name": "stderr",
     "output_type": "stream",
     "text": [
      "Exists: 100%|██████████| 1/1 [00:00<00:00,  1.11it/s]\n",
      "Decoding Mesh Buffer: 100%|██████████| 1/1 [00:00<00:00, 984.81it/s]\n"
     ]
    },
    {
     "name": "stdout",
     "output_type": "stream",
     "text": [
      "completed 717 of 948\n"
     ]
    },
    {
     "name": "stderr",
     "output_type": "stream",
     "text": [
      "Exists: 100%|██████████| 1/1 [00:00<00:00,  1.14it/s]\n",
      "Decoding Mesh Buffer: 100%|██████████| 1/1 [00:00<00:00, 5817.34it/s]\n"
     ]
    },
    {
     "name": "stdout",
     "output_type": "stream",
     "text": [
      "completed 718 of 948\n"
     ]
    },
    {
     "name": "stderr",
     "output_type": "stream",
     "text": [
      "Exists: 100%|██████████| 1/1 [00:00<00:00,  1.14it/s]\n",
      "Decoding Mesh Buffer: 100%|██████████| 1/1 [00:00<?, ?it/s]\n"
     ]
    },
    {
     "name": "stdout",
     "output_type": "stream",
     "text": [
      "completed 719 of 948\n"
     ]
    },
    {
     "name": "stderr",
     "output_type": "stream",
     "text": [
      "Exists: 100%|██████████| 1/1 [00:00<00:00,  1.18it/s]\n",
      "Decoding Mesh Buffer: 100%|██████████| 1/1 [00:00<?, ?it/s]\n"
     ]
    },
    {
     "name": "stdout",
     "output_type": "stream",
     "text": [
      "completed 720 of 948\n"
     ]
    },
    {
     "name": "stderr",
     "output_type": "stream",
     "text": [
      "Exists: 100%|██████████| 1/1 [00:00<00:00,  1.12it/s]\n",
      "Decoding Mesh Buffer: 100%|██████████| 1/1 [00:00<?, ?it/s]\n"
     ]
    },
    {
     "name": "stdout",
     "output_type": "stream",
     "text": [
      "completed 721 of 948\n"
     ]
    },
    {
     "name": "stderr",
     "output_type": "stream",
     "text": [
      "Exists: 100%|██████████| 1/1 [00:01<00:00,  1.01s/it]\n",
      "Decoding Mesh Buffer: 100%|██████████| 1/1 [00:00<?, ?it/s]\n"
     ]
    },
    {
     "name": "stdout",
     "output_type": "stream",
     "text": [
      "completed 722 of 948\n"
     ]
    },
    {
     "name": "stderr",
     "output_type": "stream",
     "text": [
      "Exists: 100%|██████████| 1/1 [00:00<00:00,  1.11it/s]\n",
      "Decoding Mesh Buffer: 100%|██████████| 1/1 [00:00<?, ?it/s]\n"
     ]
    },
    {
     "name": "stdout",
     "output_type": "stream",
     "text": [
      "completed 723 of 948\n"
     ]
    },
    {
     "name": "stderr",
     "output_type": "stream",
     "text": [
      "Exists: 100%|██████████| 1/1 [00:00<00:00,  1.13it/s]\n",
      "Decoding Mesh Buffer: 100%|██████████| 1/1 [00:00<00:00, 1138.52it/s]\n"
     ]
    },
    {
     "name": "stdout",
     "output_type": "stream",
     "text": [
      "completed 724 of 948\n"
     ]
    },
    {
     "name": "stderr",
     "output_type": "stream",
     "text": [
      "Exists: 100%|██████████| 1/1 [00:00<00:00,  1.15it/s]\n",
      "Decoding Mesh Buffer: 100%|██████████| 1/1 [00:00<?, ?it/s]\n"
     ]
    },
    {
     "name": "stdout",
     "output_type": "stream",
     "text": [
      "completed 725 of 948\n"
     ]
    },
    {
     "name": "stderr",
     "output_type": "stream",
     "text": [
      "Exists: 100%|██████████| 1/1 [00:00<00:00,  1.14it/s]\n",
      "Decoding Mesh Buffer: 100%|██████████| 1/1 [00:00<?, ?it/s]\n"
     ]
    },
    {
     "name": "stdout",
     "output_type": "stream",
     "text": [
      "completed 726 of 948\n"
     ]
    },
    {
     "name": "stderr",
     "output_type": "stream",
     "text": [
      "Exists: 100%|██████████| 1/1 [00:00<00:00,  1.02it/s]\n",
      "Decoding Mesh Buffer: 100%|██████████| 1/1 [00:00<?, ?it/s]\n"
     ]
    },
    {
     "name": "stdout",
     "output_type": "stream",
     "text": [
      "completed 727 of 948\n"
     ]
    },
    {
     "name": "stderr",
     "output_type": "stream",
     "text": [
      "Exists: 100%|██████████| 1/1 [00:01<00:00,  1.01s/it]\n",
      "Decoding Mesh Buffer: 100%|██████████| 1/1 [00:00<?, ?it/s]\n"
     ]
    },
    {
     "name": "stdout",
     "output_type": "stream",
     "text": [
      "completed 728 of 948\n"
     ]
    },
    {
     "name": "stderr",
     "output_type": "stream",
     "text": [
      "Exists: 100%|██████████| 1/1 [00:00<00:00,  1.08it/s]\n",
      "Decoding Mesh Buffer: 100%|██████████| 1/1 [00:00<?, ?it/s]\n"
     ]
    },
    {
     "name": "stdout",
     "output_type": "stream",
     "text": [
      "completed 729 of 948\n"
     ]
    },
    {
     "name": "stderr",
     "output_type": "stream",
     "text": [
      "Exists: 100%|██████████| 1/1 [00:00<00:00,  1.12it/s]\n",
      "Decoding Mesh Buffer: 100%|██████████| 1/1 [00:00<?, ?it/s]\n"
     ]
    },
    {
     "name": "stdout",
     "output_type": "stream",
     "text": [
      "completed 730 of 948\n"
     ]
    },
    {
     "name": "stderr",
     "output_type": "stream",
     "text": [
      "Exists: 100%|██████████| 1/1 [00:00<00:00,  1.11it/s]\n",
      "Decoding Mesh Buffer: 100%|██████████| 1/1 [00:00<00:00, 5907.47it/s]\n"
     ]
    },
    {
     "name": "stdout",
     "output_type": "stream",
     "text": [
      "completed 731 of 948\n"
     ]
    },
    {
     "name": "stderr",
     "output_type": "stream",
     "text": [
      "Exists: 100%|██████████| 1/1 [00:00<00:00,  1.15it/s]\n",
      "Decoding Mesh Buffer: 100%|██████████| 1/1 [00:00<?, ?it/s]\n"
     ]
    },
    {
     "name": "stdout",
     "output_type": "stream",
     "text": [
      "completed 732 of 948\n"
     ]
    },
    {
     "name": "stderr",
     "output_type": "stream",
     "text": [
      "Exists: 100%|██████████| 1/1 [00:00<00:00,  1.16it/s]\n",
      "Decoding Mesh Buffer: 100%|██████████| 1/1 [00:00<?, ?it/s]\n"
     ]
    },
    {
     "name": "stdout",
     "output_type": "stream",
     "text": [
      "completed 733 of 948\n"
     ]
    },
    {
     "name": "stderr",
     "output_type": "stream",
     "text": [
      "Exists: 100%|██████████| 1/1 [00:00<00:00,  1.15it/s]\n",
      "Decoding Mesh Buffer: 100%|██████████| 1/1 [00:00<00:00, 1017.05it/s]\n"
     ]
    },
    {
     "name": "stdout",
     "output_type": "stream",
     "text": [
      "completed 734 of 948\n"
     ]
    },
    {
     "name": "stderr",
     "output_type": "stream",
     "text": [
      "Exists: 100%|██████████| 1/1 [00:00<00:00,  1.12it/s]\n",
      "Decoding Mesh Buffer: 100%|██████████| 1/1 [00:00<?, ?it/s]\n"
     ]
    },
    {
     "name": "stdout",
     "output_type": "stream",
     "text": [
      "completed 735 of 948\n"
     ]
    },
    {
     "name": "stderr",
     "output_type": "stream",
     "text": [
      "Exists: 100%|██████████| 1/1 [00:00<00:00,  1.17it/s]\n",
      "Decoding Mesh Buffer: 100%|██████████| 1/1 [00:00<?, ?it/s]\n"
     ]
    },
    {
     "name": "stdout",
     "output_type": "stream",
     "text": [
      "completed 736 of 948\n"
     ]
    },
    {
     "name": "stderr",
     "output_type": "stream",
     "text": [
      "Exists: 100%|██████████| 1/1 [00:00<00:00,  1.16it/s]\n",
      "Decoding Mesh Buffer: 100%|██████████| 1/1 [00:00<?, ?it/s]\n"
     ]
    },
    {
     "name": "stdout",
     "output_type": "stream",
     "text": [
      "completed 737 of 948\n"
     ]
    },
    {
     "name": "stderr",
     "output_type": "stream",
     "text": [
      "Exists: 100%|██████████| 1/1 [00:00<00:00,  1.17it/s]\n",
      "Decoding Mesh Buffer: 100%|██████████| 1/1 [00:00<00:00, 1000.07it/s]\n"
     ]
    },
    {
     "name": "stdout",
     "output_type": "stream",
     "text": [
      "completed 738 of 948\n"
     ]
    },
    {
     "name": "stderr",
     "output_type": "stream",
     "text": [
      "Exists: 100%|██████████| 1/1 [00:00<00:00,  1.14it/s]\n",
      "Decoding Mesh Buffer: 100%|██████████| 1/1 [00:00<?, ?it/s]\n"
     ]
    },
    {
     "name": "stdout",
     "output_type": "stream",
     "text": [
      "completed 739 of 948\n"
     ]
    },
    {
     "name": "stderr",
     "output_type": "stream",
     "text": [
      "Exists: 100%|██████████| 1/1 [00:00<00:00,  1.11it/s]\n",
      "Decoding Mesh Buffer: 100%|██████████| 1/1 [00:00<?, ?it/s]\n"
     ]
    },
    {
     "name": "stdout",
     "output_type": "stream",
     "text": [
      "completed 740 of 948\n"
     ]
    },
    {
     "name": "stderr",
     "output_type": "stream",
     "text": [
      "Exists: 100%|██████████| 1/1 [00:00<00:00,  1.13it/s]\n",
      "Decoding Mesh Buffer: 100%|██████████| 1/1 [00:00<?, ?it/s]\n"
     ]
    },
    {
     "name": "stdout",
     "output_type": "stream",
     "text": [
      "completed 741 of 948\n"
     ]
    },
    {
     "name": "stderr",
     "output_type": "stream",
     "text": [
      "Exists: 100%|██████████| 1/1 [00:00<00:00,  1.11it/s]\n",
      "Decoding Mesh Buffer: 100%|██████████| 1/1 [00:00<?, ?it/s]\n"
     ]
    },
    {
     "name": "stdout",
     "output_type": "stream",
     "text": [
      "completed 742 of 948\n"
     ]
    },
    {
     "name": "stderr",
     "output_type": "stream",
     "text": [
      "Exists: 100%|██████████| 1/1 [00:01<00:00,  1.01s/it]\n",
      "Decoding Mesh Buffer: 100%|██████████| 1/1 [00:00<?, ?it/s]\n"
     ]
    },
    {
     "name": "stdout",
     "output_type": "stream",
     "text": [
      "completed 743 of 948\n"
     ]
    },
    {
     "name": "stderr",
     "output_type": "stream",
     "text": [
      "Exists: 100%|██████████| 1/1 [00:00<00:00,  1.13it/s]\n",
      "Decoding Mesh Buffer: 100%|██████████| 1/1 [00:00<?, ?it/s]\n"
     ]
    },
    {
     "name": "stdout",
     "output_type": "stream",
     "text": [
      "completed 744 of 948\n"
     ]
    },
    {
     "name": "stderr",
     "output_type": "stream",
     "text": [
      "Exists: 100%|██████████| 1/1 [00:00<00:00,  1.15it/s]\n",
      "Decoding Mesh Buffer: 100%|██████████| 1/1 [00:00<?, ?it/s]\n"
     ]
    },
    {
     "name": "stdout",
     "output_type": "stream",
     "text": [
      "completed 745 of 948\n"
     ]
    },
    {
     "name": "stderr",
     "output_type": "stream",
     "text": [
      "Exists: 100%|██████████| 1/1 [00:00<00:00,  1.14it/s]\n",
      "Decoding Mesh Buffer: 100%|██████████| 1/1 [00:00<00:00, 1012.14it/s]\n"
     ]
    },
    {
     "name": "stdout",
     "output_type": "stream",
     "text": [
      "completed 746 of 948\n"
     ]
    },
    {
     "name": "stderr",
     "output_type": "stream",
     "text": [
      "Exists: 100%|██████████| 1/1 [00:00<00:00,  1.13it/s]\n",
      "Decoding Mesh Buffer: 100%|██████████| 1/1 [00:00<?, ?it/s]\n"
     ]
    },
    {
     "name": "stdout",
     "output_type": "stream",
     "text": [
      "completed 747 of 948\n"
     ]
    },
    {
     "name": "stderr",
     "output_type": "stream",
     "text": [
      "Exists: 100%|██████████| 1/1 [00:00<00:00,  1.08it/s]\n",
      "Decoding Mesh Buffer: 100%|██████████| 1/1 [00:00<?, ?it/s]\n"
     ]
    },
    {
     "name": "stdout",
     "output_type": "stream",
     "text": [
      "completed 748 of 948\n"
     ]
    },
    {
     "name": "stderr",
     "output_type": "stream",
     "text": [
      "Exists: 100%|██████████| 1/1 [00:00<00:00,  1.05it/s]\n",
      "Decoding Mesh Buffer: 100%|██████████| 1/1 [00:00<?, ?it/s]\n"
     ]
    },
    {
     "name": "stdout",
     "output_type": "stream",
     "text": [
      "completed 749 of 948\n"
     ]
    },
    {
     "name": "stderr",
     "output_type": "stream",
     "text": [
      "Exists: 100%|██████████| 1/1 [00:00<00:00,  1.12it/s]\n",
      "Decoding Mesh Buffer: 100%|██████████| 1/1 [00:00<00:00, 1053.85it/s]\n"
     ]
    },
    {
     "name": "stdout",
     "output_type": "stream",
     "text": [
      "completed 750 of 948\n"
     ]
    },
    {
     "name": "stderr",
     "output_type": "stream",
     "text": [
      "Exists: 100%|██████████| 1/1 [00:00<00:00,  1.16it/s]\n",
      "Decoding Mesh Buffer: 100%|██████████| 1/1 [00:00<?, ?it/s]\n"
     ]
    },
    {
     "name": "stdout",
     "output_type": "stream",
     "text": [
      "completed 751 of 948\n"
     ]
    },
    {
     "name": "stderr",
     "output_type": "stream",
     "text": [
      "Exists: 100%|██████████| 1/1 [00:00<00:00,  1.16it/s]\n",
      "Decoding Mesh Buffer: 100%|██████████| 1/1 [00:00<?, ?it/s]\n"
     ]
    },
    {
     "name": "stdout",
     "output_type": "stream",
     "text": [
      "completed 752 of 948\n"
     ]
    },
    {
     "name": "stderr",
     "output_type": "stream",
     "text": [
      "Exists: 100%|██████████| 1/1 [00:00<00:00,  1.15it/s]\n",
      "Decoding Mesh Buffer: 100%|██████████| 1/1 [00:00<?, ?it/s]\n"
     ]
    },
    {
     "name": "stdout",
     "output_type": "stream",
     "text": [
      "completed 753 of 948\n"
     ]
    },
    {
     "name": "stderr",
     "output_type": "stream",
     "text": [
      "Exists: 100%|██████████| 1/1 [00:00<00:00,  1.18it/s]\n",
      "Decoding Mesh Buffer: 100%|██████████| 1/1 [00:00<?, ?it/s]\n"
     ]
    },
    {
     "name": "stdout",
     "output_type": "stream",
     "text": [
      "completed 754 of 948\n"
     ]
    },
    {
     "name": "stderr",
     "output_type": "stream",
     "text": [
      "Exists: 100%|██████████| 1/1 [00:00<00:00,  1.14it/s]\n",
      "Decoding Mesh Buffer: 100%|██████████| 1/1 [00:00<?, ?it/s]\n"
     ]
    },
    {
     "name": "stdout",
     "output_type": "stream",
     "text": [
      "completed 755 of 948\n"
     ]
    },
    {
     "name": "stderr",
     "output_type": "stream",
     "text": [
      "Exists: 100%|██████████| 1/1 [00:00<00:00,  1.15it/s]\n",
      "Decoding Mesh Buffer: 100%|██████████| 1/1 [00:00<?, ?it/s]\n"
     ]
    },
    {
     "name": "stdout",
     "output_type": "stream",
     "text": [
      "completed 756 of 948\n"
     ]
    },
    {
     "name": "stderr",
     "output_type": "stream",
     "text": [
      "Exists: 100%|██████████| 1/1 [00:00<00:00,  1.15it/s]\n",
      "Decoding Mesh Buffer: 100%|██████████| 1/1 [00:00<?, ?it/s]\n"
     ]
    },
    {
     "name": "stdout",
     "output_type": "stream",
     "text": [
      "completed 757 of 948\n"
     ]
    },
    {
     "name": "stderr",
     "output_type": "stream",
     "text": [
      "Exists: 100%|██████████| 1/1 [00:00<00:00,  1.12it/s]\n",
      "Decoding Mesh Buffer: 100%|██████████| 2/2 [00:00<00:00, 1322.29it/s]\n"
     ]
    },
    {
     "name": "stdout",
     "output_type": "stream",
     "text": [
      "completed 758 of 948\n"
     ]
    },
    {
     "name": "stderr",
     "output_type": "stream",
     "text": [
      "Exists: 100%|██████████| 1/1 [00:00<00:00,  1.14it/s]\n",
      "Decoding Mesh Buffer: 100%|██████████| 1/1 [00:00<?, ?it/s]\n"
     ]
    },
    {
     "name": "stdout",
     "output_type": "stream",
     "text": [
      "completed 759 of 948\n"
     ]
    },
    {
     "name": "stderr",
     "output_type": "stream",
     "text": [
      "Exists: 100%|██████████| 1/1 [00:00<00:00,  1.15it/s]\n",
      "Decoding Mesh Buffer: 100%|██████████| 1/1 [00:00<?, ?it/s]\n"
     ]
    },
    {
     "name": "stdout",
     "output_type": "stream",
     "text": [
      "completed 760 of 948\n"
     ]
    },
    {
     "name": "stderr",
     "output_type": "stream",
     "text": [
      "Exists: 100%|██████████| 1/1 [00:00<00:00,  1.11it/s]\n",
      "Decoding Mesh Buffer: 100%|██████████| 1/1 [00:00<?, ?it/s]\n"
     ]
    },
    {
     "name": "stdout",
     "output_type": "stream",
     "text": [
      "completed 761 of 948\n"
     ]
    },
    {
     "name": "stderr",
     "output_type": "stream",
     "text": [
      "Exists: 100%|██████████| 1/1 [00:01<00:00,  1.04s/it]\n",
      "Decoding Mesh Buffer: 100%|██████████| 1/1 [00:00<?, ?it/s]\n"
     ]
    },
    {
     "name": "stdout",
     "output_type": "stream",
     "text": [
      "completed 762 of 948\n"
     ]
    },
    {
     "name": "stderr",
     "output_type": "stream",
     "text": [
      "Exists: 100%|██████████| 1/1 [00:00<00:00,  1.11it/s]\n",
      "Decoding Mesh Buffer: 100%|██████████| 1/1 [00:00<?, ?it/s]\n"
     ]
    },
    {
     "name": "stdout",
     "output_type": "stream",
     "text": [
      "completed 763 of 948\n"
     ]
    },
    {
     "name": "stderr",
     "output_type": "stream",
     "text": [
      "Exists: 100%|██████████| 1/1 [00:00<00:00,  1.08it/s]\n",
      "Decoding Mesh Buffer: 100%|██████████| 1/1 [00:00<?, ?it/s]\n"
     ]
    },
    {
     "name": "stdout",
     "output_type": "stream",
     "text": [
      "completed 764 of 948\n"
     ]
    },
    {
     "name": "stderr",
     "output_type": "stream",
     "text": [
      "Exists: 100%|██████████| 1/1 [00:00<00:00,  1.09it/s]\n",
      "Decoding Mesh Buffer: 100%|██████████| 1/1 [00:00<00:00, 1074.36it/s]\n"
     ]
    },
    {
     "name": "stdout",
     "output_type": "stream",
     "text": [
      "completed 765 of 948\n"
     ]
    },
    {
     "name": "stderr",
     "output_type": "stream",
     "text": [
      "Exists: 100%|██████████| 1/1 [00:00<00:00,  1.06it/s]\n",
      "Decoding Mesh Buffer: 100%|██████████| 1/1 [00:00<?, ?it/s]\n"
     ]
    },
    {
     "name": "stdout",
     "output_type": "stream",
     "text": [
      "completed 766 of 948\n"
     ]
    },
    {
     "name": "stderr",
     "output_type": "stream",
     "text": [
      "Exists: 100%|██████████| 1/1 [00:00<00:00,  1.06it/s]\n",
      "Decoding Mesh Buffer: 100%|██████████| 1/1 [00:00<00:00, 1083.24it/s]\n"
     ]
    },
    {
     "name": "stdout",
     "output_type": "stream",
     "text": [
      "completed 767 of 948\n"
     ]
    },
    {
     "name": "stderr",
     "output_type": "stream",
     "text": [
      "Exists: 100%|██████████| 1/1 [00:00<00:00,  1.11it/s]\n",
      "Decoding Mesh Buffer: 100%|██████████| 1/1 [00:00<?, ?it/s]\n"
     ]
    },
    {
     "name": "stdout",
     "output_type": "stream",
     "text": [
      "completed 768 of 948\n"
     ]
    },
    {
     "name": "stderr",
     "output_type": "stream",
     "text": [
      "Exists: 100%|██████████| 1/1 [00:00<00:00,  1.07it/s]\n",
      "Decoding Mesh Buffer: 100%|██████████| 1/1 [00:00<?, ?it/s]\n"
     ]
    },
    {
     "name": "stdout",
     "output_type": "stream",
     "text": [
      "completed 769 of 948\n"
     ]
    },
    {
     "name": "stderr",
     "output_type": "stream",
     "text": [
      "Exists: 100%|██████████| 1/1 [00:00<00:00,  1.11it/s]\n",
      "Decoding Mesh Buffer: 100%|██████████| 1/1 [00:00<?, ?it/s]\n"
     ]
    },
    {
     "name": "stdout",
     "output_type": "stream",
     "text": [
      "completed 770 of 948\n"
     ]
    },
    {
     "name": "stderr",
     "output_type": "stream",
     "text": [
      "Exists: 100%|██████████| 1/1 [00:00<00:00,  1.09it/s]\n",
      "Decoding Mesh Buffer: 100%|██████████| 1/1 [00:00<?, ?it/s]\n"
     ]
    },
    {
     "name": "stdout",
     "output_type": "stream",
     "text": [
      "completed 771 of 948\n"
     ]
    },
    {
     "name": "stderr",
     "output_type": "stream",
     "text": [
      "Exists: 100%|██████████| 1/1 [00:00<00:00,  1.11it/s]\n",
      "Decoding Mesh Buffer: 100%|██████████| 1/1 [00:00<00:00, 988.99it/s]\n"
     ]
    },
    {
     "name": "stdout",
     "output_type": "stream",
     "text": [
      "completed 772 of 948\n"
     ]
    },
    {
     "name": "stderr",
     "output_type": "stream",
     "text": [
      "Exists: 100%|██████████| 1/1 [00:00<00:00,  1.02it/s]\n",
      "Decoding Mesh Buffer: 100%|██████████| 1/1 [00:00<?, ?it/s]\n"
     ]
    },
    {
     "name": "stdout",
     "output_type": "stream",
     "text": [
      "completed 773 of 948\n"
     ]
    },
    {
     "name": "stderr",
     "output_type": "stream",
     "text": [
      "Exists: 100%|██████████| 1/1 [00:00<00:00,  1.00it/s]\n",
      "Decoding Mesh Buffer: 100%|██████████| 1/1 [00:00<?, ?it/s]\n"
     ]
    },
    {
     "name": "stdout",
     "output_type": "stream",
     "text": [
      "completed 774 of 948\n"
     ]
    },
    {
     "name": "stderr",
     "output_type": "stream",
     "text": [
      "Exists: 100%|██████████| 1/1 [00:00<00:00,  1.10it/s]\n",
      "Decoding Mesh Buffer: 100%|██████████| 1/1 [00:00<?, ?it/s]\n"
     ]
    },
    {
     "name": "stdout",
     "output_type": "stream",
     "text": [
      "completed 775 of 948\n"
     ]
    },
    {
     "name": "stderr",
     "output_type": "stream",
     "text": [
      "Exists: 100%|██████████| 1/1 [00:00<00:00,  1.08it/s]\n",
      "Decoding Mesh Buffer: 100%|██████████| 1/1 [00:00<00:00, 920.81it/s]\n"
     ]
    },
    {
     "name": "stdout",
     "output_type": "stream",
     "text": [
      "completed 776 of 948\n"
     ]
    },
    {
     "name": "stderr",
     "output_type": "stream",
     "text": [
      "Exists: 100%|██████████| 1/1 [00:00<00:00,  1.08it/s]\n",
      "Decoding Mesh Buffer: 100%|██████████| 1/1 [00:00<?, ?it/s]\n"
     ]
    },
    {
     "name": "stdout",
     "output_type": "stream",
     "text": [
      "completed 777 of 948\n"
     ]
    },
    {
     "name": "stderr",
     "output_type": "stream",
     "text": [
      "Exists: 100%|██████████| 1/1 [00:00<00:00,  1.05it/s]\n",
      "Decoding Mesh Buffer: 100%|██████████| 1/1 [00:00<?, ?it/s]\n"
     ]
    },
    {
     "name": "stdout",
     "output_type": "stream",
     "text": [
      "completed 778 of 948\n"
     ]
    },
    {
     "name": "stderr",
     "output_type": "stream",
     "text": [
      "Exists: 100%|██████████| 1/1 [00:00<00:00,  1.13it/s]\n",
      "Decoding Mesh Buffer: 100%|██████████| 1/1 [00:00<?, ?it/s]\n"
     ]
    },
    {
     "name": "stdout",
     "output_type": "stream",
     "text": [
      "completed 779 of 948\n"
     ]
    },
    {
     "name": "stderr",
     "output_type": "stream",
     "text": [
      "Exists: 100%|██████████| 1/1 [00:00<00:00,  1.13it/s]\n",
      "Decoding Mesh Buffer: 100%|██████████| 1/1 [00:00<?, ?it/s]\n"
     ]
    },
    {
     "name": "stdout",
     "output_type": "stream",
     "text": [
      "completed 780 of 948\n"
     ]
    },
    {
     "name": "stderr",
     "output_type": "stream",
     "text": [
      "Exists: 100%|██████████| 1/1 [00:00<00:00,  1.03it/s]\n",
      "Decoding Mesh Buffer: 100%|██████████| 1/1 [00:00<00:00, 983.65it/s]\n"
     ]
    },
    {
     "name": "stdout",
     "output_type": "stream",
     "text": [
      "completed 781 of 948\n"
     ]
    },
    {
     "name": "stderr",
     "output_type": "stream",
     "text": [
      "Exists: 100%|██████████| 1/1 [00:00<00:00,  1.14it/s]\n",
      "Decoding Mesh Buffer: 100%|██████████| 1/1 [00:00<00:00, 989.92it/s]\n"
     ]
    },
    {
     "name": "stdout",
     "output_type": "stream",
     "text": [
      "completed 782 of 948\n"
     ]
    },
    {
     "name": "stderr",
     "output_type": "stream",
     "text": [
      "Exists: 100%|██████████| 1/1 [00:00<00:00,  1.08it/s]\n",
      "Decoding Mesh Buffer: 100%|██████████| 1/1 [00:00<?, ?it/s]\n"
     ]
    },
    {
     "name": "stdout",
     "output_type": "stream",
     "text": [
      "completed 783 of 948\n"
     ]
    },
    {
     "name": "stderr",
     "output_type": "stream",
     "text": [
      "Exists: 100%|██████████| 1/1 [00:00<00:00,  1.14it/s]\n",
      "Decoding Mesh Buffer: 100%|██████████| 1/1 [00:00<?, ?it/s]\n"
     ]
    },
    {
     "name": "stdout",
     "output_type": "stream",
     "text": [
      "completed 784 of 948\n"
     ]
    },
    {
     "name": "stderr",
     "output_type": "stream",
     "text": [
      "Exists: 100%|██████████| 1/1 [00:00<00:00,  1.15it/s]\n",
      "Decoding Mesh Buffer: 100%|██████████| 1/1 [00:00<?, ?it/s]\n"
     ]
    },
    {
     "name": "stdout",
     "output_type": "stream",
     "text": [
      "completed 785 of 948\n"
     ]
    },
    {
     "name": "stderr",
     "output_type": "stream",
     "text": [
      "Exists: 100%|██████████| 1/1 [00:00<00:00,  1.15it/s]\n",
      "Decoding Mesh Buffer: 100%|██████████| 1/1 [00:00<?, ?it/s]\n"
     ]
    },
    {
     "name": "stdout",
     "output_type": "stream",
     "text": [
      "completed 786 of 948\n"
     ]
    },
    {
     "name": "stderr",
     "output_type": "stream",
     "text": [
      "Exists: 100%|██████████| 1/1 [00:00<00:00,  1.15it/s]\n",
      "Decoding Mesh Buffer: 100%|██████████| 1/1 [00:00<?, ?it/s]\n"
     ]
    },
    {
     "name": "stdout",
     "output_type": "stream",
     "text": [
      "completed 787 of 948\n"
     ]
    },
    {
     "name": "stderr",
     "output_type": "stream",
     "text": [
      "Exists: 100%|██████████| 1/1 [00:00<00:00,  1.15it/s]\n",
      "Decoding Mesh Buffer: 100%|██████████| 1/1 [00:00<?, ?it/s]\n"
     ]
    },
    {
     "name": "stdout",
     "output_type": "stream",
     "text": [
      "completed 788 of 948\n"
     ]
    },
    {
     "name": "stderr",
     "output_type": "stream",
     "text": [
      "Exists: 100%|██████████| 1/1 [00:00<00:00,  1.09it/s]\n",
      "Decoding Mesh Buffer: 100%|██████████| 1/1 [00:00<?, ?it/s]\n"
     ]
    },
    {
     "name": "stdout",
     "output_type": "stream",
     "text": [
      "completed 789 of 948\n"
     ]
    },
    {
     "name": "stderr",
     "output_type": "stream",
     "text": [
      "Exists: 100%|██████████| 1/1 [00:00<00:00,  1.15it/s]\n",
      "Decoding Mesh Buffer: 100%|██████████| 1/1 [00:00<?, ?it/s]\n"
     ]
    },
    {
     "name": "stdout",
     "output_type": "stream",
     "text": [
      "completed 790 of 948\n"
     ]
    },
    {
     "name": "stderr",
     "output_type": "stream",
     "text": [
      "Exists: 100%|██████████| 1/1 [00:00<00:00,  1.08it/s]\n",
      "Decoding Mesh Buffer: 100%|██████████| 1/1 [00:00<00:00, 972.25it/s]\n"
     ]
    },
    {
     "name": "stdout",
     "output_type": "stream",
     "text": [
      "completed 791 of 948\n"
     ]
    },
    {
     "name": "stderr",
     "output_type": "stream",
     "text": [
      "Exists: 100%|██████████| 1/1 [00:00<00:00,  1.14it/s]\n",
      "Decoding Mesh Buffer: 100%|██████████| 1/1 [00:00<?, ?it/s]\n"
     ]
    },
    {
     "name": "stdout",
     "output_type": "stream",
     "text": [
      "completed 792 of 948\n"
     ]
    },
    {
     "name": "stderr",
     "output_type": "stream",
     "text": [
      "Exists: 100%|██████████| 1/1 [00:00<00:00,  1.12it/s]\n",
      "Decoding Mesh Buffer: 100%|██████████| 1/1 [00:00<?, ?it/s]\n"
     ]
    },
    {
     "name": "stdout",
     "output_type": "stream",
     "text": [
      "completed 793 of 948\n"
     ]
    },
    {
     "name": "stderr",
     "output_type": "stream",
     "text": [
      "Exists: 100%|██████████| 1/1 [00:00<00:00,  1.14it/s]\n",
      "Decoding Mesh Buffer: 100%|██████████| 1/1 [00:00<00:00, 1013.61it/s]\n"
     ]
    },
    {
     "name": "stdout",
     "output_type": "stream",
     "text": [
      "completed 794 of 948\n"
     ]
    },
    {
     "name": "stderr",
     "output_type": "stream",
     "text": [
      "Exists: 100%|██████████| 1/1 [00:00<00:00,  1.12it/s]\n",
      "Decoding Mesh Buffer: 100%|██████████| 1/1 [00:00<00:00, 1008.25it/s]\n"
     ]
    },
    {
     "name": "stdout",
     "output_type": "stream",
     "text": [
      "completed 795 of 948\n"
     ]
    },
    {
     "name": "stderr",
     "output_type": "stream",
     "text": [
      "Exists: 100%|██████████| 1/1 [00:00<00:00,  1.06it/s]\n",
      "Decoding Mesh Buffer: 100%|██████████| 1/1 [00:00<00:00, 1000.55it/s]\n"
     ]
    },
    {
     "name": "stdout",
     "output_type": "stream",
     "text": [
      "completed 796 of 948\n"
     ]
    },
    {
     "name": "stderr",
     "output_type": "stream",
     "text": [
      "Exists: 100%|██████████| 1/1 [00:00<00:00,  1.14it/s]\n",
      "Decoding Mesh Buffer: 100%|██████████| 1/1 [00:00<?, ?it/s]\n"
     ]
    },
    {
     "name": "stdout",
     "output_type": "stream",
     "text": [
      "completed 797 of 948\n"
     ]
    },
    {
     "name": "stderr",
     "output_type": "stream",
     "text": [
      "Exists: 100%|██████████| 1/1 [00:00<00:00,  1.04it/s]\n",
      "Decoding Mesh Buffer: 100%|██████████| 1/1 [00:00<?, ?it/s]\n"
     ]
    },
    {
     "name": "stdout",
     "output_type": "stream",
     "text": [
      "completed 798 of 948\n"
     ]
    },
    {
     "name": "stderr",
     "output_type": "stream",
     "text": [
      "Exists: 100%|██████████| 1/1 [00:00<00:00,  1.17it/s]\n",
      "Decoding Mesh Buffer: 100%|██████████| 1/1 [00:00<?, ?it/s]\n"
     ]
    },
    {
     "name": "stdout",
     "output_type": "stream",
     "text": [
      "completed 799 of 948\n"
     ]
    },
    {
     "name": "stderr",
     "output_type": "stream",
     "text": [
      "Exists: 100%|██████████| 1/1 [00:00<00:00,  1.17it/s]\n",
      "Decoding Mesh Buffer: 100%|██████████| 2/2 [00:00<?, ?it/s]\n"
     ]
    },
    {
     "name": "stdout",
     "output_type": "stream",
     "text": [
      "completed 800 of 948\n"
     ]
    },
    {
     "name": "stderr",
     "output_type": "stream",
     "text": [
      "Exists: 100%|██████████| 1/1 [00:00<00:00,  1.15it/s]\n",
      "Decoding Mesh Buffer: 100%|██████████| 1/1 [00:00<?, ?it/s]\n"
     ]
    },
    {
     "name": "stdout",
     "output_type": "stream",
     "text": [
      "completed 801 of 948\n"
     ]
    },
    {
     "name": "stderr",
     "output_type": "stream",
     "text": [
      "Exists: 100%|██████████| 1/1 [00:00<00:00,  1.16it/s]\n",
      "Decoding Mesh Buffer: 100%|██████████| 1/1 [00:00<00:00, 1036.65it/s]\n"
     ]
    },
    {
     "name": "stdout",
     "output_type": "stream",
     "text": [
      "completed 802 of 948\n"
     ]
    },
    {
     "name": "stderr",
     "output_type": "stream",
     "text": [
      "Exists: 100%|██████████| 1/1 [00:00<00:00,  1.16it/s]\n",
      "Decoding Mesh Buffer: 100%|██████████| 1/1 [00:00<?, ?it/s]\n"
     ]
    },
    {
     "name": "stdout",
     "output_type": "stream",
     "text": [
      "completed 803 of 948\n"
     ]
    },
    {
     "name": "stderr",
     "output_type": "stream",
     "text": [
      "Exists: 100%|██████████| 1/1 [00:00<00:00,  1.13it/s]\n",
      "Decoding Mesh Buffer: 100%|██████████| 1/1 [00:00<?, ?it/s]\n"
     ]
    },
    {
     "name": "stdout",
     "output_type": "stream",
     "text": [
      "completed 804 of 948\n"
     ]
    },
    {
     "name": "stderr",
     "output_type": "stream",
     "text": [
      "Exists: 100%|██████████| 1/1 [00:01<00:00,  1.05s/it]\n",
      "Decoding Mesh Buffer: 100%|██████████| 2/2 [00:00<?, ?it/s]\n"
     ]
    },
    {
     "name": "stdout",
     "output_type": "stream",
     "text": [
      "completed 805 of 948\n"
     ]
    },
    {
     "name": "stderr",
     "output_type": "stream",
     "text": [
      "Exists: 100%|██████████| 1/1 [00:00<00:00,  1.03it/s]\n",
      "Decoding Mesh Buffer: 100%|██████████| 1/1 [00:00<?, ?it/s]\n"
     ]
    },
    {
     "name": "stdout",
     "output_type": "stream",
     "text": [
      "completed 806 of 948\n"
     ]
    },
    {
     "name": "stderr",
     "output_type": "stream",
     "text": [
      "Exists: 100%|██████████| 1/1 [00:00<00:00,  1.14it/s]\n",
      "Decoding Mesh Buffer: 100%|██████████| 1/1 [00:00<?, ?it/s]\n"
     ]
    },
    {
     "name": "stdout",
     "output_type": "stream",
     "text": [
      "completed 807 of 948\n"
     ]
    },
    {
     "name": "stderr",
     "output_type": "stream",
     "text": [
      "Exists: 100%|██████████| 1/1 [00:00<00:00,  1.15it/s]\n",
      "Decoding Mesh Buffer: 100%|██████████| 1/1 [00:00<00:00, 993.91it/s]\n"
     ]
    },
    {
     "name": "stdout",
     "output_type": "stream",
     "text": [
      "completed 808 of 948\n"
     ]
    },
    {
     "name": "stderr",
     "output_type": "stream",
     "text": [
      "Exists: 100%|██████████| 1/1 [00:00<00:00,  1.07it/s]\n",
      "Decoding Mesh Buffer: 100%|██████████| 1/1 [00:00<00:00, 992.97it/s]\n"
     ]
    },
    {
     "name": "stdout",
     "output_type": "stream",
     "text": [
      "completed 809 of 948\n"
     ]
    },
    {
     "name": "stderr",
     "output_type": "stream",
     "text": [
      "Exists: 100%|██████████| 1/1 [00:00<00:00,  1.05it/s]\n",
      "Decoding Mesh Buffer: 100%|██████████| 1/1 [00:00<00:00, 7810.62it/s]\n"
     ]
    },
    {
     "name": "stdout",
     "output_type": "stream",
     "text": [
      "completed 810 of 948\n"
     ]
    },
    {
     "name": "stderr",
     "output_type": "stream",
     "text": [
      "Exists: 100%|██████████| 1/1 [00:00<00:00,  1.15it/s]\n",
      "Decoding Mesh Buffer: 100%|██████████| 1/1 [00:00<?, ?it/s]\n"
     ]
    },
    {
     "name": "stdout",
     "output_type": "stream",
     "text": [
      "completed 811 of 948\n"
     ]
    },
    {
     "name": "stderr",
     "output_type": "stream",
     "text": [
      "Exists: 100%|██████████| 1/1 [00:00<00:00,  1.12it/s]\n",
      "Decoding Mesh Buffer: 100%|██████████| 2/2 [00:00<00:00, 2003.97it/s]\n"
     ]
    },
    {
     "name": "stdout",
     "output_type": "stream",
     "text": [
      "completed 812 of 948\n"
     ]
    },
    {
     "name": "stderr",
     "output_type": "stream",
     "text": [
      "Exists: 100%|██████████| 1/1 [00:00<00:00,  1.05it/s]\n",
      "Decoding Mesh Buffer: 100%|██████████| 1/1 [00:00<?, ?it/s]\n"
     ]
    },
    {
     "name": "stdout",
     "output_type": "stream",
     "text": [
      "completed 813 of 948\n"
     ]
    },
    {
     "name": "stderr",
     "output_type": "stream",
     "text": [
      "Exists: 100%|██████████| 1/1 [00:00<00:00,  1.06it/s]\n",
      "Decoding Mesh Buffer: 100%|██████████| 1/1 [00:00<?, ?it/s]\n"
     ]
    },
    {
     "name": "stdout",
     "output_type": "stream",
     "text": [
      "completed 814 of 948\n"
     ]
    },
    {
     "name": "stderr",
     "output_type": "stream",
     "text": [
      "Exists: 100%|██████████| 1/1 [00:00<00:00,  1.08it/s]\n",
      "Decoding Mesh Buffer: 100%|██████████| 1/1 [00:00<?, ?it/s]\n"
     ]
    },
    {
     "name": "stdout",
     "output_type": "stream",
     "text": [
      "completed 815 of 948\n"
     ]
    },
    {
     "name": "stderr",
     "output_type": "stream",
     "text": [
      "Exists: 100%|██████████| 1/1 [00:00<00:00,  1.16it/s]\n",
      "Decoding Mesh Buffer: 100%|██████████| 1/1 [00:00<00:00, 1003.42it/s]\n"
     ]
    },
    {
     "name": "stdout",
     "output_type": "stream",
     "text": [
      "completed 816 of 948\n"
     ]
    },
    {
     "name": "stderr",
     "output_type": "stream",
     "text": [
      "Exists: 100%|██████████| 1/1 [00:00<00:00,  1.10it/s]\n",
      "Decoding Mesh Buffer: 100%|██████████| 1/1 [00:00<?, ?it/s]\n"
     ]
    },
    {
     "name": "stdout",
     "output_type": "stream",
     "text": [
      "completed 817 of 948\n"
     ]
    },
    {
     "name": "stderr",
     "output_type": "stream",
     "text": [
      "Exists: 100%|██████████| 1/1 [00:00<00:00,  1.08it/s]\n",
      "Decoding Mesh Buffer: 100%|██████████| 1/1 [00:00<?, ?it/s]\n"
     ]
    },
    {
     "name": "stdout",
     "output_type": "stream",
     "text": [
      "completed 818 of 948\n"
     ]
    },
    {
     "name": "stderr",
     "output_type": "stream",
     "text": [
      "Exists: 100%|██████████| 1/1 [00:00<00:00,  1.15it/s]\n",
      "Decoding Mesh Buffer: 100%|██████████| 1/1 [00:00<?, ?it/s]\n"
     ]
    },
    {
     "name": "stdout",
     "output_type": "stream",
     "text": [
      "completed 819 of 948\n"
     ]
    },
    {
     "name": "stderr",
     "output_type": "stream",
     "text": [
      "Exists: 100%|██████████| 1/1 [00:00<00:00,  1.04it/s]\n",
      "Decoding Mesh Buffer: 100%|██████████| 1/1 [00:00<?, ?it/s]\n"
     ]
    },
    {
     "name": "stdout",
     "output_type": "stream",
     "text": [
      "completed 820 of 948\n"
     ]
    },
    {
     "name": "stderr",
     "output_type": "stream",
     "text": [
      "Exists: 100%|██████████| 1/1 [00:00<00:00,  1.15it/s]\n",
      "Decoding Mesh Buffer: 100%|██████████| 1/1 [00:00<00:00, 1012.14it/s]\n"
     ]
    },
    {
     "name": "stdout",
     "output_type": "stream",
     "text": [
      "completed 821 of 948\n"
     ]
    },
    {
     "name": "stderr",
     "output_type": "stream",
     "text": [
      "Exists: 100%|██████████| 1/1 [00:00<00:00,  1.07it/s]\n",
      "Decoding Mesh Buffer: 100%|██████████| 1/1 [00:00<00:00, 615.27it/s]\n"
     ]
    },
    {
     "name": "stdout",
     "output_type": "stream",
     "text": [
      "completed 822 of 948\n"
     ]
    },
    {
     "name": "stderr",
     "output_type": "stream",
     "text": [
      "Exists: 100%|██████████| 1/1 [00:01<00:00,  1.04s/it]\n",
      "Decoding Mesh Buffer: 100%|██████████| 1/1 [00:00<00:00, 1002.70it/s]\n"
     ]
    },
    {
     "name": "stdout",
     "output_type": "stream",
     "text": [
      "completed 823 of 948\n"
     ]
    },
    {
     "name": "stderr",
     "output_type": "stream",
     "text": [
      "Exists: 100%|██████████| 1/1 [00:00<00:00,  1.11it/s]\n",
      "Decoding Mesh Buffer: 100%|██████████| 1/1 [00:00<?, ?it/s]\n"
     ]
    },
    {
     "name": "stdout",
     "output_type": "stream",
     "text": [
      "completed 824 of 948\n"
     ]
    },
    {
     "name": "stderr",
     "output_type": "stream",
     "text": [
      "Exists: 100%|██████████| 1/1 [00:00<00:00,  1.16it/s]\n",
      "Decoding Mesh Buffer: 100%|██████████| 1/1 [00:00<?, ?it/s]\n"
     ]
    },
    {
     "name": "stdout",
     "output_type": "stream",
     "text": [
      "completed 825 of 948\n"
     ]
    },
    {
     "name": "stderr",
     "output_type": "stream",
     "text": [
      "Exists: 100%|██████████| 1/1 [00:00<00:00,  1.05it/s]\n",
      "Decoding Mesh Buffer: 100%|██████████| 1/1 [00:00<?, ?it/s]\n"
     ]
    },
    {
     "name": "stdout",
     "output_type": "stream",
     "text": [
      "completed 826 of 948\n"
     ]
    },
    {
     "name": "stderr",
     "output_type": "stream",
     "text": [
      "Exists: 100%|██████████| 1/1 [00:00<00:00,  1.04it/s]\n",
      "Decoding Mesh Buffer: 100%|██████████| 1/1 [00:00<?, ?it/s]\n"
     ]
    },
    {
     "name": "stdout",
     "output_type": "stream",
     "text": [
      "completed 827 of 948\n"
     ]
    },
    {
     "name": "stderr",
     "output_type": "stream",
     "text": [
      "Exists: 100%|██████████| 1/1 [00:00<00:00,  1.12it/s]\n",
      "Decoding Mesh Buffer: 100%|██████████| 1/1 [00:00<?, ?it/s]\n"
     ]
    },
    {
     "name": "stdout",
     "output_type": "stream",
     "text": [
      "completed 828 of 948\n"
     ]
    },
    {
     "name": "stderr",
     "output_type": "stream",
     "text": [
      "Exists: 100%|██████████| 1/1 [00:00<00:00,  1.05it/s]\n",
      "Decoding Mesh Buffer: 100%|██████████| 1/1 [00:00<?, ?it/s]\n"
     ]
    },
    {
     "name": "stdout",
     "output_type": "stream",
     "text": [
      "completed 829 of 948\n"
     ]
    },
    {
     "name": "stderr",
     "output_type": "stream",
     "text": [
      "Exists: 100%|██████████| 1/1 [00:00<00:00,  1.07it/s]\n",
      "Decoding Mesh Buffer: 100%|██████████| 1/1 [00:00<?, ?it/s]\n"
     ]
    },
    {
     "name": "stdout",
     "output_type": "stream",
     "text": [
      "completed 830 of 948\n"
     ]
    },
    {
     "name": "stderr",
     "output_type": "stream",
     "text": [
      "Exists: 100%|██████████| 1/1 [00:00<00:00,  1.14it/s]\n",
      "Decoding Mesh Buffer: 100%|██████████| 1/1 [00:00<?, ?it/s]\n"
     ]
    },
    {
     "name": "stdout",
     "output_type": "stream",
     "text": [
      "completed 831 of 948\n"
     ]
    },
    {
     "name": "stderr",
     "output_type": "stream",
     "text": [
      "Exists: 100%|██████████| 1/1 [00:00<00:00,  1.10it/s]\n",
      "Decoding Mesh Buffer: 100%|██████████| 2/2 [00:00<?, ?it/s]\n"
     ]
    },
    {
     "name": "stdout",
     "output_type": "stream",
     "text": [
      "completed 832 of 948\n"
     ]
    },
    {
     "name": "stderr",
     "output_type": "stream",
     "text": [
      "Exists: 100%|██████████| 1/1 [00:00<00:00,  1.10it/s]\n",
      "Decoding Mesh Buffer: 100%|██████████| 1/1 [00:00<?, ?it/s]\n"
     ]
    },
    {
     "name": "stdout",
     "output_type": "stream",
     "text": [
      "completed 833 of 948\n"
     ]
    },
    {
     "name": "stderr",
     "output_type": "stream",
     "text": [
      "Exists: 100%|██████████| 1/1 [00:00<00:00,  1.11it/s]\n",
      "Decoding Mesh Buffer: 100%|██████████| 1/1 [00:00<?, ?it/s]\n"
     ]
    },
    {
     "name": "stdout",
     "output_type": "stream",
     "text": [
      "completed 834 of 948\n"
     ]
    },
    {
     "name": "stderr",
     "output_type": "stream",
     "text": [
      "Exists: 100%|██████████| 1/1 [00:00<00:00,  1.11it/s]\n",
      "Decoding Mesh Buffer: 100%|██████████| 1/1 [00:00<?, ?it/s]\n"
     ]
    },
    {
     "name": "stdout",
     "output_type": "stream",
     "text": [
      "completed 835 of 948\n"
     ]
    },
    {
     "name": "stderr",
     "output_type": "stream",
     "text": [
      "Exists: 100%|██████████| 1/1 [00:00<00:00,  1.07it/s]\n",
      "Decoding Mesh Buffer: 100%|██████████| 1/1 [00:00<?, ?it/s]\n"
     ]
    },
    {
     "name": "stdout",
     "output_type": "stream",
     "text": [
      "completed 836 of 948\n"
     ]
    },
    {
     "name": "stderr",
     "output_type": "stream",
     "text": [
      "Exists: 100%|██████████| 1/1 [00:01<00:00,  1.06s/it]\n",
      "Decoding Mesh Buffer: 100%|██████████| 1/1 [00:00<?, ?it/s]\n"
     ]
    },
    {
     "name": "stdout",
     "output_type": "stream",
     "text": [
      "completed 837 of 948\n"
     ]
    },
    {
     "name": "stderr",
     "output_type": "stream",
     "text": [
      "Exists: 100%|██████████| 1/1 [00:00<00:00,  1.15it/s]\n",
      "Decoding Mesh Buffer: 100%|██████████| 1/1 [00:00<00:00, 975.87it/s]\n"
     ]
    },
    {
     "name": "stdout",
     "output_type": "stream",
     "text": [
      "completed 838 of 948\n"
     ]
    },
    {
     "name": "stderr",
     "output_type": "stream",
     "text": [
      "Exists: 100%|██████████| 1/1 [00:00<00:00,  1.04it/s]\n",
      "Decoding Mesh Buffer: 100%|██████████| 1/1 [00:00<?, ?it/s]\n"
     ]
    },
    {
     "name": "stdout",
     "output_type": "stream",
     "text": [
      "completed 839 of 948\n"
     ]
    },
    {
     "name": "stderr",
     "output_type": "stream",
     "text": [
      "Exists: 100%|██████████| 1/1 [00:00<00:00,  1.10it/s]\n",
      "Decoding Mesh Buffer: 100%|██████████| 1/1 [00:00<?, ?it/s]\n"
     ]
    },
    {
     "name": "stdout",
     "output_type": "stream",
     "text": [
      "completed 840 of 948\n"
     ]
    },
    {
     "name": "stderr",
     "output_type": "stream",
     "text": [
      "Exists: 100%|██████████| 1/1 [00:00<00:00,  1.10it/s]\n",
      "Decoding Mesh Buffer: 100%|██████████| 2/2 [00:00<00:00, 1954.02it/s]\n"
     ]
    },
    {
     "name": "stdout",
     "output_type": "stream",
     "text": [
      "completed 841 of 948\n"
     ]
    },
    {
     "name": "stderr",
     "output_type": "stream",
     "text": [
      "Exists: 100%|██████████| 1/1 [00:00<00:00,  1.16it/s]\n",
      "Decoding Mesh Buffer: 100%|██████████| 1/1 [00:00<00:00, 1978.45it/s]\n"
     ]
    },
    {
     "name": "stdout",
     "output_type": "stream",
     "text": [
      "completed 842 of 948\n"
     ]
    },
    {
     "name": "stderr",
     "output_type": "stream",
     "text": [
      "Exists: 100%|██████████| 1/1 [00:00<00:00,  1.15it/s]\n",
      "Decoding Mesh Buffer: 100%|██████████| 1/1 [00:00<?, ?it/s]\n"
     ]
    },
    {
     "name": "stdout",
     "output_type": "stream",
     "text": [
      "completed 843 of 948\n"
     ]
    },
    {
     "name": "stderr",
     "output_type": "stream",
     "text": [
      "Exists: 100%|██████████| 1/1 [00:01<00:00,  1.01s/it]\n",
      "Decoding Mesh Buffer: 100%|██████████| 1/1 [00:00<?, ?it/s]\n"
     ]
    },
    {
     "name": "stdout",
     "output_type": "stream",
     "text": [
      "completed 844 of 948\n"
     ]
    },
    {
     "name": "stderr",
     "output_type": "stream",
     "text": [
      "Exists: 100%|██████████| 1/1 [00:00<00:00,  1.13it/s]\n",
      "Decoding Mesh Buffer: 100%|██████████| 1/1 [00:00<?, ?it/s]\n"
     ]
    },
    {
     "name": "stdout",
     "output_type": "stream",
     "text": [
      "completed 845 of 948\n"
     ]
    },
    {
     "name": "stderr",
     "output_type": "stream",
     "text": [
      "Exists: 100%|██████████| 1/1 [00:00<00:00,  1.14it/s]\n",
      "Decoding Mesh Buffer: 100%|██████████| 1/1 [00:00<00:00, 975.42it/s]\n"
     ]
    },
    {
     "name": "stdout",
     "output_type": "stream",
     "text": [
      "completed 846 of 948\n"
     ]
    },
    {
     "name": "stderr",
     "output_type": "stream",
     "text": [
      "Exists: 100%|██████████| 1/1 [00:00<00:00,  1.17it/s]\n",
      "Decoding Mesh Buffer: 100%|██████████| 1/1 [00:00<?, ?it/s]\n"
     ]
    },
    {
     "name": "stdout",
     "output_type": "stream",
     "text": [
      "completed 847 of 948\n"
     ]
    },
    {
     "name": "stderr",
     "output_type": "stream",
     "text": [
      "Exists: 100%|██████████| 1/1 [00:00<00:00,  1.18it/s]\n",
      "Decoding Mesh Buffer: 100%|██████████| 1/1 [00:00<?, ?it/s]\n"
     ]
    },
    {
     "name": "stdout",
     "output_type": "stream",
     "text": [
      "completed 848 of 948\n"
     ]
    },
    {
     "name": "stderr",
     "output_type": "stream",
     "text": [
      "Exists: 100%|██████████| 1/1 [00:00<00:00,  1.04it/s]\n",
      "Decoding Mesh Buffer: 100%|██████████| 1/1 [00:00<00:00, 1000.31it/s]\n"
     ]
    },
    {
     "name": "stdout",
     "output_type": "stream",
     "text": [
      "completed 849 of 948\n"
     ]
    },
    {
     "name": "stderr",
     "output_type": "stream",
     "text": [
      "Exists: 100%|██████████| 1/1 [00:00<00:00,  1.07it/s]\n",
      "Decoding Mesh Buffer: 100%|██████████| 1/1 [00:00<00:00, 1000.07it/s]\n"
     ]
    },
    {
     "name": "stdout",
     "output_type": "stream",
     "text": [
      "completed 850 of 948\n"
     ]
    },
    {
     "name": "stderr",
     "output_type": "stream",
     "text": [
      "Exists: 100%|██████████| 1/1 [00:01<00:00,  1.01s/it]\n",
      "Decoding Mesh Buffer: 100%|██████████| 1/1 [00:00<00:00, 744.20it/s]\n"
     ]
    },
    {
     "name": "stdout",
     "output_type": "stream",
     "text": [
      "completed 851 of 948\n"
     ]
    },
    {
     "name": "stderr",
     "output_type": "stream",
     "text": [
      "Exists: 100%|██████████| 1/1 [00:00<00:00,  1.11it/s]\n",
      "Decoding Mesh Buffer: 100%|██████████| 1/1 [00:00<?, ?it/s]\n"
     ]
    },
    {
     "name": "stdout",
     "output_type": "stream",
     "text": [
      "completed 852 of 948\n"
     ]
    },
    {
     "name": "stderr",
     "output_type": "stream",
     "text": [
      "Exists: 100%|██████████| 1/1 [00:01<00:00,  1.24s/it]\n",
      "Decoding Mesh Buffer: 100%|██████████| 1/1 [00:00<00:00, 1063.46it/s]\n"
     ]
    },
    {
     "name": "stdout",
     "output_type": "stream",
     "text": [
      "completed 853 of 948\n"
     ]
    },
    {
     "name": "stderr",
     "output_type": "stream",
     "text": [
      "Exists: 100%|██████████| 1/1 [00:00<00:00,  1.16it/s]\n",
      "Decoding Mesh Buffer: 100%|██████████| 1/1 [00:00<?, ?it/s]\n"
     ]
    },
    {
     "name": "stdout",
     "output_type": "stream",
     "text": [
      "completed 854 of 948\n"
     ]
    },
    {
     "name": "stderr",
     "output_type": "stream",
     "text": [
      "Exists: 100%|██████████| 1/1 [00:00<00:00,  1.15it/s]\n",
      "Decoding Mesh Buffer: 100%|██████████| 1/1 [00:00<?, ?it/s]\n"
     ]
    },
    {
     "name": "stdout",
     "output_type": "stream",
     "text": [
      "completed 855 of 948\n"
     ]
    },
    {
     "name": "stderr",
     "output_type": "stream",
     "text": [
      "Exists: 100%|██████████| 1/1 [00:00<00:00,  1.15it/s]\n",
      "Decoding Mesh Buffer: 100%|██████████| 1/1 [00:00<?, ?it/s]\n"
     ]
    },
    {
     "name": "stdout",
     "output_type": "stream",
     "text": [
      "completed 856 of 948\n"
     ]
    },
    {
     "name": "stderr",
     "output_type": "stream",
     "text": [
      "Exists: 100%|██████████| 1/1 [00:00<00:00,  1.08it/s]\n",
      "Decoding Mesh Buffer: 100%|██████████| 1/1 [00:00<00:00, 1986.88it/s]\n"
     ]
    },
    {
     "name": "stdout",
     "output_type": "stream",
     "text": [
      "completed 857 of 948\n"
     ]
    },
    {
     "name": "stderr",
     "output_type": "stream",
     "text": [
      "Exists: 100%|██████████| 1/1 [00:00<00:00,  1.07it/s]\n",
      "Decoding Mesh Buffer: 100%|██████████| 1/1 [00:00<?, ?it/s]\n"
     ]
    },
    {
     "name": "stdout",
     "output_type": "stream",
     "text": [
      "completed 858 of 948\n"
     ]
    },
    {
     "name": "stderr",
     "output_type": "stream",
     "text": [
      "Exists: 100%|██████████| 1/1 [00:00<00:00,  1.15it/s]\n",
      "Decoding Mesh Buffer: 100%|██████████| 1/1 [00:00<?, ?it/s]\n"
     ]
    },
    {
     "name": "stdout",
     "output_type": "stream",
     "text": [
      "completed 859 of 948\n"
     ]
    },
    {
     "name": "stderr",
     "output_type": "stream",
     "text": [
      "Exists: 100%|██████████| 1/1 [00:00<00:00,  1.14it/s]\n",
      "Decoding Mesh Buffer: 100%|██████████| 1/1 [00:00<?, ?it/s]\n"
     ]
    },
    {
     "name": "stdout",
     "output_type": "stream",
     "text": [
      "completed 860 of 948\n"
     ]
    },
    {
     "name": "stderr",
     "output_type": "stream",
     "text": [
      "Exists: 100%|██████████| 1/1 [00:00<00:00,  1.13it/s]\n",
      "Decoding Mesh Buffer: 100%|██████████| 1/1 [00:00<?, ?it/s]\n"
     ]
    },
    {
     "name": "stdout",
     "output_type": "stream",
     "text": [
      "completed 861 of 948\n"
     ]
    },
    {
     "name": "stderr",
     "output_type": "stream",
     "text": [
      "Exists: 100%|██████████| 1/1 [00:00<00:00,  1.14it/s]\n",
      "Decoding Mesh Buffer: 100%|██████████| 1/1 [00:00<?, ?it/s]\n"
     ]
    },
    {
     "name": "stdout",
     "output_type": "stream",
     "text": [
      "completed 862 of 948\n"
     ]
    },
    {
     "name": "stderr",
     "output_type": "stream",
     "text": [
      "Exists: 100%|██████████| 1/1 [00:00<00:00,  1.03it/s]\n",
      "Decoding Mesh Buffer: 100%|██████████| 1/1 [00:00<?, ?it/s]\n"
     ]
    },
    {
     "name": "stdout",
     "output_type": "stream",
     "text": [
      "completed 863 of 948\n"
     ]
    },
    {
     "name": "stderr",
     "output_type": "stream",
     "text": [
      "Exists: 100%|██████████| 1/1 [00:00<00:00,  1.15it/s]\n",
      "Decoding Mesh Buffer: 100%|██████████| 2/2 [00:00<00:00, 2004.93it/s]\n"
     ]
    },
    {
     "name": "stdout",
     "output_type": "stream",
     "text": [
      "completed 864 of 948\n"
     ]
    },
    {
     "name": "stderr",
     "output_type": "stream",
     "text": [
      "Exists: 100%|██████████| 1/1 [00:01<00:00,  1.13s/it]\n",
      "Decoding Mesh Buffer: 100%|██████████| 2/2 [00:00<?, ?it/s]\n"
     ]
    },
    {
     "name": "stdout",
     "output_type": "stream",
     "text": [
      "completed 865 of 948\n"
     ]
    },
    {
     "name": "stderr",
     "output_type": "stream",
     "text": [
      "Exists: 100%|██████████| 1/1 [00:01<00:00,  1.01s/it]\n",
      "Decoding Mesh Buffer: 100%|██████████| 2/2 [00:00<?, ?it/s]\n"
     ]
    },
    {
     "name": "stdout",
     "output_type": "stream",
     "text": [
      "completed 866 of 948\n"
     ]
    },
    {
     "name": "stderr",
     "output_type": "stream",
     "text": [
      "Exists: 100%|██████████| 1/1 [00:00<00:00,  1.13it/s]\n",
      "Decoding Mesh Buffer: 100%|██████████| 1/1 [00:00<?, ?it/s]\n"
     ]
    },
    {
     "name": "stdout",
     "output_type": "stream",
     "text": [
      "completed 867 of 948\n"
     ]
    },
    {
     "name": "stderr",
     "output_type": "stream",
     "text": [
      "Exists: 100%|██████████| 1/1 [00:00<00:00,  1.14it/s]\n",
      "Decoding Mesh Buffer: 100%|██████████| 2/2 [00:00<?, ?it/s]\n"
     ]
    },
    {
     "name": "stdout",
     "output_type": "stream",
     "text": [
      "completed 868 of 948\n"
     ]
    },
    {
     "name": "stderr",
     "output_type": "stream",
     "text": [
      "Exists: 100%|██████████| 1/1 [00:00<00:00,  1.15it/s]\n",
      "Decoding Mesh Buffer: 100%|██████████| 1/1 [00:00<?, ?it/s]\n"
     ]
    },
    {
     "name": "stdout",
     "output_type": "stream",
     "text": [
      "completed 869 of 948\n"
     ]
    },
    {
     "name": "stderr",
     "output_type": "stream",
     "text": [
      "Exists: 100%|██████████| 1/1 [00:00<00:00,  1.15it/s]\n",
      "Decoding Mesh Buffer: 100%|██████████| 1/1 [00:00<?, ?it/s]\n"
     ]
    },
    {
     "name": "stdout",
     "output_type": "stream",
     "text": [
      "completed 870 of 948\n"
     ]
    },
    {
     "name": "stderr",
     "output_type": "stream",
     "text": [
      "Exists: 100%|██████████| 1/1 [00:00<00:00,  1.14it/s]\n",
      "Decoding Mesh Buffer: 100%|██████████| 1/1 [00:00<?, ?it/s]\n"
     ]
    },
    {
     "name": "stdout",
     "output_type": "stream",
     "text": [
      "completed 871 of 948\n"
     ]
    },
    {
     "name": "stderr",
     "output_type": "stream",
     "text": [
      "Exists: 100%|██████████| 1/1 [00:01<00:00,  1.05s/it]\n",
      "Decoding Mesh Buffer: 100%|██████████| 1/1 [00:00<?, ?it/s]\n"
     ]
    },
    {
     "name": "stdout",
     "output_type": "stream",
     "text": [
      "completed 872 of 948\n"
     ]
    },
    {
     "name": "stderr",
     "output_type": "stream",
     "text": [
      "Exists: 100%|██████████| 1/1 [00:01<00:00,  1.01s/it]\n",
      "Decoding Mesh Buffer: 100%|██████████| 1/1 [00:00<00:00, 1000.79it/s]\n"
     ]
    },
    {
     "name": "stdout",
     "output_type": "stream",
     "text": [
      "completed 873 of 948\n"
     ]
    },
    {
     "name": "stderr",
     "output_type": "stream",
     "text": [
      "Exists: 100%|██████████| 1/1 [00:00<00:00,  1.15it/s]\n",
      "Decoding Mesh Buffer: 100%|██████████| 2/2 [00:00<00:00, 1990.65it/s]\n"
     ]
    },
    {
     "name": "stdout",
     "output_type": "stream",
     "text": [
      "completed 874 of 948\n"
     ]
    },
    {
     "name": "stderr",
     "output_type": "stream",
     "text": [
      "Exists: 100%|██████████| 1/1 [00:00<00:00,  1.13it/s]\n",
      "Decoding Mesh Buffer: 100%|██████████| 1/1 [00:00<?, ?it/s]\n"
     ]
    },
    {
     "name": "stdout",
     "output_type": "stream",
     "text": [
      "completed 875 of 948\n"
     ]
    },
    {
     "name": "stderr",
     "output_type": "stream",
     "text": [
      "Exists: 100%|██████████| 1/1 [00:01<00:00,  1.04s/it]\n",
      "Decoding Mesh Buffer: 100%|██████████| 1/1 [00:00<00:00, 1115.51it/s]\n"
     ]
    },
    {
     "name": "stdout",
     "output_type": "stream",
     "text": [
      "completed 876 of 948\n"
     ]
    },
    {
     "name": "stderr",
     "output_type": "stream",
     "text": [
      "Exists: 100%|██████████| 1/1 [00:01<00:00,  1.00s/it]\n",
      "Decoding Mesh Buffer: 100%|██████████| 1/1 [00:00<?, ?it/s]\n"
     ]
    },
    {
     "name": "stdout",
     "output_type": "stream",
     "text": [
      "completed 877 of 948\n"
     ]
    },
    {
     "name": "stderr",
     "output_type": "stream",
     "text": [
      "Exists: 100%|██████████| 1/1 [00:00<00:00,  1.15it/s]\n",
      "Decoding Mesh Buffer: 100%|██████████| 2/2 [00:00<?, ?it/s]\n"
     ]
    },
    {
     "name": "stdout",
     "output_type": "stream",
     "text": [
      "completed 878 of 948\n"
     ]
    },
    {
     "name": "stderr",
     "output_type": "stream",
     "text": [
      "Exists: 100%|██████████| 1/1 [00:00<00:00,  1.13it/s]\n",
      "Decoding Mesh Buffer: 100%|██████████| 1/1 [00:00<?, ?it/s]\n"
     ]
    },
    {
     "name": "stdout",
     "output_type": "stream",
     "text": [
      "completed 879 of 948\n"
     ]
    },
    {
     "name": "stderr",
     "output_type": "stream",
     "text": [
      "Exists: 100%|██████████| 1/1 [00:00<00:00,  1.16it/s]\n",
      "Decoding Mesh Buffer: 100%|██████████| 1/1 [00:00<?, ?it/s]\n"
     ]
    },
    {
     "name": "stdout",
     "output_type": "stream",
     "text": [
      "completed 880 of 948\n"
     ]
    },
    {
     "name": "stderr",
     "output_type": "stream",
     "text": [
      "Exists: 100%|██████████| 1/1 [00:00<00:00,  1.13it/s]\n",
      "Decoding Mesh Buffer: 100%|██████████| 1/1 [00:00<?, ?it/s]\n"
     ]
    },
    {
     "name": "stdout",
     "output_type": "stream",
     "text": [
      "completed 881 of 948\n"
     ]
    },
    {
     "name": "stderr",
     "output_type": "stream",
     "text": [
      "Exists: 100%|██████████| 1/1 [00:00<00:00,  1.17it/s]\n",
      "Decoding Mesh Buffer: 100%|██████████| 1/1 [00:00<00:00, 4262.50it/s]\n"
     ]
    },
    {
     "name": "stdout",
     "output_type": "stream",
     "text": [
      "completed 882 of 948\n"
     ]
    },
    {
     "name": "stderr",
     "output_type": "stream",
     "text": [
      "Exists: 100%|██████████| 1/1 [00:00<00:00,  1.15it/s]\n",
      "Decoding Mesh Buffer: 100%|██████████| 1/1 [00:00<?, ?it/s]\n"
     ]
    },
    {
     "name": "stdout",
     "output_type": "stream",
     "text": [
      "completed 883 of 948\n"
     ]
    },
    {
     "name": "stderr",
     "output_type": "stream",
     "text": [
      "Exists: 100%|██████████| 1/1 [00:00<00:00,  1.11it/s]\n",
      "Decoding Mesh Buffer: 100%|██████████| 1/1 [00:00<?, ?it/s]\n"
     ]
    },
    {
     "name": "stdout",
     "output_type": "stream",
     "text": [
      "completed 884 of 948\n"
     ]
    },
    {
     "name": "stderr",
     "output_type": "stream",
     "text": [
      "Exists: 100%|██████████| 1/1 [00:00<00:00,  1.16it/s]\n",
      "Decoding Mesh Buffer: 100%|██████████| 1/1 [00:00<?, ?it/s]\n"
     ]
    },
    {
     "name": "stdout",
     "output_type": "stream",
     "text": [
      "completed 885 of 948\n"
     ]
    },
    {
     "name": "stderr",
     "output_type": "stream",
     "text": [
      "Exists: 100%|██████████| 1/1 [00:00<00:00,  1.15it/s]\n",
      "Decoding Mesh Buffer: 100%|██████████| 1/1 [00:00<?, ?it/s]\n"
     ]
    },
    {
     "name": "stdout",
     "output_type": "stream",
     "text": [
      "completed 886 of 948\n"
     ]
    },
    {
     "name": "stderr",
     "output_type": "stream",
     "text": [
      "Exists: 100%|██████████| 1/1 [00:00<00:00,  1.15it/s]\n",
      "Decoding Mesh Buffer: 100%|██████████| 1/1 [00:00<?, ?it/s]\n"
     ]
    },
    {
     "name": "stdout",
     "output_type": "stream",
     "text": [
      "completed 887 of 948\n"
     ]
    },
    {
     "name": "stderr",
     "output_type": "stream",
     "text": [
      "Exists: 100%|██████████| 1/1 [00:00<00:00,  1.14it/s]\n",
      "Decoding Mesh Buffer: 100%|██████████| 1/1 [00:00<?, ?it/s]\n"
     ]
    },
    {
     "name": "stdout",
     "output_type": "stream",
     "text": [
      "completed 888 of 948\n"
     ]
    },
    {
     "name": "stderr",
     "output_type": "stream",
     "text": [
      "Exists: 100%|██████████| 1/1 [00:00<00:00,  1.17it/s]\n",
      "Decoding Mesh Buffer: 100%|██████████| 1/1 [00:00<?, ?it/s]\n"
     ]
    },
    {
     "name": "stdout",
     "output_type": "stream",
     "text": [
      "completed 889 of 948\n"
     ]
    },
    {
     "name": "stderr",
     "output_type": "stream",
     "text": [
      "Exists: 100%|██████████| 1/1 [00:00<00:00,  1.02it/s]\n",
      "Decoding Mesh Buffer: 100%|██████████| 1/1 [00:00<?, ?it/s]\n"
     ]
    },
    {
     "name": "stdout",
     "output_type": "stream",
     "text": [
      "completed 890 of 948\n"
     ]
    },
    {
     "name": "stderr",
     "output_type": "stream",
     "text": [
      "Exists: 100%|██████████| 1/1 [00:00<00:00,  1.15it/s]\n",
      "Decoding Mesh Buffer: 100%|██████████| 1/1 [00:00<00:00, 1048.84it/s]\n"
     ]
    },
    {
     "name": "stdout",
     "output_type": "stream",
     "text": [
      "completed 891 of 948\n"
     ]
    },
    {
     "name": "stderr",
     "output_type": "stream",
     "text": [
      "Exists: 100%|██████████| 1/1 [00:00<00:00,  1.13it/s]\n",
      "Decoding Mesh Buffer: 100%|██████████| 1/1 [00:00<?, ?it/s]\n"
     ]
    },
    {
     "name": "stdout",
     "output_type": "stream",
     "text": [
      "completed 892 of 948\n"
     ]
    },
    {
     "name": "stderr",
     "output_type": "stream",
     "text": [
      "Exists: 100%|██████████| 1/1 [00:00<00:00,  1.15it/s]\n",
      "Decoding Mesh Buffer: 100%|██████████| 1/1 [00:00<00:00, 1008.73it/s]\n"
     ]
    },
    {
     "name": "stdout",
     "output_type": "stream",
     "text": [
      "completed 893 of 948\n"
     ]
    },
    {
     "name": "stderr",
     "output_type": "stream",
     "text": [
      "Exists: 100%|██████████| 1/1 [00:00<00:00,  1.10it/s]\n",
      "Decoding Mesh Buffer: 100%|██████████| 1/1 [00:00<?, ?it/s]\n"
     ]
    },
    {
     "name": "stdout",
     "output_type": "stream",
     "text": [
      "completed 894 of 948\n"
     ]
    },
    {
     "name": "stderr",
     "output_type": "stream",
     "text": [
      "Exists: 100%|██████████| 1/1 [00:00<00:00,  1.15it/s]\n",
      "Decoding Mesh Buffer: 100%|██████████| 2/2 [00:00<00:00, 1979.38it/s]\n"
     ]
    },
    {
     "name": "stdout",
     "output_type": "stream",
     "text": [
      "completed 895 of 948\n"
     ]
    },
    {
     "name": "stderr",
     "output_type": "stream",
     "text": [
      "Exists: 100%|██████████| 1/1 [00:00<00:00,  1.13it/s]\n",
      "Decoding Mesh Buffer: 100%|██████████| 1/1 [00:00<?, ?it/s]\n"
     ]
    },
    {
     "name": "stdout",
     "output_type": "stream",
     "text": [
      "completed 896 of 948\n"
     ]
    },
    {
     "name": "stderr",
     "output_type": "stream",
     "text": [
      "Exists: 100%|██████████| 1/1 [00:00<00:00,  1.18it/s]\n",
      "Decoding Mesh Buffer: 100%|██████████| 1/1 [00:00<?, ?it/s]\n"
     ]
    },
    {
     "name": "stdout",
     "output_type": "stream",
     "text": [
      "completed 897 of 948\n"
     ]
    },
    {
     "name": "stderr",
     "output_type": "stream",
     "text": [
      "Exists: 100%|██████████| 1/1 [00:00<00:00,  1.11it/s]\n",
      "Decoding Mesh Buffer: 100%|██████████| 1/1 [00:00<?, ?it/s]\n"
     ]
    },
    {
     "name": "stdout",
     "output_type": "stream",
     "text": [
      "completed 898 of 948\n"
     ]
    },
    {
     "name": "stderr",
     "output_type": "stream",
     "text": [
      "Exists: 100%|██████████| 1/1 [00:00<00:00,  1.13it/s]\n",
      "Decoding Mesh Buffer: 100%|██████████| 1/1 [00:00<?, ?it/s]\n"
     ]
    },
    {
     "name": "stdout",
     "output_type": "stream",
     "text": [
      "completed 899 of 948\n"
     ]
    },
    {
     "name": "stderr",
     "output_type": "stream",
     "text": [
      "Exists: 100%|██████████| 1/1 [00:00<00:00,  1.15it/s]\n",
      "Decoding Mesh Buffer: 100%|██████████| 1/1 [00:00<?, ?it/s]\n"
     ]
    },
    {
     "name": "stdout",
     "output_type": "stream",
     "text": [
      "completed 900 of 948\n"
     ]
    },
    {
     "name": "stderr",
     "output_type": "stream",
     "text": [
      "Exists: 100%|██████████| 1/1 [00:00<00:00,  1.14it/s]\n",
      "Decoding Mesh Buffer: 100%|██████████| 1/1 [00:00<00:00, 1200.77it/s]\n"
     ]
    },
    {
     "name": "stdout",
     "output_type": "stream",
     "text": [
      "completed 901 of 948\n"
     ]
    },
    {
     "name": "stderr",
     "output_type": "stream",
     "text": [
      "Exists: 100%|██████████| 1/1 [00:00<00:00,  1.16it/s]\n",
      "Decoding Mesh Buffer: 100%|██████████| 1/1 [00:00<?, ?it/s]\n"
     ]
    },
    {
     "name": "stdout",
     "output_type": "stream",
     "text": [
      "completed 902 of 948\n"
     ]
    },
    {
     "name": "stderr",
     "output_type": "stream",
     "text": [
      "Exists: 100%|██████████| 1/1 [00:00<00:00,  1.12it/s]\n",
      "Decoding Mesh Buffer: 100%|██████████| 1/1 [00:00<?, ?it/s]\n"
     ]
    },
    {
     "name": "stdout",
     "output_type": "stream",
     "text": [
      "completed 903 of 948\n"
     ]
    },
    {
     "name": "stderr",
     "output_type": "stream",
     "text": [
      "Exists: 100%|██████████| 1/1 [00:00<00:00,  1.13it/s]\n",
      "Decoding Mesh Buffer: 100%|██████████| 1/1 [00:00<?, ?it/s]\n"
     ]
    },
    {
     "name": "stdout",
     "output_type": "stream",
     "text": [
      "completed 904 of 948\n"
     ]
    },
    {
     "name": "stderr",
     "output_type": "stream",
     "text": [
      "Exists: 100%|██████████| 1/1 [00:00<00:00,  1.13it/s]\n",
      "Decoding Mesh Buffer: 100%|██████████| 1/1 [00:00<?, ?it/s]\n"
     ]
    },
    {
     "name": "stdout",
     "output_type": "stream",
     "text": [
      "completed 905 of 948\n"
     ]
    },
    {
     "name": "stderr",
     "output_type": "stream",
     "text": [
      "Exists: 100%|██████████| 1/1 [00:00<00:00,  1.17it/s]\n",
      "Decoding Mesh Buffer: 100%|██████████| 1/1 [00:00<?, ?it/s]\n"
     ]
    },
    {
     "name": "stdout",
     "output_type": "stream",
     "text": [
      "completed 906 of 948\n"
     ]
    },
    {
     "name": "stderr",
     "output_type": "stream",
     "text": [
      "Exists: 100%|██████████| 1/1 [00:00<00:00,  1.09it/s]\n",
      "Decoding Mesh Buffer: 100%|██████████| 1/1 [00:00<?, ?it/s]\n"
     ]
    },
    {
     "name": "stdout",
     "output_type": "stream",
     "text": [
      "completed 907 of 948\n"
     ]
    },
    {
     "name": "stderr",
     "output_type": "stream",
     "text": [
      "Exists: 100%|██████████| 1/1 [00:00<00:00,  1.15it/s]\n",
      "Decoding Mesh Buffer: 100%|██████████| 1/1 [00:00<?, ?it/s]\n"
     ]
    },
    {
     "name": "stdout",
     "output_type": "stream",
     "text": [
      "completed 908 of 948\n"
     ]
    },
    {
     "name": "stderr",
     "output_type": "stream",
     "text": [
      "Exists: 100%|██████████| 1/1 [00:00<00:00,  1.14it/s]\n",
      "Decoding Mesh Buffer: 100%|██████████| 1/1 [00:00<00:00, 1071.62it/s]\n"
     ]
    },
    {
     "name": "stdout",
     "output_type": "stream",
     "text": [
      "completed 909 of 948\n"
     ]
    },
    {
     "name": "stderr",
     "output_type": "stream",
     "text": [
      "Exists: 100%|██████████| 1/1 [00:00<00:00,  1.14it/s]\n",
      "Decoding Mesh Buffer: 100%|██████████| 1/1 [00:00<?, ?it/s]\n"
     ]
    },
    {
     "name": "stdout",
     "output_type": "stream",
     "text": [
      "completed 910 of 948\n"
     ]
    },
    {
     "name": "stderr",
     "output_type": "stream",
     "text": [
      "Exists: 100%|██████████| 1/1 [00:00<00:00,  1.16it/s]\n",
      "Decoding Mesh Buffer: 100%|██████████| 2/2 [00:00<00:00, 1999.67it/s]\n"
     ]
    },
    {
     "name": "stdout",
     "output_type": "stream",
     "text": [
      "completed 911 of 948\n"
     ]
    },
    {
     "name": "stderr",
     "output_type": "stream",
     "text": [
      "Exists: 100%|██████████| 1/1 [00:00<00:00,  1.17it/s]\n",
      "Decoding Mesh Buffer: 100%|██████████| 1/1 [00:00<?, ?it/s]\n"
     ]
    },
    {
     "name": "stdout",
     "output_type": "stream",
     "text": [
      "completed 912 of 948\n"
     ]
    },
    {
     "name": "stderr",
     "output_type": "stream",
     "text": [
      "Exists: 100%|██████████| 1/1 [00:00<00:00,  1.14it/s]\n",
      "Decoding Mesh Buffer: 100%|██████████| 1/1 [00:00<?, ?it/s]\n"
     ]
    },
    {
     "name": "stdout",
     "output_type": "stream",
     "text": [
      "completed 913 of 948\n"
     ]
    },
    {
     "name": "stderr",
     "output_type": "stream",
     "text": [
      "Exists: 100%|██████████| 1/1 [00:00<00:00,  1.15it/s]\n",
      "Decoding Mesh Buffer: 100%|██████████| 1/1 [00:00<?, ?it/s]\n"
     ]
    },
    {
     "name": "stdout",
     "output_type": "stream",
     "text": [
      "completed 914 of 948\n"
     ]
    },
    {
     "name": "stderr",
     "output_type": "stream",
     "text": [
      "Exists: 100%|██████████| 1/1 [00:00<00:00,  1.18it/s]\n",
      "Decoding Mesh Buffer: 100%|██████████| 1/1 [00:00<?, ?it/s]\n"
     ]
    },
    {
     "name": "stdout",
     "output_type": "stream",
     "text": [
      "completed 915 of 948\n"
     ]
    },
    {
     "name": "stderr",
     "output_type": "stream",
     "text": [
      "Exists: 100%|██████████| 1/1 [00:00<00:00,  1.13it/s]\n",
      "Decoding Mesh Buffer: 100%|██████████| 1/1 [00:00<?, ?it/s]\n"
     ]
    },
    {
     "name": "stdout",
     "output_type": "stream",
     "text": [
      "completed 916 of 948\n"
     ]
    },
    {
     "name": "stderr",
     "output_type": "stream",
     "text": [
      "Exists: 100%|██████████| 1/1 [00:00<00:00,  1.13it/s]\n",
      "Decoding Mesh Buffer: 100%|██████████| 1/1 [00:00<?, ?it/s]\n"
     ]
    },
    {
     "name": "stdout",
     "output_type": "stream",
     "text": [
      "completed 917 of 948\n"
     ]
    },
    {
     "name": "stderr",
     "output_type": "stream",
     "text": [
      "Exists: 100%|██████████| 1/1 [00:00<00:00,  1.08it/s]\n",
      "Decoding Mesh Buffer: 100%|██████████| 1/1 [00:00<?, ?it/s]\n"
     ]
    },
    {
     "name": "stdout",
     "output_type": "stream",
     "text": [
      "completed 918 of 948\n"
     ]
    },
    {
     "name": "stderr",
     "output_type": "stream",
     "text": [
      "Exists: 100%|██████████| 1/1 [00:00<00:00,  1.15it/s]\n",
      "Decoding Mesh Buffer: 100%|██████████| 2/2 [00:00<?, ?it/s]\n"
     ]
    },
    {
     "name": "stdout",
     "output_type": "stream",
     "text": [
      "completed 919 of 948\n"
     ]
    },
    {
     "name": "stderr",
     "output_type": "stream",
     "text": [
      "Exists: 100%|██████████| 1/1 [00:00<00:00,  1.03it/s]\n",
      "Decoding Mesh Buffer: 100%|██████████| 1/1 [00:00<00:00, 962.66it/s]\n"
     ]
    },
    {
     "name": "stdout",
     "output_type": "stream",
     "text": [
      "completed 920 of 948\n"
     ]
    },
    {
     "name": "stderr",
     "output_type": "stream",
     "text": [
      "Exists: 100%|██████████| 1/1 [00:00<00:00,  1.00it/s]\n",
      "Decoding Mesh Buffer: 100%|██████████| 1/1 [00:00<?, ?it/s]\n"
     ]
    },
    {
     "name": "stdout",
     "output_type": "stream",
     "text": [
      "completed 921 of 948\n"
     ]
    },
    {
     "name": "stderr",
     "output_type": "stream",
     "text": [
      "Exists: 100%|██████████| 1/1 [00:00<00:00,  1.15it/s]\n",
      "Decoding Mesh Buffer: 100%|██████████| 1/1 [00:00<00:00, 999.12it/s]\n"
     ]
    },
    {
     "name": "stdout",
     "output_type": "stream",
     "text": [
      "completed 922 of 948\n"
     ]
    },
    {
     "name": "stderr",
     "output_type": "stream",
     "text": [
      "Exists: 100%|██████████| 1/1 [00:00<00:00,  1.14it/s]\n",
      "Decoding Mesh Buffer: 100%|██████████| 1/1 [00:00<?, ?it/s]\n"
     ]
    },
    {
     "name": "stdout",
     "output_type": "stream",
     "text": [
      "completed 923 of 948\n"
     ]
    },
    {
     "name": "stderr",
     "output_type": "stream",
     "text": [
      "Exists: 100%|██████████| 1/1 [00:00<00:00,  1.14it/s]\n",
      "Decoding Mesh Buffer: 100%|██████████| 1/1 [00:00<00:00, 1051.99it/s]\n"
     ]
    },
    {
     "name": "stdout",
     "output_type": "stream",
     "text": [
      "completed 924 of 948\n"
     ]
    },
    {
     "name": "stderr",
     "output_type": "stream",
     "text": [
      "Exists: 100%|██████████| 1/1 [00:00<00:00,  1.14it/s]\n",
      "Decoding Mesh Buffer: 100%|██████████| 1/1 [00:00<?, ?it/s]\n"
     ]
    },
    {
     "name": "stdout",
     "output_type": "stream",
     "text": [
      "completed 925 of 948\n"
     ]
    },
    {
     "name": "stderr",
     "output_type": "stream",
     "text": [
      "Exists: 100%|██████████| 1/1 [00:00<00:00,  1.13it/s]\n",
      "Decoding Mesh Buffer: 100%|██████████| 1/1 [00:00<00:00, 1690.57it/s]\n"
     ]
    },
    {
     "name": "stdout",
     "output_type": "stream",
     "text": [
      "completed 926 of 948\n"
     ]
    },
    {
     "name": "stderr",
     "output_type": "stream",
     "text": [
      "Exists: 100%|██████████| 1/1 [00:00<00:00,  1.14it/s]\n",
      "Decoding Mesh Buffer: 100%|██████████| 1/1 [00:00<?, ?it/s]\n"
     ]
    },
    {
     "name": "stdout",
     "output_type": "stream",
     "text": [
      "completed 927 of 948\n"
     ]
    },
    {
     "name": "stderr",
     "output_type": "stream",
     "text": [
      "Exists: 100%|██████████| 1/1 [00:00<00:00,  1.15it/s]\n",
      "Decoding Mesh Buffer: 100%|██████████| 1/1 [00:00<?, ?it/s]\n"
     ]
    },
    {
     "name": "stdout",
     "output_type": "stream",
     "text": [
      "completed 928 of 948\n"
     ]
    },
    {
     "name": "stderr",
     "output_type": "stream",
     "text": [
      "Exists: 100%|██████████| 1/1 [00:00<00:00,  1.00it/s]\n",
      "Decoding Mesh Buffer: 100%|██████████| 1/1 [00:00<?, ?it/s]\n"
     ]
    },
    {
     "name": "stdout",
     "output_type": "stream",
     "text": [
      "completed 929 of 948\n"
     ]
    },
    {
     "name": "stderr",
     "output_type": "stream",
     "text": [
      "Exists: 100%|██████████| 1/1 [00:00<00:00,  1.16it/s]\n",
      "Decoding Mesh Buffer: 100%|██████████| 2/2 [00:00<?, ?it/s]\n"
     ]
    },
    {
     "name": "stdout",
     "output_type": "stream",
     "text": [
      "completed 930 of 948\n"
     ]
    },
    {
     "name": "stderr",
     "output_type": "stream",
     "text": [
      "Exists: 100%|██████████| 1/1 [00:00<00:00,  1.05it/s]\n",
      "Decoding Mesh Buffer: 100%|██████████| 1/1 [00:00<00:00, 660.00it/s]\n"
     ]
    },
    {
     "name": "stdout",
     "output_type": "stream",
     "text": [
      "completed 931 of 948\n"
     ]
    },
    {
     "name": "stderr",
     "output_type": "stream",
     "text": [
      "Exists: 100%|██████████| 1/1 [00:00<00:00,  1.14it/s]\n",
      "Decoding Mesh Buffer: 100%|██████████| 1/1 [00:00<?, ?it/s]\n"
     ]
    },
    {
     "name": "stdout",
     "output_type": "stream",
     "text": [
      "completed 932 of 948\n"
     ]
    },
    {
     "name": "stderr",
     "output_type": "stream",
     "text": [
      "Exists: 100%|██████████| 1/1 [00:00<00:00,  1.11it/s]\n",
      "Decoding Mesh Buffer: 100%|██████████| 1/1 [00:00<?, ?it/s]\n"
     ]
    },
    {
     "name": "stdout",
     "output_type": "stream",
     "text": [
      "completed 933 of 948\n"
     ]
    },
    {
     "name": "stderr",
     "output_type": "stream",
     "text": [
      "Exists: 100%|██████████| 1/1 [00:00<00:00,  1.16it/s]\n",
      "Decoding Mesh Buffer: 100%|██████████| 1/1 [00:00<?, ?it/s]\n"
     ]
    },
    {
     "name": "stdout",
     "output_type": "stream",
     "text": [
      "completed 934 of 948\n"
     ]
    },
    {
     "name": "stderr",
     "output_type": "stream",
     "text": [
      "Exists: 100%|██████████| 1/1 [00:00<00:00,  1.13it/s]\n",
      "Decoding Mesh Buffer: 100%|██████████| 1/1 [00:00<?, ?it/s]\n"
     ]
    },
    {
     "name": "stdout",
     "output_type": "stream",
     "text": [
      "completed 935 of 948\n"
     ]
    },
    {
     "name": "stderr",
     "output_type": "stream",
     "text": [
      "Exists: 100%|██████████| 1/1 [00:00<00:00,  1.17it/s]\n",
      "Decoding Mesh Buffer: 100%|██████████| 1/1 [00:00<?, ?it/s]\n"
     ]
    },
    {
     "name": "stdout",
     "output_type": "stream",
     "text": [
      "completed 936 of 948\n"
     ]
    },
    {
     "name": "stderr",
     "output_type": "stream",
     "text": [
      "Exists: 100%|██████████| 1/1 [00:00<00:00,  1.11it/s]\n",
      "Decoding Mesh Buffer: 100%|██████████| 1/1 [00:00<00:00, 993.91it/s]\n"
     ]
    },
    {
     "name": "stdout",
     "output_type": "stream",
     "text": [
      "completed 937 of 948\n"
     ]
    },
    {
     "name": "stderr",
     "output_type": "stream",
     "text": [
      "Exists: 100%|██████████| 1/1 [00:00<00:00,  1.12it/s]\n",
      "Decoding Mesh Buffer: 100%|██████████| 1/1 [00:00<?, ?it/s]\n"
     ]
    },
    {
     "name": "stdout",
     "output_type": "stream",
     "text": [
      "completed 938 of 948\n"
     ]
    },
    {
     "name": "stderr",
     "output_type": "stream",
     "text": [
      "Exists: 100%|██████████| 1/1 [00:00<00:00,  1.12it/s]\n",
      "Decoding Mesh Buffer: 100%|██████████| 1/1 [00:00<?, ?it/s]\n"
     ]
    },
    {
     "name": "stdout",
     "output_type": "stream",
     "text": [
      "completed 939 of 948\n"
     ]
    },
    {
     "name": "stderr",
     "output_type": "stream",
     "text": [
      "Exists: 100%|██████████| 1/1 [00:00<00:00,  1.15it/s]\n",
      "Decoding Mesh Buffer: 100%|██████████| 1/1 [00:00<00:00, 569.57it/s]\n"
     ]
    },
    {
     "name": "stdout",
     "output_type": "stream",
     "text": [
      "completed 940 of 948\n"
     ]
    },
    {
     "name": "stderr",
     "output_type": "stream",
     "text": [
      "Exists: 100%|██████████| 1/1 [00:00<00:00,  1.01it/s]\n",
      "Decoding Mesh Buffer: 100%|██████████| 1/1 [00:00<?, ?it/s]\n"
     ]
    },
    {
     "name": "stdout",
     "output_type": "stream",
     "text": [
      "completed 941 of 948\n"
     ]
    },
    {
     "name": "stderr",
     "output_type": "stream",
     "text": [
      "Exists: 100%|██████████| 1/1 [00:00<00:00,  1.01it/s]\n",
      "Decoding Mesh Buffer: 100%|██████████| 2/2 [00:00<?, ?it/s]\n"
     ]
    },
    {
     "name": "stdout",
     "output_type": "stream",
     "text": [
      "completed 942 of 948\n"
     ]
    },
    {
     "name": "stderr",
     "output_type": "stream",
     "text": [
      "Exists: 100%|██████████| 1/1 [00:00<00:00,  1.14it/s]\n",
      "Decoding Mesh Buffer: 100%|██████████| 1/1 [00:00<?, ?it/s]\n"
     ]
    },
    {
     "name": "stdout",
     "output_type": "stream",
     "text": [
      "completed 943 of 948\n"
     ]
    },
    {
     "name": "stderr",
     "output_type": "stream",
     "text": [
      "Exists: 100%|██████████| 1/1 [00:01<00:00,  1.11s/it]\n",
      "Decoding Mesh Buffer: 100%|██████████| 1/1 [00:00<?, ?it/s]\n"
     ]
    },
    {
     "name": "stdout",
     "output_type": "stream",
     "text": [
      "completed 944 of 948\n"
     ]
    },
    {
     "name": "stderr",
     "output_type": "stream",
     "text": [
      "Exists: 100%|██████████| 1/1 [00:00<00:00,  1.13it/s]\n",
      "Decoding Mesh Buffer: 100%|██████████| 1/1 [00:00<?, ?it/s]\n"
     ]
    },
    {
     "name": "stdout",
     "output_type": "stream",
     "text": [
      "completed 945 of 948\n"
     ]
    },
    {
     "name": "stderr",
     "output_type": "stream",
     "text": [
      "Exists: 100%|██████████| 1/1 [00:00<00:00,  1.15it/s]\n",
      "Decoding Mesh Buffer: 100%|██████████| 1/1 [00:00<?, ?it/s]\n"
     ]
    },
    {
     "name": "stdout",
     "output_type": "stream",
     "text": [
      "completed 946 of 948\n"
     ]
    },
    {
     "name": "stderr",
     "output_type": "stream",
     "text": [
      "Exists: 100%|██████████| 1/1 [00:00<00:00,  1.14it/s]\n",
      "Decoding Mesh Buffer: 100%|██████████| 1/1 [00:00<?, ?it/s]"
     ]
    },
    {
     "name": "stdout",
     "output_type": "stream",
     "text": [
      "completed 947 of 948\n"
     ]
    },
    {
     "name": "stderr",
     "output_type": "stream",
     "text": [
      "\n"
     ]
    }
   ],
   "source": [
    "for i in range(len(mitodf_mitoid_list)):\n",
    "    mito_id = mitodf_mitoid_list[i]\n",
    "    mito_seg_id = mito_id\n",
    "    mito_downloadmesh = mito_mm.mesh(seg_id = mito_seg_id, remove_duplicate_vertices=True)\n",
    "    print(f'completed ' + str(i) + ' of ' + str(len(mitodf_mitoid_list)))"
   ]
  },
  {
   "cell_type": "code",
   "execution_count": null,
   "id": "b441b9c3",
   "metadata": {},
   "outputs": [],
   "source": []
  }
 ],
 "metadata": {
  "kernelspec": {
   "display_name": "Python 3 (ipykernel)",
   "language": "python",
   "name": "python3"
  },
  "language_info": {
   "codemirror_mode": {
    "name": "ipython",
    "version": 3
   },
   "file_extension": ".py",
   "mimetype": "text/x-python",
   "name": "python",
   "nbconvert_exporter": "python",
   "pygments_lexer": "ipython3",
   "version": "3.7.12"
  }
 },
 "nbformat": 4,
 "nbformat_minor": 5
}
