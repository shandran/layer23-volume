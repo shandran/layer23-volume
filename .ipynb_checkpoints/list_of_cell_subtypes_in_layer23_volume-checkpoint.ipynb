{
 "cells": [
  {
   "cell_type": "code",
   "execution_count": 1,
   "id": "b3d23504",
   "metadata": {},
   "outputs": [],
   "source": [
    "import pandas as pd"
   ]
  },
  {
   "cell_type": "code",
   "execution_count": 2,
   "id": "9c50858f",
   "metadata": {},
   "outputs": [
    {
     "data": {
      "text/html": [
       "<div>\n",
       "<style scoped>\n",
       "    .dataframe tbody tr th:only-of-type {\n",
       "        vertical-align: middle;\n",
       "    }\n",
       "\n",
       "    .dataframe tbody tr th {\n",
       "        vertical-align: top;\n",
       "    }\n",
       "\n",
       "    .dataframe thead th {\n",
       "        text-align: right;\n",
       "    }\n",
       "</style>\n",
       "<table border=\"1\" class=\"dataframe\">\n",
       "  <thead>\n",
       "    <tr style=\"text-align: right;\">\n",
       "      <th></th>\n",
       "      <th>centroid_x</th>\n",
       "      <th>centroid_y</th>\n",
       "      <th>centroid_z</th>\n",
       "      <th>cell_segid</th>\n",
       "      <th>cell_type</th>\n",
       "      <th>cell_subtype</th>\n",
       "    </tr>\n",
       "  </thead>\n",
       "  <tbody>\n",
       "    <tr>\n",
       "      <th>1</th>\n",
       "      <td>41760</td>\n",
       "      <td>60256</td>\n",
       "      <td>1702</td>\n",
       "      <td>648518346349538237</td>\n",
       "      <td>pyramidal</td>\n",
       "      <td>pyramidal cell</td>\n",
       "    </tr>\n",
       "    <tr>\n",
       "      <th>2</th>\n",
       "      <td>98128</td>\n",
       "      <td>39856</td>\n",
       "      <td>218</td>\n",
       "      <td>648518346349536816</td>\n",
       "      <td>pyramidal</td>\n",
       "      <td>pyramidal cell</td>\n",
       "    </tr>\n",
       "    <tr>\n",
       "      <th>3</th>\n",
       "      <td>51248</td>\n",
       "      <td>50608</td>\n",
       "      <td>86</td>\n",
       "      <td>648518346349539797</td>\n",
       "      <td>pyramidal</td>\n",
       "      <td>pyramidal cell</td>\n",
       "    </tr>\n",
       "    <tr>\n",
       "      <th>5</th>\n",
       "      <td>115392</td>\n",
       "      <td>47136</td>\n",
       "      <td>617</td>\n",
       "      <td>648518346349536744</td>\n",
       "      <td>pyramidal</td>\n",
       "      <td>pyramidal cell</td>\n",
       "    </tr>\n",
       "    <tr>\n",
       "      <th>6</th>\n",
       "      <td>104928</td>\n",
       "      <td>72496</td>\n",
       "      <td>1448</td>\n",
       "      <td>648518346349536851</td>\n",
       "      <td>pyramidal</td>\n",
       "      <td>pyramidal cell</td>\n",
       "    </tr>\n",
       "    <tr>\n",
       "      <th>...</th>\n",
       "      <td>...</td>\n",
       "      <td>...</td>\n",
       "      <td>...</td>\n",
       "      <td>...</td>\n",
       "      <td>...</td>\n",
       "      <td>...</td>\n",
       "    </tr>\n",
       "    <tr>\n",
       "      <th>68</th>\n",
       "      <td>107312</td>\n",
       "      <td>43552</td>\n",
       "      <td>2160</td>\n",
       "      <td>648518346349375478</td>\n",
       "      <td>vasculature</td>\n",
       "      <td>endothelial</td>\n",
       "    </tr>\n",
       "    <tr>\n",
       "      <th>69</th>\n",
       "      <td>104752</td>\n",
       "      <td>40768</td>\n",
       "      <td>878</td>\n",
       "      <td>648518346349061101</td>\n",
       "      <td>vasculature</td>\n",
       "      <td>endothelial</td>\n",
       "    </tr>\n",
       "    <tr>\n",
       "      <th>70</th>\n",
       "      <td>104464</td>\n",
       "      <td>40784</td>\n",
       "      <td>1867</td>\n",
       "      <td>648518346349375478</td>\n",
       "      <td>vasculature</td>\n",
       "      <td>endothelial</td>\n",
       "    </tr>\n",
       "    <tr>\n",
       "      <th>71</th>\n",
       "      <td>97377</td>\n",
       "      <td>38012</td>\n",
       "      <td>1145</td>\n",
       "      <td>648518346349375478</td>\n",
       "      <td>vasculature</td>\n",
       "      <td>endothelial</td>\n",
       "    </tr>\n",
       "    <tr>\n",
       "      <th>72</th>\n",
       "      <td>89216</td>\n",
       "      <td>38976</td>\n",
       "      <td>873</td>\n",
       "      <td>648518346349526102</td>\n",
       "      <td>vasculature</td>\n",
       "      <td>endothelial</td>\n",
       "    </tr>\n",
       "  </tbody>\n",
       "</table>\n",
       "<p>619 rows × 6 columns</p>\n",
       "</div>"
      ],
      "text/plain": [
       "    centroid_x  centroid_y  centroid_z          cell_segid    cell_type  \\\n",
       "1        41760       60256        1702  648518346349538237    pyramidal   \n",
       "2        98128       39856         218  648518346349536816    pyramidal   \n",
       "3        51248       50608          86  648518346349539797    pyramidal   \n",
       "5       115392       47136         617  648518346349536744    pyramidal   \n",
       "6       104928       72496        1448  648518346349536851    pyramidal   \n",
       "..         ...         ...         ...                 ...          ...   \n",
       "68      107312       43552        2160  648518346349375478  vasculature   \n",
       "69      104752       40768         878  648518346349061101  vasculature   \n",
       "70      104464       40784        1867  648518346349375478  vasculature   \n",
       "71       97377       38012        1145  648518346349375478  vasculature   \n",
       "72       89216       38976         873  648518346349526102  vasculature   \n",
       "\n",
       "      cell_subtype  \n",
       "1   pyramidal cell  \n",
       "2   pyramidal cell  \n",
       "3   pyramidal cell  \n",
       "5   pyramidal cell  \n",
       "6   pyramidal cell  \n",
       "..             ...  \n",
       "68     endothelial  \n",
       "69     endothelial  \n",
       "70     endothelial  \n",
       "71     endothelial  \n",
       "72     endothelial  \n",
       "\n",
       "[619 rows x 6 columns]"
      ]
     },
     "execution_count": 2,
     "metadata": {},
     "output_type": "execute_result"
    }
   ],
   "source": [
    "# This is a curated dataframe of 619 cells in the Layer 2/3 volume\n",
    "# The file can be downloaded here: https://zenodo.org/record/6363348/files/220309_cell_type_classification.csv?download=1\n",
    "\n",
    "cellsubtypes = pd.read_csv(\"data/220309_cell_type_classification.csv\", index_col=[0])\n",
    "cellsubtypes"
   ]
  },
  {
   "cell_type": "code",
   "execution_count": 3,
   "id": "9323d543",
   "metadata": {},
   "outputs": [
    {
     "data": {
      "text/plain": [
       "648518346349526102    50\n",
       "648518346348121670     4\n",
       "648518346349375478     4\n",
       "648518346348189552     2\n",
       "648518346349537991     1\n",
       "                      ..\n",
       "648518346349539110     1\n",
       "648518346349532086     1\n",
       "648518346349530300     1\n",
       "648518346349537853     1\n",
       "648518346349061101     1\n",
       "Name: cell_segid, Length: 563, dtype: int64"
      ]
     },
     "execution_count": 3,
     "metadata": {},
     "output_type": "execute_result"
    }
   ],
   "source": [
    "# Show the cases that where multiple cells are associated with the same cellid\n",
    "cellsubtypes[\"cell_segid\"].value_counts()"
   ]
  },
  {
   "cell_type": "code",
   "execution_count": 4,
   "id": "48a0365d",
   "metadata": {},
   "outputs": [
    {
     "data": {
      "text/plain": [
       "pyramidal cell                                                     416\n",
       "endothelial                                                         71\n",
       "astrocyte                                                           44\n",
       "microglia                                                           28\n",
       "unknown_type                                                        18\n",
       "OPC                                                                 14\n",
       "bipolar                                                             12\n",
       "basket                                                               4\n",
       "chandelier                                                           2\n",
       "oligodendrocyte                                                      2\n",
       "microglia (perivascular)                                             2\n",
       "neurogliaform                                                        1\n",
       "martinotti                                                           1\n",
       "OPC (pericyte type)                                                  1\n",
       "unknown (at edge of volume)                                          1\n",
       "microglia (merged with nucleus of astrocyte 648518346349536799)      1\n",
       "pericyte                                                             1\n",
       "Name: cell_subtype, dtype: int64"
      ]
     },
     "execution_count": 4,
     "metadata": {},
     "output_type": "execute_result"
    }
   ],
   "source": [
    "# show number of each cell subtype\n",
    "cellsubtypes[\"cell_subtype\"].value_counts()"
   ]
  },
  {
   "cell_type": "markdown",
   "id": "91f29b51",
   "metadata": {},
   "source": [
    "# cells in volume identified as \"pyramidal cell\""
   ]
  },
  {
   "cell_type": "code",
   "execution_count": 5,
   "id": "36123563",
   "metadata": {
    "scrolled": true
   },
   "outputs": [
    {
     "name": "stdout",
     "output_type": "stream",
     "text": [
      "416\n",
      "416\n",
      "[648518346349538237, 648518346349536816, 648518346349539797, 648518346349536744, 648518346349536851, 648518346349522862, 648518346349529341, 648518346349530521, 648518346341382533, 648518346349492130, 648518346349531834, 648518346349537400, 648518346349528749, 648518346349532050, 648518346349538475, 648518346349538733, 648518346349530766, 648518346349537071, 648518346349528913, 648518346349535286, 648518346349523129, 648518346349533252, 648518346349524933, 648518346349539891, 648518346349538001, 648518346349539414, 648518346349525861, 648518346349492197, 648518346349536478, 648518346349511899, 648518346349539895, 648518346349539462, 648518346349537916, 648518346349528248, 648518346349538251, 648518346349539068, 648518346349539593, 648518346349537913, 648518346349538254, 648518346349537827, 648518346349539437, 648518346349538312, 648518346349539890, 648518346349539819, 648518346349535007, 648518346349526227, 648518346349539093, 648518346349531327, 648518346349538391, 648518346349539863, 648518346349539844, 648518346349539471, 648518346349538414, 648518346349539864, 648518346349530177, 648518346349522230, 648518346349534072, 648518346349539506, 648518346349537981, 648518346349539334, 648518346349539594, 648518346349532067, 648518346349539856, 648518346349525821, 648518346349529960, 648518346349536205, 648518346349535264, 648518346349535102, 648518346349523266, 648518346349517132, 648518346349529778, 648518346349538056, 648518346349539851, 648518346349494004, 648518346349538387, 648518346349539862, 648518346349539347, 648518346349505739, 648518346349535363, 648518346349538365, 648518346349538416, 648518346349537897, 648518346349539836, 648518346349539834, 648518346349539359, 648518346349539569, 648518346349525406, 648518346349537835, 648518346349538270, 648518346349523306, 648518346349539785, 648518346349537492, 648518346349537946, 648518346349526534, 648518346349528587, 648518346349534794, 648518346349537996, 648518346349523993, 648518346349539845, 648518346349535192, 648518346349529905, 648518346349537828, 648518346349537844, 648518346349538711, 648518346349537472, 648518346349538395, 648518346349538098, 648518346349533267, 648518346349539781, 648518346349525972, 648518346349539885, 648518346349537851, 648518346349528588, 648518346349536811, 648518346349537641, 648518346349537989, 648518346349539433, 648518346349540017, 648518346349538440, 648518346349538527, 648518346349493472, 648518346349539804, 648518346349534292, 648518346349529376, 648518346349537425, 648518346349531774, 648518346349536924, 648518346349539809, 648518346349536391, 648518346349539803, 648518346349538378, 648518346349537486, 648518346349536997, 648518346349536988, 648518346349539586, 648518346349539390, 648518346349537244, 648518346349540051, 648518346349537657, 648518346349534289, 648518346349526132, 648518346349538157, 648518346349539097, 648518346349531362, 648518346349539887, 648518346349477155, 648518346349539825, 648518346349539896, 648518346349529438, 648518346349539768, 648518346349539070, 648518346349538336, 648518346349537860, 648518346349531230, 648518346349539892, 648518346349523981, 648518346349525753, 648518346349520120, 648518346349538259, 648518346349538782, 648518346349539961, 648518346349538332, 648518346349533811, 648518346349536788, 648518346349535847, 648518346349538193, 648518346349539376, 648518346349527116, 648518346349538188, 648518346349539795, 648518346349538421, 648518346349537717, 648518346349525720, 648518346349534614, 648518346349523667, 648518346349536366, 648518346349539755, 648518346349493487, 648518346349537853, 648518346349530300, 648518346349532086, 648518346349539110, 648518346349538053, 648518346349539554, 648518346349539821, 648518346349526971, 648518346349534360, 648518346349538451, 648518346349528050, 648518346349536312, 648518346349536992, 648518346349539572, 648518346349535435, 648518346349539575, 648518346349538317, 648518346349533482, 648518346349530359, 648518346349538278, 648518346349539901, 648518346349536534, 648518346349539806, 648518346349537145, 648518346349538721, 648518346349538100, 648518346349538462, 648518346349533350, 648518346349538291, 648518346349529575, 648518346349538478, 648518346349539071, 648518346349523975, 648518346349538787, 648518346349538410, 648518346349527610, 648518346349538133, 648518346349538466, 648518346349539423, 648518346349531530, 648518346349537446, 648518346349537993, 648518346349539865, 648518346349537514, 648518346349539560, 648518346349537385, 648518346349538426, 648518346349538190, 648518346349539906, 648518346349537482, 648518346349539727, 648518346349539368, 648518346349536966, 648518346349493874, 648518346349538239, 648518346349494577, 648518346349539096, 648518346349539095, 648518346349539853, 648518346349539832, 648518346349537687, 648518346349540053, 648518346349531526, 648518346349538015, 648518346349523030, 648518346349539599, 648518346349523254, 648518346349537609, 648518346349539517, 648518346349537814, 648518346349539653, 648518346349537883, 648518346349539828, 648518346349537516, 648518346349537331, 648518346349537160, 648518346349537716, 648518346349536680, 648518346349537242, 648518346349537167, 648518346349534057, 648518346349536748, 648518346349528559, 648518346349527315, 648518346349537515, 648518346349532739, 648518346349532180, 648518346349539789, 648518346349537611, 648518346349537718, 648518346349539464, 648518346349539336, 648518346349527390, 648518346349539513, 648518346349536679, 648518346349524141, 648518346349537271, 648518346349535300, 648518346349537513, 648518346349539590, 648518346349531263, 648518346349537798, 648518346349536809, 648518346349528349, 648518346349538296, 648518346349537275, 648518346349539780, 648518346349532006, 648518346349535473, 648518346349539430, 648518346349537808, 648518346349537075, 648518346349538298, 648518346349525571, 648518346349537255, 648518346349537434, 648518346349537741, 648518346349539080, 648518346349537153, 648518346349534079, 648518346349538431, 648518346349537297, 648518346349537243, 648518346349537487, 648518346349531851, 648518346349491311, 648518346349537984, 648518346349523868, 648518346349531414, 648518346349538235, 648518346349538070, 648518346349536354, 648518346349535074, 648518346349507351, 648518346349537961, 648518346349537790, 648518346349538286, 648518346349532796, 648518346349537649, 648518346349533058, 648518346349531192, 648518346349536921, 648518346349539886, 648518346349492682, 648518346349538102, 648518346349539794, 648518346349537583, 648518346349539435, 648518346349538746, 648518346349524063, 648518346349537007, 648518346349537901, 648518346349540057, 648518346349539601, 648518346349538368, 648518346349531729, 648518346349539401, 648518346349539366, 648518346349530465, 648518346349537840, 648518346349539539, 648518346349538005, 648518346349538231, 648518346349539852, 648518346349531254, 648518346349527158, 648518346349537509, 648518346349534855, 648518346349536929, 648518346349536753, 648518346349533227, 648518346349534580, 648518346349537047, 648518346349533719, 648518346349537038, 648518346349537003, 648518346349537042, 648518346349539067, 648518346349496405, 648518346349521083, 648518346349538112, 648518346349538209, 648518346349539079, 648518346349539591, 648518346349537848, 648518346349537270, 648518346349537391, 648518346349539333, 648518346349532066, 648518346349537818, 648518346349540048, 648518346349536159, 648518346349537102, 648518346349538730, 648518346349539820, 648518346349539840, 648518346349540055, 648518346349539103, 648518346349537991, 648518346349519354, 648518346349539598, 648518346349532791, 648518346349538033, 648518346349532295, 648518346349539579, 648518346349538715, 648518346349534048, 648518346349537300, 648518346349536769, 648518346349533867, 648518346349537081, 648518346349539524, 648518346349503588, 648518346349539076, 648518346349537489, 648518346349535823, 648518346349537615, 648518346349537564, 648518346349539448, 648518346349537692, 648518346349537380, 648518346349531668, 648518346349539100, 648518346349539510, 648518346349539934, 648518346349537426, 648518346349538718, 648518346349524971, 648518346349538250, 648518346349525852, 648518346349539884, 648518346349537978, 648518346349537547, 648518346349539486, 648518346349534945, 648518346349530883, 648518346349539900, 648518346349538192]\n"
     ]
    }
   ],
   "source": [
    "pyramidal = cellsubtypes[cellsubtypes[\"cell_subtype\"] == 'pyramidal cell']\n",
    "print(len(pyramidal))\n",
    "print(len(pyramidal.cell_segid.unique()))\n",
    "print(pyramidal.cell_segid.to_list())"
   ]
  },
  {
   "cell_type": "markdown",
   "id": "55db2893",
   "metadata": {},
   "source": [
    "# cells in volume identified as \"endothelial\""
   ]
  },
  {
   "cell_type": "code",
   "execution_count": 6,
   "id": "398095a0",
   "metadata": {
    "scrolled": true
   },
   "outputs": [
    {
     "name": "stdout",
     "output_type": "stream",
     "text": [
      "71\n",
      "[648518346342804483, 648518346341422370, 648518346349375478, 648518346343497543, 648518346348189552, 648518346344072053, 648518346349526102, 648518346349526102, 648518346348121670, 648518346349526102, 648518346349526102, 648518346349526102, 648518346344328018, 648518346344456391, 648518346344505300, 648518346341763956, 648518346349526102, 648518346345118988, 648518346349526102, 648518346349526102, 648518346349526102, 648518346349526102, 648518346349526102, 648518346349526102, 648518346349526102, 648518346349526102, 648518346349526102, 648518346349526102, 648518346349526102, 648518346349526102, 648518346349526102, 648518346349526102, 648518346349526102, 648518346349526102, 648518346349526102, 648518346349526102, 648518346349526102, 648518346349526102, 648518346349526102, 648518346349526102, 648518346349526102, 648518346349526102, 648518346349526102, 648518346349526102, 648518346349526102, 648518346349526102, 648518346349526102, 648518346342104735, 648518346343459827, 648518346349526102, 648518346349526102, 648518346349526102, 648518346349526102, 648518346349526102, 648518346349526102, 648518346349526102, 648518346349526102, 648518346349526102, 648518346349526102, 648518346349526102, 648518346349526102, 648518346342796989, 648518346348121670, 648518346348121670, 648518346348121670, 648518346348189552, 648518346349375478, 648518346349061101, 648518346349375478, 648518346349375478, 648518346349526102]\n"
     ]
    }
   ],
   "source": [
    "endothelial = cellsubtypes[cellsubtypes[\"cell_subtype\"] == 'endothelial']\n",
    "print(len(endothelial))\n",
    "print(endothelial.cell_segid.to_list())"
   ]
  },
  {
   "cell_type": "code",
   "execution_count": 7,
   "id": "fbe9ee81",
   "metadata": {},
   "outputs": [
    {
     "name": "stdout",
     "output_type": "stream",
     "text": [
      "17\n",
      "[648518346342804483 648518346341422370 648518346349375478\n",
      " 648518346343497543 648518346348189552 648518346344072053\n",
      " 648518346349526102 648518346348121670 648518346344328018\n",
      " 648518346344456391 648518346344505300 648518346341763956\n",
      " 648518346345118988 648518346342104735 648518346343459827\n",
      " 648518346342796989 648518346349061101]\n"
     ]
    }
   ],
   "source": [
    "print(len(endothelial.cell_segid.unique()))\n",
    "print(endothelial.cell_segid.unique())"
   ]
  },
  {
   "cell_type": "markdown",
   "id": "aef276ea",
   "metadata": {},
   "source": [
    "# cells in volume identified as \"astrocyte\""
   ]
  },
  {
   "cell_type": "code",
   "execution_count": 8,
   "id": "4f228a37",
   "metadata": {},
   "outputs": [
    {
     "name": "stdout",
     "output_type": "stream",
     "text": [
      "44\n",
      "44\n",
      "[648518346349517321, 648518346341392909, 648518346349536799, 648518346349525537, 648518346349525544, 648518346349526583, 648518346349490239, 648518346349524070, 648518346349386860, 648518346349508722, 648518346349536888, 648518346349516953, 648518346349521062, 648518346342468778, 648518346342795947, 648518346349524139, 648518346342917290, 648518346349528249, 648518346349528250, 648518346349507266, 648518346349498574, 648518346349528271, 648518346349525715, 648518346341399264, 648518346349536487, 648518346349532924, 648518346349527316, 648518346349527317, 648518346349527319, 648518346342807831, 648518346349537050, 648518346349538089, 648518346341356348, 648518346349517141, 648518346349539158, 648518346349525862, 648518346344075119, 648518346341354380, 648518346349528465, 648518346349484948, 648518346342797245, 648518346349521344, 648518346342795202, 648518346349530569]\n"
     ]
    }
   ],
   "source": [
    "astrocyte = cellsubtypes[cellsubtypes['cell_subtype']  == \"astrocyte\"]\n",
    "print(len(astrocyte))\n",
    "print(len(astrocyte.cell_segid.unique()))\n",
    "print(astrocyte.cell_segid.to_list())"
   ]
  },
  {
   "cell_type": "markdown",
   "id": "75ca9ee4",
   "metadata": {},
   "source": [
    "# cells in volume identified as \"microglia\" "
   ]
  },
  {
   "cell_type": "code",
   "execution_count": 9,
   "id": "84a9b48d",
   "metadata": {},
   "outputs": [
    {
     "name": "stdout",
     "output_type": "stream",
     "text": [
      "28\n",
      "28\n",
      "[648518346349530654, 648518346341355049, 648518346349528624, 648518346349510740, 648518346349530199, 648518346349531742, 648518346349530724, 648518346342801515, 648518346349510254, 648518346349375599, 648518346342797442, 648518346341391505, 648518346341351575, 648518346349539502, 648518346349503169, 648518346349529797, 648518346342792418, 648518346349524211, 648518346341382424, 648518346342919961, 648518346349508386, 648518346349516092, 648518346349508432, 648518346349368699, 648518346341394877, 648518346349538752, 648518346349529029, 648518346349502931]\n"
     ]
    }
   ],
   "source": [
    "microglia = cellsubtypes[cellsubtypes['cell_subtype']  == \"microglia\"]\n",
    "print(len(microglia))\n",
    "print(len(microglia.cell_segid.unique()))\n",
    "print(microglia.cell_segid.to_list())"
   ]
  },
  {
   "cell_type": "markdown",
   "id": "49245fd9",
   "metadata": {},
   "source": [
    "One microglia cell ( 648518346349510740 ) has an segmentation error where spiny dendrites from an excitatory neuron as associated with the microglia cellid     \n",
    "\n",
    "View in [Neuroglancer](https://neuromancer-seung-import.appspot.com/#!%7B%22layers%22:%5B%7B%22source%22:%22precomputed://gs://microns_public_datasets/pinky100_v0/son_of_alignment_v15_rechunked%22%2C%22type%22:%22image%22%2C%22blend%22:%22default%22%2C%22shaderControls%22:%7B%7D%2C%22name%22:%22EM%22%7D%2C%7B%22source%22:%22precomputed://gs://microns_public_datasets/pinky100_v185/seg%22%2C%22type%22:%22segmentation%22%2C%22selectedAlpha%22:0.51%2C%22segments%22:%5B%22648518346349510740%22%5D%2C%22hiddenSegments%22:%5B%22648518346341351575%22%2C%22648518346341355049%22%2C%22648518346341382424%22%2C%22648518346341391505%22%2C%22648518346341394877%22%2C%22648518346342792418%22%2C%22648518346342797442%22%2C%22648518346342801515%22%2C%22648518346342919961%22%2C%22648518346349368699%22%2C%22648518346349375599%22%2C%22648518346349502931%22%2C%22648518346349503169%22%2C%22648518346349508386%22%2C%22648518346349508432%22%2C%22648518346349510254%22%2C%22648518346349516092%22%2C%22648518346349524211%22%2C%22648518346349528624%22%2C%22648518346349529029%22%2C%22648518346349529797%22%2C%22648518346349530199%22%2C%22648518346349530654%22%2C%22648518346349530724%22%2C%22648518346349531742%22%2C%22648518346349538752%22%2C%22648518346349539502%22%5D%2C%22skeletonRendering%22:%7B%22mode2d%22:%22lines_and_points%22%2C%22mode3d%22:%22lines%22%7D%2C%22name%22:%22cell_segmentation_v185%22%7D%2C%7B%22source%22:%22precomputed://matrix://sseung-archive/pinky100-clefts/mip1_d2_1175k%22%2C%22type%22:%22segmentation%22%2C%22skeletonRendering%22:%7B%22mode2d%22:%22lines_and_points%22%2C%22mode3d%22:%22lines%22%7D%2C%22name%22:%22synapses%22%7D%2C%7B%22source%22:%22precomputed://matrix://sseung-archive/pinky100-mito/seg_191220%22%2C%22type%22:%22segmentation%22%2C%22skeletonRendering%22:%7B%22mode2d%22:%22lines_and_points%22%2C%22mode3d%22:%22lines%22%7D%2C%22name%22:%22mitochondria%22%7D%2C%7B%22source%22:%22precomputed://matrix://sseung-archive/pinky100-nuclei/seg%22%2C%22type%22:%22segmentation%22%2C%22skeletonRendering%22:%7B%22mode2d%22:%22lines_and_points%22%2C%22mode3d%22:%22lines%22%7D%2C%22name%22:%22nuclei%22%7D%5D%2C%22navigation%22:%7B%22pose%22:%7B%22position%22:%7B%22voxelSize%22:%5B4%2C4%2C40%5D%2C%22voxelCoordinates%22:%5B70880.8203125%2C60950.27734375%2C92.16891479492188%5D%7D%7D%2C%22zoomFactor%22:383.0066650796121%7D%2C%22perspectiveOrientation%22:%5B-0.00825042650103569%2C0.06130112707614899%2C-0.0012821174459531903%2C0.9980843663215637%5D%2C%22perspectiveZoom%22:945.4341149396726%2C%22showSlices%22:false%2C%22selectedLayer%22:%7B%22layer%22:%22cell_segmentation_v185%22%2C%22visible%22:true%7D%2C%22layout%22:%7B%22type%22:%223d%22%2C%22orthographicProjection%22:true%7D%7D)"
   ]
  },
  {
   "cell_type": "markdown",
   "id": "cafd48ab",
   "metadata": {},
   "source": [
    "# cells in volume identified as \"unknown_type\""
   ]
  },
  {
   "cell_type": "code",
   "execution_count": 10,
   "id": "1ca1f463",
   "metadata": {},
   "outputs": [
    {
     "name": "stdout",
     "output_type": "stream",
     "text": [
      "18\n",
      "18\n",
      "[648518346349526691, 648518346349522740, 648518346349493894, 648518346349489985, 648518346349531994, 648518346349517783, 648518346349488919, 648518346349538370, 648518346349525188, 648518346349522750, 648518346349515985, 648518346349518096, 648518346349516055, 648518346349536849, 648518346348199802, 648518346342465191, 648518346349539211, 648518346341383616]\n"
     ]
    }
   ],
   "source": [
    "unknowntype = cellsubtypes[cellsubtypes['cell_subtype']  == \"unknown_type\"]\n",
    "print(len(unknowntype))\n",
    "print(len(unknowntype.cell_segid.unique()))\n",
    "print(unknowntype.cell_segid.to_list())"
   ]
  },
  {
   "cell_type": "markdown",
   "id": "01e226e3",
   "metadata": {},
   "source": [
    "# cells in volume identified as \"OPC\" glia "
   ]
  },
  {
   "cell_type": "code",
   "execution_count": 11,
   "id": "1472c505",
   "metadata": {},
   "outputs": [
    {
     "name": "stdout",
     "output_type": "stream",
     "text": [
      "14\n",
      "14\n",
      "[648518346349508122, 648518346349525545, 648518346349514298, 648518346342800512, 648518346349530761, 648518346349524109, 648518346349530765, 648518346349524140, 648518346349525684, 648518346349525196, 648518346349529813, 648518346349508442, 648518346349538793, 648518346349508089]\n"
     ]
    }
   ],
   "source": [
    "OPC = cellsubtypes[cellsubtypes['cell_subtype']  == \"OPC\"]\n",
    "print(len(OPC))\n",
    "print(len(OPC.cell_segid.unique()))\n",
    "print(OPC.cell_segid.to_list())"
   ]
  },
  {
   "cell_type": "markdown",
   "id": "b8e5971a",
   "metadata": {},
   "source": [
    "There are several cells with segmentation errors in this list  \n",
    "There is an OPC cell id 648518346349525545 in the OPC list that looks more like an astrocyte"
   ]
  },
  {
   "cell_type": "markdown",
   "id": "56b2c081",
   "metadata": {},
   "source": [
    "# cells in volume identified as \"bipolar\" neurons"
   ]
  },
  {
   "cell_type": "code",
   "execution_count": 12,
   "id": "e2593933",
   "metadata": {},
   "outputs": [
    {
     "name": "stdout",
     "output_type": "stream",
     "text": [
      "12\n",
      "12\n",
      "[648518346349489861, 648518346349538285, 648518346349487752, 648518346349522735, 648518346349487432, 648518346349477331, 648518346349537389, 648518346349515986, 648518346349522749, 648518346349491816, 648518346349537404, 648518346349525190]\n"
     ]
    }
   ],
   "source": [
    "bipolar = cellsubtypes[cellsubtypes['cell_subtype']  == \"bipolar\"]\n",
    "print(len(bipolar))\n",
    "print(len(bipolar.cell_segid.unique()))\n",
    "print(bipolar.cell_segid.to_list())"
   ]
  },
  {
   "cell_type": "markdown",
   "id": "b7a51751",
   "metadata": {},
   "source": [
    "# cells in volume identified as \"basket\" neurons"
   ]
  },
  {
   "cell_type": "code",
   "execution_count": 13,
   "id": "523c2426",
   "metadata": {},
   "outputs": [
    {
     "name": "stdout",
     "output_type": "stream",
     "text": [
      "4\n",
      "[648518346349528994, 648518346349539846, 648518346349539215, 648518346349538791]\n"
     ]
    }
   ],
   "source": [
    "basket = cellsubtypes[cellsubtypes['cell_subtype']  == \"basket\"]\n",
    "print(len(basket))\n",
    "print(basket.cell_segid.to_list())"
   ]
  },
  {
   "cell_type": "markdown",
   "id": "926d220c",
   "metadata": {},
   "source": [
    "# cells in volume identified as \"Chandelier\" neurons"
   ]
  },
  {
   "cell_type": "code",
   "execution_count": 14,
   "id": "2fea64fe",
   "metadata": {},
   "outputs": [
    {
     "name": "stdout",
     "output_type": "stream",
     "text": [
      "2\n",
      "[648518346349516051, 648518346349538638]\n"
     ]
    }
   ],
   "source": [
    "chandelier = cellsubtypes[cellsubtypes['cell_subtype']  == \"chandelier\"]\n",
    "print(len(chandelier))\n",
    "print(chandelier.cell_segid.to_list())"
   ]
  },
  {
   "cell_type": "markdown",
   "id": "602917bc",
   "metadata": {},
   "source": [
    "# cells in volume identified as \"oligodendrocyte\""
   ]
  },
  {
   "cell_type": "code",
   "execution_count": 15,
   "id": "fef709b3",
   "metadata": {
    "scrolled": false
   },
   "outputs": [
    {
     "name": "stdout",
     "output_type": "stream",
     "text": [
      "2\n",
      "[648518346349508279, 648518346349525488]\n"
     ]
    }
   ],
   "source": [
    "oligo = cellsubtypes[cellsubtypes['cell_subtype']  == \"oligodendrocyte\"]\n",
    "print(len(oligo))\n",
    "print(oligo.cell_segid.to_list())"
   ]
  },
  {
   "cell_type": "markdown",
   "id": "f7282101",
   "metadata": {},
   "source": [
    "# cells in volume identified as \"microglia (perivascular)\""
   ]
  },
  {
   "cell_type": "code",
   "execution_count": 16,
   "id": "8487331d",
   "metadata": {},
   "outputs": [
    {
     "name": "stdout",
     "output_type": "stream",
     "text": [
      "2\n",
      "[648518346349507433, 648518346349517756]\n"
     ]
    }
   ],
   "source": [
    "peri = cellsubtypes[cellsubtypes['cell_subtype']  == \"microglia (perivascular)\"]\n",
    "print(len(peri))\n",
    "print(peri.cell_segid.to_list())"
   ]
  },
  {
   "cell_type": "markdown",
   "id": "2d83b3c0",
   "metadata": {},
   "source": [
    "# cells in volume identified as \"neurogliaform\""
   ]
  },
  {
   "cell_type": "code",
   "execution_count": 17,
   "id": "3ec7612a",
   "metadata": {},
   "outputs": [
    {
     "name": "stdout",
     "output_type": "stream",
     "text": [
      "1\n",
      "[648518346349538789]\n"
     ]
    }
   ],
   "source": [
    "neurogliaform = cellsubtypes[cellsubtypes['cell_subtype']  == \"neurogliaform\"]\n",
    "print(len(neurogliaform))\n",
    "print(neurogliaform.cell_segid.to_list())"
   ]
  },
  {
   "cell_type": "markdown",
   "id": "0f17b19b",
   "metadata": {},
   "source": [
    "# cells in volume identified as \"Martinotti\" neurons"
   ]
  },
  {
   "cell_type": "code",
   "execution_count": 18,
   "id": "8dfc4759",
   "metadata": {},
   "outputs": [
    {
     "name": "stdout",
     "output_type": "stream",
     "text": [
      "1\n",
      "[648518346349538179]\n"
     ]
    }
   ],
   "source": [
    "martinotti = cellsubtypes[cellsubtypes['cell_subtype']  == \"martinotti\"]\n",
    "print(len(martinotti))\n",
    "print(martinotti.cell_segid.to_list())"
   ]
  },
  {
   "cell_type": "markdown",
   "id": "ece71a84",
   "metadata": {},
   "source": [
    "# cells in the volume identified as \"OPC (pericyte type)\""
   ]
  },
  {
   "cell_type": "code",
   "execution_count": 19,
   "id": "6d4860f9",
   "metadata": {},
   "outputs": [
    {
     "name": "stdout",
     "output_type": "stream",
     "text": [
      "1\n",
      "[648518346349526102]\n"
     ]
    }
   ],
   "source": [
    "OPCperi = cellsubtypes[cellsubtypes['cell_subtype']  == \"OPC (pericyte type)\"]\n",
    "print(len(OPCperi))\n",
    "print(OPCperi.cell_segid.to_list())"
   ]
  },
  {
   "cell_type": "markdown",
   "id": "bad3c1fd",
   "metadata": {},
   "source": [
    "This cell has the same cellid as 50 other endothelial cells in the volume "
   ]
  },
  {
   "cell_type": "markdown",
   "id": "5b362fd2",
   "metadata": {},
   "source": [
    "# cells in volume identified as \"unknown\""
   ]
  },
  {
   "cell_type": "code",
   "execution_count": 20,
   "id": "27582e1a",
   "metadata": {},
   "outputs": [
    {
     "name": "stdout",
     "output_type": "stream",
     "text": [
      "1\n",
      "[648518346349508009]\n"
     ]
    }
   ],
   "source": [
    "unknown = cellsubtypes[cellsubtypes[\"cell_subtype\"] == \"unknown (at edge of volume)\"]\n",
    "print(len(unknown))\n",
    "print(unknown.cell_segid.to_list())"
   ]
  },
  {
   "cell_type": "markdown",
   "id": "0b75c861",
   "metadata": {},
   "source": [
    "# cells in volume identified as \"microglia (merged with nucleus of astrocyte 648518346349536799)\""
   ]
  },
  {
   "cell_type": "code",
   "execution_count": 21,
   "id": "018c8e68",
   "metadata": {},
   "outputs": [
    {
     "name": "stdout",
     "output_type": "stream",
     "text": [
      "1\n",
      "[648518346349536717]\n"
     ]
    }
   ],
   "source": [
    "microgliamerged = cellsubtypes[cellsubtypes[\"cell_subtype\"] == \"microglia (merged with nucleus of astrocyte 648518346349536799)\"]\n",
    "print(len(microgliamerged))\n",
    "print(microgliamerged.cell_segid.to_list())"
   ]
  },
  {
   "cell_type": "markdown",
   "id": "186329a2",
   "metadata": {},
   "source": [
    "# cells in volume identified as \"pericyte\""
   ]
  },
  {
   "cell_type": "code",
   "execution_count": 22,
   "id": "0e07d725",
   "metadata": {},
   "outputs": [
    {
     "name": "stdout",
     "output_type": "stream",
     "text": [
      "1\n",
      "[648518346349526102]\n"
     ]
    }
   ],
   "source": [
    "pericyte = cellsubtypes[cellsubtypes[\"cell_subtype\"] == \"pericyte\"]\n",
    "print(len(pericyte))\n",
    "print(pericyte.cell_segid.to_list())"
   ]
  },
  {
   "cell_type": "markdown",
   "id": "504a8bab",
   "metadata": {},
   "source": [
    "This cell has the same cellid as 50 other endothelial cells in the volume "
   ]
  },
  {
   "cell_type": "markdown",
   "id": "f3af6bea",
   "metadata": {},
   "source": [
    "# Shared cell ids in the volume"
   ]
  },
  {
   "cell_type": "code",
   "execution_count": 23,
   "id": "870e7f55",
   "metadata": {},
   "outputs": [
    {
     "data": {
      "text/plain": [
       "648518346349526102    50\n",
       "648518346348121670     4\n",
       "648518346349375478     4\n",
       "648518346348189552     2\n",
       "648518346349537991     1\n",
       "                      ..\n",
       "648518346349539110     1\n",
       "648518346349532086     1\n",
       "648518346349530300     1\n",
       "648518346349537853     1\n",
       "648518346349061101     1\n",
       "Name: cell_segid, Length: 563, dtype: int64"
      ]
     },
     "execution_count": 23,
     "metadata": {},
     "output_type": "execute_result"
    }
   ],
   "source": [
    "cellsubtypes[\"cell_segid\"].value_counts()"
   ]
  },
  {
   "cell_type": "code",
   "execution_count": 24,
   "id": "6eac9bf7",
   "metadata": {},
   "outputs": [
    {
     "data": {
      "text/plain": [
       "endothelial            48\n",
       "OPC (pericyte type)     1\n",
       "pericyte                1\n",
       "Name: cell_subtype, dtype: int64"
      ]
     },
     "execution_count": 24,
     "metadata": {},
     "output_type": "execute_result"
    }
   ],
   "source": [
    "cellid_26102 = cellsubtypes[cellsubtypes[\"cell_segid\"] == 648518346349526102]\n",
    "cellid_26102.cell_subtype.value_counts()"
   ]
  },
  {
   "cell_type": "code",
   "execution_count": 25,
   "id": "894a9405",
   "metadata": {},
   "outputs": [
    {
     "data": {
      "text/plain": [
       "endothelial    4\n",
       "Name: cell_subtype, dtype: int64"
      ]
     },
     "execution_count": 25,
     "metadata": {},
     "output_type": "execute_result"
    }
   ],
   "source": [
    "cellid_21670 = cellsubtypes[cellsubtypes[\"cell_segid\"] == 648518346348121670]\n",
    "cellid_21670.cell_subtype.value_counts()"
   ]
  },
  {
   "cell_type": "code",
   "execution_count": 26,
   "id": "20b3a074",
   "metadata": {},
   "outputs": [
    {
     "data": {
      "text/plain": [
       "endothelial    4\n",
       "Name: cell_subtype, dtype: int64"
      ]
     },
     "execution_count": 26,
     "metadata": {},
     "output_type": "execute_result"
    }
   ],
   "source": [
    "cellid_75478 = cellsubtypes[cellsubtypes[\"cell_segid\"] == 648518346349375478]\n",
    "cellid_75478.cell_subtype.value_counts()"
   ]
  },
  {
   "cell_type": "code",
   "execution_count": 27,
   "id": "4c7ca241",
   "metadata": {},
   "outputs": [
    {
     "data": {
      "text/plain": [
       "endothelial    2\n",
       "Name: cell_subtype, dtype: int64"
      ]
     },
     "execution_count": 27,
     "metadata": {},
     "output_type": "execute_result"
    }
   ],
   "source": [
    "cellid_89552 = cellsubtypes[cellsubtypes[\"cell_segid\"] == 648518346348189552]\n",
    "cellid_89552.cell_subtype.value_counts()"
   ]
  },
  {
   "cell_type": "code",
   "execution_count": null,
   "id": "4d8983ca",
   "metadata": {},
   "outputs": [],
   "source": []
  }
 ],
 "metadata": {
  "kernelspec": {
   "display_name": "Python 3 (ipykernel)",
   "language": "python",
   "name": "python3"
  },
  "language_info": {
   "codemirror_mode": {
    "name": "ipython",
    "version": 3
   },
   "file_extension": ".py",
   "mimetype": "text/x-python",
   "name": "python",
   "nbconvert_exporter": "python",
   "pygments_lexer": "ipython3",
   "version": "3.7.15"
  }
 },
 "nbformat": 4,
 "nbformat_minor": 5
}
