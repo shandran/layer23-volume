{
 "cells": [
  {
   "cell_type": "markdown",
   "id": "6f769c49",
   "metadata": {},
   "source": [
    "# Look up cellid in Layer 2/3 volume\n",
    "Look up a cellid of interest and reveal in Neuroglancer"
   ]
  },
  {
   "cell_type": "code",
   "execution_count": 1,
   "id": "97cb3472",
   "metadata": {},
   "outputs": [],
   "source": [
    "import pandas as pd"
   ]
  },
  {
   "cell_type": "code",
   "execution_count": 2,
   "id": "97839249",
   "metadata": {},
   "outputs": [],
   "source": [
    "# this is a dataframe consisting of a curated list of 619 cells with all or most of the cell body in the volume\n",
    "# this file \"220309_cell_type_classification.csv\" is available here: https://www.microns-explorer.org/phase1"
   ]
  },
  {
   "cell_type": "code",
   "execution_count": 3,
   "id": "11ebab4f",
   "metadata": {},
   "outputs": [],
   "source": [
    "# Note that the following vascular and enthelial cells have one cellid for multiple cells in the volume\n",
    "# 50 cells sharing the same cellid of 648518346349526102: (1 OPC-pericyte type, 1 pericyte, 48 endothelial)\n",
    "# 4 endothelial cells sharing the same cellid of 648518346348121670\n",
    "# 4 endothelial cells sharing the same cellid of 648518346349375478\n",
    "# 2 endothelial cells sharing the same cellid of 648518346348189552\n",
    "# all other cells in this dataframe have one unique cellid per cell"
   ]
  },
  {
   "cell_type": "code",
   "execution_count": 4,
   "id": "835c3d7b",
   "metadata": {},
   "outputs": [],
   "source": [
    "celltypelookup = pd.read_csv(\"220309_cell_type_classification.csv\", index_col=[0])"
   ]
  },
  {
   "cell_type": "code",
   "execution_count": 5,
   "id": "5c6f92db",
   "metadata": {
    "scrolled": true
   },
   "outputs": [
    {
     "data": {
      "text/html": [
       "<div>\n",
       "<style scoped>\n",
       "    .dataframe tbody tr th:only-of-type {\n",
       "        vertical-align: middle;\n",
       "    }\n",
       "\n",
       "    .dataframe tbody tr th {\n",
       "        vertical-align: top;\n",
       "    }\n",
       "\n",
       "    .dataframe thead th {\n",
       "        text-align: right;\n",
       "    }\n",
       "</style>\n",
       "<table border=\"1\" class=\"dataframe\">\n",
       "  <thead>\n",
       "    <tr style=\"text-align: right;\">\n",
       "      <th></th>\n",
       "      <th>centroid_x</th>\n",
       "      <th>centroid_y</th>\n",
       "      <th>centroid_z</th>\n",
       "      <th>cell_segid</th>\n",
       "      <th>cell_type</th>\n",
       "      <th>cell_subtype</th>\n",
       "    </tr>\n",
       "  </thead>\n",
       "  <tbody>\n",
       "    <tr>\n",
       "      <th>1</th>\n",
       "      <td>41760</td>\n",
       "      <td>60256</td>\n",
       "      <td>1702</td>\n",
       "      <td>648518346349538237</td>\n",
       "      <td>pyramidal</td>\n",
       "      <td>pyramidal cell</td>\n",
       "    </tr>\n",
       "    <tr>\n",
       "      <th>2</th>\n",
       "      <td>98128</td>\n",
       "      <td>39856</td>\n",
       "      <td>218</td>\n",
       "      <td>648518346349536816</td>\n",
       "      <td>pyramidal</td>\n",
       "      <td>pyramidal cell</td>\n",
       "    </tr>\n",
       "    <tr>\n",
       "      <th>3</th>\n",
       "      <td>51248</td>\n",
       "      <td>50608</td>\n",
       "      <td>86</td>\n",
       "      <td>648518346349539797</td>\n",
       "      <td>pyramidal</td>\n",
       "      <td>pyramidal cell</td>\n",
       "    </tr>\n",
       "    <tr>\n",
       "      <th>5</th>\n",
       "      <td>115392</td>\n",
       "      <td>47136</td>\n",
       "      <td>617</td>\n",
       "      <td>648518346349536744</td>\n",
       "      <td>pyramidal</td>\n",
       "      <td>pyramidal cell</td>\n",
       "    </tr>\n",
       "    <tr>\n",
       "      <th>6</th>\n",
       "      <td>104928</td>\n",
       "      <td>72496</td>\n",
       "      <td>1448</td>\n",
       "      <td>648518346349536851</td>\n",
       "      <td>pyramidal</td>\n",
       "      <td>pyramidal cell</td>\n",
       "    </tr>\n",
       "    <tr>\n",
       "      <th>...</th>\n",
       "      <td>...</td>\n",
       "      <td>...</td>\n",
       "      <td>...</td>\n",
       "      <td>...</td>\n",
       "      <td>...</td>\n",
       "      <td>...</td>\n",
       "    </tr>\n",
       "    <tr>\n",
       "      <th>68</th>\n",
       "      <td>107312</td>\n",
       "      <td>43552</td>\n",
       "      <td>2160</td>\n",
       "      <td>648518346349375478</td>\n",
       "      <td>vasculature</td>\n",
       "      <td>endothelial</td>\n",
       "    </tr>\n",
       "    <tr>\n",
       "      <th>69</th>\n",
       "      <td>104752</td>\n",
       "      <td>40768</td>\n",
       "      <td>878</td>\n",
       "      <td>648518346349061101</td>\n",
       "      <td>vasculature</td>\n",
       "      <td>endothelial</td>\n",
       "    </tr>\n",
       "    <tr>\n",
       "      <th>70</th>\n",
       "      <td>104464</td>\n",
       "      <td>40784</td>\n",
       "      <td>1867</td>\n",
       "      <td>648518346349375478</td>\n",
       "      <td>vasculature</td>\n",
       "      <td>endothelial</td>\n",
       "    </tr>\n",
       "    <tr>\n",
       "      <th>71</th>\n",
       "      <td>97377</td>\n",
       "      <td>38012</td>\n",
       "      <td>1145</td>\n",
       "      <td>648518346349375478</td>\n",
       "      <td>vasculature</td>\n",
       "      <td>endothelial</td>\n",
       "    </tr>\n",
       "    <tr>\n",
       "      <th>72</th>\n",
       "      <td>89216</td>\n",
       "      <td>38976</td>\n",
       "      <td>873</td>\n",
       "      <td>648518346349526102</td>\n",
       "      <td>vasculature</td>\n",
       "      <td>endothelial</td>\n",
       "    </tr>\n",
       "  </tbody>\n",
       "</table>\n",
       "<p>619 rows × 6 columns</p>\n",
       "</div>"
      ],
      "text/plain": [
       "    centroid_x  centroid_y  centroid_z          cell_segid    cell_type  \\\n",
       "1        41760       60256        1702  648518346349538237    pyramidal   \n",
       "2        98128       39856         218  648518346349536816    pyramidal   \n",
       "3        51248       50608          86  648518346349539797    pyramidal   \n",
       "5       115392       47136         617  648518346349536744    pyramidal   \n",
       "6       104928       72496        1448  648518346349536851    pyramidal   \n",
       "..         ...         ...         ...                 ...          ...   \n",
       "68      107312       43552        2160  648518346349375478  vasculature   \n",
       "69      104752       40768         878  648518346349061101  vasculature   \n",
       "70      104464       40784        1867  648518346349375478  vasculature   \n",
       "71       97377       38012        1145  648518346349375478  vasculature   \n",
       "72       89216       38976         873  648518346349526102  vasculature   \n",
       "\n",
       "      cell_subtype  \n",
       "1   pyramidal cell  \n",
       "2   pyramidal cell  \n",
       "3   pyramidal cell  \n",
       "5   pyramidal cell  \n",
       "6   pyramidal cell  \n",
       "..             ...  \n",
       "68     endothelial  \n",
       "69     endothelial  \n",
       "70     endothelial  \n",
       "71     endothelial  \n",
       "72     endothelial  \n",
       "\n",
       "[619 rows x 6 columns]"
      ]
     },
     "execution_count": 5,
     "metadata": {},
     "output_type": "execute_result"
    }
   ],
   "source": [
    "celltypelookup"
   ]
  },
  {
   "cell_type": "code",
   "execution_count": 6,
   "id": "be921fce",
   "metadata": {},
   "outputs": [
    {
     "data": {
      "text/plain": [
       "pyramidal cell                                                     416\n",
       "endothelial                                                         71\n",
       "astrocyte                                                           44\n",
       "microglia                                                           28\n",
       "unknown_type                                                        18\n",
       "OPC                                                                 14\n",
       "bipolar                                                             12\n",
       "basket                                                               4\n",
       "chandelier                                                           2\n",
       "oligodendrocyte                                                      2\n",
       "microglia (perivascular)                                             2\n",
       "OPC (pericyte type)                                                  1\n",
       "unknown (at edge of volume)                                          1\n",
       "neurogliaform                                                        1\n",
       "microglia (merged with nucleus of astrocyte 648518346349536799)      1\n",
       "pericyte                                                             1\n",
       "martinotti                                                           1\n",
       "Name: cell_subtype, dtype: int64"
      ]
     },
     "execution_count": 6,
     "metadata": {},
     "output_type": "execute_result"
    }
   ],
   "source": [
    "celltypelookup['cell_subtype'].value_counts()"
   ]
  },
  {
   "cell_type": "code",
   "execution_count": 7,
   "id": "62c355f5",
   "metadata": {},
   "outputs": [],
   "source": [
    "# enter a cell id of interest\n",
    "# e.g., use the copy function in neuroglancer in the cell segmentation panel\n",
    "\n",
    "lookup = 648518346349536717"
   ]
  },
  {
   "cell_type": "code",
   "execution_count": 8,
   "id": "8a71f213",
   "metadata": {
    "scrolled": true
   },
   "outputs": [
    {
     "data": {
      "text/html": [
       "<div>\n",
       "<style scoped>\n",
       "    .dataframe tbody tr th:only-of-type {\n",
       "        vertical-align: middle;\n",
       "    }\n",
       "\n",
       "    .dataframe tbody tr th {\n",
       "        vertical-align: top;\n",
       "    }\n",
       "\n",
       "    .dataframe thead th {\n",
       "        text-align: right;\n",
       "    }\n",
       "</style>\n",
       "<table border=\"1\" class=\"dataframe\">\n",
       "  <thead>\n",
       "    <tr style=\"text-align: right;\">\n",
       "      <th></th>\n",
       "      <th>cell_segid</th>\n",
       "      <th>cell_type</th>\n",
       "      <th>cell_subtype</th>\n",
       "    </tr>\n",
       "  </thead>\n",
       "  <tbody>\n",
       "    <tr>\n",
       "      <th>91</th>\n",
       "      <td>648518346349536717</td>\n",
       "      <td>glia</td>\n",
       "      <td>microglia (merged with nucleus of astrocyte 64...</td>\n",
       "    </tr>\n",
       "  </tbody>\n",
       "</table>\n",
       "</div>"
      ],
      "text/plain": [
       "            cell_segid cell_type  \\\n",
       "91  648518346349536717      glia   \n",
       "\n",
       "                                         cell_subtype  \n",
       "91  microglia (merged with nucleus of astrocyte 64...  "
      ]
     },
     "execution_count": 8,
     "metadata": {},
     "output_type": "execute_result"
    }
   ],
   "source": [
    "query = celltypelookup[\"cell_segid\"] == lookup\n",
    "querydf = celltypelookup.loc[query, [\"cell_segid\", \"cell_type\", \"cell_subtype\"]]\n",
    "querydf"
   ]
  },
  {
   "cell_type": "code",
   "execution_count": 9,
   "id": "44f1e8bd",
   "metadata": {},
   "outputs": [
    {
     "data": {
      "text/html": [
       "<div>\n",
       "<style scoped>\n",
       "    .dataframe tbody tr th:only-of-type {\n",
       "        vertical-align: middle;\n",
       "    }\n",
       "\n",
       "    .dataframe tbody tr th {\n",
       "        vertical-align: top;\n",
       "    }\n",
       "\n",
       "    .dataframe thead th {\n",
       "        text-align: right;\n",
       "    }\n",
       "</style>\n",
       "<table border=\"1\" class=\"dataframe\">\n",
       "  <thead>\n",
       "    <tr style=\"text-align: right;\">\n",
       "      <th></th>\n",
       "      <th>centroid_x</th>\n",
       "      <th>centroid_y</th>\n",
       "      <th>centroid_z</th>\n",
       "      <th>cell_segid</th>\n",
       "      <th>cell_type</th>\n",
       "      <th>cell_subtype</th>\n",
       "    </tr>\n",
       "  </thead>\n",
       "  <tbody>\n",
       "    <tr>\n",
       "      <th>91</th>\n",
       "      <td>72704</td>\n",
       "      <td>55888</td>\n",
       "      <td>576</td>\n",
       "      <td>648518346349536717</td>\n",
       "      <td>glia</td>\n",
       "      <td>microglia (merged with nucleus of astrocyte 64...</td>\n",
       "    </tr>\n",
       "  </tbody>\n",
       "</table>\n",
       "</div>"
      ],
      "text/plain": [
       "    centroid_x  centroid_y  centroid_z          cell_segid cell_type  \\\n",
       "91       72704       55888         576  648518346349536717      glia   \n",
       "\n",
       "                                         cell_subtype  \n",
       "91  microglia (merged with nucleus of astrocyte 64...  "
      ]
     },
     "execution_count": 9,
     "metadata": {},
     "output_type": "execute_result"
    }
   ],
   "source": [
    "querydf = celltypelookup.loc[query]\n",
    "querydf"
   ]
  },
  {
   "cell_type": "markdown",
   "id": "60e306d0",
   "metadata": {},
   "source": [
    "# Reveal in Neuroglancer"
   ]
  },
  {
   "cell_type": "code",
   "execution_count": 10,
   "id": "92a4f181",
   "metadata": {},
   "outputs": [],
   "source": [
    "baseURL = 'https://neuromancer-seung-import.appspot.com/'\n",
    "nglink_a = '#!%7B%22layers%22:%5B%7B%22source%22:%22precomputed://gs://microns_public_datasets/pinky100_v0/son_of_alignment_v15_rechunked%22%2C%22type%22:%22image%22%2C%22blend%22:%22default%22%2C%22shaderControls%22:%7B%7D%2C%22name%22:%22EM%22%7D%2C%7B%22source%22:%22precomputed://gs://microns_public_datasets/pinky100_v185/seg%22%2C%22type%22:%22segmentation%22%2C%22selectedAlpha%22:0.51%2C%22segments%22:%5B%22'\n",
    "nglink_b = '%22%5D%2C%22skeletonRendering%22:%7B%22mode2d%22:%22lines_and_points%22%2C%22mode3d%22:%22lines%22%7D%2C%22name%22:%22cell_segmentation_v185%22%7D%2C%7B%22source%22:%22precomputed://https://td.princeton.edu/sseung-archive/pinky100-clefts/mip1_d2_1175k%22%2C%22type%22:%22segmentation%22%2C%22skeletonRendering%22:%7B%22mode2d%22:%22lines_and_points%22%2C%22mode3d%22:%22lines%22%7D%2C%22name%22:%22synapses%22%7D%2C%7B%22source%22:%22precomputed://https://td.princeton.edu/sseung-archive/pinky100-mito/seg_191220%22%2C%22type%22:%22segmentation%22%2C%22skeletonRendering%22:%7B%22mode2d%22:%22lines_and_points%22%2C%22mode3d%22:%22lines%22%7D%2C%22name%22:%22mitochondria%22%7D%2C%7B%22source%22:%22precomputed://https://td.princeton.edu/sseung-archive/pinky100-nuclei/seg%22%2C%22type%22:%22segmentation%22%2C%22skeletonRendering%22:%7B%22mode2d%22:%22lines_and_points%22%2C%22mode3d%22:%22lines%22%7D%2C%22name%22:%22nuclei%22%7D%5D%2C%22navigation%22:%7B%22pose%22:%7B%22position%22:%7B%22voxelSize%22:%5B4%2C4%2C40%5D%2C%22voxelCoordinates%22:%5B'\n",
    "nglink_c = '%5D%7D%7D%2C%22zoomFactor%22:383.0066650796121%7D%2C%22perspectiveOrientation%22:%5B-0.00825042650103569%2C0.06130112707614899%2C-0.0012821174459531903%2C0.9980843663215637%5D%2C%22perspectiveZoom%22:3618.7659948513424%2C%22showSlices%22:false%2C%22selectedLayer%22:%7B%22layer%22:%22cell_segmentation_v185%22%2C%22visible%22:true%7D%2C%22layout%22:%7B%22type%22:%223d%22%2C%22orthographicProjection%22:true%7D%7D'\n",
    "neuroglancerURL = baseURL + nglink_a + str(lookup) + nglink_b + str(querydf.centroid_x.iloc[0]) +'%2C' + str(querydf.centroid_y.iloc[0]) + '%2C' + str(querydf.centroid_z.iloc[0]) + nglink_c "
   ]
  },
  {
   "cell_type": "code",
   "execution_count": 11,
   "id": "a03accc4",
   "metadata": {},
   "outputs": [
    {
     "name": "stdout",
     "output_type": "stream",
     "text": [
      "https://neuromancer-seung-import.appspot.com/#!%7B%22layers%22:%5B%7B%22source%22:%22precomputed://gs://microns_public_datasets/pinky100_v0/son_of_alignment_v15_rechunked%22%2C%22type%22:%22image%22%2C%22blend%22:%22default%22%2C%22shaderControls%22:%7B%7D%2C%22name%22:%22EM%22%7D%2C%7B%22source%22:%22precomputed://gs://microns_public_datasets/pinky100_v185/seg%22%2C%22type%22:%22segmentation%22%2C%22selectedAlpha%22:0.51%2C%22segments%22:%5B%22648518346349536717%22%5D%2C%22skeletonRendering%22:%7B%22mode2d%22:%22lines_and_points%22%2C%22mode3d%22:%22lines%22%7D%2C%22name%22:%22cell_segmentation_v185%22%7D%2C%7B%22source%22:%22precomputed://https://td.princeton.edu/sseung-archive/pinky100-clefts/mip1_d2_1175k%22%2C%22type%22:%22segmentation%22%2C%22skeletonRendering%22:%7B%22mode2d%22:%22lines_and_points%22%2C%22mode3d%22:%22lines%22%7D%2C%22name%22:%22synapses%22%7D%2C%7B%22source%22:%22precomputed://https://td.princeton.edu/sseung-archive/pinky100-mito/seg_191220%22%2C%22type%22:%22segmentation%22%2C%22skeletonRendering%22:%7B%22mode2d%22:%22lines_and_points%22%2C%22mode3d%22:%22lines%22%7D%2C%22name%22:%22mitochondria%22%7D%2C%7B%22source%22:%22precomputed://https://td.princeton.edu/sseung-archive/pinky100-nuclei/seg%22%2C%22type%22:%22segmentation%22%2C%22skeletonRendering%22:%7B%22mode2d%22:%22lines_and_points%22%2C%22mode3d%22:%22lines%22%7D%2C%22name%22:%22nuclei%22%7D%5D%2C%22navigation%22:%7B%22pose%22:%7B%22position%22:%7B%22voxelSize%22:%5B4%2C4%2C40%5D%2C%22voxelCoordinates%22:%5B72704%2C55888%2C576%5D%7D%7D%2C%22zoomFactor%22:383.0066650796121%7D%2C%22perspectiveOrientation%22:%5B-0.00825042650103569%2C0.06130112707614899%2C-0.0012821174459531903%2C0.9980843663215637%5D%2C%22perspectiveZoom%22:3618.7659948513424%2C%22showSlices%22:false%2C%22selectedLayer%22:%7B%22layer%22:%22cell_segmentation_v185%22%2C%22visible%22:true%7D%2C%22layout%22:%7B%22type%22:%223d%22%2C%22orthographicProjection%22:true%7D%7D\n"
     ]
    }
   ],
   "source": [
    "print(neuroglancerURL)"
   ]
  },
  {
   "cell_type": "code",
   "execution_count": null,
   "id": "be4e2769",
   "metadata": {},
   "outputs": [],
   "source": []
  }
 ],
 "metadata": {
  "kernelspec": {
   "display_name": "Python 3 (ipykernel)",
   "language": "python",
   "name": "python3"
  },
  "language_info": {
   "codemirror_mode": {
    "name": "ipython",
    "version": 3
   },
   "file_extension": ".py",
   "mimetype": "text/x-python",
   "name": "python",
   "nbconvert_exporter": "python",
   "pygments_lexer": "ipython3",
   "version": "3.7.12"
  }
 },
 "nbformat": 4,
 "nbformat_minor": 5
}
